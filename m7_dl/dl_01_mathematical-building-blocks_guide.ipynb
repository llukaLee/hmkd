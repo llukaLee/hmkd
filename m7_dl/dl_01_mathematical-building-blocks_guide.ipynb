{
 "cells": [
  {
   "cell_type": "markdown",
   "id": "e8bd0d99",
   "metadata": {},
   "source": [
    "# 신경망의 수학적 구성 요소"
   ]
  },
  {
   "cell_type": "code",
   "execution_count": 1,
   "id": "d4011501",
   "metadata": {},
   "outputs": [
    {
     "ename": "ModuleNotFoundError",
     "evalue": "No module named 'google.colab'",
     "output_type": "error",
     "traceback": [
      "\u001b[1;31m---------------------------------------------------------------------------\u001b[0m",
      "\u001b[1;31mModuleNotFoundError\u001b[0m                       Traceback (most recent call last)",
      "\u001b[1;32m~\\AppData\\Local\\Temp\\ipykernel_9240\\1408506528.py\u001b[0m in \u001b[0;36m<module>\u001b[1;34m\u001b[0m\n\u001b[1;32m----> 1\u001b[1;33m \u001b[1;32mfrom\u001b[0m \u001b[0mgoogle\u001b[0m\u001b[1;33m.\u001b[0m\u001b[0mcolab\u001b[0m \u001b[1;32mimport\u001b[0m \u001b[0mdrive\u001b[0m\u001b[1;33m\u001b[0m\u001b[1;33m\u001b[0m\u001b[0m\n\u001b[0m\u001b[0;32m      2\u001b[0m \u001b[0mdrive\u001b[0m\u001b[1;33m.\u001b[0m\u001b[0mmount\u001b[0m\u001b[1;33m(\u001b[0m\u001b[1;34m'/content/drive'\u001b[0m\u001b[1;33m)\u001b[0m\u001b[1;33m\u001b[0m\u001b[1;33m\u001b[0m\u001b[0m\n",
      "\u001b[1;31mModuleNotFoundError\u001b[0m: No module named 'google.colab'"
     ]
    }
   ],
   "source": [
    "from google.colab import drive\n",
    "drive.mount('/content/drive')"
   ]
  },
  {
   "cell_type": "markdown",
   "id": "0e94c7dd",
   "metadata": {},
   "source": [
    "#### 케라스에서 MNIST 데이터셋 적재하기"
   ]
  },
  {
   "cell_type": "code",
   "execution_count": null,
   "id": "2b079296",
   "metadata": {},
   "outputs": [],
   "source": [
    "from tensorflow.keras.datasets import mnist\n",
    "(train_images, train_labels), (test_images, test_labels) = mnist.load_data()"
   ]
  },
  {
   "cell_type": "code",
   "execution_count": null,
   "id": "bb4818f2",
   "metadata": {},
   "outputs": [],
   "source": [
    "train_images.shape"
   ]
  },
  {
   "cell_type": "code",
   "execution_count": null,
   "id": "21e05949",
   "metadata": {},
   "outputs": [],
   "source": [
    "len(train_labels)"
   ]
  },
  {
   "cell_type": "code",
   "execution_count": null,
   "id": "5b2882a0",
   "metadata": {},
   "outputs": [],
   "source": [
    "train_labels"
   ]
  },
  {
   "cell_type": "code",
   "execution_count": null,
   "id": "cf988106",
   "metadata": {},
   "outputs": [],
   "source": [
    "test_images.shape"
   ]
  },
  {
   "cell_type": "code",
   "execution_count": null,
   "id": "e99ed357",
   "metadata": {},
   "outputs": [],
   "source": [
    "len(test_labels)"
   ]
  },
  {
   "cell_type": "code",
   "execution_count": null,
   "id": "b4bdcf43",
   "metadata": {},
   "outputs": [],
   "source": [
    "test_labels"
   ]
  },
  {
   "cell_type": "markdown",
   "id": "4b8d1e02",
   "metadata": {},
   "source": [
    "#### 신경망 구조\n",
    "\n",
    "Dense 층\n",
    "\n",
    "- 모든 입력 뉴런과 출력 뉴런 사이에 연결된 완전히 연결된(fully connected) 층을 의미\n",
    "- 각 입력 뉴런과 출력 뉴런 사이의 연결 가중치를 학습하고, 입력 신호에 가중치를 곱한 후 편향(bias)을 더하는 선형 변환(linear transformation)을 수행하고 이 선형 변환의 결과에 활성화 함수(activation function)를 적용하여 출력을 계산\n",
    "- 예를 들어, Dense 층은 입력 벡터 [x₁, x₂, ..., xₙ]과 가중치 행렬 W, 편향 벡터 b가 주어졌을 때, 출력 벡터 [y₁, y₂, ..., yₘ]를 계산\n",
    "\n",
    "활성화 함수(Activation function)\n",
    "\n",
    "- 인공 신경망에서 각 뉴런의 출력을 결정하는 비선형 함수\n",
    "- 활성화 함수는 입력 신호의 가중치 합과 편향을 적용한 후, 그 결과에 적용되어 다음 층으로 전달\n",
    "- 인공 신경망에서 비선형성을 도입하고, 신경망의 복잡한 함수 근사(approximation) 능력을 향상시키는 것\n",
    "- 인공 신경망은 여러 층의 연속된 선형 변환과 비선형 활성화 함수를 조합하여 복잡한 입력과 출력 관계를 학습\n",
    "- 주요 활성화 함수\n",
    "  - 시그모이드(Sigmoid) 함수:\n",
    "    - 범위: 0과 1 사이\n",
    "    - 주요 특징: 입력값을 확률로 해석할 수 있으며, 비선형 함수로서 미분 가능\n",
    "    - 단점: 큰 입력값에 대해 그래디언트 소실 문제가 발생할 수 있음\n",
    "  - 하이퍼볼릭 탄젠트(Tanh) 함수:\n",
    "    - 범위: -1과 1 사이\n",
    "    - 주요 특징: 시그모이드와 유사하게 비선형 함수이며, 원점을 중심으로 대칭\n",
    "    - 단점: 여전히 큰 입력값에 대해 그래디언트 소실 문제가 발생할 수 있음\n",
    "  - 렐루(ReLU, Rectified Linear Unit) 함수:\n",
    "    - 범위: 0 이상의 입력에 대해 그대로 출력, 음수 입력에 대해 0 출력\n",
    "    - 주요 특징: 계산이 간단하고 빠르며, 선형 영역으로 쉽게 학습 가능\n",
    "    - 단점: 음수 입력에 대해 출력이 0이 되어 해당 뉴런이 활성화되지 않는 문제가 있음 (죽은 렐루 문제)\n",
    "  - 소프트맥스(Softmax) 함수:\n",
    "    - 범위: 0과 1 사이\n",
    "    - 주요 특징: 다중 클래스 분류에 사용되며, 출력값을 확률 분포로 해석\n",
    "    - 단점: 출력값의 합이 1이 되도록 정규화되어, 다른 출력값에 영향을 받을 수 있음"
   ]
  },
  {
   "cell_type": "code",
   "execution_count": null,
   "id": "c65995cc",
   "metadata": {},
   "outputs": [],
   "source": [
    "from tensorflow import keras\n",
    "from tensorflow.keras import layers\n",
    "model = keras.Sequential([\n",
    "    layers.Dense(512, activation=\"relu\"), # 첫 번째 인자인 512는 출력 뉴런의 수\n",
    "    layers.Dense(10, activation=\"softmax\") # 출력을 확률로 해석하기 위해 소프트맥스(softmax) 활성화 함수\n",
    "])"
   ]
  },
  {
   "cell_type": "markdown",
   "id": "eaa26003",
   "metadata": {},
   "source": [
    "#### 컴파일 단계"
   ]
  },
  {
   "cell_type": "code",
   "execution_count": null,
   "id": "07da5bc6",
   "metadata": {},
   "outputs": [],
   "source": [
    "model.compile(optimizer=\"rmsprop\",\n",
    "              loss=\"sparse_categorical_crossentropy\",\n",
    "              metrics=[\"accuracy\"])"
   ]
  },
  {
   "cell_type": "markdown",
   "id": "3c57c18e",
   "metadata": {},
   "source": [
    "이미지 데이터 준비하기"
   ]
  },
  {
   "cell_type": "code",
   "execution_count": null,
   "id": "73274dc4",
   "metadata": {},
   "outputs": [],
   "source": [
    "train_images[0]"
   ]
  },
  {
   "cell_type": "code",
   "execution_count": null,
   "id": "20507dae",
   "metadata": {},
   "outputs": [],
   "source": [
    "# 0 ~ 1 사이로 스케일 조정\n",
    "train_images = train_images.reshape((60000, 28 * 28))\n",
    "train_images = train_images.astype(\"float32\") / 255\n",
    "test_images = test_images.reshape((10000, 28 * 28))\n",
    "test_images = test_images.astype(\"float32\") / 255"
   ]
  },
  {
   "cell_type": "code",
   "execution_count": null,
   "id": "c729c7a1",
   "metadata": {},
   "outputs": [],
   "source": [
    "train_images[0]"
   ]
  },
  {
   "cell_type": "markdown",
   "id": "fd5ead99",
   "metadata": {},
   "source": [
    "#### 모델 훈련"
   ]
  },
  {
   "cell_type": "code",
   "execution_count": null,
   "id": "43cd4e02",
   "metadata": {},
   "outputs": [],
   "source": [
    "model.fit(train_images, train_labels, epochs=5, batch_size=128)"
   ]
  },
  {
   "cell_type": "markdown",
   "id": "b43dbe69",
   "metadata": {},
   "source": [
    "#### 모델을 사용해 예측 만들기"
   ]
  },
  {
   "cell_type": "code",
   "execution_count": null,
   "id": "12f0736a",
   "metadata": {},
   "outputs": [],
   "source": [
    "test_digits = test_images[0:10]\n",
    "predictions = model.predict(test_digits)\n",
    "predictions[0]"
   ]
  },
  {
   "cell_type": "code",
   "execution_count": null,
   "id": "9ed13915",
   "metadata": {},
   "outputs": [],
   "source": [
    "predictions[0].argmax()"
   ]
  },
  {
   "cell_type": "code",
   "execution_count": null,
   "id": "38f89f80",
   "metadata": {},
   "outputs": [],
   "source": [
    "predictions[0][7]"
   ]
  },
  {
   "cell_type": "code",
   "execution_count": null,
   "id": "7df15936",
   "metadata": {},
   "outputs": [],
   "source": [
    "test_labels[0]"
   ]
  },
  {
   "cell_type": "markdown",
   "id": "a24e2996",
   "metadata": {},
   "source": [
    "#### 새로운 데이터에서 모델 평가하기"
   ]
  },
  {
   "cell_type": "code",
   "execution_count": null,
   "id": "2ff9ddc1",
   "metadata": {},
   "outputs": [],
   "source": [
    "test_loss, test_acc = model.evaluate(test_images, test_labels)\n",
    "print(f\"테스트 정확도: {test_acc}\")"
   ]
  },
  {
   "cell_type": "markdown",
   "id": "940e9413",
   "metadata": {},
   "source": [
    "## 신경망을 위한 데이터 표현"
   ]
  },
  {
   "cell_type": "markdown",
   "id": "b84c1778",
   "metadata": {},
   "source": [
    "### 스칼라 (랭크-0 텐서)"
   ]
  },
  {
   "cell_type": "code",
   "execution_count": null,
   "id": "f53e6dca",
   "metadata": {},
   "outputs": [],
   "source": [
    "import numpy as np\n",
    "x = np.array(12)\n",
    "x"
   ]
  },
  {
   "cell_type": "code",
   "execution_count": null,
   "id": "eee5fd0b",
   "metadata": {},
   "outputs": [],
   "source": [
    "x.ndim"
   ]
  },
  {
   "cell_type": "markdown",
   "id": "bad09d8a",
   "metadata": {},
   "source": [
    "### 벡터 (랭크-1 텐서)"
   ]
  },
  {
   "cell_type": "code",
   "execution_count": null,
   "id": "852cb340",
   "metadata": {},
   "outputs": [],
   "source": [
    "x = np.array([12, 3, 6, 14, 7])\n",
    "x"
   ]
  },
  {
   "cell_type": "code",
   "execution_count": null,
   "id": "c2afe1c0",
   "metadata": {},
   "outputs": [],
   "source": [
    "x.ndim"
   ]
  },
  {
   "cell_type": "markdown",
   "id": "5379e139",
   "metadata": {},
   "source": [
    "### 행렬 (랭크-2 텐서)"
   ]
  },
  {
   "cell_type": "code",
   "execution_count": null,
   "id": "1d797236",
   "metadata": {},
   "outputs": [],
   "source": [
    "x = np.array([[5, 78, 2, 34, 0],\n",
    "              [6, 79, 3, 35, 1],\n",
    "              [7, 80, 4, 36, 2]])\n",
    "x.ndim"
   ]
  },
  {
   "cell_type": "markdown",
   "id": "ffbcf7f8",
   "metadata": {},
   "source": [
    "### 랭크-3 텐서와 더 높은 랭크의 텐서"
   ]
  },
  {
   "cell_type": "code",
   "execution_count": null,
   "id": "f7c85347",
   "metadata": {},
   "outputs": [],
   "source": [
    "x = np.array([[[5, 78, 2, 34, 0],\n",
    "               [6, 79, 3, 35, 1],\n",
    "               [7, 80, 4, 36, 2]],\n",
    "              [[5, 78, 2, 34, 0],\n",
    "               [6, 79, 3, 35, 1],\n",
    "               [7, 80, 4, 36, 2]],\n",
    "              [[5, 78, 2, 34, 0],\n",
    "               [6, 79, 3, 35, 1],\n",
    "               [7, 80, 4, 36, 2]],\n",
    "              [[5, 78, 2, 34, 0],\n",
    "               [6, 79, 3, 35, 1],\n",
    "               [7, 80, 4, 36, 2]]])\n",
    "x.ndim"
   ]
  },
  {
   "cell_type": "code",
   "execution_count": null,
   "id": "476914e4",
   "metadata": {},
   "outputs": [],
   "source": [
    "x.shape"
   ]
  },
  {
   "cell_type": "markdown",
   "id": "164d8cc5",
   "metadata": {},
   "source": [
    "### 핵심 속성"
   ]
  },
  {
   "cell_type": "code",
   "execution_count": null,
   "id": "84caddff",
   "metadata": {},
   "outputs": [],
   "source": [
    "from tensorflow.keras.datasets import mnist\n",
    "(train_images, train_labels), (test_images, test_labels) = mnist.load_data()"
   ]
  },
  {
   "cell_type": "code",
   "execution_count": null,
   "id": "0bcc454f",
   "metadata": {},
   "outputs": [],
   "source": [
    "train_images.ndim"
   ]
  },
  {
   "cell_type": "code",
   "execution_count": null,
   "id": "6dc6b591",
   "metadata": {},
   "outputs": [],
   "source": [
    "train_images.shape"
   ]
  },
  {
   "cell_type": "code",
   "execution_count": null,
   "id": "a635353f",
   "metadata": {},
   "outputs": [],
   "source": [
    "train_images[4][0,0]"
   ]
  },
  {
   "cell_type": "code",
   "execution_count": null,
   "id": "4de8ec0d",
   "metadata": {},
   "outputs": [],
   "source": [
    "train_images[4][14,14]"
   ]
  },
  {
   "cell_type": "code",
   "execution_count": null,
   "id": "f85791cb",
   "metadata": {},
   "outputs": [],
   "source": [
    "train_images[4][0,:]"
   ]
  },
  {
   "cell_type": "code",
   "execution_count": null,
   "id": "73b3c971",
   "metadata": {},
   "outputs": [],
   "source": [
    "# uint8은 8개의 비트로 256개의 서로 다른 값을 표현.\n",
    "# 이미지 처리에서 많이 사용되는 데이터 형식 중 하나이며, 메모리 관리가 효율적이고 연산에도 효과적\n",
    "train_images.dtype"
   ]
  },
  {
   "cell_type": "code",
   "execution_count": null,
   "id": "30c552b5",
   "metadata": {},
   "outputs": [],
   "source": [
    "train_images[4]"
   ]
  },
  {
   "cell_type": "markdown",
   "id": "360a616d",
   "metadata": {},
   "source": [
    "#### 다섯 번째 이미지 출력하기"
   ]
  },
  {
   "cell_type": "code",
   "execution_count": null,
   "id": "2e38af8b",
   "metadata": {},
   "outputs": [],
   "source": [
    "# MNIST 데이터셋의 픽셀 값은 그레이스케일 값으로, 0은 흰색을 의미하고 255는 검은색을 의미\n",
    "# 특정 시각화 라이브러리나 플랫폼에 따라서 0과 255의 색상 표현이 반대로 설정될 수 있으며 일부 라이브러리는 0을 검은색으로, 255를 흰색으로 표현\n",
    "import matplotlib.pyplot as plt\n",
    "digit = train_images[4]\n",
    "plt.imshow(digit, cmap=plt.cm.binary)\n",
    "plt.show()"
   ]
  },
  {
   "cell_type": "code",
   "execution_count": null,
   "id": "04a011ef",
   "metadata": {},
   "outputs": [],
   "source": [
    "digit[0,0]"
   ]
  },
  {
   "cell_type": "code",
   "execution_count": null,
   "id": "c28567f9",
   "metadata": {},
   "outputs": [],
   "source": [
    "train_labels[4]"
   ]
  },
  {
   "cell_type": "markdown",
   "id": "3f147450",
   "metadata": {},
   "source": [
    "### 넘파이로 텐서 조작하기"
   ]
  },
  {
   "cell_type": "code",
   "execution_count": null,
   "id": "1985fa7a",
   "metadata": {},
   "outputs": [],
   "source": [
    "my_slice = train_images[10:100]\n",
    "my_slice.shape"
   ]
  },
  {
   "cell_type": "code",
   "execution_count": null,
   "id": "deec4aa7",
   "metadata": {},
   "outputs": [],
   "source": [
    "my_slice = train_images[10:100, :, :]\n",
    "my_slice.shape"
   ]
  },
  {
   "cell_type": "code",
   "execution_count": null,
   "id": "c1b7ee70",
   "metadata": {},
   "outputs": [],
   "source": [
    "my_slice = train_images[10:100, 0:28, 0:28]\n",
    "my_slice.shape"
   ]
  },
  {
   "cell_type": "code",
   "execution_count": null,
   "id": "182d018d",
   "metadata": {},
   "outputs": [],
   "source": [
    "my_slice = train_images[:, 14:, 14:]"
   ]
  },
  {
   "cell_type": "code",
   "execution_count": null,
   "id": "0f6fb240",
   "metadata": {},
   "outputs": [],
   "source": [
    "# 정중앙에 위치한 14X14 픽셀 조각\n",
    "my_slice = train_images[:, 7:-7, 7:-7]"
   ]
  },
  {
   "cell_type": "markdown",
   "id": "b93b6602",
   "metadata": {},
   "source": [
    "### 배치 데이터"
   ]
  },
  {
   "cell_type": "code",
   "execution_count": null,
   "id": "adb6fe64",
   "metadata": {},
   "outputs": [],
   "source": [
    "batch = train_images[:128]"
   ]
  },
  {
   "cell_type": "code",
   "execution_count": null,
   "id": "4521b6b6",
   "metadata": {},
   "outputs": [],
   "source": [
    "batch = train_images[128:256]"
   ]
  },
  {
   "cell_type": "code",
   "execution_count": null,
   "id": "3ffc201e",
   "metadata": {},
   "outputs": [],
   "source": [
    "n = 3\n",
    "batch = train_images[128 * n:128 * (n + 1)]"
   ]
  },
  {
   "cell_type": "markdown",
   "id": "022a79db",
   "metadata": {},
   "source": [
    "### 텐서의 실제 사례"
   ]
  },
  {
   "cell_type": "markdown",
   "id": "16b54502",
   "metadata": {},
   "source": [
    "### 벡터 데이터"
   ]
  },
  {
   "cell_type": "markdown",
   "id": "0c51afa3",
   "metadata": {},
   "source": [
    "### 시계열 데이터 또는 시퀀스 데이터"
   ]
  },
  {
   "cell_type": "markdown",
   "id": "6e85881b",
   "metadata": {},
   "source": [
    "### 이미지 데이터\n",
    "- 3차원 이미지의 차원은 \"가로 픽셀 수 x 세로 픽셀 수 x 이미지 슬라이스 수\"로 표현\n",
    "- 픽셀은 이미지를 구성하는 가장 작은 단위로, \"picture element\"의 줄임말이며 이미지를 표현하는 데 사용되는 점 또는 화소\n",
    "- 흑백 이미지의 경우, 각 픽셀은 단일 색상 값을 가지며, 일반적으로 0부터 255까지의 범위로 표현. 0은 픽셀이 검은색에 가깝고, 255는 픽셀이 흰색에 가깝다.\n",
    "- 컬러 이미지의 경우, 각 픽셀은 일반적으로 RGB(Red, Green, Blue) 값을 가지며 각각 빨강, 초록, 파랑의 강도를 나타내며, 0부터 255까지의 범위로 표현\n",
    "- 강도의 조합에 따라 다양한 색상이 생성. 예를 들어, (255, 0, 0)은 빨간색, (0, 255, 0)은 초록색, (0, 0, 255)는 파란색\n",
    "- 각 픽셀은 이미지의 위치에 따라 좌표로 식별. 가장 왼쪽 위 픽셀이 (0, 0)이며, 가로 방향으로 증가하면서 픽셀의 열 인덱스가 증가하고, 세로 방향으로 증가하면서 픽셀의 행 인덱스가 증가\n",
    "- 이미지 처리 작업에서는 픽셀 단위의 조작이 중요하며, 픽셀 값을 수정하거나 분석하여 다양한 이미지 효과를 생성하거나 이미지에서 정보를 추출"
   ]
  },
  {
   "cell_type": "markdown",
   "id": "26f8d3f9",
   "metadata": {},
   "source": [
    "### 비디오 데이터"
   ]
  },
  {
   "cell_type": "markdown",
   "id": "f3bc830d",
   "metadata": {},
   "source": [
    "## 신경망의 톱니바퀴: 텐서 연산"
   ]
  },
  {
   "cell_type": "markdown",
   "id": "eae5ee45",
   "metadata": {},
   "source": [
    "### 원소별 연산"
   ]
  },
  {
   "cell_type": "code",
   "execution_count": null,
   "id": "733fb30d",
   "metadata": {},
   "outputs": [],
   "source": [
    "#  ReLU(Rectified Linear Unit) 함수를 구현\n",
    "# x의 차원이 2가 아닐 경우 AssertionError를 발생시킵니다. 이는 프로그램 실행 중에 오류가 있음을 나타내며, 코드 실행이 중단\n",
    "def naive_relu(x):\n",
    "    assert len(x.shape) == 2 #  x의 차원이 2인지 확인\n",
    "    x = x.copy()\n",
    "    for i in range(x.shape[0]):\n",
    "        for j in range(x.shape[1]):\n",
    "            x[i, j] = max(x[i, j], 0)\n",
    "    return x"
   ]
  },
  {
   "cell_type": "code",
   "execution_count": null,
   "id": "d0fe6a20",
   "metadata": {},
   "outputs": [],
   "source": [
    "def naive_add(x, y):\n",
    "    assert len(x.shape) == 2\n",
    "    assert x.shape == y.shape\n",
    "    x = x.copy()\n",
    "    for i in range(x.shape[0]):\n",
    "        for j in range(x.shape[1]):\n",
    "            x[i, j] += y[i, j]\n",
    "    return x"
   ]
  },
  {
   "cell_type": "code",
   "execution_count": null,
   "id": "fad20ab5",
   "metadata": {},
   "outputs": [],
   "source": [
    "# 넘파이 내장함수 원소별 연산 속도\n",
    "import numpy as np\n",
    "import time\n",
    "\n",
    "x = np.random.random((20, 100))\n",
    "y = np.random.random((20, 100))\n",
    "\n",
    "t0 = time.time()\n",
    "for _ in range(1000):\n",
    "    z = x + y\n",
    "    z = np.maximum(z, 0.)\n",
    "print(\"걸린 시간: {0:.2f} s\".format(time.time() - t0))"
   ]
  },
  {
   "cell_type": "code",
   "execution_count": null,
   "id": "ebd28116",
   "metadata": {},
   "outputs": [],
   "source": [
    "t0 = time.time()\n",
    "for _ in range(1000):\n",
    "    z = naive_add(x, y)\n",
    "    z = naive_relu(z)\n",
    "print(\"걸린 시간: {0:.2f} s\".format(time.time() - t0))"
   ]
  },
  {
   "cell_type": "markdown",
   "id": "8330237e",
   "metadata": {},
   "source": [
    "### 브로드캐스팅"
   ]
  },
  {
   "cell_type": "code",
   "execution_count": null,
   "id": "d5de7ed8",
   "metadata": {},
   "outputs": [],
   "source": [
    "import numpy as np\n",
    "X = np.random.random((32, 10))\n",
    "y = np.random.random((10,))"
   ]
  },
  {
   "cell_type": "code",
   "execution_count": null,
   "id": "3bf32657",
   "metadata": {},
   "outputs": [],
   "source": [
    "y = np.expand_dims(y, axis=0)"
   ]
  },
  {
   "cell_type": "code",
   "execution_count": null,
   "id": "d7fcef65",
   "metadata": {},
   "outputs": [],
   "source": [
    "y"
   ]
  },
  {
   "cell_type": "code",
   "execution_count": null,
   "id": "76a0f56d",
   "metadata": {},
   "outputs": [],
   "source": [
    "Y = np.concatenate([y] * 32, axis=0)"
   ]
  },
  {
   "cell_type": "code",
   "execution_count": null,
   "id": "e7eff9b8",
   "metadata": {},
   "outputs": [],
   "source": [
    "Y[:2]"
   ]
  },
  {
   "cell_type": "code",
   "execution_count": null,
   "id": "572e9bbd",
   "metadata": {},
   "outputs": [],
   "source": [
    "def naive_add_matrix_and_vector(x, y):\n",
    "    assert len(x.shape) == 2 # x의 차원이 2인지 확인\n",
    "    assert len(y.shape) == 1 # y의 차원이 1인지 확인\n",
    "    assert x.shape[1] == y.shape[0] # x의 두 번째 차원의 길이가 y의 첫 번째(그리고 유일한) 차원의 길이와 같은지 확인\n",
    "    x = x.copy()\n",
    "    for i in range(x.shape[0]):\n",
    "        for j in range(x.shape[1]):\n",
    "            x[i, j] += y[j] # x의 i번째 행, j번째 열의 원소와 y의 j번째 원소를 더하고, 그 결과를 x의 해당 위치에 저장\n",
    "    return x"
   ]
  },
  {
   "cell_type": "code",
   "execution_count": null,
   "id": "bd934ad1",
   "metadata": {},
   "outputs": [],
   "source": [
    "# 덧셈\n",
    "x = np.arange(10).reshape(2,5)\n",
    "print(x)\n",
    "y = np.arange(5)\n",
    "print(y)\n",
    "naive_add_matrix_and_vector(x,y)"
   ]
  },
  {
   "cell_type": "code",
   "execution_count": null,
   "id": "8d674f1c",
   "metadata": {},
   "outputs": [],
   "source": [
    "import numpy as np\n",
    "x = np.random.random((64, 3, 32, 10))\n",
    "y = np.random.random((32, 10))\n",
    "z = np.maximum(x, y)"
   ]
  },
  {
   "cell_type": "code",
   "execution_count": null,
   "id": "6cd8a25d",
   "metadata": {},
   "outputs": [],
   "source": [
    "z"
   ]
  },
  {
   "cell_type": "markdown",
   "id": "4a4b989e",
   "metadata": {},
   "source": [
    "### 텐서 곱셈"
   ]
  },
  {
   "cell_type": "code",
   "execution_count": null,
   "id": "47b49252",
   "metadata": {},
   "outputs": [],
   "source": [
    "x = np.random.random((32,))\n",
    "y = np.random.random((32,))\n",
    "z = np.dot(x, y)\n",
    "print(x.shape,y.shape)\n",
    "z"
   ]
  },
  {
   "cell_type": "code",
   "execution_count": null,
   "id": "1980700c",
   "metadata": {},
   "outputs": [],
   "source": [
    "def naive_vector_dot(x, y):\n",
    "    assert len(x.shape) == 1\n",
    "    assert len(y.shape) == 1\n",
    "    assert x.shape[0] == y.shape[0]\n",
    "    z = 0.\n",
    "    for i in range(x.shape[0]):\n",
    "        z += x[i] * y[i]\n",
    "    return z"
   ]
  },
  {
   "cell_type": "code",
   "execution_count": null,
   "id": "7f950bba",
   "metadata": {},
   "outputs": [],
   "source": [
    "naive_vector_dot(x, y)"
   ]
  },
  {
   "cell_type": "code",
   "execution_count": null,
   "id": "d9e19b9c",
   "metadata": {},
   "outputs": [],
   "source": [
    "def naive_matrix_vector_dot(x, y):\n",
    "    assert len(x.shape) == 2\n",
    "    assert len(y.shape) == 1\n",
    "    assert x.shape[1] == y.shape[0]\n",
    "    z = np.zeros(x.shape[0])\n",
    "    for i in range(x.shape[0]):\n",
    "        for j in range(x.shape[1]):\n",
    "            z[i] += x[i, j] * y[j]\n",
    "    return z"
   ]
  },
  {
   "cell_type": "code",
   "execution_count": null,
   "id": "6119d117",
   "metadata": {},
   "outputs": [],
   "source": [
    "x = np.arange(6).reshape(2,3)\n",
    "y = np.arange(3)\n",
    "naive_matrix_vector_dot(x, y)"
   ]
  },
  {
   "cell_type": "code",
   "execution_count": null,
   "id": "51ebfb56",
   "metadata": {},
   "outputs": [],
   "source": [
    "def naive_matrix_dot(x, y):\n",
    "    assert len(x.shape) == 2\n",
    "    assert len(y.shape) == 2\n",
    "    assert x.shape[1] == y.shape[0]\n",
    "    z = np.zeros((x.shape[0], y.shape[1]))\n",
    "    for i in range(x.shape[0]):\n",
    "        for j in range(y.shape[1]):\n",
    "            row_x = x[i, :]\n",
    "            column_y = y[:, j]\n",
    "            z[i, j] = naive_vector_dot(row_x, column_y)\n",
    "    return z"
   ]
  },
  {
   "cell_type": "code",
   "execution_count": null,
   "id": "734fae4b",
   "metadata": {},
   "outputs": [],
   "source": [
    "x = np.arange(6).reshape(2,3)\n",
    "y = np.arange(6).reshape(3,2)\n",
    "naive_matrix_dot(x, y)"
   ]
  },
  {
   "cell_type": "markdown",
   "id": "c54656c6",
   "metadata": {},
   "source": [
    "### 텐서 크기 변환"
   ]
  },
  {
   "cell_type": "code",
   "execution_count": null,
   "id": "4f435f1d",
   "metadata": {},
   "outputs": [],
   "source": [
    "from tensorflow.keras.datasets import mnist\n",
    "(train_images, train_labels), (test_images, test_labels) = mnist.load_data()"
   ]
  },
  {
   "cell_type": "code",
   "execution_count": null,
   "id": "7ea697c8",
   "metadata": {},
   "outputs": [],
   "source": [
    "train_images.shape"
   ]
  },
  {
   "cell_type": "code",
   "execution_count": null,
   "id": "48392f94",
   "metadata": {},
   "outputs": [],
   "source": [
    "train_images[0,:,:]"
   ]
  },
  {
   "cell_type": "code",
   "execution_count": null,
   "id": "df42d8b2",
   "metadata": {},
   "outputs": [],
   "source": [
    "train_images = train_images.reshape((60000, 28 * 28))"
   ]
  },
  {
   "cell_type": "code",
   "execution_count": null,
   "id": "f659342a",
   "metadata": {},
   "outputs": [],
   "source": [
    "train_images"
   ]
  },
  {
   "cell_type": "code",
   "execution_count": null,
   "id": "cf905559",
   "metadata": {},
   "outputs": [],
   "source": [
    "x = np.array([[0., 1.],\n",
    "             [2., 3.],\n",
    "             [4., 5.]])\n",
    "x.shape"
   ]
  },
  {
   "cell_type": "code",
   "execution_count": null,
   "id": "239fbdd6",
   "metadata": {},
   "outputs": [],
   "source": [
    "x = x.reshape((6, 1))\n",
    "x"
   ]
  },
  {
   "cell_type": "code",
   "execution_count": null,
   "id": "037af02b",
   "metadata": {},
   "outputs": [],
   "source": [
    "x = x.reshape((2, 3))\n",
    "x"
   ]
  },
  {
   "cell_type": "code",
   "execution_count": null,
   "id": "9f49d403",
   "metadata": {},
   "outputs": [],
   "source": [
    "x = np.zeros((300, 20))\n",
    "x = np.transpose(x)\n",
    "x.shape"
   ]
  },
  {
   "cell_type": "markdown",
   "id": "ac9fd8c4",
   "metadata": {},
   "source": [
    "### 텐서 연산의 기하학적 해석"
   ]
  },
  {
   "cell_type": "markdown",
   "id": "d4ee76c2",
   "metadata": {},
   "source": [
    "### 딥러닝의 기하학적 해석"
   ]
  },
  {
   "cell_type": "markdown",
   "id": "3cc5a6c9",
   "metadata": {},
   "source": [
    "## 신경망의 엔진: 그레이디언트 기반 최적화"
   ]
  },
  {
   "cell_type": "markdown",
   "id": "1101e2f9",
   "metadata": {},
   "source": [
    "### 도함수란?"
   ]
  },
  {
   "cell_type": "markdown",
   "id": "622d11a0",
   "metadata": {},
   "source": [
    "### 텐서 연산의 도함수: 그레이디언트"
   ]
  },
  {
   "cell_type": "markdown",
   "id": "116df46a",
   "metadata": {},
   "source": [
    "### 확률적 경사 하강법"
   ]
  },
  {
   "cell_type": "markdown",
   "id": "f50e82e3",
   "metadata": {},
   "source": [
    "### 도함수 연결: 역전파 알고리즘"
   ]
  },
  {
   "cell_type": "markdown",
   "id": "c1c1a1eb",
   "metadata": {},
   "source": [
    "### 연쇄 법칙"
   ]
  },
  {
   "cell_type": "markdown",
   "id": "c94d11c4",
   "metadata": {},
   "source": [
    "### 계산 그래프를 활용한 자동 미분"
   ]
  },
  {
   "cell_type": "markdown",
   "id": "da293e31",
   "metadata": {},
   "source": [
    "### 텐서플로의 그레이디언트 테이프"
   ]
  },
  {
   "cell_type": "code",
   "execution_count": null,
   "id": "84eea78d",
   "metadata": {},
   "outputs": [],
   "source": [
    "import tensorflow as tf\n",
    "x = tf.Variable(0.)\n",
    "with tf.GradientTape() as tape:\n",
    "    y = 2 * x + 3\n",
    "grad_of_y_wrt_x = tape.gradient(y, x)"
   ]
  },
  {
   "cell_type": "code",
   "execution_count": null,
   "id": "4c821cdd",
   "metadata": {},
   "outputs": [],
   "source": [
    "grad_of_y_wrt_x"
   ]
  },
  {
   "cell_type": "markdown",
   "id": "d60087c1",
   "metadata": {},
   "source": [
    "TensorFlow를 사용하여 변수 x에 대한 식 y = 2 * x + 3의 그래디언트(기울기)를 계산하고 tape.gradient()를 사용하여 y에 대한 x의 그래디언트를 계산. 이를 통해 x의 값을 조정할 때 y가 어떻게 변화하는지를 알 수 있으며, 이는 모델의 최적화와 역전파 알고리즘에서 매우 유용.\n",
    "- TensorFlow 변수 x를 생성합니다. tf.zeros((2, 2))를 사용하여 크기가 2x2이고 모든 요소가 0인 행렬로 초기화\n",
    "- tf.GradientTape()를 사용하여 GradientTape 컨텍스트를 생성하고 tape를 사용하여 연산을 기록\n",
    "- y = 2 * x + 3의 연산을 수행하고 결과를 변수 y에 저장. 이 때, TensorFlow의 브로드캐스팅(broadcasting) 기능을 사용하여 x의 각 요소에 2를 곱하고 3을 더함.\n",
    "- tape.gradient()를 사용하여 y에 대한 x의 그래디언트를 계산. 이를 통해 y를 x에 대해 미분한 결과, 즉 y에 대한 x의 기울기를 구한다. tape.gradient()의 첫 번째 인자로는 그래디언트를 계산하고자 하는 결과값(y)을 전달하고, 두 번째 인자로는 그래디언트를 계산하고자 하는 변수(x)를 전달.\n",
    "- grad_of_y_wrt_x에는 y에 대한 x의 그래디언트가 저장된다."
   ]
  },
  {
   "cell_type": "code",
   "execution_count": null,
   "id": "a017c4f2",
   "metadata": {},
   "outputs": [],
   "source": [
    "x = tf.Variable(tf.zeros((2, 2)))\n",
    "with tf.GradientTape() as tape:\n",
    "    y = 2 * x + 3\n",
    "grad_of_y_wrt_x = tape.gradient(y, x)"
   ]
  },
  {
   "cell_type": "code",
   "execution_count": null,
   "id": "559e088f",
   "metadata": {},
   "outputs": [],
   "source": [
    "grad_of_y_wrt_x"
   ]
  },
  {
   "cell_type": "code",
   "execution_count": null,
   "id": "43fc7ef2",
   "metadata": {},
   "outputs": [],
   "source": [
    "W = tf.Variable(tf.random.uniform((2, 2)))\n",
    "b = tf.Variable(tf.zeros((2,)))\n",
    "x = tf.random.uniform((2, 2))\n",
    "with tf.GradientTape() as tape:\n",
    "    y = tf.matmul(x, W) + b\n",
    "grad_of_y_wrt_W_and_b = tape.gradient(y, [W, b])"
   ]
  },
  {
   "cell_type": "code",
   "execution_count": null,
   "id": "0ea01282",
   "metadata": {},
   "outputs": [],
   "source": [
    "grad_of_y_wrt_W_and_b"
   ]
  },
  {
   "cell_type": "markdown",
   "id": "6e36c41c",
   "metadata": {},
   "source": [
    "## 첫 번째 예제 다시 살펴보기"
   ]
  },
  {
   "cell_type": "markdown",
   "id": "59994d39",
   "metadata": {},
   "source": [
    "### 옵티마이저\n",
    "- 모델의 학습 과정을 통제하고, 모델의 성능을 개선하는 역할\n",
    "- 손실 함수 (또는 비용 함수)를 최소화하는 파라미터를 찾는 과정이며, 이 과정은 최적화 (Optimization)라고 함\n",
    "- 옵티마이저\n",
    "  - 확률적 경사 하강법 (SGD): 가장 기본적인 옵티마이저로, 각 훈련 단계에서 하나의 데이터 포인트 (또는 작은 배치)에 대한 그래디언트를 계산하여 모델 파라미터를 업데이트\n",
    "  - 모멘텀: 경사 하강법에 '관성' 개념을 추가하여, 최적화 과정이 수렴을 가속화하고 지역 최솟값에서 벗어나는 데 도움\n",
    "  - AdaGrad: 학습률이 각 파라미터에 따라 다르게 적용되는 적응형 학습률을 사용합니다. 이는 자주 등장하지 않는 피처에 높은 학습률을 할당하는 데 도움\n",
    "  - RMSProp: AdaGrad의 문제점인 학습률이 너무 빨리 감소하는 문제를 해결한 방법\n",
    "  - Adam (Adaptive Moment Estimation): 모멘텀과 RMSProp의 아이디어를 결합한 옵티마이저로, 적응형 학습률과 관성 개념을 모두 사용"
   ]
  },
  {
   "cell_type": "markdown",
   "id": "76908301",
   "metadata": {},
   "source": [
    "### 손실 함수 (Loss Function)\n",
    "- 머신러닝 모델의 예측 출력이 실제 값과 얼마나 잘 일치하는지를 측정하는 방법\n",
    "- 실 함수는 모델의 성능을 수치화하며, 이를 통해 모델의 파라미터를 최적화하는 데 사용\n",
    "- 유형\n",
    "  - 평균 제곱 오차 (Mean Squared Error, MSE): 회귀 문제에서 가장 일반적으로 사용되는 손실 함수. 실제 값과 모델의 예측 값 사이의 차이를 제곱한 값의 평균을 계산\n",
    "  - 크로스 엔트로피 (Cross-Entropy): 분류 문제에서 일반적으로 사용되는 손실 함수. 모델의 예측 확률 분포와 실제 값의 분포 사이의 차이를 측정\n",
    "  - sparse_categorical_crossentropy는 크로스 엔트로피 손실 함수의 한 형태로, 다중 클래스 분류 문제에서 주로 사용\n",
    "  - 힌지 손실 (Hinge Loss): 서포트 벡터 머신 (SVM)과 같은 알고리즘에서 사용\n",
    "  - 로그 손실 (Log Loss): 이진 분류 문제에서 사용되며, 예측 확률을 직접적으로 반영"
   ]
  },
  {
   "cell_type": "code",
   "execution_count": null,
   "id": "3c58eac5",
   "metadata": {},
   "outputs": [],
   "source": [
    "(train_images, train_labels), (test_images, test_labels) = mnist.load_data()\n",
    "train_images = train_images.reshape((60000, 28 * 28))\n",
    "train_images = train_images.astype(\"float32\") / 255\n",
    "test_images = test_images.reshape((10000, 28 * 28))\n",
    "test_images = test_images.astype(\"float32\") / 255"
   ]
  },
  {
   "cell_type": "code",
   "execution_count": null,
   "id": "8db685b6",
   "metadata": {},
   "outputs": [],
   "source": [
    "model = keras.Sequential([\n",
    "    layers.Dense(512, activation=\"relu\"),\n",
    "    layers.Dense(10, activation=\"softmax\")\n",
    "])"
   ]
  },
  {
   "cell_type": "code",
   "execution_count": null,
   "id": "e28177ab",
   "metadata": {},
   "outputs": [],
   "source": [
    "model.compile(optimizer=\"rmsprop\",\n",
    "              loss=\"sparse_categorical_crossentropy\",\n",
    "              metrics=[\"accuracy\"])"
   ]
  },
  {
   "cell_type": "code",
   "execution_count": null,
   "id": "b490fc99",
   "metadata": {},
   "outputs": [],
   "source": [
    "model.fit(train_images, train_labels, epochs=5, batch_size=128)"
   ]
  },
  {
   "cell_type": "markdown",
   "id": "2a3065c0",
   "metadata": {},
   "source": [
    "### 텐서플로를 사용해 첫 번째 예제를 밑바닥부터 다시 구현하기\n",
    "#### 단순한 Dense 클래스\n",
    "@property\n",
    "\n",
    "- 파이썬의 데코레이터(decorator) 중 하나로, 클래스의 메서드를 속성(property)처럼 사용할 수 있도록 해주는 기능\n",
    "- @property는 클래스의 인터페이스를 단순화하고 읽기 및 쓰기 속성을 통합하는 데 유용\n",
    "- 클래스의 내부 구현을 숨기고 사용자가 더 직관적이고 편리한 방식으로 클래스의 속성을 사용"
   ]
  },
  {
   "cell_type": "code",
   "execution_count": null,
   "id": "d4970419",
   "metadata": {},
   "outputs": [],
   "source": [
    "# TensorFlow를 사용하여 단순한 밀집(Dense) 계층을 구현한 NaiveDense 클래스\n",
    "import tensorflow as tf\n",
    "\n",
    "class NaiveDense:\n",
    "    def __init__(self, input_size, output_size, activation):\n",
    "        self.activation = activation\n",
    "\n",
    "        # W는 input_size와 output_size에 맞는 크기로 난수로 초기화\n",
    "        w_shape = (input_size, output_size)\n",
    "        w_initial_value = tf.random.uniform(w_shape, minval=0, maxval=1e-1)\n",
    "        self.W = tf.Variable(w_initial_value)\n",
    "        # b는 0으로 초기화\n",
    "        b_shape = (output_size,)\n",
    "        b_initial_value = tf.zeros(b_shape)\n",
    "        self.b = tf.Variable(b_initial_value)\n",
    "\n",
    "    def __call__(self, inputs): # __call__: 클래스 객체를 함수처럼 호출할 수 있도록 해주는 메서드\n",
    "        return self.activation(tf.matmul(inputs, self.W) + self.b)\n",
    "\n",
    "    @property\n",
    "    def weights(self): # weights를 호출하면 [self.W, self.b]로 구성된 리스트가 반환\n",
    "        return [self.W, self.b]"
   ]
  },
  {
   "cell_type": "markdown",
   "id": "ace0c853",
   "metadata": {},
   "source": [
    "### 단순한 Sequential 클래스"
   ]
  },
  {
   "cell_type": "code",
   "execution_count": null,
   "id": "758bddb0",
   "metadata": {},
   "outputs": [],
   "source": [
    "class NaiveSequential:\n",
    "    def __init__(self, layers):\n",
    "        self.layers = layers\n",
    "\n",
    "    def __call__(self, inputs):\n",
    "        x = inputs\n",
    "        for layer in self.layers:\n",
    "           x = layer(x)\n",
    "        return x\n",
    "\n",
    "    @property\n",
    "    def weights(self):\n",
    "       weights = []\n",
    "       for layer in self.layers:\n",
    "           weights += layer.weights\n",
    "       return weights"
   ]
  },
  {
   "cell_type": "code",
   "execution_count": null,
   "id": "1d7846fe",
   "metadata": {},
   "outputs": [],
   "source": [
    "model = NaiveSequential([\n",
    "    NaiveDense(input_size=28 * 28, output_size=512, activation=tf.nn.relu),\n",
    "    NaiveDense(input_size=512, output_size=10, activation=tf.nn.softmax)\n",
    "])\n",
    "assert len(model.weights) == 4"
   ]
  },
  {
   "cell_type": "markdown",
   "id": "80467a4c",
   "metadata": {},
   "source": [
    "### 배치 제너레이터"
   ]
  },
  {
   "cell_type": "code",
   "execution_count": null,
   "id": "fbfbe06c",
   "metadata": {},
   "outputs": [],
   "source": [
    "import math\n",
    "\n",
    "class BatchGenerator:\n",
    "    def __init__(self, images, labels, batch_size=128):\n",
    "        assert len(images) == len(labels)\n",
    "        self.index = 0\n",
    "        self.images = images\n",
    "        self.labels = labels\n",
    "        self.batch_size = batch_size\n",
    "        self.num_batches = math.ceil(len(images) / batch_size) #  주어진 이미지 리스트를 특정 배치 크기로 나누었을 때 필요한 전체 배치의 수를 계산\n",
    "\n",
    "    def next(self):\n",
    "        images = self.images[self.index : self.index + self.batch_size]\n",
    "        labels = self.labels[self.index : self.index + self.batch_size]\n",
    "        self.index += self.batch_size\n",
    "        return images, labels"
   ]
  },
  {
   "cell_type": "markdown",
   "id": "87e63835",
   "metadata": {},
   "source": [
    "### 훈련 스텝 실행하기\n",
    "#### 가중치 vs 그래디언트\n",
    "가중치는 신경망의 출력을 결정하는 파라미터이며, 그래디언트는 이러한 가중치를 어떻게 조정할지를 결정하는 방향성을 제공하는 지표\n",
    "\n",
    "- 가중치는 각 입력 특성이 출력에 미치는 영향의 정도를 나타냅니다. 가중치는 학습 과정에서 최적화되며, 초기에는 일반적으로 임의의 값으로 설정되고, 학습 데이터를 통해 그래디언트를 계산하고 가중치를 업데이트함으로써 점진적으로 개선\n",
    "- 그래디언트(Gradient): 그래디언트는 가중치가 변할 때 손실 함수가 어떻게 변하는지를 나타내는 지표. 그래디언트는 손실 함수의 편미분으로 계산되며, 이는 각 가중치에 대한 손실의 변화율을 나타낸다. 그래디언트는 가중치를 어떻게 업데이트할지를 결정하는데 사용되며, 손실을 줄이는 방향으로 가중치를 조정하는데 도움이 되며 그래디언트가 0인 경우, 해당 가중치는 손실에 미치는 영향이 없거나, 손실을 최소화하는 최적의 값에 도달했음을 의미"
   ]
  },
  {
   "cell_type": "code",
   "execution_count": null,
   "id": "a75fdbdc",
   "metadata": {},
   "outputs": [],
   "source": [
    "def one_training_step(model, images_batch, labels_batch):\n",
    "    with tf.GradientTape() as tape: #  자동 미분 도구로, 이를 이용해 모델의 예측과 손실을 계산하면서 그래디언트를 기록\n",
    "        predictions = model(images_batch) # 신경망 모델에 이미지 배치를 입력으로 넣어서 예측을 수행\n",
    "        per_sample_losses = tf.keras.losses.sparse_categorical_crossentropy(\n",
    "            labels_batch, predictions) # 각 샘플에 대한 손실을 계산\n",
    "        average_loss = tf.reduce_mean(per_sample_losses) # 각 샘플의 손실을 평균내어 배치의 평균 손실을 계산\n",
    "    gradients = tape.gradient(average_loss, model.weights) # 평균 손실에 기초하여 모델의 가중치에 대한 그래디언트를 계산\n",
    "    update_weights(gradients, model.weights) # 계산된 그래디언트를 이용해 모델의 가중치를 업데이트\n",
    "    return average_loss"
   ]
  },
  {
   "cell_type": "code",
   "execution_count": null,
   "id": "27643618",
   "metadata": {},
   "outputs": [],
   "source": [
    "learning_rate = 1e-3 # 0.001\n",
    "\n",
    "def update_weights(gradients, weights):\n",
    "    for g, w in zip(gradients, weights):\n",
    "        w.assign_sub(g * learning_rate) # 현재 가중치(w)에서 그래디언트(g)와 학습률(learning_rate)를 곱한 값을 뺀 결과를 다시 w에 할당. 이는 경사 하강법의 한 단계를 수행하는 것"
   ]
  },
  {
   "cell_type": "code",
   "execution_count": null,
   "id": "1ded5193",
   "metadata": {},
   "outputs": [],
   "source": [
    "# 가중치 업데이트 - 케라스의 Optimizer 인스턴스 사용\n",
    "from tensorflow.keras import optimizers\n",
    "\n",
    "optimizer = optimizers.SGD(learning_rate=1e-3)\n",
    "\n",
    "def update_weights(gradients, weights):\n",
    "    optimizer.apply_gradients(zip(gradients, weights))"
   ]
  },
  {
   "cell_type": "markdown",
   "id": "f56aa51b",
   "metadata": {},
   "source": [
    "### 전체 훈련 루프"
   ]
  },
  {
   "cell_type": "code",
   "execution_count": null,
   "id": "0c49ac9b",
   "metadata": {},
   "outputs": [],
   "source": [
    "# 주어진 에포크 수와 배치 크기에 따라 모델을 학습시키며, 각 배치에서의 손실을 출력하는 역할을 수행\n",
    "def fit(model, images, labels, epochs, batch_size=128):\n",
    "    for epoch_counter in range(epochs): # 이미지 데이터와 레이블 데이터를 받아 배치 생성기를 생성\n",
    "        print(f\"에포크 {epoch_counter}\")\n",
    "        batch_generator = BatchGenerator(images, labels)\n",
    "        for batch_counter in range(batch_generator.num_batches):\n",
    "            images_batch, labels_batch = batch_generator.next() # 배치 생성기로부터 다음 배치의 이미지와 레이블을 가져온다.\n",
    "            loss = one_training_step(model, images_batch, labels_batch) # 현재 배치의 이미지와 레이블을 이용해 모델을 한 단계 학습\n",
    "            if batch_counter % 100 == 0:\n",
    "                print(f\"{batch_counter}번째 배치 손실: {loss:.2f}\") # 현재 배치 번호와 해당 배치에서 계산된 손실을 출력"
   ]
  },
  {
   "cell_type": "code",
   "execution_count": null,
   "id": "e6818624",
   "metadata": {},
   "outputs": [],
   "source": [
    "from tensorflow.keras.datasets import mnist\n",
    "(train_images, train_labels), (test_images, test_labels) = mnist.load_data()\n",
    "\n",
    "train_images = train_images.reshape((60000, 28 * 28))\n",
    "train_images = train_images.astype(\"float32\") / 255\n",
    "test_images = test_images.reshape((10000, 28 * 28))\n",
    "test_images = test_images.astype(\"float32\") / 255\n",
    "\n",
    "fit(model, train_images, train_labels, epochs=10, batch_size=128)"
   ]
  },
  {
   "cell_type": "markdown",
   "id": "0feea36a",
   "metadata": {},
   "source": [
    "### 모델 평가하기"
   ]
  },
  {
   "cell_type": "code",
   "execution_count": null,
   "id": "495282a5",
   "metadata": {},
   "outputs": [],
   "source": [
    "predictions = model(test_images)\n",
    "predictions = predictions.numpy()\n",
    "predicted_labels = np.argmax(predictions, axis=1)\n",
    "matches = predicted_labels == test_labels\n",
    "print(f\"정확도: {matches.mean():.2f}\")"
   ]
  },
  {
   "cell_type": "markdown",
   "id": "a59af2f0",
   "metadata": {},
   "source": [
    "### 요약"
   ]
  }
 ],
 "metadata": {
  "kernelspec": {
   "display_name": "Python 3 (ipykernel)",
   "language": "python",
   "name": "python3"
  },
  "language_info": {
   "codemirror_mode": {
    "name": "ipython",
    "version": 3
   },
   "file_extension": ".py",
   "mimetype": "text/x-python",
   "name": "python",
   "nbconvert_exporter": "python",
   "pygments_lexer": "ipython3",
   "version": "3.9.13"
  }
 },
 "nbformat": 4,
 "nbformat_minor": 5
}
