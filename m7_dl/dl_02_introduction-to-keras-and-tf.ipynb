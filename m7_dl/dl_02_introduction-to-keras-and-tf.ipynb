{
 "cells": [
  {
   "cell_type": "markdown",
   "id": "e46b8219",
   "metadata": {},
   "source": [
    "# 케라스와 텐서플로 소개"
   ]
  },
  {
   "cell_type": "markdown",
   "id": "f2cb3efa",
   "metadata": {},
   "source": [
    "## 텐서플로란?"
   ]
  },
  {
   "cell_type": "markdown",
   "id": "bf07c535",
   "metadata": {},
   "source": [
    "## 케라스란?"
   ]
  },
  {
   "cell_type": "markdown",
   "id": "3f0bd720",
   "metadata": {},
   "source": [
    "## 케라스와 텐서플로의 간략한 역사"
   ]
  },
  {
   "cell_type": "markdown",
   "id": "9755f30d",
   "metadata": {},
   "source": [
    "## 딥러닝 작업 환경 설정하기"
   ]
  },
  {
   "cell_type": "markdown",
   "id": "b37cd106",
   "metadata": {},
   "source": [
    "### 주피터 노트북: 권장하는 딥러닝 실험 도구"
   ]
  },
  {
   "cell_type": "markdown",
   "id": "35304f78",
   "metadata": {},
   "source": [
    "### 코랩 사용하기"
   ]
  },
  {
   "cell_type": "markdown",
   "id": "5e2e67df",
   "metadata": {},
   "source": [
    "#### 코랩 시작하기"
   ]
  },
  {
   "cell_type": "markdown",
   "id": "f84cfdb2",
   "metadata": {},
   "source": [
    "#### pip로 패키지 설치하기"
   ]
  },
  {
   "cell_type": "markdown",
   "id": "3d220b85",
   "metadata": {},
   "source": [
    "#### GPU 런타임 사용하기"
   ]
  },
  {
   "cell_type": "markdown",
   "id": "57d25c6f",
   "metadata": {},
   "source": [
    "## 텐서플로 시작하기"
   ]
  },
  {
   "cell_type": "markdown",
   "id": "7aa26723",
   "metadata": {},
   "source": [
    "### 상수 텐서와 변수"
   ]
  },
  {
   "cell_type": "markdown",
   "id": "422e15cd",
   "metadata": {},
   "source": [
    "#### 모두 1 또는 모두 0인 텐서"
   ]
  },
  {
   "cell_type": "code",
   "execution_count": 1,
   "id": "4153c65f",
   "metadata": {},
   "outputs": [
    {
     "name": "stdout",
     "output_type": "stream",
     "text": [
      "Collecting tensorflow\n",
      "  Using cached tensorflow-2.13.0-cp39-cp39-win_amd64.whl (1.9 kB)\n",
      "Collecting tensorflow-intel==2.13.0\n",
      "  Using cached tensorflow_intel-2.13.0-cp39-cp39-win_amd64.whl (276.5 MB)\n",
      "Collecting gast<=0.4.0,>=0.2.1\n",
      "  Using cached gast-0.4.0-py3-none-any.whl (9.8 kB)\n",
      "Requirement already satisfied: flatbuffers>=23.1.21 in c:\\app\\lib\\site-packages (from tensorflow-intel==2.13.0->tensorflow) (23.5.26)\n",
      "Requirement already satisfied: opt-einsum>=2.3.2 in c:\\app\\lib\\site-packages (from tensorflow-intel==2.13.0->tensorflow) (3.3.0)\n",
      "Requirement already satisfied: packaging in c:\\app\\lib\\site-packages (from tensorflow-intel==2.13.0->tensorflow) (21.3)\n",
      "Requirement already satisfied: termcolor>=1.1.0 in c:\\app\\lib\\site-packages (from tensorflow-intel==2.13.0->tensorflow) (2.3.0)\n",
      "Collecting astunparse>=1.6.0\n",
      "  Using cached astunparse-1.6.3-py2.py3-none-any.whl (12 kB)\n",
      "Collecting tensorboard<2.14,>=2.13\n",
      "  Using cached tensorboard-2.13.0-py3-none-any.whl (5.6 MB)\n",
      "Requirement already satisfied: numpy<=1.24.3,>=1.22 in c:\\app\\lib\\site-packages (from tensorflow-intel==2.13.0->tensorflow) (1.24.3)\n",
      "Requirement already satisfied: h5py>=2.9.0 in c:\\app\\lib\\site-packages (from tensorflow-intel==2.13.0->tensorflow) (3.7.0)\n",
      "Requirement already satisfied: wrapt>=1.11.0 in c:\\app\\lib\\site-packages (from tensorflow-intel==2.13.0->tensorflow) (1.14.1)\n",
      "Requirement already satisfied: tensorflow-estimator<2.14,>=2.13.0 in c:\\app\\lib\\site-packages (from tensorflow-intel==2.13.0->tensorflow) (2.13.0)\n",
      "Requirement already satisfied: setuptools in c:\\app\\lib\\site-packages (from tensorflow-intel==2.13.0->tensorflow) (63.4.1)\n",
      "Requirement already satisfied: libclang>=13.0.0 in c:\\app\\lib\\site-packages (from tensorflow-intel==2.13.0->tensorflow) (16.0.6)\n",
      "Collecting absl-py>=1.0.0\n",
      "  Using cached absl_py-1.4.0-py3-none-any.whl (126 kB)\n",
      "Collecting grpcio<2.0,>=1.24.3\n",
      "  Using cached grpcio-1.57.0-cp39-cp39-win_amd64.whl (4.3 MB)\n",
      "Collecting google-pasta>=0.1.1\n",
      "  Using cached google_pasta-0.2.0-py3-none-any.whl (57 kB)\n",
      "Requirement already satisfied: protobuf!=4.21.0,!=4.21.1,!=4.21.2,!=4.21.3,!=4.21.4,!=4.21.5,<5.0.0dev,>=3.20.3 in c:\\app\\lib\\site-packages (from tensorflow-intel==2.13.0->tensorflow) (4.24.2)\n",
      "Requirement already satisfied: six>=1.12.0 in c:\\app\\lib\\site-packages (from tensorflow-intel==2.13.0->tensorflow) (1.16.0)\n",
      "Requirement already satisfied: keras<2.14,>=2.13.1 in c:\\app\\lib\\site-packages (from tensorflow-intel==2.13.0->tensorflow) (2.13.1)\n",
      "Requirement already satisfied: tensorflow-io-gcs-filesystem>=0.23.1 in c:\\app\\lib\\site-packages (from tensorflow-intel==2.13.0->tensorflow) (0.31.0)\n",
      "Requirement already satisfied: typing-extensions<4.6.0,>=3.6.6 in c:\\app\\lib\\site-packages (from tensorflow-intel==2.13.0->tensorflow) (4.3.0)\n",
      "Requirement already satisfied: wheel<1.0,>=0.23.0 in c:\\app\\lib\\site-packages (from astunparse>=1.6.0->tensorflow-intel==2.13.0->tensorflow) (0.37.1)\n",
      "Collecting google-auth<3,>=1.6.3\n",
      "  Using cached google_auth-2.22.0-py2.py3-none-any.whl (181 kB)\n",
      "Collecting google-auth-oauthlib<1.1,>=0.5\n",
      "  Using cached google_auth_oauthlib-1.0.0-py2.py3-none-any.whl (18 kB)\n",
      "Requirement already satisfied: markdown>=2.6.8 in c:\\app\\lib\\site-packages (from tensorboard<2.14,>=2.13->tensorflow-intel==2.13.0->tensorflow) (3.3.4)\n",
      "Requirement already satisfied: werkzeug>=1.0.1 in c:\\app\\lib\\site-packages (from tensorboard<2.14,>=2.13->tensorflow-intel==2.13.0->tensorflow) (2.0.3)\n",
      "Requirement already satisfied: tensorboard-data-server<0.8.0,>=0.7.0 in c:\\app\\lib\\site-packages (from tensorboard<2.14,>=2.13->tensorflow-intel==2.13.0->tensorflow) (0.7.1)\n",
      "Requirement already satisfied: requests<3,>=2.21.0 in c:\\app\\lib\\site-packages (from tensorboard<2.14,>=2.13->tensorflow-intel==2.13.0->tensorflow) (2.28.1)\n",
      "Requirement already satisfied: pyparsing!=3.0.5,>=2.0.2 in c:\\app\\lib\\site-packages (from packaging->tensorflow-intel==2.13.0->tensorflow) (3.0.9)\n",
      "Requirement already satisfied: rsa<5,>=3.1.4 in c:\\app\\lib\\site-packages (from google-auth<3,>=1.6.3->tensorboard<2.14,>=2.13->tensorflow-intel==2.13.0->tensorflow) (4.9)\n",
      "Requirement already satisfied: pyasn1-modules>=0.2.1 in c:\\app\\lib\\site-packages (from google-auth<3,>=1.6.3->tensorboard<2.14,>=2.13->tensorflow-intel==2.13.0->tensorflow) (0.2.8)\n",
      "Requirement already satisfied: urllib3<2.0 in c:\\app\\lib\\site-packages (from google-auth<3,>=1.6.3->tensorboard<2.14,>=2.13->tensorflow-intel==2.13.0->tensorflow) (1.26.11)\n",
      "Collecting cachetools<6.0,>=2.0.0\n",
      "  Using cached cachetools-5.3.1-py3-none-any.whl (9.3 kB)\n",
      "Collecting requests-oauthlib>=0.7.0\n",
      "  Using cached requests_oauthlib-1.3.1-py2.py3-none-any.whl (23 kB)\n",
      "Requirement already satisfied: certifi>=2017.4.17 in c:\\app\\lib\\site-packages (from requests<3,>=2.21.0->tensorboard<2.14,>=2.13->tensorflow-intel==2.13.0->tensorflow) (2022.9.14)\n",
      "Requirement already satisfied: charset-normalizer<3,>=2 in c:\\app\\lib\\site-packages (from requests<3,>=2.21.0->tensorboard<2.14,>=2.13->tensorflow-intel==2.13.0->tensorflow) (2.0.4)\n",
      "Requirement already satisfied: idna<4,>=2.5 in c:\\app\\lib\\site-packages (from requests<3,>=2.21.0->tensorboard<2.14,>=2.13->tensorflow-intel==2.13.0->tensorflow) (3.3)\n",
      "Requirement already satisfied: pyasn1<0.5.0,>=0.4.6 in c:\\app\\lib\\site-packages (from pyasn1-modules>=0.2.1->google-auth<3,>=1.6.3->tensorboard<2.14,>=2.13->tensorflow-intel==2.13.0->tensorflow) (0.4.8)\n",
      "Requirement already satisfied: oauthlib>=3.0.0 in c:\\app\\lib\\site-packages (from requests-oauthlib>=0.7.0->google-auth-oauthlib<1.1,>=0.5->tensorboard<2.14,>=2.13->tensorflow-intel==2.13.0->tensorflow) (3.2.2)\n",
      "Installing collected packages: grpcio, google-pasta, gast, cachetools, astunparse, absl-py, requests-oauthlib, google-auth, google-auth-oauthlib, tensorboard, tensorflow-intel, tensorflow\n",
      "Successfully installed absl-py-1.4.0 astunparse-1.6.3 cachetools-5.3.1 gast-0.4.0 google-auth-2.22.0 google-auth-oauthlib-1.0.0 google-pasta-0.2.0 grpcio-1.57.0 requests-oauthlib-1.3.1 tensorboard-2.13.0 tensorflow-2.13.0 tensorflow-intel-2.13.0\n"
     ]
    }
   ],
   "source": [
    "!pip install tensorflow"
   ]
  },
  {
   "cell_type": "code",
   "execution_count": 2,
   "id": "31968b0e",
   "metadata": {},
   "outputs": [
    {
     "name": "stdout",
     "output_type": "stream",
     "text": [
      "tf.Tensor(\n",
      "[[1.]\n",
      " [1.]], shape=(2, 1), dtype=float32)\n"
     ]
    }
   ],
   "source": [
    "import tensorflow as tf\n",
    "x = tf.ones(shape=(2, 1))\n",
    "print(x)"
   ]
  },
  {
   "cell_type": "code",
   "execution_count": 3,
   "id": "37d49a26",
   "metadata": {},
   "outputs": [
    {
     "name": "stdout",
     "output_type": "stream",
     "text": [
      "tf.Tensor(\n",
      "[[0.]\n",
      " [0.]], shape=(2, 1), dtype=float32)\n"
     ]
    }
   ],
   "source": [
    "x = tf.zeros(shape=(2, 1))\n",
    "print(x)"
   ]
  },
  {
   "cell_type": "markdown",
   "id": "529499a7",
   "metadata": {},
   "source": [
    "#### 랜덤 텐서"
   ]
  },
  {
   "cell_type": "code",
   "execution_count": 4,
   "id": "7ae79b8e",
   "metadata": {},
   "outputs": [
    {
     "name": "stdout",
     "output_type": "stream",
     "text": [
      "tf.Tensor(\n",
      "[[-0.2628064 ]\n",
      " [-0.0931951 ]\n",
      " [ 0.34620592]], shape=(3, 1), dtype=float32)\n"
     ]
    }
   ],
   "source": [
    "x = tf.random.normal(shape=(3, 1), mean=0., stddev=1.)\n",
    "print(x)"
   ]
  },
  {
   "cell_type": "code",
   "execution_count": 5,
   "id": "d48508d9",
   "metadata": {},
   "outputs": [
    {
     "name": "stdout",
     "output_type": "stream",
     "text": [
      "tf.Tensor(\n",
      "[[0.98940134]\n",
      " [0.30621648]\n",
      " [0.45006108]], shape=(3, 1), dtype=float32)\n"
     ]
    }
   ],
   "source": [
    "# 균일 분포(uniform distribution)에서 랜덤한 값들을 생성\n",
    "# 딥러닝 모델을 초기화하거나 랜덤한 텐서를 생성하는데 유용하게 사용\n",
    "x = tf.random.uniform(shape=(3, 1), minval=0., maxval=1.)\n",
    "print(x)"
   ]
  },
  {
   "cell_type": "markdown",
   "id": "f4761cc5",
   "metadata": {},
   "source": [
    "#### 넘파이 배열에 값 할당하기"
   ]
  },
  {
   "cell_type": "code",
   "execution_count": 6,
   "id": "717202df",
   "metadata": {},
   "outputs": [],
   "source": [
    "import numpy as np\n",
    "x = np.ones(shape=(2, 2))\n",
    "x[0, 0] = 0."
   ]
  },
  {
   "cell_type": "code",
   "execution_count": 7,
   "id": "bae8e20a",
   "metadata": {},
   "outputs": [
    {
     "data": {
      "text/plain": [
       "array([[0., 1.],\n",
       "       [1., 1.]])"
      ]
     },
     "execution_count": 7,
     "metadata": {},
     "output_type": "execute_result"
    }
   ],
   "source": [
    "x"
   ]
  },
  {
   "cell_type": "code",
   "execution_count": 8,
   "id": "6f2492cb",
   "metadata": {},
   "outputs": [
    {
     "ename": "TypeError",
     "evalue": "'tensorflow.python.framework.ops.EagerTensor' object does not support item assignment",
     "output_type": "error",
     "traceback": [
      "\u001b[1;31m---------------------------------------------------------------------------\u001b[0m",
      "\u001b[1;31mTypeError\u001b[0m                                 Traceback (most recent call last)",
      "\u001b[1;32m~\\AppData\\Local\\Temp\\ipykernel_6032\\1621347079.py\u001b[0m in \u001b[0;36m<module>\u001b[1;34m\u001b[0m\n\u001b[0;32m      1\u001b[0m \u001b[1;31m# 텐서플로우 텐서에 값을 할당하지 못함 -> 변수를 만들려면 랜덤 텐서와 같이 초깃값을 제공해야 함\u001b[0m\u001b[1;33m\u001b[0m\u001b[1;33m\u001b[0m\u001b[0m\n\u001b[0;32m      2\u001b[0m \u001b[0mx\u001b[0m \u001b[1;33m=\u001b[0m \u001b[0mtf\u001b[0m\u001b[1;33m.\u001b[0m\u001b[0mones\u001b[0m\u001b[1;33m(\u001b[0m\u001b[0mshape\u001b[0m\u001b[1;33m=\u001b[0m\u001b[1;33m(\u001b[0m\u001b[1;36m2\u001b[0m\u001b[1;33m,\u001b[0m \u001b[1;36m2\u001b[0m\u001b[1;33m)\u001b[0m\u001b[1;33m)\u001b[0m\u001b[1;33m\u001b[0m\u001b[1;33m\u001b[0m\u001b[0m\n\u001b[1;32m----> 3\u001b[1;33m \u001b[0mx\u001b[0m\u001b[1;33m[\u001b[0m\u001b[1;36m0\u001b[0m\u001b[1;33m,\u001b[0m\u001b[1;36m0\u001b[0m\u001b[1;33m]\u001b[0m \u001b[1;33m=\u001b[0m \u001b[1;36m0.\u001b[0m\u001b[1;33m\u001b[0m\u001b[1;33m\u001b[0m\u001b[0m\n\u001b[0m",
      "\u001b[1;31mTypeError\u001b[0m: 'tensorflow.python.framework.ops.EagerTensor' object does not support item assignment"
     ]
    }
   ],
   "source": [
    "# 텐서플로우 텐서에 값을 할당하지 못함 -> 변수를 만들려면 랜덤 텐서와 같이 초깃값을 제공해야 함\n",
    "x = tf.ones(shape=(2, 2))\n",
    "x[0,0] = 0."
   ]
  },
  {
   "cell_type": "markdown",
   "id": "62d8e4f1",
   "metadata": {},
   "source": [
    "#### 텐서플로 변수 만들기"
   ]
  },
  {
   "cell_type": "code",
   "execution_count": 11,
   "id": "39a07d78",
   "metadata": {},
   "outputs": [
    {
     "name": "stdout",
     "output_type": "stream",
     "text": [
      "<tf.Variable 'Variable:0' shape=(3, 1) dtype=float32, numpy=\n",
      "array([[ 0.80293554],\n",
      "       [-1.4916487 ],\n",
      "       [ 0.22535667]], dtype=float32)>\n"
     ]
    }
   ],
   "source": [
    "# tf.Variable은 수정 가능한 상태를 관리하기 위한 클래스\n",
    "import tensorflow as tf\n",
    "v = tf.Variable(initial_value=tf.random.normal(shape=(3, 1)))\n",
    "print(v)"
   ]
  },
  {
   "cell_type": "markdown",
   "id": "92133980",
   "metadata": {},
   "source": [
    "#### 텐서플로 변수에 값 할당하기"
   ]
  },
  {
   "cell_type": "code",
   "execution_count": 12,
   "id": "f846e23a",
   "metadata": {},
   "outputs": [
    {
     "data": {
      "text/plain": [
       "<tf.Variable 'UnreadVariable' shape=(3, 1) dtype=float32, numpy=\n",
       "array([[1.],\n",
       "       [1.],\n",
       "       [1.]], dtype=float32)>"
      ]
     },
     "execution_count": 12,
     "metadata": {},
     "output_type": "execute_result"
    }
   ],
   "source": [
    "v.assign(tf.ones((3, 1)))"
   ]
  },
  {
   "cell_type": "markdown",
   "id": "6ced975e",
   "metadata": {},
   "source": [
    "#### 변수 일부에 값 할당하기"
   ]
  },
  {
   "cell_type": "code",
   "execution_count": 13,
   "id": "4bf5790c",
   "metadata": {},
   "outputs": [
    {
     "data": {
      "text/plain": [
       "<tf.Variable 'UnreadVariable' shape=(3, 1) dtype=float32, numpy=\n",
       "array([[3.],\n",
       "       [1.],\n",
       "       [1.]], dtype=float32)>"
      ]
     },
     "execution_count": 13,
     "metadata": {},
     "output_type": "execute_result"
    }
   ],
   "source": [
    "v[0, 0].assign(3.)"
   ]
  },
  {
   "cell_type": "markdown",
   "id": "74277f14",
   "metadata": {},
   "source": [
    "#### assign_add 사용하기"
   ]
  },
  {
   "cell_type": "code",
   "execution_count": 14,
   "id": "e642f4d1",
   "metadata": {},
   "outputs": [
    {
     "data": {
      "text/plain": [
       "<tf.Variable 'UnreadVariable' shape=(3, 1) dtype=float32, numpy=\n",
       "array([[4.],\n",
       "       [2.],\n",
       "       [2.]], dtype=float32)>"
      ]
     },
     "execution_count": 14,
     "metadata": {},
     "output_type": "execute_result"
    }
   ],
   "source": [
    "# assign_add() : += 와 동일\n",
    "v.assign_add(tf.ones((3, 1)))"
   ]
  },
  {
   "cell_type": "markdown",
   "id": "219fbf32",
   "metadata": {},
   "source": [
    "### 텐서 연산: 텐서플로에서 수학 계산하기"
   ]
  },
  {
   "cell_type": "markdown",
   "id": "33db6ff2",
   "metadata": {},
   "source": [
    "#### 기본적인 수학 연산"
   ]
  },
  {
   "cell_type": "code",
   "execution_count": 15,
   "id": "e13ed8bc",
   "metadata": {},
   "outputs": [],
   "source": [
    "a = tf.ones((2, 2))\n",
    "b = tf.square(a)\n",
    "c = tf.sqrt(a)\n",
    "d = b + c\n",
    "e = tf.matmul(a, b)"
   ]
  },
  {
   "cell_type": "code",
   "execution_count": 16,
   "id": "8ea95593",
   "metadata": {},
   "outputs": [
    {
     "name": "stdout",
     "output_type": "stream",
     "text": [
      "tf.Tensor(\n",
      "[[1. 1.]\n",
      " [1. 1.]], shape=(2, 2), dtype=float32)\n",
      "tf.Tensor(\n",
      "[[1. 1.]\n",
      " [1. 1.]], shape=(2, 2), dtype=float32)\n",
      "tf.Tensor(\n",
      "[[1. 1.]\n",
      " [1. 1.]], shape=(2, 2), dtype=float32)\n",
      "tf.Tensor(\n",
      "[[2. 2.]\n",
      " [2. 2.]], shape=(2, 2), dtype=float32)\n",
      "tf.Tensor(\n",
      "[[2. 2.]\n",
      " [2. 2.]], shape=(2, 2), dtype=float32)\n",
      "tf.Tensor(\n",
      "[[4. 4.]\n",
      " [4. 4.]], shape=(2, 2), dtype=float32)\n"
     ]
    }
   ],
   "source": [
    "print(a)\n",
    "print(b)\n",
    "print(c)\n",
    "print(d)\n",
    "print(e)\n",
    "e *= d\n",
    "print(e)"
   ]
  },
  {
   "cell_type": "markdown",
   "id": "31b211ea",
   "metadata": {},
   "source": [
    "### GradientTape API 다시 살펴 보기\n",
    "GradientTape 사용하기\n",
    "- GradientTape은 TensorFlow의 핵심 기능 중 하나로, 자동 미분을 수행하기 위해 사용되는 도구입니다.\n",
    "- TensorFlow는 그래디언트(gradient)를 계산하는 데에 GradientTape을 활용하여 연산 과정을 기록"
   ]
  },
  {
   "cell_type": "code",
   "execution_count": 17,
   "id": "8e9e0e75",
   "metadata": {},
   "outputs": [],
   "source": [
    "# TensorFlow를 사용하여 변수 input_var의 제곱에 대한 그래디언트(기울기)를 계산\n",
    "# 'result'는 'input_var'의 제곱이므로, 이 미분값은 2 * input_var가 됩니다. input_var의 초기값이 3이므로, gradient는 6\n",
    "input_var = tf.Variable(initial_value=3.)\n",
    "# tf.GradientTape()를 사용하여 GradientTape 컨텍스트를 생성합니다. 이제부터 tape를 사용하여 연산을 기록\n",
    "with tf.GradientTape() as tape:\n",
    "   result = tf.square(input_var)\n",
    "gradient = tape.gradient(result, input_var) # tape.gradient()를 사용하여 result에 대한 input_var의 그래디언트를 계산"
   ]
  },
  {
   "cell_type": "code",
   "execution_count": 18,
   "id": "5a3a5172",
   "metadata": {},
   "outputs": [
    {
     "data": {
      "text/plain": [
       "<tf.Tensor: shape=(), dtype=float32, numpy=6.0>"
      ]
     },
     "execution_count": 18,
     "metadata": {},
     "output_type": "execute_result"
    }
   ],
   "source": [
    "gradient"
   ]
  },
  {
   "cell_type": "markdown",
   "id": "ad3ca9b6",
   "metadata": {},
   "source": [
    "#### 상수 입력 텐서와 함께 GradientTape 사용하기"
   ]
  },
  {
   "cell_type": "code",
   "execution_count": 19,
   "id": "0da5882b",
   "metadata": {},
   "outputs": [],
   "source": [
    "# 그래디언트를 계산하려면 미분 대상이 되는 텐서가 관찰 대상으로 지정되어야 하는데, TensorFlow 변수는\n",
    "# 기본적으로 자동으로 관찰 대상이 됩니다.\n",
    "# 그러나 상수나 일반 텐서는 그렇지 않기 때문에, 이들에 대해 그래디언트를 계산하려면 먼저 tape.watch() 함수를 사용하여\n",
    "# 그 텐서를 관찰 대상으로 지정\n",
    "input_const = tf.constant(3.)\n",
    "with tf.GradientTape() as tape:\n",
    "   tape.watch(input_const)\n",
    "   result = tf.square(input_const)\n",
    "gradient = tape.gradient(result, input_const) # 여기서 미분하는 것은 상수가 아니라 상수 값을 가진 텐서에 대한 함수"
   ]
  },
  {
   "cell_type": "code",
   "execution_count": 20,
   "id": "f217fbe0",
   "metadata": {},
   "outputs": [
    {
     "data": {
      "text/plain": [
       "<tf.Tensor: shape=(), dtype=float32, numpy=6.0>"
      ]
     },
     "execution_count": 20,
     "metadata": {},
     "output_type": "execute_result"
    }
   ],
   "source": [
    "gradient"
   ]
  },
  {
   "cell_type": "markdown",
   "id": "4228dc99",
   "metadata": {},
   "source": [
    "#### 물리학에서 위치, 속도, 그리고 가속도는 서로 미분과 적분을 통해 연결\n",
    "- 위치(position)는 시간에 대해 미분하면 속도(velocity)가 된다. 이는 위치가 시간에 따라 어떻게 변하는지를 나타내며, 이 변화율이 바로 속도이다. 즉, 위치의 그레디언트(미분값)는 속도이다.\n",
    "- 속도를 시간에 대해 미분하면 가속도(acceleration)가 된다. 속도가 시간에 따라 어떻게 변하는지를 나타내며, 이 변화율이 바로 가속도이다. 즉, 속도의 그레디언트(미분값)는 가속도이다.\n",
    "- 따라서, 위치의 두 번째 시간에 대한 미분값(이계도 그레디언트)은 가속도가 된다."
   ]
  },
  {
   "cell_type": "markdown",
   "id": "987805e5",
   "metadata": {},
   "source": [
    "#### 그레이디언트 테이프를 중첩하여 이계도 그레이디언트를 계산하기\n",
    "- TensorFlow를 사용하여 시간(time)에 따른 위치(position)와 속도(speed)의 변화를 모델링하고, 그에 대한 가속도(acceleration)를 계산하는 예시\n",
    "- 첫 번째 줄에서는 TensorFlow 변수 time을 생성하고, 초기값을 0.0으로 설정.\n",
    "- 두 번째 줄에서는 tf.GradientTape()를 사용하여 outer_tape라는 GradientTape 컨텍스트를 생성합니다. outer_tape를 사용하여 가속도에 대한 그래디언트를 계산.\n",
    "- 세 번째 줄에서는 inner_tape라는 또 다른 GradientTape 컨텍스트를 생성합니다. inner_tape를 사용하여 위치에 대한 그래디언트를 계산.\n",
    "- 네 번째 줄에서는 position 변수에 4.9 * time ** 2의 연산 결과를 할당합니다. 이 때, 이 연산은 inner_tape 컨텍스트 내에서 기록.\n",
    "- 다섯 번째 줄에서는 inner_tape.gradient()를 사용하여 position에 대한 time의 그래디언트를 계산합니다. 이를 통해 위치에 대한 시간의 변화율, 즉 속도를 구한다.\n",
    "- 여섯 번째 줄에서는 outer_tape.gradient()를 사용하여 speed에 대한 time의 그래디언트를 계산합니다. 이를 통해 속도에 대한 시간의 변화율, 즉 가속도를 구한다.\n",
    "\n",
    "따라서 acceleration에는 time에 대한 speed의 그래디언트가 저장된다. 결과적으로, 이 코드는 시간에 따른 위치를 모델링하고, 이를 기반으로 속도와 가속도를 계산한다. time 변수의 값이 변할 때 위치, 속도 및 가속도의 변화율을 계산하여 모델을 업데이트할 수 있다."
   ]
  },
  {
   "cell_type": "code",
   "execution_count": 21,
   "id": "141d36c4",
   "metadata": {},
   "outputs": [],
   "source": [
    "time = tf.Variable(0.)\n",
    "with tf.GradientTape() as outer_tape:\n",
    "    with tf.GradientTape() as inner_tape:\n",
    "        position =  4.9 * time ** 2\n",
    "    speed = inner_tape.gradient(position, time)\n",
    "acceleration = outer_tape.gradient(speed, time)"
   ]
  },
  {
   "cell_type": "code",
   "execution_count": 22,
   "id": "8c7e6975",
   "metadata": {},
   "outputs": [
    {
     "data": {
      "text/plain": [
       "<tf.Tensor: shape=(), dtype=float32, numpy=9.8>"
      ]
     },
     "execution_count": 22,
     "metadata": {},
     "output_type": "execute_result"
    }
   ],
   "source": [
    "acceleration"
   ]
  },
  {
   "cell_type": "markdown",
   "id": "1c6eed2b",
   "metadata": {},
   "source": [
    "### 엔드-투-엔드 예제: 텐서플로 선형 분류기"
   ]
  },
  {
   "cell_type": "markdown",
   "id": "a34ac9a8",
   "metadata": {},
   "source": [
    "#### 2D 평면에 두 클래스의 랜덤한 포인트 생성하기"
   ]
  },
  {
   "cell_type": "code",
   "execution_count": 23,
   "id": "bbc4a14c",
   "metadata": {},
   "outputs": [],
   "source": [
    "import numpy as np\n",
    "num_samples_per_class = 1000\n",
    "negative_samples = np.random.multivariate_normal(\n",
    "    mean=[0, 3],\n",
    "    cov=[[1, 0.5],[0.5, 1]],\n",
    "    size=num_samples_per_class)\n",
    "positive_samples = np.random.multivariate_normal(\n",
    "    mean=[3, 0],\n",
    "    cov=[[1, 0.5],[0.5, 1]],\n",
    "    size=num_samples_per_class)"
   ]
  },
  {
   "cell_type": "markdown",
   "id": "d9f4b736",
   "metadata": {},
   "source": [
    "#### 두 클래스를 (2000, 2) 크기의 한 배열로 쌓기"
   ]
  },
  {
   "cell_type": "code",
   "execution_count": 24,
   "id": "0cd02b5c",
   "metadata": {},
   "outputs": [
    {
     "data": {
      "text/plain": [
       "array([[ 0.05313809,  1.39625   ],\n",
       "       [-0.13037917,  2.507683  ],\n",
       "       [-1.4803158 ,  3.4980962 ],\n",
       "       ...,\n",
       "       [ 2.458999  , -2.0083783 ],\n",
       "       [ 2.3103325 ,  0.7606374 ],\n",
       "       [ 4.4366155 ,  0.9421534 ]], dtype=float32)"
      ]
     },
     "execution_count": 24,
     "metadata": {},
     "output_type": "execute_result"
    }
   ],
   "source": [
    "# np.vstack() 함수는 주어진 배열들을 수직으로 쌓아 하나의 배열로 합친다.\n",
    "inputs = np.vstack((negative_samples, positive_samples)).astype(np.float32)\n",
    "inputs"
   ]
  },
  {
   "cell_type": "markdown",
   "id": "6703be26",
   "metadata": {},
   "source": [
    "#### (0과 1로 구성된) 타깃 생성하기"
   ]
  },
  {
   "cell_type": "code",
   "execution_count": 25,
   "id": "23637d6f",
   "metadata": {},
   "outputs": [],
   "source": [
    "targets = np.vstack((np.zeros((num_samples_per_class, 1), dtype=\"float32\"),\n",
    "                     np.ones((num_samples_per_class, 1), dtype=\"float32\")))"
   ]
  },
  {
   "cell_type": "code",
   "execution_count": 26,
   "id": "66a0d57e",
   "metadata": {},
   "outputs": [
    {
     "data": {
      "text/plain": [
       "array([[0.],\n",
       "       [0.],\n",
       "       [0.],\n",
       "       ...,\n",
       "       [1.],\n",
       "       [1.],\n",
       "       [1.]], dtype=float32)"
      ]
     },
     "execution_count": 26,
     "metadata": {},
     "output_type": "execute_result"
    }
   ],
   "source": [
    "targets"
   ]
  },
  {
   "cell_type": "markdown",
   "id": "c2e2c1f5",
   "metadata": {},
   "source": [
    "#### 두 클래스의 포인트를 그래프로 그리기"
   ]
  },
  {
   "cell_type": "code",
   "execution_count": 27,
   "id": "972c0e09",
   "metadata": {},
   "outputs": [
    {
     "data": {
      "image/png": "[encoded data removed]",
      "text/plain": [
       "<Figure size 640x480 with 1 Axes>"
      ]
     },
     "metadata": {},
     "output_type": "display_data"
    }
   ],
   "source": [
    "import matplotlib.pyplot as plt\n",
    "plt.scatter(inputs[:, 0], inputs[:, 1], c=targets[:, 0]) # targets 배열의 첫 번째 열의 값에 따라 데이터 포인트의 색상을 지정\n",
    "plt.show()"
   ]
  },
  {
   "cell_type": "markdown",
   "id": "8fff2911",
   "metadata": {},
   "source": [
    "#### 선형 분류기의 변수 만들기"
   ]
  },
  {
   "cell_type": "code",
   "execution_count": 28,
   "id": "12690a88",
   "metadata": {},
   "outputs": [],
   "source": [
    "input_dim = 2\n",
    "output_dim = 1\n",
    "W = tf.Variable(initial_value=tf.random.uniform(shape=(input_dim, output_dim)))\n",
    "b = tf.Variable(initial_value=tf.zeros(shape=(output_dim,)))"
   ]
  },
  {
   "cell_type": "code",
   "execution_count": 29,
   "id": "c064fddd",
   "metadata": {},
   "outputs": [
    {
     "data": {
      "text/plain": [
       "<tf.Variable 'Variable:0' shape=(1,) dtype=float32, numpy=array([0.], dtype=float32)>"
      ]
     },
     "execution_count": 29,
     "metadata": {},
     "output_type": "execute_result"
    }
   ],
   "source": [
    "b"
   ]
  },
  {
   "cell_type": "markdown",
   "id": "d5dc3fca",
   "metadata": {},
   "source": [
    "#### 정방향 패스 함수"
   ]
  },
  {
   "cell_type": "code",
   "execution_count": 30,
   "id": "a748f77e",
   "metadata": {},
   "outputs": [],
   "source": [
    "def model(inputs):\n",
    "    return tf.matmul(inputs, W) + b"
   ]
  },
  {
   "cell_type": "markdown",
   "id": "4b027cdd",
   "metadata": {},
   "source": [
    "#### 평균 제곱 오차 손실 함수"
   ]
  },
  {
   "cell_type": "code",
   "execution_count": 31,
   "id": "570aa22c",
   "metadata": {},
   "outputs": [],
   "source": [
    "def square_loss(targets, predictions):\n",
    "    per_sample_losses = tf.square(targets - predictions)\n",
    "    return tf.reduce_mean(per_sample_losses)"
   ]
  },
  {
   "cell_type": "markdown",
   "id": "ec2473db",
   "metadata": {},
   "source": [
    "#### 훈련 스텝 함수"
   ]
  },
  {
   "cell_type": "code",
   "execution_count": 32,
   "id": "e63c0407",
   "metadata": {},
   "outputs": [],
   "source": [
    "learning_rate = 0.1\n",
    "\n",
    "def training_step(inputs, targets):\n",
    "    with tf.GradientTape() as tape:\n",
    "        predictions = model(inputs)\n",
    "        loss = square_loss(targets, predictions)\n",
    "    grad_loss_wrt_W, grad_loss_wrt_b = tape.gradient(loss, [W, b])\n",
    "    W.assign_sub(grad_loss_wrt_W * learning_rate)\n",
    "    b.assign_sub(grad_loss_wrt_b * learning_rate)\n",
    "    return loss"
   ]
  },
  {
   "cell_type": "markdown",
   "id": "8ab937e4",
   "metadata": {},
   "source": [
    "#### 배치 훈련 루프"
   ]
  },
  {
   "cell_type": "code",
   "execution_count": 33,
   "id": "2f59e648",
   "metadata": {},
   "outputs": [
    {
     "name": "stdout",
     "output_type": "stream",
     "text": [
      "0번째 스텝의 손실: 6.0694\n",
      "1번째 스텝의 손실: 0.8584\n",
      "2번째 스텝의 손실: 0.2487\n",
      "3번째 스텝의 손실: 0.1639\n",
      "4번째 스텝의 손실: 0.1439\n",
      "5번째 스텝의 손실: 0.1325\n",
      "6번째 스텝의 손실: 0.1231\n",
      "7번째 스텝의 손실: 0.1145\n",
      "8번째 스텝의 손실: 0.1067\n",
      "9번째 스텝의 손실: 0.0996\n",
      "10번째 스텝의 손실: 0.0930\n",
      "11번째 스텝의 손실: 0.0871\n",
      "12번째 스텝의 손실: 0.0817\n",
      "13번째 스텝의 손실: 0.0767\n",
      "14번째 스텝의 손실: 0.0722\n",
      "15번째 스텝의 손실: 0.0681\n",
      "16번째 스텝의 손실: 0.0643\n",
      "17번째 스텝의 손실: 0.0609\n",
      "18번째 스텝의 손실: 0.0577\n",
      "19번째 스텝의 손실: 0.0548\n",
      "20번째 스텝의 손실: 0.0522\n",
      "21번째 스텝의 손실: 0.0498\n",
      "22번째 스텝의 손실: 0.0476\n",
      "23번째 스텝의 손실: 0.0456\n",
      "24번째 스텝의 손실: 0.0438\n",
      "25번째 스텝의 손실: 0.0421\n",
      "26번째 스텝의 손실: 0.0406\n",
      "27번째 스텝의 손실: 0.0392\n",
      "28번째 스텝의 손실: 0.0380\n",
      "29번째 스텝의 손실: 0.0368\n",
      "30번째 스텝의 손실: 0.0358\n",
      "31번째 스텝의 손실: 0.0348\n",
      "32번째 스텝의 손실: 0.0339\n",
      "33번째 스텝의 손실: 0.0331\n",
      "34번째 스텝의 손실: 0.0324\n",
      "35번째 스텝의 손실: 0.0317\n",
      "36번째 스텝의 손실: 0.0311\n",
      "37번째 스텝의 손실: 0.0305\n",
      "38번째 스텝의 손실: 0.0300\n",
      "39번째 스텝의 손실: 0.0295\n"
     ]
    }
   ],
   "source": [
    "for step in range(40):\n",
    "    loss = training_step(inputs, targets)\n",
    "    print(f\"{step}번째 스텝의 손실: {loss:.4f}\")"
   ]
  },
  {
   "cell_type": "code",
   "execution_count": 34,
   "id": "cc16a249",
   "metadata": {},
   "outputs": [
    {
     "data": {
      "image/png": "[encoded data removed]",
      "text/plain": [
       "<Figure size 640x480 with 1 Axes>"
      ]
     },
     "metadata": {},
     "output_type": "display_data"
    }
   ],
   "source": [
    "predictions = model(inputs)\n",
    "plt.scatter(inputs[:, 0], inputs[:, 1], c=predictions[:, 0] > 0.5)\n",
    "# 불린 배열은 색상 맵(color map)을 사용하여 색상으로 변환되며, 결과적으로 이는 모델의 예측 값이 0.5보다\n",
    "# 큰 샘플과 작은 샘플을 다른 색으로 표시\n",
    "plt.show()"
   ]
  },
  {
   "cell_type": "code",
   "execution_count": 35,
   "id": "d3f1da34",
   "metadata": {},
   "outputs": [
    {
     "data": {
      "image/png": "[encoded data removed]",
      "text/plain": [
       "<Figure size 640x480 with 1 Axes>"
      ]
     },
     "metadata": {},
     "output_type": "display_data"
    }
   ],
   "source": [
    "x = np.linspace(-1, 4, 100) # -1에서 4까지의 범위에서 균일하게 간격을 둔 100개의 숫자를 생성\n",
    "# 사실 100개의 x 축 좌표를 만들 필요 없이 시작과 종료 위치만 있어도 됩니다.\n",
    "# x = [-1, 4]\n",
    "# 생성한 x값에 대한 결정 경계의 y좌표를 계산\n",
    "#  W[0] / W[1] * x 부분은 입력 데이터의 첫 번째 특성(x좌표)에 대한 가중치와 두 번째 특성(y좌표)에 대한 가중치의 비율\n",
    "# (0.5 - b) / W[1] 부분은 결정 경계가 y축을 어디에서 절편하는지를 결정\n",
    "y = - W[0] /  W[1] * x + (0.5 - b) / W[1] # W는 분류기의 가중치이고, b는 편향입니다.\n",
    "plt.plot(x, y, \"-r\")\n",
    "plt.scatter(inputs[:, 0], inputs[:, 1], c=predictions[:, 0] > 0.5)\n",
    "plt.show()"
   ]
  },
  {
   "cell_type": "markdown",
   "id": "234269af",
   "metadata": {},
   "source": [
    "##### 과제_0703: 핵심 Keras API 이해하기 내용을 코드로 작성하고 설명해보세요."
   ]
  },
  {
   "cell_type": "markdown",
   "id": "bfcf6a9a",
   "metadata": {},
   "source": [
    "## 층: 딥러닝의 구성 요소"
   ]
  },
  {
   "cell_type": "markdown",
   "id": "e81c504a",
   "metadata": {},
   "source": [
    "### 케라스의 Layer 클래스"
   ]
  },
  {
   "cell_type": "markdown",
   "id": "d08866ff",
   "metadata": {},
   "source": [
    "#### Layer의 서브클래스로 구현한 Dense 층"
   ]
  },
  {
   "cell_type": "code",
   "execution_count": 36,
   "id": "72a47947",
   "metadata": {},
   "outputs": [],
   "source": [
    "from tensorflow import keras\n",
    "\n",
    "class SimpleDense(keras.layers.Layer):\n",
    "\n",
    "    def __init__(self, units, activation=None):\n",
    "        super().__init__()\n",
    "        self.units = units\n",
    "        self.activation = activation\n",
    "\n",
    "    def build(self, input_shape):\n",
    "        input_dim = input_shape[-1]\n",
    "        self.W = self.add_weight(shape=(input_dim, self.units),\n",
    "                                 initializer=\"random_normal\")\n",
    "        self.b = self.add_weight(shape=(self.units,),\n",
    "                                 initializer=\"zeros\")\n",
    "\n",
    "    def call(self, inputs):\n",
    "        y = tf.matmul(inputs, self.W) + self.b\n",
    "        if self.activation is not None:\n",
    "            y = self.activation(y)\n",
    "        return y\n"
   ]
  },
  {
   "cell_type": "code",
   "execution_count": 37,
   "id": "5b5d1fda",
   "metadata": {},
   "outputs": [
    {
     "name": "stdout",
     "output_type": "stream",
     "text": [
      "(2, 32)\n"
     ]
    }
   ],
   "source": [
    "my_dense = SimpleDense(units=32, activation=tf.nn.relu)\n",
    "input_tensor = tf.ones(shape=(2, 784))\n",
    "output_tensor = my_dense(input_tensor)\n",
    "print(output_tensor.shape)"
   ]
  },
  {
   "cell_type": "markdown",
   "id": "0300d802",
   "metadata": {},
   "source": [
    "#### 자동 크기 추론: 동적으로 층 만들기"
   ]
  },
  {
   "cell_type": "code",
   "execution_count": 38,
   "id": "1ba8e388",
   "metadata": {},
   "outputs": [],
   "source": [
    "from tensorflow.keras import layers\n",
    "layer = layers.Dense(32, activation=\"relu\")"
   ]
  },
  {
   "cell_type": "code",
   "execution_count": 39,
   "id": "f59fd310",
   "metadata": {},
   "outputs": [],
   "source": [
    "from tensorflow.keras import models\n",
    "from tensorflow.keras import layers\n",
    "model = models.Sequential([\n",
    "    layers.Dense(32, activation=\"relu\"),\n",
    "    layers.Dense(32)\n",
    "])"
   ]
  },
  {
   "cell_type": "code",
   "execution_count": 40,
   "id": "78bd2b04",
   "metadata": {},
   "outputs": [],
   "source": [
    "model = keras.Sequential([\n",
    "    SimpleDense(32, activation=\"relu\"),\n",
    "    SimpleDense(64, activation=\"relu\"),\n",
    "    SimpleDense(32, activation=\"relu\"),\n",
    "    SimpleDense(10, activation=\"softmax\")\n",
    "])"
   ]
  },
  {
   "cell_type": "markdown",
   "id": "9880d076",
   "metadata": {},
   "source": [
    "## 층에서 모델로"
   ]
  },
  {
   "cell_type": "markdown",
   "id": "00feda4c",
   "metadata": {},
   "source": [
    "## “컴파일” 단계: 학습 과정 설정"
   ]
  },
  {
   "cell_type": "code",
   "execution_count": 41,
   "id": "19474cb0",
   "metadata": {},
   "outputs": [],
   "source": [
    "model = keras.Sequential([keras.layers.Dense(1)])\n",
    "model.compile(optimizer=\"rmsprop\",\n",
    "              loss=\"mean_squared_error\",\n",
    "              metrics=[\"accuracy\"])"
   ]
  },
  {
   "cell_type": "code",
   "execution_count": 42,
   "id": "b16c38d0",
   "metadata": {},
   "outputs": [],
   "source": [
    "# 매개변수를 인스턴스 객체로 지정할 수도 있음\n",
    "model.compile(optimizer=keras.optimizers.RMSprop(),\n",
    "              loss=keras.losses.MeanSquaredError(),\n",
    "              metrics=[keras.metrics.BinaryAccuracy()])"
   ]
  },
  {
   "cell_type": "markdown",
   "id": "2ca23dbb",
   "metadata": {},
   "source": [
    "### 손실 함수 선택하기"
   ]
  },
  {
   "cell_type": "markdown",
   "id": "cebf0dcb",
   "metadata": {},
   "source": [
    "### fit() 메서드 이해하기"
   ]
  },
  {
   "cell_type": "markdown",
   "id": "67112e23",
   "metadata": {},
   "source": [
    "#### 넘파이 데이터로 fit() 메서드 호출하기"
   ]
  },
  {
   "cell_type": "code",
   "execution_count": 43,
   "id": "67b47ef5",
   "metadata": {},
   "outputs": [
    {
     "name": "stdout",
     "output_type": "stream",
     "text": [
      "Epoch 1/5\n",
      "16/16 [==============================] - 0s 1ms/step - loss: 13.2105 - binary_accuracy: 0.0425\n",
      "Epoch 2/5\n",
      "16/16 [==============================] - 0s 1ms/step - loss: 12.7726 - binary_accuracy: 0.0435\n",
      "Epoch 3/5\n",
      "16/16 [==============================] - 0s 1ms/step - loss: 12.3956 - binary_accuracy: 0.0450\n",
      "Epoch 4/5\n",
      "16/16 [==============================] - 0s 1ms/step - loss: 12.0339 - binary_accuracy: 0.0455\n",
      "Epoch 5/5\n",
      "16/16 [==============================] - 0s 1ms/step - loss: 11.6795 - binary_accuracy: 0.0465\n"
     ]
    }
   ],
   "source": [
    "history = model.fit(\n",
    "    inputs,\n",
    "    targets,\n",
    "    epochs=5,\n",
    "    batch_size=128\n",
    ")"
   ]
  },
  {
   "cell_type": "code",
   "execution_count": 44,
   "id": "0ef32a06",
   "metadata": {},
   "outputs": [
    {
     "data": {
      "text/plain": [
       "{'loss': [13.210466384887695,\n",
       "  12.772619247436523,\n",
       "  12.395627975463867,\n",
       "  12.033933639526367,\n",
       "  11.679484367370605],\n",
       " 'binary_accuracy': [0.042500000447034836,\n",
       "  0.04349999874830246,\n",
       "  0.04500000178813934,\n",
       "  0.045499999076128006,\n",
       "  0.04650000110268593]}"
      ]
     },
     "execution_count": 44,
     "metadata": {},
     "output_type": "execute_result"
    }
   ],
   "source": [
    "history.history"
   ]
  },
  {
   "cell_type": "markdown",
   "id": "a3e5bb8c",
   "metadata": {},
   "source": [
    "### 검증 데이터에서 손실과 측정 지표 모니터링하기"
   ]
  },
  {
   "cell_type": "markdown",
   "id": "452c2d6d",
   "metadata": {},
   "source": [
    "#### validation_data 매개변수 사용하기"
   ]
  },
  {
   "cell_type": "code",
   "execution_count": 45,
   "id": "119ae4b9",
   "metadata": {},
   "outputs": [
    {
     "name": "stdout",
     "output_type": "stream",
     "text": [
      "Epoch 1/5\n",
      "88/88 [==============================] - 0s 3ms/step - loss: 0.1651 - binary_accuracy: 0.9407 - val_loss: 0.0312 - val_binary_accuracy: 1.0000\n",
      "Epoch 2/5\n",
      "88/88 [==============================] - 0s 1ms/step - loss: 0.0723 - binary_accuracy: 0.9571 - val_loss: 0.0348 - val_binary_accuracy: 0.9967\n",
      "Epoch 3/5\n",
      "88/88 [==============================] - 0s 1ms/step - loss: 0.0706 - binary_accuracy: 0.9571 - val_loss: 0.1320 - val_binary_accuracy: 0.9583\n",
      "Epoch 4/5\n",
      "88/88 [==============================] - 0s 1ms/step - loss: 0.0730 - binary_accuracy: 0.9479 - val_loss: 0.1228 - val_binary_accuracy: 0.9550\n",
      "Epoch 5/5\n",
      "88/88 [==============================] - 0s 2ms/step - loss: 0.0680 - binary_accuracy: 0.9614 - val_loss: 0.0539 - val_binary_accuracy: 0.9883\n"
     ]
    },
    {
     "data": {
      "text/plain": [
       "<keras.src.callbacks.History at 0x1c5a4033160>"
      ]
     },
     "execution_count": 45,
     "metadata": {},
     "output_type": "execute_result"
    }
   ],
   "source": [
    "model = keras.Sequential([keras.layers.Dense(1)])\n",
    "model.compile(optimizer=keras.optimizers.RMSprop(learning_rate=0.1),\n",
    "              loss=keras.losses.MeanSquaredError(),\n",
    "              metrics=[keras.metrics.BinaryAccuracy()])\n",
    " # 입력 배열의 길이(len(inputs))에 해당하는 정수들의 무작위 순열(permutation)을 생성\n",
    "indices_permutation = np.random.permutation(len(inputs))\n",
    "shuffled_inputs = inputs[indices_permutation]\n",
    "shuffled_targets = targets[indices_permutation]\n",
    "\n",
    "num_validation_samples = int(0.3 * len(inputs))\n",
    "val_inputs = shuffled_inputs[:num_validation_samples]\n",
    "val_targets = shuffled_targets[:num_validation_samples]\n",
    "training_inputs = shuffled_inputs[num_validation_samples:]\n",
    "training_targets = shuffled_targets[num_validation_samples:]\n",
    "model.fit(\n",
    "    training_inputs,\n",
    "    training_targets,\n",
    "    epochs=5,\n",
    "    batch_size=16,\n",
    "    validation_data=(val_inputs, val_targets)\n",
    ")"
   ]
  },
  {
   "cell_type": "markdown",
   "id": "c53e5533",
   "metadata": {},
   "source": [
    "### 추론: 훈련한 모델 사용하기"
   ]
  },
  {
   "cell_type": "code",
   "execution_count": 46,
   "id": "9777487f",
   "metadata": {},
   "outputs": [
    {
     "name": "stdout",
     "output_type": "stream",
     "text": [
      "5/5 [==============================] - 0s 1ms/step\n",
      "[[ 0.63558245]\n",
      " [ 0.7283013 ]\n",
      " [-0.28070498]\n",
      " [-0.04658329]\n",
      " [-0.41041875]\n",
      " [ 0.13289025]\n",
      " [-0.12058145]\n",
      " [ 0.83563954]\n",
      " [ 1.0350287 ]\n",
      " [-0.1806544 ]]\n"
     ]
    }
   ],
   "source": [
    "predictions = model.predict(val_inputs, batch_size=128)\n",
    "print(predictions[:10])"
   ]
  },
  {
   "cell_type": "markdown",
   "id": "370e69b4",
   "metadata": {},
   "source": [
    "## 요약"
   ]
  }
 ],
 "metadata": {
  "kernelspec": {
   "display_name": "Python 3 (ipykernel)",
   "language": "python",
   "name": "python3"
  },
  "language_info": {
   "codemirror_mode": {
    "name": "ipython",
    "version": 3
   },
   "file_extension": ".py",
   "mimetype": "text/x-python",
   "name": "python",
   "nbconvert_exporter": "python",
   "pygments_lexer": "ipython3",
   "version": "3.9.13"
  }
 },
 "nbformat": 4,
 "nbformat_minor": 5
}
