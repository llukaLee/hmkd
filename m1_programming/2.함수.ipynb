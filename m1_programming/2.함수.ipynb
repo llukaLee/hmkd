{
 "cells": [
  {
   "cell_type": "markdown",
   "id": "201dddaf",
   "metadata": {},
   "source": [
    "# 함수"
   ]
  },
  {
   "cell_type": "markdown",
   "id": "86027bcf",
   "metadata": {},
   "source": [
    "#### 함수\n",
    "- 특정 목적을 가진 독립된 코드 집합\n",
    "  - 두 수를 입력받아 더한 값을 계산하는 코드\n",
    "  - 더한 값을 계산하는 코드가 프로그램 여러 곳에서 사용된다고 할 때 이 부분만을 따로 구성하여 재사용하면 효율화할 수 있음\n",
    "- 사용자 함수는 def로 시작하여 정의"
   ]
  },
  {
   "cell_type": "code",
   "execution_count": null,
   "id": "aeb2a776",
   "metadata": {},
   "outputs": [],
   "source": [
    "def add_number(n1,n2):\n",
    "    ret = n1+n2\n",
    "    return ret\n",
    "\n",
    "def add_txt(t1,t2):\n",
    "    print(t1,t2)\n",
    "    \n",
    "ans1 = add_number(10,15)\n",
    "print(ans1)    # 25가 출력\n",
    "ans2 = add_number(20, 25)\n",
    "print(ans2)\n",
    "text1 = '대한민국~'\n",
    "text2 = '만세!!'\n",
    "add_txt(text1, text2)    # '대한민국~만세!!'가 출력됨"
   ]
  },
  {
   "cell_type": "code",
   "execution_count": null,
   "id": "10914802",
   "metadata": {},
   "outputs": [],
   "source": [
    "# 함수 인자 : 기본적으로 인자 순서에 대응되는 값을 함수 코드에 대입\n",
    "def add_txt(t1, t2='파이썬'): # t2 기본값을 대입한 기본 인자는 마지막에 위채해야함\n",
    "    print(t1 + ' : ' +t2)\n",
    "    \n",
    "add_txt('베스트')                        # '베스트' : 파이썬'이 출력됨. t1은 베스트, t2는 기본값이 대입\n",
    "add_txt(t2 = '대한민국', t1 = '1등')    # '1등 : 대한민국'이 출력됨. 키워드 인자에 의한 값 전달. 인자의 순서는 무시\n",
    "\n",
    "def func1(*args): # 인자의 개수가 불명확한 경우 가변 인자 사용. args는 함수 내부에서 튜플로 처리\n",
    "    print(args)\n",
    "    \n",
    "def func2(width, heigh, **kwargs): # 키워드 인자가 불명확한 경우 **kwargs를 사용. 함수 내부에서 사전으로 처리\n",
    "    print(kwargs)\n",
    "    \n",
    "func1()          # 빈 튜플 ( )이 출력됨\n",
    "func1(3,5,1,5,8) # (3,5,1,5,8)가 출력됨\n",
    "func2(10,20)     # 빈 사진 {}이 출력됨\n",
    "func2(10,20, deppth=50, color='blue') #{ 'depth' : 50, 'color' : 'blue'}이 출력됨"
   ]
  },
  {
   "cell_type": "markdown",
   "id": "f52c4d86",
   "metadata": {},
   "source": [
    "인자와 리턴값 여부에 따른 함수 유형"
   ]
  },
  {
   "cell_type": "code",
   "execution_count": null,
   "id": "f70ea5b7",
   "metadata": {},
   "outputs": [],
   "source": [
    "#입력값이 없고 결과값만 있는 함수\n",
    "def say():\n",
    "    return 'HI!'\n",
    "\n",
    "a = say()\n",
    "print(a)"
   ]
  },
  {
   "cell_type": "code",
   "execution_count": null,
   "id": "e3a2b8c5",
   "metadata": {},
   "outputs": [],
   "source": [
    "#입력값은 있고 결과값이 없는 함수\n",
    "def add(a,b):\n",
    "    print(f'{a}, {b}의 합은 {a+b}입니다.')\n",
    "\n",
    "add(3,4)\n",
    "#a = add(3,4)\n",
    "#print(a)"
   ]
  },
  {
   "cell_type": "code",
   "execution_count": null,
   "id": "8db9f47b",
   "metadata": {},
   "outputs": [],
   "source": [
    "# 입력값도 결과값도 없는 함수\n",
    "def say():\n",
    "    print('Hi')\n",
    "say()"
   ]
  },
  {
   "cell_type": "code",
   "execution_count": null,
   "id": "204aba34",
   "metadata": {},
   "outputs": [],
   "source": [
    "# 입력값, 결과값이 모두 있는 함수\n",
    "def max(a,b,c):\n",
    "    if a>b:\n",
    "        if a>c:\n",
    "            return a\n",
    "        elif a<c:\n",
    "            return c\n",
    "    if a<b:\n",
    "        if b>c:\n",
    "            return b\n",
    "        else:\n",
    "            return c\n",
    "        \n",
    "# print(\"가장 큰 수는 %d 입니다.\" %(max(20,1,30)))        \n",
    "max(10,20,30)"
   ]
  },
  {
   "cell_type": "code",
   "execution_count": null,
   "id": "7c3a0c14",
   "metadata": {},
   "outputs": [],
   "source": [
    "# 여러 개의 입력값을 받는 함수 만들기\n",
    "# *args 처럼 입력 변수명 앞에 *를 붙이면 입력값들을 전부 모아서 튜플로 만들어 줌\n",
    "\n",
    "def add_many(*args):\n",
    "    add=0\n",
    "    for i in args:\n",
    "        add += i\n",
    "    return add\n",
    "add_many(1,2,3,4,5,6,7,8,9,10)"
   ]
  },
  {
   "cell_type": "code",
   "execution_count": null,
   "id": "16663f73",
   "metadata": {},
   "outputs": [],
   "source": [
    "# 함수의 반환 값은 언제나 하나 - 결과 값으로 튜플 값 하나를 갖게 됨\n",
    "def add_and_mul(a,b):\n",
    "    return a+b, a*b\n",
    "\n",
    "result = add_and_mul(3,4)\n",
    "print(result)"
   ]
  },
  {
   "cell_type": "markdown",
   "id": "443bd1ed",
   "metadata": {},
   "source": [
    "#### [문제] add_mul() 함수를 정의하여 1,2,3,4,5를 입력 값으로 적용하여 덧셈, 곱셈 연산을 수행하세요."
   ]
  },
  {
   "cell_type": "code",
   "execution_count": null,
   "id": "ed5610e9",
   "metadata": {},
   "outputs": [],
   "source": [
    "def add_mul(choice, *args):\n",
    "    if choice == '+':\n",
    "        result = 0\n",
    "        for i in args:\n",
    "            result += i\n",
    "        return result        \n",
    "    elif choice == '*':\n",
    "        result = 1\n",
    "        for i in args:\n",
    "            result *= i\n",
    "        return result\n",
    "    else:\n",
    "        print('수행할 수 없는 연산입니다.')\n",
    "\n",
    "add_mul('+', 1,2,3,4,5)\n",
    "add_mul('*', 1,2,3,4,5)"
   ]
  },
  {
   "cell_type": "code",
   "execution_count": null,
   "id": "d6e3b053",
   "metadata": {},
   "outputs": [],
   "source": [
    "### [문제] 뻴셈, 나눗셈 멀티 계산 함수를 작성\n",
    "### ('sub', 2,4,6,8,10)\n",
    "### ('div', 2,4,6,8,10)"
   ]
  },
  {
   "cell_type": "markdown",
   "id": "3c04b58e",
   "metadata": {},
   "source": [
    "#### 지역변수와 전역변수\n",
    "- 지역변수는 함수 내부에서만 유효하고 \n",
    "- 전역변수는 코드 전반에 걸쳐 유효\n",
    "- 함수의 인자는 지역변수"
   ]
  },
  {
   "cell_type": "code",
   "execution_count": null,
   "id": "9582aa48",
   "metadata": {},
   "outputs": [],
   "source": [
    "strdata = '전역변수'\n",
    "\n",
    "def func1():\n",
    "    strdata = '지역변수'\n",
    "    print(strdata)\n",
    "    \n",
    "func1()            # '지역변수'가 출력됨"
   ]
  },
  {
   "cell_type": "code",
   "execution_count": null,
   "id": "c28311c9",
   "metadata": {},
   "outputs": [],
   "source": [
    "print(strdata)     # '전역변수'가 출력됨"
   ]
  },
  {
   "cell_type": "code",
   "execution_count": null,
   "id": "d6e4980e",
   "metadata": {},
   "outputs": [],
   "source": [
    "param = 10\n",
    "def func2(param):\n",
    "    param = 1\n",
    "    \n",
    "print(param)       #  전역변수 10이 출력됨"
   ]
  },
  {
   "cell_type": "code",
   "execution_count": null,
   "id": "579c694d",
   "metadata": {},
   "outputs": [],
   "source": [
    "param = 10\n",
    "def func3():\n",
    "    global param  # 함수 내부에서 전역변수를 사용하려면 'global' 키워드를 이용해 전역변수를 사용한다고\n",
    "    param = 50\n",
    "func3()\n",
    "print(param)       # 50이 출력됨"
   ]
  },
  {
   "cell_type": "code",
   "execution_count": null,
   "id": "3534e32a",
   "metadata": {},
   "outputs": [],
   "source": [
    "param = 10\n",
    "strdata = '전역변수'\n",
    "\n",
    "def func1():\n",
    "    strdata = '지역변수'\n",
    "    print (strdata)\n",
    "    \n",
    "def func2(param):\n",
    "    param = 1\n",
    "    \n",
    "def func3():\n",
    "    global param\n",
    "    param = 50\n",
    "    \n",
    "func1()          # '지역변수'가 출력\n",
    "print(strdata)   # '전역변수'가 출력\n",
    "print(param)     # 10이 출력\n",
    "func2(param)     #\n",
    "print(param)     # 10이 출력\n",
    "func3()          #\n",
    "print(param)     # 50이 출력"
   ]
  },
  {
   "cell_type": "code",
   "execution_count": null,
   "id": "53a18aab",
   "metadata": {},
   "outputs": [],
   "source": [
    "# 함수 안에서 선언된 변수의 효력 범위\n",
    "a = 1\n",
    "def vartest(a):\n",
    "    a = a + 1\n",
    "    \n",
    "print(vartest(a))\n",
    "print(a)"
   ]
  },
  {
   "cell_type": "markdown",
   "id": "e8edfcbf",
   "metadata": {},
   "source": [
    "## return & global"
   ]
  },
  {
   "cell_type": "code",
   "execution_count": null,
   "id": "8fbe6a90",
   "metadata": {},
   "outputs": [],
   "source": [
    "# 함수 안에서 함수 밖의 변수를 변경하는 방법 - return 이용\n",
    "a = 1\n",
    "def vartest(a):\n",
    "    a = a + 1\n",
    "    return a\n",
    "a = vartest(a)\n",
    "print(a)"
   ]
  },
  {
   "cell_type": "code",
   "execution_count": null,
   "id": "37d79a97",
   "metadata": {},
   "outputs": [],
   "source": [
    "# global 명령을 이용하는 방법\n",
    "a = 1\n",
    "def vartest():\n",
    "    global a\n",
    "    a = a + 1\n",
    "    \n",
    "vartest()\n",
    "print(a)"
   ]
  },
  {
   "cell_type": "markdown",
   "id": "2dc38fab",
   "metadata": {},
   "source": [
    "#### 함수 리턴값 : return\n",
    "- 함수는 한 개 이상의 값을 리턴할 수 있으며 리턴값이 없을 수도 있다.\n",
    "- 리턴 값이 여러 개인 경우에는 튜플로 리턴값을 만들어 리턴"
   ]
  },
  {
   "cell_type": "code",
   "execution_count": null,
   "id": "13202373",
   "metadata": {},
   "outputs": [],
   "source": [
    "def reverse(x,y,z):\n",
    "    return z, y, x\n",
    "\n",
    "ret = reverse(1,2,3)\n",
    "print(ret)                              # 93,2,1)이 출력됨\n",
    "\n",
    "r1, r2, r3 = reverse('a', 'b', 'c')\n",
    "print(r1,r2,r3)\n",
    "print(r1);print(r2);print(r3)           # 튜플의 요소 개수만큼 나누어서 리턴값을 개별적으로 받을 수 있음"
   ]
  },
  {
   "cell_type": "markdown",
   "id": "741737e0",
   "metadata": {},
   "source": [
    "### 주소"
   ]
  },
  {
   "cell_type": "code",
   "execution_count": null,
   "id": "67baf096",
   "metadata": {},
   "outputs": [],
   "source": [
    "import os"
   ]
  },
  {
   "cell_type": "code",
   "execution_count": null,
   "id": "c8f2d87c",
   "metadata": {},
   "outputs": [],
   "source": [
    "# 현재 작업 폴더\n",
    "%pwd"
   ]
  },
  {
   "cell_type": "code",
   "execution_count": null,
   "id": "ce77f472",
   "metadata": {},
   "outputs": [],
   "source": [
    "# 폴더변경\n",
    "os.chdir('주소')"
   ]
  },
  {
   "cell_type": "code",
   "execution_count": null,
   "id": "e832726b",
   "metadata": {},
   "outputs": [],
   "source": [
    "# 폴더 이름 바꾸기\n",
    "or.rename('이름')"
   ]
  },
  {
   "cell_type": "code",
   "execution_count": null,
   "id": "a835d0ac",
   "metadata": {},
   "outputs": [],
   "source": [
    "# 폴더 경로 이동\n",
    "import os\n",
    "os.chdir('현재폴더')"
   ]
  },
  {
   "cell_type": "code",
   "execution_count": null,
   "id": "6b310160",
   "metadata": {},
   "outputs": [],
   "source": [
    "# 파일 읽고 쓰기\n",
    "f = open('test1.txt','w')\n",
    "f.close()"
   ]
  },
  {
   "cell_type": "code",
   "execution_count": null,
   "id": "5b151463",
   "metadata": {},
   "outputs": [],
   "source": [
    "f = open('test1.txt','w')\n",
    "for i in range(1,11):\n",
    "    data = '%d 번째 줄입니다. \\n' %i\n",
    "    f.write(data)\n",
    "f.close()"
   ]
  },
  {
   "cell_type": "code",
   "execution_count": null,
   "id": "f340547f",
   "metadata": {},
   "outputs": [],
   "source": [
    "f = open('test1.txt','r')\n",
    "line = f.readline()\n",
    "print(line)\n",
    "f.close()"
   ]
  },
  {
   "cell_type": "code",
   "execution_count": null,
   "id": "2dd9f598",
   "metadata": {},
   "outputs": [],
   "source": [
    "f = open('test1.txt','r')\n",
    "for i in range(10):\n",
    "    line = f.readline()\n",
    "    print(line)\n",
    "f.close()"
   ]
  },
  {
   "cell_type": "code",
   "execution_count": null,
   "id": "f20afa35",
   "metadata": {},
   "outputs": [],
   "source": [
    "f = open('test1.txt', 'a')\n",
    "for i in range(11,16):\n",
    "    data = '%d번째 줄입니다. \\n' %i\n",
    "    f.write(data)\n",
    "f.close()"
   ]
  },
  {
   "cell_type": "code",
   "execution_count": null,
   "id": "d9280ff5",
   "metadata": {},
   "outputs": [],
   "source": [
    "f = open('test1.txt', 'r')\n",
    "data = f.read()\n",
    "print(data)\n",
    "f.close()"
   ]
  },
  {
   "cell_type": "code",
   "execution_count": null,
   "id": "657c23f2",
   "metadata": {},
   "outputs": [],
   "source": [
    "# with문과 같이 사용\n",
    "with open('foo.txt', 'w') as f:\n",
    "    f.write('파이썬을 배웁시다.')"
   ]
  },
  {
   "cell_type": "code",
   "execution_count": null,
   "id": "7d4edc68",
   "metadata": {},
   "outputs": [],
   "source": [
    "with open('foo.txt', 'r') as f:\n",
    "    data = f.read()\n",
    "    print(data)"
   ]
  },
  {
   "cell_type": "code",
   "execution_count": null,
   "id": "59dc5df9",
   "metadata": {},
   "outputs": [],
   "source": [
    "with open('test2.txt', 'w') as f:\n",
    "    for i in range(1,11):\n",
    "        data = f'{i}번째 줄입니다.\\n'\n",
    "        f.write(data)"
   ]
  },
  {
   "cell_type": "code",
   "execution_count": null,
   "id": "e6ffdadd",
   "metadata": {},
   "outputs": [],
   "source": [
    "with open('test2.txt', 'a') as f:\n",
    "    for i in range(11,16):\n",
    "        data = f'{i}번째 줄입니다.\\n'\n",
    "        f.write(data)"
   ]
  },
  {
   "cell_type": "code",
   "execution_count": null,
   "id": "4d7d3060",
   "metadata": {},
   "outputs": [],
   "source": [
    "with open('test2.txt', 'r') as f:\n",
    "    data = f.read()\n",
    "    print(data)"
   ]
  },
  {
   "cell_type": "markdown",
   "id": "12560545",
   "metadata": {},
   "source": [
    "#### 파이썬 패키지,  모듈, 함수, 클래스\n",
    "- 코드 작성 시 이미 만들어져 있는 함수들을 활용하면 보다 효율적이고 빠르게 개발 가능\n",
    "- 이미 만들어져 있고 안정성이 검증된 함수들을 성격에 맞게 하나의 파이썬 파일에 묶어 만들어 놓을 것을 모듈이라 함\n",
    "- 외부 모듈에 있는 함수들을 활용하려면 이 모듈을 먼저 가져와서 사용해야 하는데 이것을 모듈을 임포트한다고 한다.\n",
    "- 파이썬 모듈이 하나의 파이썬 파일이라면 패키지는 디렉토리로 볼 수 있다.\n",
    "\n",
    "패키지\n",
    "1. 라이브러리라고도 부름\n",
    "2. 특정 기능과 관련된 여러 모듈을 한 그룹으로 묶은 것\n",
    "3. 패키지 안에 서브패키지가 있을 수도 있다.\n",
    "4. from 패키지/모듈 import 모듈\n",
    "5. import 패키지/모듈\n",
    "   \n",
    "모듈\n",
    "1. 여러 기능들이 뭉쳐진 하나의. py파일\n",
    "2. 함수, 클래스, 변수 등 포함\n",
    "3. import 모듈\n",
    "\n",
    "함수\n",
    "1. 하나의 기능을 가진 코드의 집합\n",
    "2. 함수를 사용한다 = 함수를 호출한다\n",
    "3. 함수 사용 형태: 함수( )\n",
    "   - 필요한 경우 () 안에 매개변수 또는 옵션\n",
    "4. 종류\n",
    "   - 내장 함수(built in function)\n",
    "   - 외장 함수: import 해주어야 함\n",
    "   \n",
    "클래스   \n",
    "- 파이썬은 객체 지향 언어로클래스를 기반으로 객체를 만들어 사용한다.\n",
    "- 한 파이썬 파일(. py) 내에서 \"class class명():\"을 통해 클래스 선언"
   ]
  },
  {
   "cell_type": "code",
   "execution_count": null,
   "id": "40858a74",
   "metadata": {},
   "outputs": [],
   "source": [
    "from time?"
   ]
  },
  {
   "cell_type": "code",
   "execution_count": 66,
   "id": "4c15eafc",
   "metadata": {},
   "outputs": [
    {
     "name": "stdout",
     "output_type": "stream",
     "text": [
      "5초간 프로그램을 정지합니다.\n",
      "5초가 지나갔습니다.\n"
     ]
    }
   ],
   "source": [
    "# time 모듈\n",
    "import time\n",
    "\n",
    "print('5초간 프로그램을 정지합니다.')\n",
    "time.sleep(5)\n",
    "print('5초가 지나갔습니다.')"
   ]
  },
  {
   "cell_type": "markdown",
   "id": "5dc38c98",
   "metadata": {},
   "source": [
    "## 모듈만들기"
   ]
  },
  {
   "cell_type": "code",
   "execution_count": null,
   "id": "3673edd0",
   "metadata": {},
   "outputs": [],
   "source": [
    "# 사용자 작성 모듈\n",
    "with open('mymodule.py','w') as f:\n",
    "    f.write(\n",
    "'''\n",
    "def add_txt(t1,t2):\n",
    "    return t1+':'+t2\n",
    "def reverse(x,y,z):\n",
    "    return z,y,x, \n",
    "''')"
   ]
  },
  {
   "cell_type": "code",
   "execution_count": null,
   "id": "709f820d",
   "metadata": {},
   "outputs": [],
   "source": [
    "with open('mymodule.py','r') as f:\n",
    "    data = f.read()\n",
    "    print(data)"
   ]
  },
  {
   "cell_type": "code",
   "execution_count": null,
   "id": "3961a0b3",
   "metadata": {},
   "outputs": [],
   "source": [
    "import mymodule\n",
    "\n",
    "ret1 = mymodule.add_txt('대한민국','1등')\n",
    "print(ret1)"
   ]
  },
  {
   "cell_type": "code",
   "execution_count": null,
   "id": "f73fd2a7",
   "metadata": {},
   "outputs": [],
   "source": [
    "ret2 = mymodule.reverse(1,2,3)\n",
    "print(ret2)"
   ]
  },
  {
   "cell_type": "code",
   "execution_count": null,
   "id": "3d22595f",
   "metadata": {},
   "outputs": [],
   "source": [
    "# 클래스\n",
    "class MyClass:\n",
    "    var = '안녕하세요'\n",
    "    def sayHello(self):\n",
    "        print(self.var)\n",
    "        \n",
    "obj = MyClass() # MyClass 인스턴스 객체 생성\n",
    "print(obj.var)\n",
    "print(obj.sayHello())"
   ]
  },
  {
   "cell_type": "code",
   "execution_count": null,
   "id": "afd98cb0",
   "metadata": {},
   "outputs": [],
   "source": [
    "#!pip list\n",
    "# !pip install pandas"
   ]
  },
  {
   "cell_type": "code",
   "execution_count": 62,
   "id": "49b25977",
   "metadata": {},
   "outputs": [
    {
     "data": {
      "text/html": [
       "<div>\n",
       "<style scoped>\n",
       "    .dataframe tbody tr th:only-of-type {\n",
       "        vertical-align: middle;\n",
       "    }\n",
       "\n",
       "    .dataframe tbody tr th {\n",
       "        vertical-align: top;\n",
       "    }\n",
       "\n",
       "    .dataframe thead th {\n",
       "        text-align: right;\n",
       "    }\n",
       "</style>\n",
       "<table border=\"1\" class=\"dataframe\">\n",
       "  <thead>\n",
       "    <tr style=\"text-align: right;\">\n",
       "      <th></th>\n",
       "      <th>a</th>\n",
       "      <th>b</th>\n",
       "      <th>c</th>\n",
       "    </tr>\n",
       "  </thead>\n",
       "  <tbody>\n",
       "    <tr>\n",
       "      <th>0</th>\n",
       "      <td>1</td>\n",
       "      <td>4</td>\n",
       "      <td>7</td>\n",
       "    </tr>\n",
       "    <tr>\n",
       "      <th>1</th>\n",
       "      <td>2</td>\n",
       "      <td>5</td>\n",
       "      <td>8</td>\n",
       "    </tr>\n",
       "    <tr>\n",
       "      <th>2</th>\n",
       "      <td>3</td>\n",
       "      <td>6</td>\n",
       "      <td>9</td>\n",
       "    </tr>\n",
       "  </tbody>\n",
       "</table>\n",
       "</div>"
      ],
      "text/plain": [
       "   a  b  c\n",
       "0  1  4  7\n",
       "1  2  5  8\n",
       "2  3  6  9"
      ]
     },
     "execution_count": 62,
     "metadata": {},
     "output_type": "execute_result"
    }
   ],
   "source": [
    "import pandas as pd\n",
    "\n",
    "df = pd.DataFrame({'a': [1, 2, 3], 'b': [4, 5, 6], 'c': [7, 8, 9]})\n",
    "df"
   ]
  },
  {
   "cell_type": "code",
   "execution_count": 60,
   "id": "bf94a924",
   "metadata": {},
   "outputs": [
    {
     "data": {
      "text/html": [
       "<div>\n",
       "<style scoped>\n",
       "    .dataframe tbody tr th:only-of-type {\n",
       "        vertical-align: middle;\n",
       "    }\n",
       "\n",
       "    .dataframe tbody tr th {\n",
       "        vertical-align: top;\n",
       "    }\n",
       "\n",
       "    .dataframe thead th {\n",
       "        text-align: right;\n",
       "    }\n",
       "</style>\n",
       "<table border=\"1\" class=\"dataframe\">\n",
       "  <thead>\n",
       "    <tr style=\"text-align: right;\">\n",
       "      <th></th>\n",
       "      <th>a</th>\n",
       "      <th>b</th>\n",
       "      <th>c</th>\n",
       "    </tr>\n",
       "  </thead>\n",
       "  <tbody>\n",
       "    <tr>\n",
       "      <th>0</th>\n",
       "      <td>1</td>\n",
       "      <td>2</td>\n",
       "      <td>3</td>\n",
       "    </tr>\n",
       "    <tr>\n",
       "      <th>1</th>\n",
       "      <td>4</td>\n",
       "      <td>5</td>\n",
       "      <td>6</td>\n",
       "    </tr>\n",
       "    <tr>\n",
       "      <th>2</th>\n",
       "      <td>7</td>\n",
       "      <td>8</td>\n",
       "      <td>9</td>\n",
       "    </tr>\n",
       "  </tbody>\n",
       "</table>\n",
       "</div>"
      ],
      "text/plain": [
       "   a  b  c\n",
       "0  1  2  3\n",
       "1  4  5  6\n",
       "2  7  8  9"
      ]
     },
     "execution_count": 60,
     "metadata": {},
     "output_type": "execute_result"
    }
   ],
   "source": [
    "import numpy as np\n",
    "df2 = pd.DataFrame(np.array([[1, 2, 3], [4, 5, 6], [7, 8, 9]]),\n",
    "                   columns=['a', 'b', 'c'])\n",
    "df2"
   ]
  },
  {
   "cell_type": "code",
   "execution_count": 65,
   "id": "f4d8cac6",
   "metadata": {},
   "outputs": [
    {
     "data": {
      "text/html": [
       "<div>\n",
       "<style scoped>\n",
       "    .dataframe tbody tr th:only-of-type {\n",
       "        vertical-align: middle;\n",
       "    }\n",
       "\n",
       "    .dataframe tbody tr th {\n",
       "        vertical-align: top;\n",
       "    }\n",
       "\n",
       "    .dataframe thead th {\n",
       "        text-align: right;\n",
       "    }\n",
       "</style>\n",
       "<table border=\"1\" class=\"dataframe\">\n",
       "  <thead>\n",
       "    <tr style=\"text-align: right;\">\n",
       "      <th></th>\n",
       "      <th>a</th>\n",
       "      <th>b</th>\n",
       "      <th>c</th>\n",
       "    </tr>\n",
       "  </thead>\n",
       "  <tbody>\n",
       "    <tr>\n",
       "      <th>0</th>\n",
       "      <td>1</td>\n",
       "      <td>2</td>\n",
       "      <td>3</td>\n",
       "    </tr>\n",
       "    <tr>\n",
       "      <th>1</th>\n",
       "      <td>4</td>\n",
       "      <td>5</td>\n",
       "      <td>6</td>\n",
       "    </tr>\n",
       "    <tr>\n",
       "      <th>2</th>\n",
       "      <td>7</td>\n",
       "      <td>8</td>\n",
       "      <td>9</td>\n",
       "    </tr>\n",
       "  </tbody>\n",
       "</table>\n",
       "</div>"
      ],
      "text/plain": [
       "   a  b  c\n",
       "0  1  2  3\n",
       "1  4  5  6\n",
       "2  7  8  9"
      ]
     },
     "execution_count": 65,
     "metadata": {},
     "output_type": "execute_result"
    }
   ],
   "source": [
    "data = np.array([(1, 2, 3), (4, 5, 6), (7, 8, 9)])\n",
    "df3 = pd.DataFrame(data, columns=['a', 'b', 'c'])\n",
    "df3"
   ]
  },
  {
   "cell_type": "markdown",
   "id": "0260fb0c",
   "metadata": {},
   "source": [
    "내장함수, 외장함수\n",
    "\n",
    "http://codedrive.tistory.com/91"
   ]
  },
  {
   "cell_type": "markdown",
   "id": "35825170",
   "metadata": {},
   "source": [
    "#### 내장함수"
   ]
  },
  {
   "cell_type": "code",
   "execution_count": 5,
   "id": "27d9d8f7",
   "metadata": {},
   "outputs": [
    {
     "name": "stdout",
     "output_type": "stream",
     "text": [
      "3\n",
      "False\n",
      "True\n",
      "A\n"
     ]
    }
   ],
   "source": [
    "print(abs(-3)) # 절대값\n",
    "print(all([1,2,3,0])) # x가 모두 참이면 True, 거짓이 하나라도 있으면 False\n",
    "print(any([1,2,3,0])) # x가 하나라도 참이면 True, 모두 거짓이면 False\n",
    "print(chr(65))"
   ]
  },
  {
   "cell_type": "code",
   "execution_count": 6,
   "id": "0a31f073",
   "metadata": {},
   "outputs": [
    {
     "data": {
      "text/plain": [
       "7"
      ]
     },
     "execution_count": 6,
     "metadata": {},
     "output_type": "execute_result"
    }
   ],
   "source": [
    "sum = lambda a,b:a+b\n",
    "sum(3,4)"
   ]
  },
  {
   "cell_type": "code",
   "execution_count": 7,
   "id": "a81ba51b",
   "metadata": {},
   "outputs": [
    {
     "name": "stdout",
     "output_type": "stream",
     "text": [
      "7\n"
     ]
    }
   ],
   "source": [
    "def sum(a,b):\n",
    "    return a+b\n",
    "print(sum(3,4))"
   ]
  },
  {
   "cell_type": "code",
   "execution_count": 10,
   "id": "c1dd96ac",
   "metadata": {},
   "outputs": [
    {
     "name": "stdout",
     "output_type": "stream",
     "text": [
      "7\n",
      "12\n"
     ]
    }
   ],
   "source": [
    "myList = [lambda a,b:a+b, lambda a,b:a*b]\n",
    "print(myList[0](3,4))\n",
    "print(myList[1](3,4))"
   ]
  },
  {
   "cell_type": "code",
   "execution_count": 12,
   "id": "c22063d3",
   "metadata": {},
   "outputs": [
    {
     "name": "stdout",
     "output_type": "stream",
     "text": [
      "7\n",
      "12\n",
      "-1\n",
      "0.75\n"
     ]
    }
   ],
   "source": [
    "list = [lambda a,b:a+b, lambda a,b:a*b, lambda a,b:a-b, lambda a,b:a/b]\n",
    "for i in range(0,4):\n",
    "    print(list[i](3,4))"
   ]
  },
  {
   "cell_type": "code",
   "execution_count": 13,
   "id": "269df8d1",
   "metadata": {},
   "outputs": [
    {
     "name": "stdout",
     "output_type": "stream",
     "text": [
      "(2, 1)\n"
     ]
    }
   ],
   "source": [
    "# 몫과 나머지\n",
    "print(divmod(7,3))"
   ]
  },
  {
   "cell_type": "code",
   "execution_count": 15,
   "id": "c6f43186",
   "metadata": {},
   "outputs": [
    {
     "name": "stdout",
     "output_type": "stream",
     "text": [
      "0 james\n",
      "1 tom\n",
      "2 susan\n"
     ]
    }
   ],
   "source": [
    "# 순서가 있는 자료형을 입력으로 받아 인덱스 값을 포함한 enumerate 객체를 리턴\n",
    "for i, name in enumerate(['james', 'tom', 'susan']):\n",
    "    print(i,name)"
   ]
  },
  {
   "cell_type": "code",
   "execution_count": null,
   "id": "051507be",
   "metadata": {},
   "outputs": [],
   "source": [
    "# 실행 가능한 문자열 입력으로 받아 문자열을 실행한 결과값을 리턴\n",
    "print(eval('1+2'))"
   ]
  },
  {
   "cell_type": "markdown",
   "id": "7137bea6",
   "metadata": {},
   "source": [
    "#### 외장함수 : 전 세계 파이썬 사용자들이 만든 유용한 프로그램을 모아 놓은 파이썬 라이브러리, 파이썬을 설치할 때 자동으로 설치"
   ]
  },
  {
   "cell_type": "code",
   "execution_count": null,
   "id": "8e0b4ebb",
   "metadata": {},
   "outputs": [],
   "source": [
    "# pickle은 객체의 형태를 유지하면서 파일에 저장하고 불러올 수 있게 하는 모듈\n",
    "\n",
    "import pickle\n",
    "f = open('test.txt', 'wb')\n",
    "data = {1:'python',2:'you need'}\n",
    "pickle.dump(data,f)\n",
    "f.close()"
   ]
  },
  {
   "cell_type": "code",
   "execution_count": null,
   "id": "dcc4ea9f",
   "metadata": {},
   "outputs": [],
   "source": [
    "import pickle\n",
    "f = open('test.txt', 'rb')\n",
    "data = pickle.load(f)\n",
    "print(data)\n",
    "f.close()"
   ]
  },
  {
   "cell_type": "code",
   "execution_count": null,
   "id": "8695b8ff",
   "metadata": {},
   "outputs": [],
   "source": [
    "import os\n",
    "os.environ['PATH']"
   ]
  },
  {
   "cell_type": "code",
   "execution_count": null,
   "id": "66e6863f",
   "metadata": {},
   "outputs": [],
   "source": [
    "# 현재폴더주소\n",
    "%pwd"
   ]
  },
  {
   "cell_type": "code",
   "execution_count": null,
   "id": "351c6394",
   "metadata": {},
   "outputs": [],
   "source": [
    "# 폴더변경\n",
    "os.chdir('주소')"
   ]
  },
  {
   "cell_type": "code",
   "execution_count": null,
   "id": "3eda679a",
   "metadata": {},
   "outputs": [],
   "source": [
    "os.getwd('주소')"
   ]
  },
  {
   "cell_type": "code",
   "execution_count": null,
   "id": "26b216e8",
   "metadata": {},
   "outputs": [],
   "source": [
    "!dir"
   ]
  },
  {
   "cell_type": "code",
   "execution_count": null,
   "id": "38799edc",
   "metadata": {},
   "outputs": [],
   "source": [
    "#폴더이름바꾸기\n",
    "import os\n",
    "os.rename('이름','이름2')"
   ]
  },
  {
   "cell_type": "code",
   "execution_count": null,
   "id": "cec763c7",
   "metadata": {},
   "outputs": [],
   "source": [
    "# glob() 함수는 인자로 받은 패턴과 이름이 일치하는 묻 파일과 디렉토리의 리스트를 반환\n",
    "import glob\n",
    "glob.glob(\"주소\")"
   ]
  },
  {
   "cell_type": "code",
   "execution_count": null,
   "id": "3a3b610f",
   "metadata": {},
   "outputs": [],
   "source": [
    "#[과제] 내장함수를 이용해서 list = [0,1,2,3,4,5,6]에서 2를 삭제 후 출력하세요.(3가지 방법)\n",
    "# remove. pop(도출 후 제거), del\n",
    "\n",
    "list=[0,1,2,3,4,5,6] # 괄호안에 숫자\n",
    "1#del list[2]        # 인덱스\n",
    "2#list.remove(2)     # 값\n",
    "3#list.pop(2)\n",
    "print(list)"
   ]
  },
  {
   "cell_type": "code",
   "execution_count": null,
   "id": "7d3496ed",
   "metadata": {},
   "outputs": [],
   "source": [
    "#[과제] 내장함수를 이용해서 list = [0,1,2,3,4,5,6]에서 모든 원소를 삭제 후 출력하세요.\n",
    "list = [0,1,2,3,4,5,6]\n",
    "del list[:]\n",
    "print(list)"
   ]
  },
  {
   "cell_type": "code",
   "execution_count": null,
   "id": "40f4d070",
   "metadata": {},
   "outputs": [],
   "source": [
    "#[과제] 람다함수와 적한한 내장함수를 사용하여 아래와 같이 출력하세요.\n",
    "[1,2,3,4,5] -> [1,4,9,16,25]\n",
    "[1,2,3,4,5] -> [1,2]"
   ]
  },
  {
   "cell_type": "code",
   "execution_count": null,
   "id": "9edb3ac7",
   "metadata": {},
   "outputs": [],
   "source": [
    "x=lambda a:a**2\n",
    "\n",
    "for i in list:\n",
    "    list_n.append(x(i))    # [1,2,3,4,5] -> [1,4,9,16,25]\n",
    "\n",
    "del(list[2:])             # [1,2,3,4,5] -> [1,2]"
   ]
  },
  {
   "cell_type": "code",
   "execution_count": null,
   "id": "642799e0",
   "metadata": {},
   "outputs": [],
   "source": [
    "#[과제] [1,-3,2,0,-5,6]에서 양수만 필터링해서 출력하세요(내장함수, 사용자함수 각각 이용)"
   ]
  },
  {
   "cell_type": "code",
   "execution_count": null,
   "id": "be88f17f",
   "metadata": {},
   "outputs": [],
   "source": [
    "list1 = [1,-3,2,0,-5,6]\n",
    "\n",
    "print(list(filter(lambda  x: x > 0, list1)))"
   ]
  },
  {
   "cell_type": "code",
   "execution_count": null,
   "id": "6273c5ce",
   "metadata": {},
   "outputs": [],
   "source": [
    "def even(arr):\n",
    "    result=[]\n",
    "    for i in arr:\n",
    "        if i>0:\n",
    "            result.append(i)\n",
    "    return result\n",
    "print(even([1,-3,2,0,-5,6]))"
   ]
  },
  {
   "cell_type": "code",
   "execution_count": null,
   "id": "20813050",
   "metadata": {},
   "outputs": [],
   "source": [
    "#[과제] 내장함수를 이용하여 동일한 개수로 이루어진 자료형을 화살표 좌측에서 우측으로 변환하세요\n",
    "[1,2,3],[4,5,6] -> [(1,4),(2,5),(3,4)]\n",
    "[1,2,3],[4,5,6],[7,8,9] -> [(1,4,7),(2,5,8),(3,6,9)]\n",
    "('abc','def') -> [('a','d'),('b','e'),('c','f')]"
   ]
  },
  {
   "cell_type": "code",
   "execution_count": null,
   "id": "25fa7421",
   "metadata": {},
   "outputs": [],
   "source": [
    "a=[1,2,3]\n",
    "b=[4,5,6]\n",
    "c=[7,8,9]\n",
    "\n",
    "ab=list(zip([1,2,3],[4,5,6]))\n",
    "print(ab)\n",
    "\n",
    "abc = list(zip[1,2,3],[4,5,6],[7,8,9])\n",
    "print(abc)\n",
    "\n",
    "alp_1 = list(zip('abc','def'))\n",
    "print(alp_1)"
   ]
  },
  {
   "cell_type": "code",
   "execution_count": null,
   "id": "845f58af",
   "metadata": {},
   "outputs": [],
   "source": [
    "#[과제] 입력으로 들어오는 모든 수의 평균 값을 계산해 주는 함수를 작성한 후 1,2,3을 입력한 결과를 출력하세요."
   ]
  },
  {
   "cell_type": "code",
   "execution_count": null,
   "id": "38974726",
   "metadata": {},
   "outputs": [],
   "source": [
    "def sum(mun):\n",
    "    print(f'합: {eval(mun)}')   # 입력된 문자열이 연산이 가능한 형태면 연산해 줌\n",
    "    print(f\"평균: {(eval(mun)/len(mun,split('+'))):0.2f}\")\n",
    "    \n",
    "##############################################\n",
    "\n",
    "mun=input(\"평균값을 구할 숫자를 모두 입력해 주세요(콤마로 구분):\")\n",
    "mun_n=mun.replace(',','+')  #1,2,3 -> 1+2+3\n",
    "\n",
    "sum(mun_n)"
   ]
  },
  {
   "cell_type": "code",
   "execution_count": null,
   "id": "a7413d5c",
   "metadata": {},
   "outputs": [],
   "source": [
    "def average(*args):\n",
    "    x=0\n",
    "    for i in args:\n",
    "        x=(x+i)\n",
    "    result=x/len(args) \n",
    "    return result\n",
    "\n",
    "result=average(1,2,3)    \n",
    "print(result)"
   ]
  },
  {
   "cell_type": "code",
   "execution_count": null,
   "id": "2bbb9445",
   "metadata": {},
   "outputs": [],
   "source": [
    "#[과제] 동일한 사용자 함수를 만들어서 1~100의 합과 200~300의 합을 구하세요"
   ]
  },
  {
   "cell_type": "code",
   "execution_count": null,
   "id": "2e9048c8",
   "metadata": {},
   "outputs": [],
   "source": [
    "def pl(*args):\n",
    "    x=0\n",
    "    for i in args:\n",
    "        x += 1\n",
    "    return x\n",
    "    \n",
    "print(y.range(0,100))\n",
    "print(y.reage(199,300))"
   ]
  },
  {
   "cell_type": "code",
   "execution_count": null,
   "id": "d85e7806",
   "metadata": {},
   "outputs": [],
   "source": [
    "def getsum(startnum, endnum):\n",
    "    i = startnum\n",
    "    sum = 0\n",
    "    while i < endnum:\n",
    "        sum += i\n",
    "        i += 1\n",
    "    return sum\n",
    "        \n",
    "print(getsum(1,100))\n",
    "print(getsum(200,300))"
   ]
  },
  {
   "cell_type": "code",
   "execution_count": null,
   "id": "f0d35f14",
   "metadata": {},
   "outputs": [],
   "source": [
    "def sum(first, end):\n",
    "    result=0\n",
    "    for i in range(first,end+1):\n",
    "        result+=i\n",
    "    return result\n",
    "\n",
    "print(sum(100,200))   #n~m 사이의 합 구하기\n",
    "print(sum(200,300))"
   ]
  },
  {
   "cell_type": "code",
   "execution_count": null,
   "id": "c83eaccf",
   "metadata": {},
   "outputs": [],
   "source": [
    "import numpy as np\n",
    "\n",
    "np.arange(1,100)"
   ]
  },
  {
   "cell_type": "markdown",
   "id": "91516f02",
   "metadata": {},
   "source": [
    "# sort,sorted 모두 ,key, reverse 매개변수를 갖고 있다.\n",
    "\n",
    "- reverse : 기본값은 reverse=False(오름차순),reverse=True를 매개변수로 입력하면 내림차순으로 정렬\n",
    "- key : 정렬을 목적으로 하는 함수를 값으로 넣는다. lambda를 이용할 수 있고 key 값을 기준으로 정렬되고 기본값은 오름차순"
   ]
  },
  {
   "cell_type": "code",
   "execution_count": null,
   "id": "434d1a64",
   "metadata": {},
   "outputs": [],
   "source": [
    "#[과제] strings를 다양한 문자가 포함된 순서로 정렬하세요. (힌트 set)\n",
    "strings = ['a', 'ca', 'bar', 'aaaa', 'ababa']"
   ]
  },
  {
   "cell_type": "code",
   "execution_count": null,
   "id": "b409a4f1",
   "metadata": {},
   "outputs": [],
   "source": [
    "strings.sort(key = lambda x:len(set(x)))\n",
    "strings[::-1]"
   ]
  },
  {
   "cell_type": "code",
   "execution_count": null,
   "id": "3481cc1f",
   "metadata": {},
   "outputs": [],
   "source": [
    "#[과제] 튜플 형태인 strings를 다양한 문자가 포함된 순서로 정렬하세요.\n",
    "strings = ('a', 'ca', 'bar', 'aaaa', 'ababa')"
   ]
  },
  {
   "cell_type": "code",
   "execution_count": null,
   "id": "93e4b5b7",
   "metadata": {},
   "outputs": [],
   "source": [
    "strings = ('a', 'ca', 'bar', 'aaaa', 'ababa')\n",
    "s_list=list(strings)\n",
    "s_list.sort(key=lambda x:len(set(x)))     #기본 정렬(오름차순)\n",
    "\n",
    "print(s_list[::-1])     #거꾸로 출력(내림차순으로 나오게)"
   ]
  },
  {
   "cell_type": "code",
   "execution_count": null,
   "id": "0ad267e2",
   "metadata": {},
   "outputs": [],
   "source": [
    "#[과제] url에서 호스트 도메인을 추출하여 출력하세요.\n",
    "url= 'http://news.naver.com/main/read.nhn?mode=LSD&mid=shm&sid1=105&oid=028&aid=0002334601'"
   ]
  },
  {
   "cell_type": "code",
   "execution_count": null,
   "id": "73324a67",
   "metadata": {},
   "outputs": [],
   "source": [
    "a = url.split('/')\n",
    "print(a[2])"
   ]
  },
  {
   "cell_type": "code",
   "execution_count": null,
   "id": "accc610c",
   "metadata": {},
   "outputs": [],
   "source": [
    "#[과제] url에서 쿼리문을 추출하여 출력하세요.\n",
    "# url에서 '?'뒤에 표시되는 문자열을 쿼리 문자열이라고 하며 변수=값 사이 &로 구분되어 나열된다.\n",
    "url = 'http://news.naver.com/main/read.nhn?mode=LSD&mid=shm&sid1=105&oid=028&aid=0002334601'"
   ]
  },
  {
   "cell_type": "code",
   "execution_count": null,
   "id": "3d3f803b",
   "metadata": {},
   "outputs": [],
   "source": [
    "x=url.split('?')\n",
    "query=x[1]\n",
    "a=query.split('&')\n",
    "print(a)"
   ]
  },
  {
   "cell_type": "code",
   "execution_count": null,
   "id": "bafd8998",
   "metadata": {},
   "outputs": [],
   "source": []
  }
 ],
 "metadata": {
  "kernelspec": {
   "display_name": "Python 3 (ipykernel)",
   "language": "python",
   "name": "python3"
  },
  "language_info": {
   "codemirror_mode": {
    "name": "ipython",
    "version": 3
   },
   "file_extension": ".py",
   "mimetype": "text/x-python",
   "name": "python",
   "nbconvert_exporter": "python",
   "pygments_lexer": "ipython3",
   "version": "3.9.13"
  }
 },
 "nbformat": 4,
 "nbformat_minor": 5
}
