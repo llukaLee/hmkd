{
 "cells": [
  {
   "cell_type": "markdown",
   "id": "5009a81a",
   "metadata": {},
   "source": [
    "## 파이썬 기초"
   ]
  },
  {
   "cell_type": "markdown",
   "id": "7c33ee77",
   "metadata": {},
   "source": [
    "#### 파이썬 이란\n",
    "- 1990년 암스테르담의 귀도 반 로섬(Guido Van Rossum)이 개발한 인터프리터 언어\n",
    "- 컴퓨터 프로그래밍 교육을 위해 많이 사용하지만, 기업의 실무를 위해서도 많이 사용하는 언어. 구글에서 만든 소프트웨어의 50%이상이 파이썬으로 작성\n",
    "\n",
    "#### 파이썬의 특징\n",
    "- 파이썬은 인간다운 언어이다\n",
    "- 파이썬은 문법이 쉬워 빠르게 배울 수 있다\n",
    "- 파이썬은 무료이지만 강력하다\n",
    "- 파이썬은 간결하다\n",
    "- 파이썬은 프로그래밍을 즐기게 해준다\n",
    "- 파이썬은 개발 속도가 빠르다\n",
    "\n",
    "#### 파이썬으로 할 수 있는 일\n",
    "- 시스템 유틸리티 제작\n",
    "- GUI 프로그래밍\n",
    "- C/C++와의 결합\n",
    "- 웹 프로그래밍\n",
    "- 수치 연산 프로그래밍\n",
    "- 데이터베이스 프로그래밍\n",
    "- 데이터 분석, 사물 인터넷\n",
    "\n",
    "#### 참조\n",
    "- 표현식 : 어떠한 값을 만들어 내는 간단한 코드. 273, 10 + 20 + 30, \"Python Programming\"\n",
    "- 문장 : 표현식이 하나 이상 모이면 문장. print(\"Hello\")\n",
    "- 프로그램 : 문장이 모여서 프로그램\n",
    "- 식별자 : 프로그램밍 언어에서 이름을 붙일 때 사용하는 단어. 주로 변수 또는 함수 이름 등으로 사용\n",
    "- 주석 : 프로그램을 설명하기 위해 사용. # 기호로 주석 처리\n",
    "- 연산자 : 스스로 값이 되는 것이 아니고 값과 값 사이에 무언가 기능을 적용할 때 사용\n",
    "- 자료 : 리터럴이라고 하는데 숫자이든 문자이든 어떠한 값 자체를 의미. 1, 10, \"Hello\"\n",
    "- 키워드 : 파이썬이 만들어질 때 이미 사용하겠다고 예약해 놓는 것. False, None, True, ...\n",
    "- 프로그램밍 언어에서 사용자가 이름을 정할 때 키워드는 사용할 수 없음"
   ]
  },
  {
   "cell_type": "code",
   "execution_count": 1,
   "id": "e07a91af",
   "metadata": {},
   "outputs": [
    {
     "name": "stdout",
     "output_type": "stream",
     "text": [
      "Python 3.9.13\n"
     ]
    }
   ],
   "source": [
    "!python -V"
   ]
  },
  {
   "cell_type": "code",
   "execution_count": 2,
   "id": "e58d2b93",
   "metadata": {},
   "outputs": [
    {
     "name": "stdout",
     "output_type": "stream",
     "text": [
      "273\n"
     ]
    },
    {
     "data": {
      "text/plain": [
       "60"
      ]
     },
     "execution_count": 2,
     "metadata": {},
     "output_type": "execute_result"
    }
   ],
   "source": [
    "# 표현식 - 어떤 값을 나타내는 간단한 코드\n",
    "print(273)\n",
    "10+20+30"
   ]
  },
  {
   "cell_type": "code",
   "execution_count": 3,
   "id": "a5bfdd2e",
   "metadata": {},
   "outputs": [
    {
     "name": "stdout",
     "output_type": "stream",
     "text": [
      "Hello Python\n",
      "52 Hellow Python 8\n"
     ]
    }
   ],
   "source": [
    "# 표현식이 하나 이상씩 모이면 문장\n",
    "print('Hello Python')\n",
    "print(52, 'Hellow Python', 5+3)"
   ]
  },
  {
   "cell_type": "code",
   "execution_count": 4,
   "id": "9b27fa03",
   "metadata": {},
   "outputs": [
    {
     "name": "stdout",
     "output_type": "stream",
     "text": [
      "12\n"
     ]
    }
   ],
   "source": [
    "# 문장이 모여서 프로그램\n",
    "a=1;b=2;c=a+b\n",
    "print(c*c+c)"
   ]
  },
  {
   "cell_type": "code",
   "execution_count": 5,
   "id": "ff66a25f",
   "metadata": {},
   "outputs": [],
   "source": [
    "# 변수명 만들기\n",
    "a = 1\n",
    "b = 1\n",
    "n = 'j'\n",
    "c= ' is very nice'"
   ]
  },
  {
   "cell_type": "code",
   "execution_count": 6,
   "id": "0957f47b",
   "metadata": {
    "scrolled": true
   },
   "outputs": [
    {
     "name": "stdout",
     "output_type": "stream",
     "text": [
      "안녕하세요\n",
      "2\n",
      "j is very nice\n"
     ]
    }
   ],
   "source": [
    "# 프로그래밍\n",
    "print('안녕하세요')\n",
    "a = 1\n",
    "b = 1\n",
    "print(a+b)\n",
    "print(n+c)"
   ]
  },
  {
   "cell_type": "code",
   "execution_count": 7,
   "id": "477adaf3",
   "metadata": {},
   "outputs": [
    {
     "name": "stdout",
     "output_type": "stream",
     "text": [
      "저의 이름은 j이고 나이는 29입니다.\n",
      "저의 이름은 j이고 나이는 29입니다.\n"
     ]
    }
   ],
   "source": [
    "name = 'j'\n",
    "a = '2'\n",
    "b = '9'\n",
    "c = 20\n",
    "d = 9\n",
    "\n",
    "print(f'저의 이름은 {name}이고 나이는 {a+b}입니다.')\n",
    "print('저의 이름은 %s이고 나이는 %s입니다.' %(name, c+d))"
   ]
  },
  {
   "cell_type": "markdown",
   "id": "4a4da2ea",
   "metadata": {},
   "source": [
    "#### 표현식(Expression)\n",
    "- 파이썬을 포함한 프로그램 언어는 '표현식(expresstion)'과 '문장(statement)'이라는 것으로 구성\n",
    "- '표현식(expression)'은 간단하게 '식'이라고 부르기도 하는데요, 하나 이상의 값으로 표현될 수 있는 코드를 의미\n",
    "- 프로그램 언어에서 숫자나 문자 또는 수학의 사칙연산과 같은 것들이 표현식인 것입니다. 이것들은 그 자체만으로 어떠한 값을 갖는다고 평가\n",
    "- 숫자, 문자 그리고 사칙연산 이외에도 이후에 보게 될 '함수 호출(반환되는 값)', '변수 이름과 같은 식별자' 등도 표현식에 포함"
   ]
  },
  {
   "cell_type": "code",
   "execution_count": null,
   "id": "043b959e",
   "metadata": {
    "scrolled": true
   },
   "outputs": [],
   "source": [
    "100 # 숫자 100은 100이라는 숫자로 값을 가지므로 표현식\n",
    "100+200 # 100+200은 사칙연산으로 인해 300이라는 값을 가지므로 표현식\n",
    "\"hello, python\" # 문자열로 \"hello, python\"이라는 값을 가지므로 표현식\n",
    "+ # +는 자체만으로 어떠한 값도 가지지 않기 때문에 표현식이 아님\n",
    "- # -도 위와 동일한 이유로 표현식이 아님"
   ]
  },
  {
   "cell_type": "markdown",
   "id": "c8a42470",
   "metadata": {},
   "source": [
    "#### 문장(Statement)\n",
    "- '문장(statement)'은 하나 이상의 표현식이 모인 것으로 프로그래밍에서는 #실행 가능한 최소의 독립적인 코드 조각#\n",
    "- 문장은 단독적으로 컴파일러가 이해하고 실행할 수 있음\n",
    "- 파이썬 코드의 한 줄, 또는 블록으로 된 것들을 하나의 문장이라고 할 수 있음\n",
    "- 문장이 모여 하나의 '프로그램(program)'이 된다.\n",
    "- 표현식이 모여 문장이 되고, 문장이 모여 프로그램이 되는 것"
   ]
  },
  {
   "cell_type": "code",
   "execution_count": null,
   "id": "423822ef",
   "metadata": {},
   "outputs": [],
   "source": [
    "word = \"python\" # 하나의 문장입니다. \n",
    "a = 100 + 200 # 또 다른 하나의 문장입니다.\n",
    "\n",
    "if a > 500: # 이 두 줄은 if문이라고 해서 블록을 이루는 하나의 문장이 됩니다.\n",
    "    print(word)"
   ]
  },
  {
   "cell_type": "code",
   "execution_count": 9,
   "id": "2189d1e3",
   "metadata": {},
   "outputs": [
    {
     "name": "stdout",
     "output_type": "stream",
     "text": [
      "2\n"
     ]
    }
   ],
   "source": [
    "# 문장이 모여서 프로그램\n",
    "a = 1;b = 1;c=a+b\n",
    "print(c)"
   ]
  },
  {
   "cell_type": "markdown",
   "id": "37d55dea",
   "metadata": {},
   "source": [
    "#### 키워드(keyword)\n",
    "- '키워드(keyword)'는 각 프로그램 언어에서 특정 용도로 사용하기 위해 만들어진 특별한 의미를 가지는 예약된 단어\n",
    "- 프로그래밍 언어에서 사용자가 '변수'나 '함수' 등의 이름을 정할 때 키워드를 사용할 수 없다. \n",
    "- 키워드로 쓰이는 단어는 프로그램을 작성할 때 그 용도가 아니면 사용을 할 수 없기 때문에 어떤 단어가 키워드로 쓰이는지 알아야 함."
   ]
  },
  {
   "cell_type": "code",
   "execution_count": 10,
   "id": "87ca3a1b",
   "metadata": {},
   "outputs": [
    {
     "name": "stdout",
     "output_type": "stream",
     "text": [
      "['False', 'None', 'True', '__peg_parser__', 'and', 'as', 'assert', 'async', 'await', 'break', 'class', 'continue', 'def', 'del', 'elif', 'else', 'except', 'finally', 'for', 'from', 'global', 'if', 'import', 'in', 'is', 'lambda', 'nonlocal', 'not', 'or', 'pass', 'raise', 'return', 'try', 'while', 'with', 'yield'] \n",
      "\n",
      "36\n"
     ]
    }
   ],
   "source": [
    "# python keyword\n",
    "import keyword\n",
    "print(keyword.kwlist,'\\n')\n",
    "print(len(keyword.kwlist))"
   ]
  },
  {
   "cell_type": "code",
   "execution_count": 11,
   "id": "97cb839f",
   "metadata": {},
   "outputs": [
    {
     "ename": "SyntaxError",
     "evalue": "invalid syntax (1279100936.py, line 2)",
     "output_type": "error",
     "traceback": [
      "\u001b[1;36m  File \u001b[1;32m\"C:\\Users\\h\\AppData\\Local\\Temp\\ipykernel_5868\\1279100936.py\"\u001b[1;36m, line \u001b[1;32m2\u001b[0m\n\u001b[1;33m    and = 1\u001b[0m\n\u001b[1;37m    ^\u001b[0m\n\u001b[1;31mSyntaxError\u001b[0m\u001b[1;31m:\u001b[0m invalid syntax\n"
     ]
    }
   ],
   "source": [
    "# 예약어는 변수로 사용할 수 없다.\n",
    "and = 1"
   ]
  },
  {
   "cell_type": "markdown",
   "id": "65dd16f4",
   "metadata": {},
   "source": [
    "식별자 기본 규칙 : 프로그램 언어에서 '변수', '함수', '클래스', '모듈' 등 다른 객체를 표현하기 위해 이름을 붙일 때 사용하는 단어\n",
    "- 키워드를 사용하면 안된다.\n",
    "- 특수만자는 언더 바(_) 만 사용한다.\n",
    "- 숫자로 시작하면 안된다.\n",
    "- 공백을 포함할 수 없다."
   ]
  },
  {
   "cell_type": "code",
   "execution_count": 12,
   "id": "1ffe6fc7",
   "metadata": {},
   "outputs": [
    {
     "ename": "SyntaxError",
     "evalue": "invalid syntax (2613662511.py, line 5)",
     "output_type": "error",
     "traceback": [
      "\u001b[1;36m  File \u001b[1;32m\"C:\\Users\\h\\AppData\\Local\\Temp\\ipykernel_5868\\2613662511.py\"\u001b[1;36m, line \u001b[1;32m5\u001b[0m\n\u001b[1;33m    273alpha # 숫자\u001b[0m\n\u001b[1;37m       ^\u001b[0m\n\u001b[1;31mSyntaxError\u001b[0m\u001b[1;31m:\u001b[0m invalid syntax\n"
     ]
    }
   ],
   "source": [
    "alpha\n",
    "break # 키워드\n",
    "alpha10\n",
    "_alpha\n",
    "273alpha # 숫자\n",
    "AlpHa\n",
    "ALPHA\n",
    "has space # 공백"
   ]
  },
  {
   "cell_type": "markdown",
   "id": "8a0476d1",
   "metadata": {},
   "source": [
    "https://bibi6666667.tistory.com/277\n",
    "\n",
    "파이썬은 snake_case와 Camelcase를 모두 사용\n",
    "\n",
    " - itemlist tiem_list ItemList\n",
    " - loginstatus login_status loginStatus\n",
    " - 캐멀 케이스(대문자로 시작) 클래스\n",
    " - 스네이크 케이스(소문자로 시작) 뒤에 ()가 있다 - 함수\n",
    " - 스네이크 케이스(소문자로 시작) 뒤에 ()가 없다 - 변수"
   ]
  },
  {
   "cell_type": "markdown",
   "id": "b7968a9b",
   "metadata": {},
   "source": [
    "#### 주석(Comment)\n",
    "단축키( # or shift+/)\n",
    "- 주석(comment)은 프로그램에 영향을 주지 않는 것으로 프로그램을 실행할 경우 무시되는 코드 영역\n",
    "- 주석은 보통 코드에서 중요한 부분에 대한 설명을 하기 위해 사용\n",
    "- 테스트 중에 잠시 필요하지 않은 코드 조각을 실행하고 싶지 않을 때 해당 부분을 주석으로 처리"
   ]
  },
  {
   "cell_type": "code",
   "execution_count": null,
   "id": "645858c3",
   "metadata": {},
   "outputs": [],
   "source": [
    "# 이것이 파이썬의 주석입니다. \n",
    "# 이 부분은 실행이 안됩니다. \n",
    "\n",
    "a = 1\n",
    "b = 2\n",
    "#c = 3 # 이 부분도 실행되지 않습니다."
   ]
  },
  {
   "cell_type": "code",
   "execution_count": null,
   "id": "2142d8d8",
   "metadata": {},
   "outputs": [],
   "source": [
    "# 변수에 값 대입하기\n",
    "number1 = 1 # 정수\n",
    "pi = 3.14 # 실수\n",
    "flag = True # boolean\n",
    "char = 'x' # 문자\n",
    "char = 'I love Python!' # 문자로 구성된 문자열"
   ]
  },
  {
   "cell_type": "code",
   "execution_count": 14,
   "id": "7ebf648f",
   "metadata": {},
   "outputs": [
    {
     "name": "stdout",
     "output_type": "stream",
     "text": [
      "1 <class 'int'>\n",
      "one <class 'str'>\n"
     ]
    }
   ],
   "source": [
    "# 변수에 값이 대입되는 시점에 변수의 자료형은 자동적으로 다시 정해진다.\n",
    "number = 1 #정수\n",
    "number + 2\n",
    "print(number,type(number))\n",
    "number = 'one' #문자\n",
    "print(number,type(number))"
   ]
  },
  {
   "cell_type": "code",
   "execution_count": 15,
   "id": "253bceda",
   "metadata": {},
   "outputs": [
    {
     "name": "stdout",
     "output_type": "stream",
     "text": [
      "3이 있습니다.\n"
     ]
    }
   ],
   "source": [
    "# 사람이 생각하는 방식을 그대로 표현할 수 있는 언어\n",
    "\n",
    "if 3 in [1,2,3,4]: print('3이 있습니다.')"
   ]
  },
  {
   "cell_type": "markdown",
   "id": "6941d831",
   "metadata": {},
   "source": [
    "#### 자료형\n",
    "- 자료형 또는 데이터 타입이란 숫자, 문자 등과 같이 여러 종류의 데이터를 구분하기 위한 분류\n",
    "- 파이썬의 자료형은 크게 숫자(numbers), 시퀀스(sequence), 매핑(mapping) 등으로 나눌 수 있다.\n",
    "- 파이썬의 기본 자료형\n",
    "  - 수치형 \n",
    "    - 정수형 : int는 정수(integer)를 나타낸다. 양의 정수와 음의 정수, 숫자 0\n",
    "    - 실수형 : float는 원래 부동소수점수(floating-point number)를 가리키는데, 지금은 단순히 소수점 이하를 표현할 수 있는 수이다.\n",
    "    - 복소수형 : 복소수를 complex로 나타내고 제곱하면 -1이 되는 수 i를 ‘허수(imaginary number)’라고 하는데 허수 i를 j로 표현\n",
    "  - 시퀀스 : 문자열(str), 리스트(list), 튜플(tuple), 사용자 정의 클래스가 시퀀스에 속한다. for 문에서 사용할 수 있는 것들이 바로 시퀀스\n",
    "    - 문자열 : 문자를 한 줄로 표현하며 문자열 인덱스를 이용해 문자열의 일부를 복사\n",
    "    - 리스트 : 대괄호([ ])로 감싸 주고 각 요솟값은 쉼표(,)로 구분\n",
    "    - 튜플 : 튜플은 ( )으로 둘러싸고 각 요솟값은 쉼표(,)로 구분\n",
    "  - 매핑\n",
    "    - 사전 : 딕셔너리(dict)는 키(key)와 값(value)의 짝으로 이뤄지는데 이런 것을 매핑\n",
    "  - 집합 : 집합을 표현하는 세트(set) - 중복을 허용하지 않고 순서가 없음\n",
    "  - 블린 : 참, 거짓을 표현"
   ]
  },
  {
   "cell_type": "code",
   "execution_count": 16,
   "id": "34729412",
   "metadata": {},
   "outputs": [
    {
     "name": "stdout",
     "output_type": "stream",
     "text": [
      "200\n",
      "I love Python\n",
      "['a', 'b', 'c']\n",
      "a\n",
      "{'a': 97, 'b': 98}\n",
      "97\n"
     ]
    }
   ],
   "source": [
    "# 자료형 출력\n",
    "a = 200\n",
    "msg = 'I love Python'\n",
    "list_data = ['a', 'b', 'c']\n",
    "dict_data = {'a':97, 'b':98}\n",
    "print(a)\n",
    "print(msg)\n",
    "print(list_data)\n",
    "print(list_data[0])\n",
    "print(dict_data)\n",
    "print(dict_data['a'])"
   ]
  },
  {
   "cell_type": "markdown",
   "id": "bd3ad6fc",
   "metadata": {},
   "source": [
    "#### 시퀀스 자료 인덱싱\n",
    "- 시퀀스 자료 인덱스는 0부터 시작하며 음수 인덱스도 가능\n",
    "- 슬라이싱은 \\[시작인덱스:끝인덱스:스텝\\]으로 표현하며 스텝은 생략할 수 있음\n",
    "- 자료형이 같은 시퀀스 자료를 순서있게 연결할 수 있다."
   ]
  },
  {
   "cell_type": "code",
   "execution_count": 17,
   "id": "cc5afefd",
   "metadata": {},
   "outputs": [
    {
     "name": "stdout",
     "output_type": "stream",
     "text": [
      "i\n",
      "e\n",
      "1\n",
      "[1, 2, 3]\n",
      "3\n"
     ]
    }
   ],
   "source": [
    "# 시퀀스 자료 인덱싱\n",
    "strdata = 'Time is money'\n",
    "listdata = [1,2,[1,2,3]]\n",
    "print(strdata[5]) # 'i'가 출력\n",
    "print(strdata[-2]) # 'e'가 출력\n",
    "print(listdata[0]) # 1이 출력\n",
    "print(listdata[-1]) # [1,2,3]이 출력\n",
    "print(listdata[2][-1]) # 3이 출력"
   ]
  },
  {
   "cell_type": "markdown",
   "id": "97118e51",
   "metadata": {},
   "source": [
    "#### Q 슬라이싱을 이용하여 아래와 같이 출력하세요\n",
    "\n",
    "strdata = 'Time is money!!'\n",
    "\n",
    "ime\n",
    "\n",
    "Time is\n",
    "\n",
    "oney!!\n",
    "\n",
    "Time is mone\n",
    "\n",
    "y!!\n",
    "\n",
    "Time is money!!\n",
    "\n",
    "Tm smny!"
   ]
  },
  {
   "cell_type": "code",
   "execution_count": 19,
   "id": "8ad332c2",
   "metadata": {},
   "outputs": [
    {
     "name": "stdout",
     "output_type": "stream",
     "text": [
      "ime\n",
      "Time is\n",
      "oney!!\n",
      "Time is mone\n",
      "y!!\n",
      "Time is money!!\n",
      "Tm smny!\n"
     ]
    }
   ],
   "source": [
    "strdata = 'Time is money!!'\n",
    "print(strdata[1:4])\n",
    "print(strdata[:7])\n",
    "print(strdata[9::])\n",
    "print(strdata[:12])\n",
    "print(strdata[-3:])\n",
    "print(strdata[:])\n",
    "print(strdata[0::2])"
   ]
  },
  {
   "cell_type": "markdown",
   "id": "aaf702cd",
   "metadata": {},
   "source": [
    "#### Q 시퀸스 자료 연결(+)을 이용하여 아래와 같이 출력하세요\n",
    "\n",
    "strdata1 = 'I love'; strdata2 = ' Python'; strdata3 = 'you'\n",
    "\n",
    "listdata1 = [1,2,3]; listdata2 = [4,5,6]\n",
    "\n",
    "I love Python\n",
    "\n",
    "I love you\n",
    "\n",
    "[1, 2, 3, 4, 5, 6]"
   ]
  },
  {
   "cell_type": "code",
   "execution_count": 21,
   "id": "5ef52170",
   "metadata": {},
   "outputs": [
    {
     "name": "stdout",
     "output_type": "stream",
     "text": [
      "I love Python\n",
      "I love you\n",
      "[1, 2, 3, 4, 5, 6]\n"
     ]
    }
   ],
   "source": [
    "strdata1 = 'I love'; strdata2 = ' Python'; strdata3 = 'you'\n",
    "listdata1 = [1,2,3]; listdata2 = [4,5,6]\n",
    "print(strdata1 + strdata2)\n",
    "print(strdata1 +' '+ strdata3)\n",
    "print(listdata1 + listdata2)"
   ]
  },
  {
   "cell_type": "markdown",
   "id": "dbaa406b",
   "metadata": {},
   "source": [
    "#### Q 시퀀스 자료 반복 연결(*)을 이용하여 아래와 같이 출력하세요\n",
    "\n",
    "artist = '빅뱅'\n",
    "\n",
    "sing = '뱅~'\n",
    "\n",
    "빅뱅이 부르는 뱅~뱅~뱅~\n",
    "\n",
    "빅뱅이 부르는 뱅~뱅~뱅~"
   ]
  },
  {
   "cell_type": "code",
   "execution_count": 23,
   "id": "f837841a",
   "metadata": {},
   "outputs": [
    {
     "name": "stdout",
     "output_type": "stream",
     "text": [
      "빅뱅이 부르는 뱅~뱅~뱅~\n",
      "빅뱅이 부르는 뱅~뱅~뱅~\n"
     ]
    }
   ],
   "source": [
    "artist = '빅뱅'\n",
    "sing = '뱅~'\n",
    "\n",
    "print(f'{artist}이 부르는 {sing * 3}')\n",
    "print('%s이 부르는'%artist,sing*3)"
   ]
  },
  {
   "cell_type": "markdown",
   "id": "1f1a0878",
   "metadata": {},
   "source": [
    "#### Q 시퀀스 자료 크기를 구하세요\n",
    "\n",
    "strdata1 = 'I love python'\n",
    "\n",
    "strdata2 = '나는 파이썬을 사랑합니다'\n",
    "\n",
    "listdata = ['a','b','c', strdata1, strdata2]\n",
    "\n",
    "13\n",
    "\n",
    "13\n",
    "\n",
    "5\n",
    "\n",
    "13"
   ]
  },
  {
   "cell_type": "code",
   "execution_count": 29,
   "id": "6b0e314f",
   "metadata": {},
   "outputs": [
    {
     "name": "stdout",
     "output_type": "stream",
     "text": [
      "13\n",
      "13\n",
      "5\n",
      "13\n"
     ]
    }
   ],
   "source": [
    "strdata1 = 'I love python'\n",
    "strdata2 = '나는 파이썬을 사랑합니다'\n",
    "listdata = ['a','b','c', strdata1, strdata2]\n",
    "\n",
    "print(len(strdata1))\n",
    "print(len(strdata2))\n",
    "print(len(listdata))\n",
    "print(len(listdata[3]))"
   ]
  },
  {
   "cell_type": "code",
   "execution_count": 31,
   "id": "83b3a7aa",
   "metadata": {},
   "outputs": [
    {
     "name": "stdout",
     "output_type": "stream",
     "text": [
      "True\n",
      "False\n"
     ]
    }
   ],
   "source": [
    "#Q strdata 'c', 1이 각각 포함되어 있는지에 대하여 불린값으로 반환하는 코드를 작성하세요\n",
    "strdata = 'abcde'\n",
    "print('c' in strdata)\n",
    "print('1' in strdata)"
   ]
  },
  {
   "cell_type": "code",
   "execution_count": 32,
   "id": "53020cbf",
   "metadata": {},
   "outputs": [
    {
     "name": "stdout",
     "output_type": "stream",
     "text": [
      "False\n",
      "True\n"
     ]
    }
   ],
   "source": [
    "#Q listdata에 5,4 가 각각 포함되어 있는지에 대하여 불린값으로 반환하는 코드를 작성하세요\n",
    "listdata4=[1,2,3,4]\n",
    "\n",
    "if 5 in listdata4:\n",
    "    print(True)\n",
    "else:\n",
    "    print(False)\n",
    "if 4 in listdata4:\n",
    "    print(True)\n",
    "else:\n",
    "    print(False)\n",
    "    \n",
    "# print(5 in listdata)\n",
    "# print(4 in listdata)"
   ]
  },
  {
   "cell_type": "markdown",
   "id": "7f8c2558",
   "metadata": {},
   "source": [
    "#### 2진수, 8진수, 16진수\n",
    "https://itbeginner2020.tistory.com/17"
   ]
  },
  {
   "cell_type": "markdown",
   "id": "14577c7c",
   "metadata": {},
   "source": [
    "### 2진수, 8진수, 16진수의 데이터 표현 방법\n",
    "- 우리가 프로그래밍을 하면서 변수에 어떤 값을 저장할 때 10진수는 일상적 표현을 그대로 대입한다.\n",
    "\n",
    "- 예를들어 15를 저장하고 싶다면 int a= 15; 와 같이 15라는 숫자를 그대로 대입하면 된다.\n",
    "\n",
    "- 하지만 2진수, 8진수, 16진수는 표현법이 따로 정해져있다.\n",
    "\n",
    "- 2진수는 대입하고자 하는 값 앞에 0b를 붙인다. (숫자0과 영문자b)\n",
    "\n",
    "- 8진수는 대입하고자 하는 값 앞에 0o 을 붙인다. (숫자0 영문자o)\n",
    "\n",
    "- 16진수는 대입하고자 하는 값 앞에 0x 를 붙인다. (숫자0과 영문자x)\n",
    "\n",
    "아래의 예시를 보자. 변수 a,b,c,d 는 모두 10진수 122 이라는 값을 저장하는 코드이다.\n",
    "\n",
    "122는\n",
    "\n",
    "- 2진수로 1111010\n",
    "- 8진수로 172\n",
    "- 16진수로 7A 이다."
   ]
  },
  {
   "cell_type": "code",
   "execution_count": 33,
   "id": "0c2ad4b0",
   "metadata": {},
   "outputs": [
    {
     "name": "stdout",
     "output_type": "stream",
     "text": [
      "10\n",
      "2\n",
      "8\n",
      "16\n"
     ]
    }
   ],
   "source": [
    "int_data = 10\n",
    "bin_data = 0b10\n",
    "oct_data = 0o10\n",
    "hex_data = 0x10\n",
    "print(int_data)\n",
    "print(bin_data)\n",
    "print(oct_data)\n",
    "print(hex_data)"
   ]
  },
  {
   "cell_type": "code",
   "execution_count": 34,
   "id": "0c432161",
   "metadata": {},
   "outputs": [
    {
     "name": "stdout",
     "output_type": "stream",
     "text": [
      "122\n",
      "122\n",
      "122\n"
     ]
    }
   ],
   "source": [
    "a = 0o172 # 8진수 0o 로 시작\n",
    "b = 0x7A # 16진수 0x 로 시작\n",
    "c = 0b1111010 # 2진수 0b 로 시작\n",
    "print(a)\n",
    "print(b)\n",
    "print(c)"
   ]
  },
  {
   "cell_type": "code",
   "execution_count": 35,
   "id": "b5355c04",
   "metadata": {},
   "outputs": [
    {
     "name": "stdout",
     "output_type": "stream",
     "text": [
      "123\n",
      "-123\n",
      "0\n",
      "1.23\n",
      "127\n",
      "2748\n",
      "42\n"
     ]
    }
   ],
   "source": [
    "# 파이썬 자료형 - 숫자형(정수, 실수, 8진수, 16진수)\n",
    "a = 123\n",
    "b = -123\n",
    "c = 0\n",
    "d = 1.23\n",
    "e = 0o177 # 8진수 0o로 시작\n",
    "f = 0xABC # 16진수 0x로 시작\n",
    "g = 0b101010 # 2진수 0b로 시작\n",
    "print(a)\n",
    "print(b)\n",
    "print(c)\n",
    "print(d)\n",
    "print(e)\n",
    "print(f)\n",
    "print(g)"
   ]
  },
  {
   "cell_type": "code",
   "execution_count": 36,
   "id": "77e1fd7b",
   "metadata": {},
   "outputs": [
    {
     "name": "stdout",
     "output_type": "stream",
     "text": [
      "32\n",
      "8\n",
      "2\n"
     ]
    }
   ],
   "source": [
    "# 2진수를 10진수로 표현\n",
    "g1 = 0b100000\n",
    "g2 = 0b1000\n",
    "g3 = 0b10\n",
    "print(g1)\n",
    "print(g2)\n",
    "print(g3)"
   ]
  },
  {
   "cell_type": "code",
   "execution_count": 37,
   "id": "33bdff2d",
   "metadata": {},
   "outputs": [
    {
     "name": "stdout",
     "output_type": "stream",
     "text": [
      "10\n",
      "11\n",
      "171\n",
      "171\n"
     ]
    }
   ],
   "source": [
    "# 16진수를 10진수로 표현\n",
    "f1 = 0xA\n",
    "f2 = 0xB\n",
    "f3 = 0xAB\n",
    "print(f1)\n",
    "print(f2)\n",
    "print(f3)\n",
    "print(16*10+1*11)"
   ]
  },
  {
   "cell_type": "code",
   "execution_count": 38,
   "id": "cfde58b0",
   "metadata": {},
   "outputs": [
    {
     "name": "stdout",
     "output_type": "stream",
     "text": [
      "1.0\n",
      "3.14\n",
      "1560.0\n",
      "-7e-05\n",
      "-7e-05\n",
      "-0.00007\n"
     ]
    }
   ],
   "source": [
    "#실수형 자료\n",
    "f1 = 1.0\n",
    "f2 = 3.14\n",
    "f3 = 1.56e3 # 1.56 x 10의 3승\n",
    "f4 = -7e-5 # -7 x 10의 -5승 \n",
    "f5 = -0.7e-4 # -0.7 x 10의 -4승\n",
    "print(f1)\n",
    "print(f2)\n",
    "print(f3)\n",
    "print(f4)\n",
    "print(f5)\n",
    "print('{:.5f}'.format(f5))"
   ]
  },
  {
   "cell_type": "code",
   "execution_count": 39,
   "id": "a7c8c0bf",
   "metadata": {},
   "outputs": [
    {
     "data": {
      "text/plain": [
       "1560.0"
      ]
     },
     "execution_count": 39,
     "metadata": {},
     "output_type": "execute_result"
    }
   ],
   "source": [
    "1.56*1000"
   ]
  },
  {
   "cell_type": "code",
   "execution_count": 40,
   "id": "8d5ed748",
   "metadata": {},
   "outputs": [
    {
     "name": "stdout",
     "output_type": "stream",
     "text": [
      "-7e-05\n",
      "-7e-05\n"
     ]
    }
   ],
   "source": [
    "print(-7/100000)\n",
    "print(-0.7/10000)"
   ]
  },
  {
   "cell_type": "code",
   "execution_count": 41,
   "id": "ef5090b5",
   "metadata": {},
   "outputs": [
    {
     "name": "stdout",
     "output_type": "stream",
     "text": [
      "6.0\n"
     ]
    }
   ],
   "source": [
    "# 실수형 자료와 정수형 자료 연산 결과는 실수형 자료가 된다.\n",
    "i = 2\n",
    "f = 4.0\n",
    "print(i+f)"
   ]
  },
  {
   "cell_type": "code",
   "execution_count": 42,
   "id": "4e29c9eb",
   "metadata": {},
   "outputs": [
    {
     "name": "stdout",
     "output_type": "stream",
     "text": [
      "10\n",
      "2\n",
      "12\n",
      "20\n",
      "5.0\n",
      "0\n",
      "5\n",
      "100\n"
     ]
    }
   ],
   "source": [
    "# 사칙연산\n",
    "a = 10\n",
    "b = 2\n",
    "c = a + b\n",
    "d = a * b\n",
    "e = a / b\n",
    "f = a % b #나머지\n",
    "g = a // b #몫\n",
    "h = a ** b # 제곱\n",
    "print(a)\n",
    "print(b)\n",
    "print(c)\n",
    "print(d)\n",
    "print(e)\n",
    "print(f)\n",
    "print(g)\n",
    "print(h)"
   ]
  },
  {
   "cell_type": "code",
   "execution_count": 43,
   "id": "0117e4c5",
   "metadata": {},
   "outputs": [
    {
     "name": "stdout",
     "output_type": "stream",
     "text": [
      "6\n",
      "-2\n",
      "8\n",
      "0.5\n",
      "16\n",
      "6.0\n",
      "-12\n",
      "32\n"
     ]
    }
   ],
   "source": [
    "a = 2\n",
    "b = 4\n",
    "ret1 = a+b\n",
    "ret2 = a - b\n",
    "ret3 = a*b         \n",
    "ret4 = a/b         \n",
    "ret5 = a**b        \n",
    "ret6 = a+a*b/a     \n",
    "ret7 = (a+b)*(a-b)  \n",
    "ret8 = a*b**a   \n",
    "print(ret1)\n",
    "print(ret2)\n",
    "print(ret3)\n",
    "print(ret4)\n",
    "print(ret5)\n",
    "print(ret6)\n",
    "print(ret7)\n",
    "print(ret8)"
   ]
  },
  {
   "cell_type": "code",
   "execution_count": 45,
   "id": "5edbdc05",
   "metadata": {},
   "outputs": [
    {
     "ename": "TypeError",
     "evalue": "can only concatenate str (not \"int\") to str",
     "output_type": "error",
     "traceback": [
      "\u001b[1;31m---------------------------------------------------------------------------\u001b[0m",
      "\u001b[1;31mTypeError\u001b[0m                                 Traceback (most recent call last)",
      "\u001b[1;32m~\\AppData\\Local\\Temp\\ipykernel_5868\\3075831772.py\u001b[0m in \u001b[0;36m<module>\u001b[1;34m\u001b[0m\n\u001b[0;32m      2\u001b[0m \u001b[0mstring\u001b[0m \u001b[1;33m=\u001b[0m \u001b[1;34m'문자열'\u001b[0m\u001b[1;33m\u001b[0m\u001b[1;33m\u001b[0m\u001b[0m\n\u001b[0;32m      3\u001b[0m \u001b[0mnumber\u001b[0m \u001b[1;33m=\u001b[0m \u001b[1;36m273\u001b[0m\u001b[1;33m\u001b[0m\u001b[1;33m\u001b[0m\u001b[0m\n\u001b[1;32m----> 4\u001b[1;33m \u001b[0mstring\u001b[0m \u001b[1;33m+\u001b[0m \u001b[0mnumber\u001b[0m\u001b[1;33m\u001b[0m\u001b[1;33m\u001b[0m\u001b[0m\n\u001b[0m",
      "\u001b[1;31mTypeError\u001b[0m: can only concatenate str (not \"int\") to str"
     ]
    }
   ],
   "source": [
    "# 다른 타입간 연산은 안됨\n",
    "string = '문자열'\n",
    "number = 273\n",
    "string + number"
   ]
  },
  {
   "cell_type": "code",
   "execution_count": 46,
   "id": "1abdaf7f",
   "metadata": {},
   "outputs": [
    {
     "data": {
      "text/plain": [
       "'문자열273'"
      ]
     },
     "execution_count": 46,
     "metadata": {},
     "output_type": "execute_result"
    }
   ],
   "source": [
    "string + str(number)"
   ]
  },
  {
   "cell_type": "code",
   "execution_count": 47,
   "id": "391b88d1",
   "metadata": {},
   "outputs": [
    {
     "data": {
      "text/plain": [
       "'문자열 273'"
      ]
     },
     "execution_count": 47,
     "metadata": {},
     "output_type": "execute_result"
    }
   ],
   "source": [
    "string = \"문자열 \"\n",
    "number = '273'\n",
    "string + number"
   ]
  },
  {
   "cell_type": "code",
   "execution_count": 48,
   "id": "a7caf7d8",
   "metadata": {},
   "outputs": [
    {
     "name": "stdout",
     "output_type": "stream",
     "text": [
      "100\n",
      "<class 'int'>\n",
      "100 <class 'int'> 문자 <class 'str'>\n"
     ]
    }
   ],
   "source": [
    "a = 10\n",
    "a = \"문자\"\n",
    "a = 100\n",
    "b = \"문자\"\n",
    "print(a)\n",
    "print(type(a))\n",
    "print(a,type(a),b,type(b))"
   ]
  },
  {
   "cell_type": "code",
   "execution_count": 49,
   "id": "0dbc8c7d",
   "metadata": {},
   "outputs": [
    {
     "data": {
      "text/plain": [
       "200"
      ]
     },
     "execution_count": 49,
     "metadata": {},
     "output_type": "execute_result"
    }
   ],
   "source": [
    "# 복합 대입 연산자\n",
    "num = 10\n",
    "num += 10\n",
    "num *= 10\n",
    "num"
   ]
  },
  {
   "cell_type": "code",
   "execution_count": 51,
   "id": "ac415f2d",
   "metadata": {},
   "outputs": [
    {
     "data": {
      "text/plain": [
       "10"
      ]
     },
     "execution_count": 51,
     "metadata": {},
     "output_type": "execute_result"
    }
   ],
   "source": [
    "num = 100\n",
    "num *= 10\n",
    "num -= 990\n",
    "num"
   ]
  },
  {
   "cell_type": "code",
   "execution_count": 52,
   "id": "041ffc93",
   "metadata": {},
   "outputs": [
    {
     "data": {
      "text/plain": [
       "'나는파이썬을좋아한다'"
      ]
     },
     "execution_count": 52,
     "metadata": {},
     "output_type": "execute_result"
    }
   ],
   "source": [
    "a = '나는'\n",
    "b = '파이썬을'\n",
    "c = '좋아한다'\n",
    "a + b + c"
   ]
  },
  {
   "cell_type": "code",
   "execution_count": 53,
   "id": "4bb81a8d",
   "metadata": {},
   "outputs": [
    {
     "name": "stdout",
     "output_type": "stream",
     "text": [
      "<class 'int'>\n",
      "<class 'str'>\n"
     ]
    }
   ],
   "source": [
    "a = 1\n",
    "b = '안녕'\n",
    "print(type(a))\n",
    "print(type(b))"
   ]
  },
  {
   "cell_type": "code",
   "execution_count": 54,
   "id": "d5da0fcd",
   "metadata": {},
   "outputs": [
    {
     "name": "stdout",
     "output_type": "stream",
     "text": [
      "인사말을 입력하세요:안녕하세요\n"
     ]
    },
    {
     "data": {
      "text/plain": [
       "'안녕하세요'"
      ]
     },
     "execution_count": 54,
     "metadata": {},
     "output_type": "execute_result"
    }
   ],
   "source": [
    "# 사용자 입력\n",
    "input('인사말을 입력하세요:')"
   ]
  },
  {
   "cell_type": "code",
   "execution_count": 55,
   "id": "8f8852bd",
   "metadata": {},
   "outputs": [
    {
     "name": "stdout",
     "output_type": "stream",
     "text": [
      "숫자를 입력하세요:5\n",
      "5\n"
     ]
    },
    {
     "data": {
      "text/plain": [
       "str"
      ]
     },
     "execution_count": 55,
     "metadata": {},
     "output_type": "execute_result"
    }
   ],
   "source": [
    "num = input('숫자를 입력하세요:')\n",
    "print(num)\n",
    "type(num)"
   ]
  },
  {
   "cell_type": "code",
   "execution_count": 56,
   "id": "1e7598e8",
   "metadata": {},
   "outputs": [
    {
     "name": "stdout",
     "output_type": "stream",
     "text": [
      "숫자를 입력하세요:5\n",
      "숫자를 입력하세요:5\n",
      "55\n"
     ]
    }
   ],
   "source": [
    "num1 = input('숫자를 입력하세요:')\n",
    "num2 = input('숫자를 입력하세요:')\n",
    "print (num1 + num2)"
   ]
  },
  {
   "cell_type": "code",
   "execution_count": 57,
   "id": "23d0753f",
   "metadata": {},
   "outputs": [
    {
     "name": "stdout",
     "output_type": "stream",
     "text": [
      "숫자5\n"
     ]
    },
    {
     "data": {
      "text/plain": [
       "int"
      ]
     },
     "execution_count": 57,
     "metadata": {},
     "output_type": "execute_result"
    }
   ],
   "source": [
    "num = int(input('숫자'))\n",
    "type(num)"
   ]
  },
  {
   "cell_type": "code",
   "execution_count": 59,
   "id": "60c89de1",
   "metadata": {},
   "outputs": [
    {
     "name": "stdout",
     "output_type": "stream",
     "text": [
      "숫자를 입력하세요:10\n",
      "숫자를 입력하세요:10\n",
      "20.0\n"
     ]
    }
   ],
   "source": [
    "# input() 함수를 사용하면 숫자도 문자로 전환되어 숫자연산을 위한 변환 필요\n",
    "num1 = input('숫자를 입력하세요:')\n",
    "num1_n = int(num1)\n",
    "num2 = input('숫자를 입력하세요:')\n",
    "num2_n = float(num2)\n",
    "print (num1_n + num2_n)"
   ]
  },
  {
   "cell_type": "markdown",
   "id": "267acb02",
   "metadata": {},
   "source": [
    "Q. 3과 3.3을 입력하고 숫자 연산을 수행하여 6.3을 출력하세요."
   ]
  },
  {
   "cell_type": "code",
   "execution_count": 60,
   "id": "d690aa05",
   "metadata": {},
   "outputs": [
    {
     "name": "stdout",
     "output_type": "stream",
     "text": [
      "숫자를 입력하세요3\n",
      "숫자를 입력하세요3\n",
      "6.0\n"
     ]
    }
   ],
   "source": [
    "num1 = input('숫자를 입력하세요')\n",
    "num1_n = int(num1)\n",
    "num2 = input('숫자를 입력하세요')\n",
    "num2_n = float(num2)\n",
    "print(num1_n + num2_n)\n",
    "# print(num1 + num2)"
   ]
  },
  {
   "cell_type": "markdown",
   "id": "c5e54169",
   "metadata": {},
   "source": [
    "Q. a = 52 와 b = 52.273일때 a+b는 5252.273으로 출력되도록 a와 b를 문자열 자료형으로 변환하세요."
   ]
  },
  {
   "cell_type": "code",
   "execution_count": 61,
   "id": "957e1211",
   "metadata": {},
   "outputs": [
    {
     "name": "stdout",
     "output_type": "stream",
     "text": [
      "5252.273\n"
     ]
    },
    {
     "data": {
      "text/plain": [
       "str"
      ]
     },
     "execution_count": 61,
     "metadata": {},
     "output_type": "execute_result"
    }
   ],
   "source": [
    "a = '52'\n",
    "b = '52.273'\n",
    "print(a + b)\n",
    "type(a + b)"
   ]
  },
  {
   "cell_type": "code",
   "execution_count": 65,
   "id": "27172d3d",
   "metadata": {},
   "outputs": [
    {
     "name": "stdout",
     "output_type": "stream",
     "text": [
      "5252.273\n"
     ]
    }
   ],
   "source": [
    "a = 52\n",
    "b = 52.273\n",
    "print(str(a) + str(b))"
   ]
  },
  {
   "cell_type": "code",
   "execution_count": 66,
   "id": "decbddb3",
   "metadata": {},
   "outputs": [
    {
     "name": "stdout",
     "output_type": "stream",
     "text": [
      "python's value is great\n"
     ]
    }
   ],
   "source": [
    "# 문자열 : \"\", '', \"\"\" \"\"\", ''' '''\n",
    "p1 = \"python's value is great\"\n",
    "# p2 = 'python's value is great'\n",
    "print(p1)"
   ]
  },
  {
   "cell_type": "code",
   "execution_count": 67,
   "id": "bbb9a450",
   "metadata": {},
   "outputs": [
    {
     "data": {
      "text/plain": [
       "'\"python is valuable\" he says'"
      ]
     },
     "execution_count": 67,
     "metadata": {},
     "output_type": "execute_result"
    }
   ],
   "source": [
    "s1 = '\"python is valuable\" he says'\n",
    "s1"
   ]
  },
  {
   "cell_type": "code",
   "execution_count": 68,
   "id": "02c4f0dc",
   "metadata": {},
   "outputs": [
    {
     "data": {
      "text/plain": [
       "\"python's value is great\""
      ]
     },
     "execution_count": 68,
     "metadata": {},
     "output_type": "execute_result"
    }
   ],
   "source": [
    "s2 = 'python\\'s value is great'\n",
    "s2"
   ]
  },
  {
   "cell_type": "code",
   "execution_count": 69,
   "id": "5eb505a4",
   "metadata": {},
   "outputs": [
    {
     "name": "stdout",
     "output_type": "stream",
     "text": [
      "Once you study data analysis\n",
      "You need Python\n",
      "Once you study data analysis\n",
      "You need Python\n",
      "Once you study data analysis\n",
      "You need Python\n"
     ]
    }
   ],
   "source": [
    "y1 = \"Once you study data analysis\\nYou need Python\"\n",
    "print(y1)\n",
    "y2 = '''Once you study data analysis\n",
    "You need Python'''\n",
    "print(y2)\n",
    "y3 = \"\"\"Once you study data analysis\n",
    "You need Python\"\"\"\n",
    "print(y3)"
   ]
  },
  {
   "cell_type": "code",
   "execution_count": 70,
   "id": "dd53dc15",
   "metadata": {},
   "outputs": [
    {
     "name": "stdout",
     "output_type": "stream",
     "text": [
      "\"What a wonderful world!\"\n",
      "he said loudly\n"
     ]
    }
   ],
   "source": [
    "# string = '''\"What a wonderful world!\"\\n he said loudly'''\n",
    "string = '''\"What a wonderful world!\"\n",
    "he said loudly'''\n",
    "print(string)"
   ]
  },
  {
   "cell_type": "code",
   "execution_count": 72,
   "id": "f14d68cd",
   "metadata": {},
   "outputs": [
    {
     "name": "stdout",
     "output_type": "stream",
     "text": [
      "\"What a wonderful world!\"\n",
      " he said loudly\n"
     ]
    }
   ],
   "source": [
    "string = '\"What a wonderful world!\"\\n he said loudly'\n",
    "print(string)"
   ]
  },
  {
   "cell_type": "code",
   "execution_count": 73,
   "id": "d252b6b2",
   "metadata": {},
   "outputs": [
    {
     "name": "stdout",
     "output_type": "stream",
     "text": [
      "Pythonis easy to learn\n",
      "PythonPythonPython\n",
      "==========\n"
     ]
    }
   ],
   "source": [
    "#문자열 연산\n",
    "a1 = 'Python'\n",
    "a2 = 'is easy to learn'\n",
    "print(a1 + a2)\n",
    "print(a1 * 3)\n",
    "print('='*10)"
   ]
  },
  {
   "cell_type": "code",
   "execution_count": 75,
   "id": "69fd1278",
   "metadata": {},
   "outputs": [
    {
     "name": "stdout",
     "output_type": "stream",
     "text": [
      "[1, 'a', 'abc', [1, 2, 3, 4, 5], ['a', 'b', 'c']]\n"
     ]
    }
   ],
   "source": [
    "# 자료형 - List\n",
    "# 리스트는 [] 로 표시하며 []안의 요소를 콤마로 구분항여 순서있게 나열\n",
    "list1 = [1,2,3,4,5]\n",
    "list2 = ['a','b','c']\n",
    "list3 = [1,'a','abc',[1,2,3,4,5],['a','b','c']]\n",
    "print(list3)"
   ]
  },
  {
   "cell_type": "code",
   "execution_count": 76,
   "id": "5ef88412",
   "metadata": {},
   "outputs": [
    {
     "data": {
      "text/plain": [
       "'b'"
      ]
     },
     "execution_count": 76,
     "metadata": {},
     "output_type": "execute_result"
    }
   ],
   "source": [
    "# 인덱싱 : 0부터 시작\n",
    "list1 = [1,2,3,4,5]\n",
    "list1[:]\n",
    "list3[2]\n",
    "list3[3][4]\n",
    "list3[4][1]"
   ]
  },
  {
   "cell_type": "code",
   "execution_count": 77,
   "id": "5f581c59",
   "metadata": {},
   "outputs": [
    {
     "data": {
      "text/plain": [
       "'b'"
      ]
     },
     "execution_count": 77,
     "metadata": {},
     "output_type": "execute_result"
    }
   ],
   "source": [
    "list3 = [1,'a','abc',[1,2,3,4,5],['a','b','c']]\n",
    "list3[4][1]"
   ]
  },
  {
   "cell_type": "code",
   "execution_count": 78,
   "id": "eb9f4518",
   "metadata": {},
   "outputs": [
    {
     "name": "stdout",
     "output_type": "stream",
     "text": [
      "[1, 1, 2, 3, 4, 5, 6, 7, 8, 9]\n",
      "['a', 'a', 'c']\n",
      "['a', 'c']\n"
     ]
    }
   ],
   "source": [
    "# 리스트 수정, 삭제\n",
    "\n",
    "a = [0, 1, 2, 3, 4, 5, 6, 7, 8, 9]\n",
    "b = ['a', 'b', 'c']\n",
    "a[0] = 1\n",
    "b[1] = 'a'\n",
    "print(a)\n",
    "print(b)\n",
    "del b[1]\n",
    "print(b)"
   ]
  },
  {
   "cell_type": "code",
   "execution_count": 81,
   "id": "be8f7319",
   "metadata": {},
   "outputs": [
    {
     "name": "stdout",
     "output_type": "stream",
     "text": [
      "[0, 1, 2, 3, 4, 5, 6, 7, 8, 9, 'a', 'b', 'c']\n"
     ]
    },
    {
     "data": {
      "text/plain": [
       "[0, 1, 2, 3, 4, 5, 6, 7, 8, 9, 'a', 'b', 1]"
      ]
     },
     "execution_count": 81,
     "metadata": {},
     "output_type": "execute_result"
    }
   ],
   "source": [
    "a = [0, 1, 2, 3, 4, 5, 6, 7, 8, 9]\n",
    "b = ['a', 'b', 'c']\n",
    "c = a + b\n",
    "print(c)\n",
    "c[-1] = 1\n",
    "c"
   ]
  },
  {
   "cell_type": "code",
   "execution_count": 82,
   "id": "9c527594",
   "metadata": {},
   "outputs": [
    {
     "data": {
      "text/plain": [
       "[0, 1, 2, 3, 4, 5, 6, 7, 8, 9, 'a', 2, 1]"
      ]
     },
     "execution_count": 82,
     "metadata": {},
     "output_type": "execute_result"
    }
   ],
   "source": [
    "c[-2] = 2\n",
    "c"
   ]
  },
  {
   "cell_type": "code",
   "execution_count": 83,
   "id": "b91c705f",
   "metadata": {},
   "outputs": [
    {
     "name": "stdout",
     "output_type": "stream",
     "text": [
      "[1, 2, 3, 4]\n",
      "[4, 3, 2, 1]\n",
      "[4, 3, 2, 1]\n"
     ]
    }
   ],
   "source": [
    "# 정렬\n",
    "b = [2,4,3,1]\n",
    "b.sort()\n",
    "print(b)\n",
    "# 내림차순\n",
    "b_d = sorted(b, reverse=True)\n",
    "print(b_d)\n",
    "b.reverse()\n",
    "print(b)"
   ]
  },
  {
   "cell_type": "code",
   "execution_count": 84,
   "id": "a8bb3744",
   "metadata": {},
   "outputs": [
    {
     "name": "stdout",
     "output_type": "stream",
     "text": [
      "[3, 2, 4, 1]\n"
     ]
    }
   ],
   "source": [
    "a = [1,4,2,3]\n",
    "a.reverse()\n",
    "print(a)"
   ]
  },
  {
   "cell_type": "code",
   "execution_count": 85,
   "id": "110bfa82",
   "metadata": {},
   "outputs": [
    {
     "name": "stdout",
     "output_type": "stream",
     "text": [
      "[4, 3, 2, 1]\n",
      "[1, 3, 4, 2]\n"
     ]
    }
   ],
   "source": [
    "b = [2,4,3,1]\n",
    "b_d = sorted(b, reverse=True)\n",
    "print(b_d)\n",
    "b.reverse()\n",
    "print(b)"
   ]
  },
  {
   "cell_type": "code",
   "execution_count": 86,
   "id": "82d5c101",
   "metadata": {},
   "outputs": [
    {
     "name": "stdout",
     "output_type": "stream",
     "text": [
      "[1, 1, 1, 2, 2, 3, 4, 5, 6, 7, 8, 9]\n",
      "[9, 8, 7, 6, 5, 4, 3, 2, 2, 1, 1, 1]\n",
      "[9, 8, 7, 6, 5, 4, 3, 2, 2, 1, 1, 1]\n"
     ]
    }
   ],
   "source": [
    "# 정렬 ,내림차순으로 변환\n",
    "s = [1, 1, 2, 3, 4, 5, 6, 7, 8, 9, 2, 1]\n",
    "\n",
    "s.sort()\n",
    "print(s)\n",
    "s_d = sorted(s, reverse=True)\n",
    "print(s_d)\n",
    "s.reverse()\n",
    "print(s)"
   ]
  },
  {
   "cell_type": "code",
   "execution_count": 87,
   "id": "337b6aa6",
   "metadata": {},
   "outputs": [
    {
     "name": "stdout",
     "output_type": "stream",
     "text": [
      "1\n"
     ]
    }
   ],
   "source": [
    "# 인덱스 위치 반환\n",
    "c = [1,2,3,1,5]\n",
    "print(c.index(2))"
   ]
  },
  {
   "cell_type": "code",
   "execution_count": 90,
   "id": "c2c1f086",
   "metadata": {},
   "outputs": [
    {
     "data": {
      "text/plain": [
       "array([3, 2, 2, 1, 0, 1, 4, 0, 3, 2, 4, 3, 2, 4, 1, 0, 2, 4, 4, 4, 3, 2,\n",
       "       2, 2, 2, 2, 2, 1, 1, 4, 1, 3, 2, 1, 0, 0, 4, 4, 2, 2, 1, 0, 3, 3,\n",
       "       4, 3, 1, 2, 4, 2, 3, 2, 4, 0, 2, 2, 3, 2, 0, 2, 3, 4, 2, 2, 1, 0,\n",
       "       2, 4, 2, 1, 1, 0, 2, 4, 0, 1, 2, 2, 1, 3, 2, 2, 0, 4, 3, 2, 3, 3,\n",
       "       3, 0, 4, 1, 1, 1, 0, 1, 3, 1, 2, 4])"
      ]
     },
     "execution_count": 90,
     "metadata": {},
     "output_type": "execute_result"
    }
   ],
   "source": [
    "import numpy as np\n",
    "\n",
    "np.random.randint(5, size=100) # 0 ~ 4 사이에서 무작위로 100개의 정수를 배열로 출력"
   ]
  },
  {
   "cell_type": "code",
   "execution_count": 92,
   "id": "8e25f5b5",
   "metadata": {},
   "outputs": [
    {
     "name": "stdout",
     "output_type": "stream",
     "text": [
      "[38, 6, 94, 70, 47, 20, 99, 9, 41, 25, 39, 93, 71, 72, 27, 27, 80, 66, 84, 83, 8, 35, 32, 99, 16, 2, 59, 46, 11, 78, 25, 43, 3, 68, 34, 12, 57, 44, 91, 38, 55, 13, 48, 62, 15, 6, 47, 6, 9, 99, 18, 13, 19, 60, 83, 92, 86, 66, 62, 30, 50, 23, 8, 50, 64, 70, 1, 15, 21, 12, 85, 50, 98, 3, 1, 16, 20, 83, 64, 50, 36, 52, 2, 34, 2, 32, 9, 35, 61, 10, 7, 66, 51, 31, 94, 50, 55, 56, 58, 61]\n",
      "100\n"
     ]
    },
    {
     "data": {
      "text/plain": [
       "66"
      ]
     },
     "execution_count": 92,
     "metadata": {},
     "output_type": "execute_result"
    }
   ],
   "source": [
    "# tolist() 리스트로 변환\n",
    "import numpy as np\n",
    "\n",
    "c = np.random.randint(100, size=100). tolist()\n",
    "print(c)\n",
    "print(len(c))\n",
    "c.index(1) #1의 인덱스"
   ]
  },
  {
   "cell_type": "code",
   "execution_count": 93,
   "id": "cfe09383",
   "metadata": {},
   "outputs": [
    {
     "name": "stdout",
     "output_type": "stream",
     "text": [
      "2\n"
     ]
    }
   ],
   "source": [
    "# 개수 반환\n",
    "c = [1,1,3,3,3,5,5]\n",
    "print(c.count(5))"
   ]
  },
  {
   "cell_type": "code",
   "execution_count": 94,
   "id": "c4d77c7d",
   "metadata": {},
   "outputs": [
    {
     "name": "stdout",
     "output_type": "stream",
     "text": [
      "[1, 2, 3, 4, 5]\n",
      "[1, 2, 3, 4, 5, 6]\n",
      "[5, 1, 2, 3, 4, 5, 6]\n",
      "[5, 1, 2, 3, 4, 5, 6, 7]\n"
     ]
    },
    {
     "data": {
      "text/plain": [
       "8"
      ]
     },
     "execution_count": 94,
     "metadata": {},
     "output_type": "execute_result"
    }
   ],
   "source": [
    "# 리스트 확장\n",
    "h = [1,2,3]\n",
    "h.extend([4,5])\n",
    "print(h)\n",
    "# 추가\n",
    "h.append(6)\n",
    "print(h)\n",
    "h.insert(0,5)\n",
    "print(h)\n",
    "h.insert(10,7)\n",
    "print(h)\n",
    "len(h)"
   ]
  },
  {
   "cell_type": "markdown",
   "id": "1b77026c",
   "metadata": {},
   "source": [
    "Q. list = [0, 1, 2, 3, 4, 5, 6, 7, 8, 9]에서 아래와 같이 출력하세요\n",
    "\n",
    "list = [0, 1, 2, 3, 4, 5, 6, 7, 8, 9]\n",
    "\n",
    "[0, 2, 4, 6, 8]\n",
    "\n",
    "[1, 3, 5, 7, 9]\n",
    "\n",
    "[2, 1, 0]"
   ]
  },
  {
   "cell_type": "code",
   "execution_count": 95,
   "id": "126322c1",
   "metadata": {},
   "outputs": [
    {
     "name": "stdout",
     "output_type": "stream",
     "text": [
      "[0, 2, 4, 6, 8]\n"
     ]
    }
   ],
   "source": [
    "list = [0,1,2,3,4,5,6,7,8,9]\n",
    "print(list[0::2])"
   ]
  },
  {
   "cell_type": "code",
   "execution_count": 96,
   "id": "436c1b7d",
   "metadata": {},
   "outputs": [
    {
     "name": "stdout",
     "output_type": "stream",
     "text": [
      "[1, 3, 5, 7, 9]\n"
     ]
    }
   ],
   "source": [
    "list = [0,1,2,3,4,5,6,7,8,9]\n",
    "print(list[1::2])"
   ]
  },
  {
   "cell_type": "code",
   "execution_count": 97,
   "id": "76252374",
   "metadata": {},
   "outputs": [
    {
     "name": "stdout",
     "output_type": "stream",
     "text": [
      "[2, 1, 0]\n"
     ]
    }
   ],
   "source": [
    "list = [0,1,2,3,4,5,6,7,8,9]\n",
    "list.reverse()\n",
    "print(list[7:])"
   ]
  },
  {
   "cell_type": "code",
   "execution_count": 98,
   "id": "cb3b0263",
   "metadata": {},
   "outputs": [
    {
     "name": "stdout",
     "output_type": "stream",
     "text": [
      "[2, 3, 4, 5, 6, 7, 8, 9]\n"
     ]
    }
   ],
   "source": [
    "list = [0,1,2,3,4,5,6,7,8,9]\n",
    "del list[0:2]\n",
    "print(list)"
   ]
  },
  {
   "cell_type": "code",
   "execution_count": 99,
   "id": "dcae4815",
   "metadata": {},
   "outputs": [
    {
     "data": {
      "text/plain": [
       "[0, 1, 2, 3, 4, 5, 6, 7, 8, 9]"
      ]
     },
     "execution_count": 99,
     "metadata": {},
     "output_type": "execute_result"
    }
   ],
   "source": [
    "list = [0,1,2,3,4,5,6,7,8,9]\n",
    "list[:]"
   ]
  },
  {
   "cell_type": "code",
   "execution_count": 100,
   "id": "304658eb",
   "metadata": {},
   "outputs": [
    {
     "data": {
      "text/plain": [
       "[2, 1, 0]"
      ]
     },
     "execution_count": 100,
     "metadata": {},
     "output_type": "execute_result"
    }
   ],
   "source": [
    "list = [0,1,2,3,4,5,6,7,8,9]\n",
    "list[2::-1]"
   ]
  },
  {
   "cell_type": "code",
   "execution_count": 101,
   "id": "31035efb",
   "metadata": {},
   "outputs": [
    {
     "data": {
      "text/plain": [
       "[3, 1]"
      ]
     },
     "execution_count": 101,
     "metadata": {},
     "output_type": "execute_result"
    }
   ],
   "source": [
    "list = [0,1,2,3,4,5,6,7,8,9]\n",
    "list[3::-2]"
   ]
  },
  {
   "cell_type": "code",
   "execution_count": 102,
   "id": "01bdbf1b",
   "metadata": {},
   "outputs": [
    {
     "data": {
      "text/plain": [
       "[9, 8, 7, 6, 5, 4, 3, 2, 1, 0]"
      ]
     },
     "execution_count": 102,
     "metadata": {},
     "output_type": "execute_result"
    }
   ],
   "source": [
    "list = [0,1,2,3,4,5,6,7,8,9]\n",
    "list[::-1]"
   ]
  },
  {
   "cell_type": "code",
   "execution_count": 103,
   "id": "1fe3b196",
   "metadata": {},
   "outputs": [
    {
     "data": {
      "text/plain": [
       "[9, 6, 3, 0]"
      ]
     },
     "execution_count": 103,
     "metadata": {},
     "output_type": "execute_result"
    }
   ],
   "source": [
    "list = [0,1,2,3,4,5,6,7,8,9]\n",
    "list[::-3]"
   ]
  },
  {
   "cell_type": "code",
   "execution_count": 104,
   "id": "b0c683db",
   "metadata": {},
   "outputs": [
    {
     "name": "stdout",
     "output_type": "stream",
     "text": [
      "[2, 1, 0]\n"
     ]
    }
   ],
   "source": [
    "list = [0,1,2,3,4,5,6,7,8,9]\n",
    "del list[3:]\n",
    "list.reverse()\n",
    "print(list)"
   ]
  },
  {
   "cell_type": "code",
   "execution_count": 105,
   "id": "ff90f1d8",
   "metadata": {},
   "outputs": [
    {
     "name": "stdout",
     "output_type": "stream",
     "text": [
      "[2, 1, 0]\n"
     ]
    }
   ],
   "source": [
    "list = [0,1,2,3,4,5,6,7,8,9]\n",
    "list.reverse()\n",
    "del list[:7]\n",
    "print(list)"
   ]
  },
  {
   "cell_type": "code",
   "execution_count": 106,
   "id": "e6379425",
   "metadata": {},
   "outputs": [
    {
     "data": {
      "text/plain": [
       "array([36,  7, 50, 55, 92, 23, 14, 28, 33, 81, 16, 16, 12,  1, 97, 77, 24,\n",
       "       96, 66, 32])"
      ]
     },
     "execution_count": 106,
     "metadata": {},
     "output_type": "execute_result"
    }
   ],
   "source": [
    "np.random.randint(100, size=20)"
   ]
  },
  {
   "cell_type": "markdown",
   "id": "a1163922",
   "metadata": {},
   "source": [
    "- 33을 출력\n",
    "- 82를 리스트에 추가\n",
    "- 82의 갯수를 구하기\n",
    "- 87의 인덱스 구하기\n",
    "- 인덱스 3에서 10까지의 값을 출력하고 list2에 저장한 후 내림차순 정렬하기\n",
    "- 39를 11로 변경\n",
    "- [69,45,58] 출력\n",
    "- 짝수 인덱스의 값으로 구성된 리스트 출력하기\n",
    "- 인데스가 가장 큰수를 삭제하기\n",
    "- 인덱스 3, 5인 값으로 4칙 연산하기\n",
    "\n",
    "list1 = [58,45,69,19,4,87,29,13,39,15,54,[8,33,11],27,49,63,98,22,82]"
   ]
  },
  {
   "cell_type": "code",
   "execution_count": 117,
   "id": "a34351f6",
   "metadata": {},
   "outputs": [
    {
     "name": "stdout",
     "output_type": "stream",
     "text": [
      "33\n"
     ]
    }
   ],
   "source": [
    "list1 = [58,45,69,19,4,87,29,13,39,15,54,[8,33,11],27,49,63,98,22,82]\n",
    "print(list1[11][1])"
   ]
  },
  {
   "cell_type": "code",
   "execution_count": 118,
   "id": "875f684c",
   "metadata": {},
   "outputs": [
    {
     "name": "stdout",
     "output_type": "stream",
     "text": [
      "[58, 45, 69, 19, 4, 87, 29, 13, 39, 15, 54, [8, 33, 11], 27, 49, 63, 98, 22, 82, 82]\n"
     ]
    }
   ],
   "source": [
    "list1.append(82)\n",
    "print(list1)"
   ]
  },
  {
   "cell_type": "code",
   "execution_count": 119,
   "id": "11ae24ac",
   "metadata": {},
   "outputs": [
    {
     "data": {
      "text/plain": [
       "2"
      ]
     },
     "execution_count": 119,
     "metadata": {},
     "output_type": "execute_result"
    }
   ],
   "source": [
    "list1.count(82)"
   ]
  },
  {
   "cell_type": "code",
   "execution_count": 120,
   "id": "c8227a04",
   "metadata": {},
   "outputs": [
    {
     "data": {
      "text/plain": [
       "5"
      ]
     },
     "execution_count": 120,
     "metadata": {},
     "output_type": "execute_result"
    }
   ],
   "source": [
    "list1.index(87)"
   ]
  },
  {
   "cell_type": "code",
   "execution_count": 121,
   "id": "434c212c",
   "metadata": {},
   "outputs": [
    {
     "name": "stdout",
     "output_type": "stream",
     "text": [
      "[87, 54, 39, 29, 19, 15, 13, 4]\n"
     ]
    }
   ],
   "source": [
    "list2 = list1[3:11]\n",
    "list2_d = sorted(list2, reverse=True)\n",
    "print(list2_d)"
   ]
  },
  {
   "cell_type": "code",
   "execution_count": 122,
   "id": "1ac758e7",
   "metadata": {},
   "outputs": [
    {
     "name": "stdout",
     "output_type": "stream",
     "text": [
      "[87, 54, 39, 29, 19, 15, 13, 4]\n"
     ]
    }
   ],
   "source": [
    "list2 = list1[3:11]\n",
    "list2.sort(reverse=True)\n",
    "print(list2)"
   ]
  },
  {
   "cell_type": "code",
   "execution_count": 123,
   "id": "265a6e18",
   "metadata": {},
   "outputs": [
    {
     "name": "stdout",
     "output_type": "stream",
     "text": [
      "[58, 45, 69, 19, 4, 87, 29, 13, 11, 15, 54, [8, 33, 11], 27, 49, 63, 98, 22, 82, 82]\n"
     ]
    }
   ],
   "source": [
    "a = list1.index(39)\n",
    "list1[a] = 11\n",
    "print(list1)"
   ]
  },
  {
   "cell_type": "code",
   "execution_count": 124,
   "id": "8b2aa045",
   "metadata": {},
   "outputs": [
    {
     "name": "stdout",
     "output_type": "stream",
     "text": [
      "[69, 45, 58]\n"
     ]
    }
   ],
   "source": [
    "print(list1[2::-1])"
   ]
  },
  {
   "cell_type": "code",
   "execution_count": 125,
   "id": "6e2e582f",
   "metadata": {},
   "outputs": [
    {
     "name": "stdout",
     "output_type": "stream",
     "text": [
      "[58, 69, 4, 29, 11, 54, 27, 63, 22, 82]\n"
     ]
    }
   ],
   "source": [
    "print(list1[::2])"
   ]
  },
  {
   "cell_type": "code",
   "execution_count": 126,
   "id": "23f62c5a",
   "metadata": {},
   "outputs": [
    {
     "name": "stdout",
     "output_type": "stream",
     "text": [
      "[58, 45, 69, 19, 4, 87, 29, 13, 11, 15, 54, [8, 33, 11], 27, 49, 63, 98, 22, 82]\n"
     ]
    }
   ],
   "source": [
    "del list1[-1]\n",
    "print(list1)"
   ]
  },
  {
   "cell_type": "code",
   "execution_count": 127,
   "id": "2c36cf01",
   "metadata": {},
   "outputs": [
    {
     "name": "stdout",
     "output_type": "stream",
     "text": [
      "19 87\n",
      "106\n",
      "-68\n",
      "1653\n",
      "0.21839080459770116\n",
      "19\n",
      "0\n"
     ]
    }
   ],
   "source": [
    "a=list1[3]; b=list1[5]\n",
    "print(a,b)\n",
    "print(a+b)\n",
    "print(a-b)\n",
    "print(a*b)\n",
    "print(a/b)\n",
    "print(a%b)\n",
    "print(a//b)"
   ]
  },
  {
   "cell_type": "code",
   "execution_count": 129,
   "id": "983e1541",
   "metadata": {},
   "outputs": [
    {
     "name": "stdout",
     "output_type": "stream",
     "text": [
      "(1, 2, 3, 4, 5)\n",
      "abc\n",
      ",\n",
      "b\n"
     ]
    }
   ],
   "source": [
    "# 튜플\n",
    "tuple1 = (1,2,3,4,5)\n",
    "tuple2 = ('a','b','c')\n",
    "tuple3 = (1,'a','abc','[1,2,3,4,5]',['a','b','c'])\n",
    "\n",
    "print(tuple1[:])\n",
    "print(tuple3[2])\n",
    "print(tuple3[3][4])\n",
    "print(tuple3[4][1])"
   ]
  },
  {
   "cell_type": "code",
   "execution_count": 130,
   "id": "251325d7",
   "metadata": {},
   "outputs": [
    {
     "ename": "TypeError",
     "evalue": "'tuple' object does not support item assignment",
     "output_type": "error",
     "traceback": [
      "\u001b[1;31m---------------------------------------------------------------------------\u001b[0m",
      "\u001b[1;31mTypeError\u001b[0m                                 Traceback (most recent call last)",
      "\u001b[1;32m~\\AppData\\Local\\Temp\\ipykernel_5868\\849088280.py\u001b[0m in \u001b[0;36m<module>\u001b[1;34m\u001b[0m\n\u001b[0;32m      2\u001b[0m \u001b[1;31m# 튜플의 요소 값은 변경할 수 없음 - 프로그램에서 그 값이 항상 변하지 않아야되는 경우 사용\u001b[0m\u001b[1;33m\u001b[0m\u001b[1;33m\u001b[0m\u001b[0m\n\u001b[0;32m      3\u001b[0m \u001b[0mTuple1\u001b[0m \u001b[1;33m=\u001b[0m \u001b[1;33m(\u001b[0m\u001b[1;36m1\u001b[0m\u001b[1;33m,\u001b[0m\u001b[1;36m2\u001b[0m\u001b[1;33m,\u001b[0m\u001b[1;36m3\u001b[0m\u001b[1;33m,\u001b[0m\u001b[1;36m4\u001b[0m\u001b[1;33m,\u001b[0m\u001b[1;36m5\u001b[0m\u001b[1;33m)\u001b[0m\u001b[1;33m\u001b[0m\u001b[1;33m\u001b[0m\u001b[0m\n\u001b[1;32m----> 4\u001b[1;33m \u001b[0mTuple1\u001b[0m\u001b[1;33m[\u001b[0m\u001b[1;36m0\u001b[0m\u001b[1;33m]\u001b[0m \u001b[1;33m=\u001b[0m \u001b[1;36m6\u001b[0m\u001b[1;33m\u001b[0m\u001b[1;33m\u001b[0m\u001b[0m\n\u001b[0m\u001b[0;32m      5\u001b[0m \u001b[0mpritn\u001b[0m\u001b[1;33m(\u001b[0m\u001b[0mTuple1\u001b[0m\u001b[1;33m)\u001b[0m\u001b[1;33m\u001b[0m\u001b[1;33m\u001b[0m\u001b[0m\n",
      "\u001b[1;31mTypeError\u001b[0m: 'tuple' object does not support item assignment"
     ]
    }
   ],
   "source": [
    "# 자료형 - Tuple\n",
    "# 튜플의 요소 값은 변경할 수 없음 - 프로그램에서 그 값이 항상 변하지 않아야되는 경우 사용\n",
    "Tuple1 = (1,2,3,4,5)\n",
    "Tuple1[0] = 6\n",
    "pritn(Tuple1)"
   ]
  },
  {
   "cell_type": "code",
   "execution_count": 131,
   "id": "04ce915a",
   "metadata": {},
   "outputs": [
    {
     "name": "stdout",
     "output_type": "stream",
     "text": [
      "[1, 3, 4, 5]\n"
     ]
    }
   ],
   "source": [
    "a = [1,2,3,4,5]\n",
    "del a[1]\n",
    "print(a)"
   ]
  },
  {
   "cell_type": "code",
   "execution_count": 132,
   "id": "6d82318d",
   "metadata": {
    "scrolled": true
   },
   "outputs": [
    {
     "ename": "TypeError",
     "evalue": "'tuple' object doesn't support item deletion",
     "output_type": "error",
     "traceback": [
      "\u001b[1;31m---------------------------------------------------------------------------\u001b[0m",
      "\u001b[1;31mTypeError\u001b[0m                                 Traceback (most recent call last)",
      "\u001b[1;32m~\\AppData\\Local\\Temp\\ipykernel_5868\\1091815852.py\u001b[0m in \u001b[0;36m<module>\u001b[1;34m\u001b[0m\n\u001b[0;32m      1\u001b[0m \u001b[0ma\u001b[0m \u001b[1;33m=\u001b[0m \u001b[1;33m(\u001b[0m\u001b[1;36m1\u001b[0m\u001b[1;33m,\u001b[0m\u001b[1;36m2\u001b[0m\u001b[1;33m,\u001b[0m\u001b[1;36m3\u001b[0m\u001b[1;33m,\u001b[0m\u001b[1;36m4\u001b[0m\u001b[1;33m,\u001b[0m\u001b[1;36m5\u001b[0m\u001b[1;33m)\u001b[0m\u001b[1;33m\u001b[0m\u001b[1;33m\u001b[0m\u001b[0m\n\u001b[1;32m----> 2\u001b[1;33m \u001b[1;32mdel\u001b[0m \u001b[0ma\u001b[0m\u001b[1;33m[\u001b[0m\u001b[1;36m1\u001b[0m\u001b[1;33m]\u001b[0m\u001b[1;33m\u001b[0m\u001b[1;33m\u001b[0m\u001b[0m\n\u001b[0m\u001b[0;32m      3\u001b[0m \u001b[0mprint\u001b[0m\u001b[1;33m(\u001b[0m\u001b[0ma\u001b[0m\u001b[1;33m)\u001b[0m\u001b[1;33m\u001b[0m\u001b[1;33m\u001b[0m\u001b[0m\n",
      "\u001b[1;31mTypeError\u001b[0m: 'tuple' object doesn't support item deletion"
     ]
    }
   ],
   "source": [
    "a = (1,2,3,4,5)\n",
    "del a[1]\n",
    "print(a)"
   ]
  },
  {
   "cell_type": "code",
   "execution_count": 133,
   "id": "8933b598",
   "metadata": {},
   "outputs": [
    {
     "name": "stdout",
     "output_type": "stream",
     "text": [
      "(1,)\n",
      "(1, 2, 3)\n",
      "(1, 2, 3, 1, 2, 3, 1, 2, 3)\n",
      "(1, 1, 2, 3)\n",
      "1\n"
     ]
    },
    {
     "data": {
      "text/plain": [
       "int"
      ]
     },
     "execution_count": 133,
     "metadata": {},
     "output_type": "execute_result"
    }
   ],
   "source": [
    "t1 = (1,) # 1개의 요소만 가질 때는 요소뒤에 콤마를 붙여야 함\n",
    "print(t1)\n",
    "t2 = 1,2,3\n",
    "print(t2)\n",
    "print(t2 * 3)\n",
    "t3 = t1 + t2\n",
    "print(t3)\n",
    "t4 = (1)\n",
    "print(t4)\n",
    "type(t4)"
   ]
  },
  {
   "cell_type": "code",
   "execution_count": 134,
   "id": "a8394723",
   "metadata": {},
   "outputs": [
    {
     "name": "stdout",
     "output_type": "stream",
     "text": [
      "1\n",
      "{'a': 1, 'b': 5, 'c': 3}\n"
     ]
    }
   ],
   "source": [
    "# 자료형 - 사전(키와 값을 하나의 요소로 하는 순서가 없는 집합)\n",
    "d1 = {'a':1,'b':2,'c':3}\n",
    "print(d1['a'])\n",
    "d1['b'] = 5\n",
    "print(d1)"
   ]
  },
  {
   "cell_type": "code",
   "execution_count": 135,
   "id": "a6c521f9",
   "metadata": {},
   "outputs": [
    {
     "name": "stdout",
     "output_type": "stream",
     "text": [
      "dict_keys(['a', 'b', 'c'])\n",
      "dict_values([1, 5, 3])\n",
      "dict_items([('a', 1), ('b', 5), ('c', 3)])\n"
     ]
    }
   ],
   "source": [
    "print(d1.keys())\n",
    "print(d1.values())\n",
    "print(d1.items())"
   ]
  },
  {
   "cell_type": "code",
   "execution_count": 136,
   "id": "b9fe01c7",
   "metadata": {},
   "outputs": [
    {
     "name": "stdout",
     "output_type": "stream",
     "text": [
      "1\n",
      "{'a': 1, 'b': 2, 'c': 3, 'd': 4}\n",
      "{'a': 1, 'b': 7, 'c': 3, 'd': 4}\n",
      "4\n"
     ]
    }
   ],
   "source": [
    "dict1 = {'a':1, 'b':2, 'c':3}\n",
    "print(dict1['a'])     # 1이 출력됨\n",
    "dict1['d'] = 4\n",
    "print(dict1)        # {‘a’:1, ‘b’:2’, ‘c’:3, ‘d’:4}가 출력되나 순서가 틀릴 수 있음\n",
    "dict1['b'] = 7\n",
    "print(dict1)        # {‘a’:1, ‘b’:7’, ‘c’:3, ‘d’:4}가 출력되나 순서가 틀릴 수 있음\n",
    "print(len(dict1))    # 4가 출력됨"
   ]
  },
  {
   "cell_type": "code",
   "execution_count": 137,
   "id": "6b57f826",
   "metadata": {},
   "outputs": [
    {
     "name": "stdout",
     "output_type": "stream",
     "text": [
      "dict_keys(['일반', '프리미엄', 'vip'])\n",
      "dict_values([1000, 2000, 3000])\n",
      "dict_items([('일반', 1000), ('프리미엄', 2000), ('vip', 3000)])\n"
     ]
    }
   ],
   "source": [
    "a = {'일반':1000,'프리미엄':2000,'vip':3000}\n",
    "print(a.keys())\n",
    "print(a.values())\n",
    "print(a.items())"
   ]
  },
  {
   "cell_type": "code",
   "execution_count": 138,
   "id": "936ec372",
   "metadata": {},
   "outputs": [
    {
     "data": {
      "text/plain": [
       "1000"
      ]
     },
     "execution_count": 138,
     "metadata": {},
     "output_type": "execute_result"
    }
   ],
   "source": [
    "a['일반']"
   ]
  },
  {
   "cell_type": "code",
   "execution_count": 139,
   "id": "96a216f6",
   "metadata": {},
   "outputs": [
    {
     "data": {
      "text/plain": [
       "2000"
      ]
     },
     "execution_count": 139,
     "metadata": {},
     "output_type": "execute_result"
    }
   ],
   "source": [
    "a['일반']*2"
   ]
  },
  {
   "cell_type": "code",
   "execution_count": 169,
   "id": "9fa5ee60",
   "metadata": {},
   "outputs": [
    {
     "name": "stdout",
     "output_type": "stream",
     "text": [
      "{1, 2, 3, 4, 5}\n",
      "{'l', 'e', 'H', 'o'}\n"
     ]
    }
   ],
   "source": [
    "# 자료형 - 집합, set(중복을 허용하지 않으며 순서가 없다.)\n",
    "s1 = set([1,2,5,4,3])\n",
    "s2 = set('Hello')\n",
    "print(s1)\n",
    "print(s2)"
   ]
  },
  {
   "cell_type": "code",
   "execution_count": null,
   "id": "077d452c",
   "metadata": {},
   "outputs": [],
   "source": [
    "# 집합은 인덱싱으로 값을 얻을 수 없으며 필요시 리스트나 튜플로 변환 후 인덱싱\n",
    "l1 = list(s1)\n",
    "print(l1[1])\n",
    "l2 = list(s2)\n",
    "print(l2[1])"
   ]
  },
  {
   "cell_type": "code",
   "execution_count": null,
   "id": "c9090d69",
   "metadata": {},
   "outputs": [],
   "source": [
    "# Q. s1, s2의 합집합과 교집합을 각각 리스트로 출력하세요.\n",
    "# 합집합(s1 | s2), 교집합(s1 & s2)\n",
    "s1 = set([1, 2, 3, 4, 5, 6])\n",
    "s2 = set([4, 5, 6, 7, 8, 9])\n",
    "\n",
    "print(list(s1|s2))\n",
    "print(list(s1&s2))"
   ]
  },
  {
   "cell_type": "markdown",
   "id": "eea4bd0d",
   "metadata": {},
   "source": [
    "#### True와 False\n",
    "- 파이썬에서 참과 거짓을 나타내는 상수. True는 1, False는 0의 값을 가짐\n",
    "- 조건을 판단해서 그 조건이 참이면 True, 거짓이면 False를 return"
   ]
  },
  {
   "cell_type": "code",
   "execution_count": 157,
   "id": "0ff7201d",
   "metadata": {},
   "outputs": [
    {
     "name": "stdout",
     "output_type": "stream",
     "text": [
      "True\n",
      "False\n"
     ]
    }
   ],
   "source": [
    "# Bool\n",
    "a = True\n",
    "b = False\n",
    "print(a == 1) # True가 출력\n",
    "print(b != 0) # Fales가 출력"
   ]
  },
  {
   "cell_type": "code",
   "execution_count": 159,
   "id": "0ad90970",
   "metadata": {},
   "outputs": [
    {
     "name": "stdout",
     "output_type": "stream",
     "text": [
      "False\n",
      "True\n",
      "False\n",
      "True\n",
      "True\n"
     ]
    }
   ],
   "source": [
    "# 관계 연산자\n",
    "x = 1; y = 2\n",
    "str1 = 'abc'; str2 = 'python'\n",
    "print(x == y)  # False가 출력됨\n",
    "print(x != y)   # True가 출력됨\n",
    "print(str1 == str2)   # False가 출력됨\n",
    "print(str2 == 'python')   # True가 출력됨\n",
    "print(str1 < str2)        # True가 출력됨"
   ]
  },
  {
   "cell_type": "code",
   "execution_count": 160,
   "id": "517c549f",
   "metadata": {},
   "outputs": [
    {
     "name": "stdout",
     "output_type": "stream",
     "text": [
      "False\n",
      "True\n",
      "True\n",
      "False\n",
      "False\n",
      "True\n"
     ]
    }
   ],
   "source": [
    "#논리 연산자\n",
    "#or 둘중 하나라도 참이면 참\n",
    "#and 둘중 하나라도 거짓이면 거짓\n",
    "bool1 = True; bool2 = False; bool3 = True; bool4 = False\n",
    "print(bool1 and bool2)    # False가 출력됨\n",
    "print(bool1 and bool3)    # True가 출력됨\n",
    "print(bool2 or bool3)     # True가 출력됨\n",
    "print(bool2 or bool4)     # False가 출력됨\n",
    "print(not bool1)          # False가 출력됨\n",
    "print(not bool2)          # True가 출력됨"
   ]
  },
  {
   "cell_type": "markdown",
   "id": "d59081bf",
   "metadata": {},
   "source": [
    "# 찾기"
   ]
  },
  {
   "cell_type": "code",
   "execution_count": 161,
   "id": "664b1c60",
   "metadata": {},
   "outputs": [
    {
     "data": {
      "text/plain": [
       "4"
      ]
     },
     "execution_count": 161,
     "metadata": {},
     "output_type": "execute_result"
    }
   ],
   "source": [
    "a='let me int'\n",
    "a.find('m')\n",
    "# find = index"
   ]
  },
  {
   "cell_type": "code",
   "execution_count": 162,
   "id": "6b0c524c",
   "metadata": {},
   "outputs": [
    {
     "data": {
      "text/plain": [
       "'m'"
      ]
     },
     "execution_count": 162,
     "metadata": {},
     "output_type": "execute_result"
    }
   ],
   "source": [
    "a[4]"
   ]
  },
  {
   "cell_type": "code",
   "execution_count": 163,
   "id": "4dbe8946",
   "metadata": {},
   "outputs": [
    {
     "data": {
      "text/plain": [
       "10"
      ]
     },
     "execution_count": 163,
     "metadata": {},
     "output_type": "execute_result"
    }
   ],
   "source": [
    "len(a)"
   ]
  },
  {
   "cell_type": "code",
   "execution_count": 165,
   "id": "ee1d95f9",
   "metadata": {},
   "outputs": [
    {
     "data": {
      "text/plain": [
       "(1, 2, 3, 4, 5)"
      ]
     },
     "execution_count": 165,
     "metadata": {},
     "output_type": "execute_result"
    }
   ],
   "source": [
    "a = 1,2,3\n",
    "a += 4,5\n",
    "a"
   ]
  },
  {
   "cell_type": "markdown",
   "id": "3a049d9d",
   "metadata": {},
   "source": [
    "#### 파이썬에서 들여쓰기 \n",
    "- 파이썬에는 실행 코드 부분을 묶어주는 {} 괄호가 없다.\n",
    "- 대신 들여쓰기(indentation)로 {}를 대신한다.\n",
    "- 제어문이나 함수이름, 클래스 이름 뒤에 콜론(':')으로 제어문, 함수이름, 클래스 이름의 끝을 표시하며 ':' 다음에 실행 코드를 작성"
   ]
  },
  {
   "cell_type": "code",
   "execution_count": 167,
   "id": "d58c50f0",
   "metadata": {},
   "outputs": [
    {
     "name": "stdout",
     "output_type": "stream",
     "text": [
      "a가 li에 있습니다\n"
     ]
    }
   ],
   "source": [
    "# 들여쓰기\n",
    "li = ['a','b','c']\n",
    "if 'a' in li :\n",
    "    print('a가 li에 있습니다')\n",
    "else:\n",
    "    print('a가 li에 없습니다')"
   ]
  },
  {
   "cell_type": "markdown",
   "id": "5c5c04b0",
   "metadata": {},
   "source": [
    "#### 문자열 포멧\n",
    "- % operator 사용 : % 연산자를 사용하려면 %(VAR_NAME)TYPE 형식으로 적어주며 VAR_NAME 은 바인딩할 변수명을 TYPE 은 변수의 유형을 적어준다.\n",
    "- str.format : str.format() 은 파이썬 표현식 값을 바인딩할 부분을 중괄호 {} 로 표시하고 .format() 뒤에 바인딩할 값을 기술해 준다.\n",
    "- f-string : 문자열에 f 나 F 접두사를 붙이고 표현식을 {expr} 형식으로 작성하면 출력 문자열이 파이썬 표현식의 값으로 바뀐다."
   ]
  },
  {
   "cell_type": "code",
   "execution_count": 173,
   "id": "7eb03e59",
   "metadata": {},
   "outputs": [
    {
     "data": {
      "text/plain": [
       "'나의 이름은 홍길동입니다. 나이는 20입니다.'"
      ]
     },
     "execution_count": 173,
     "metadata": {},
     "output_type": "execute_result"
    }
   ],
   "source": [
    "# 문자열 포멧\n",
    "\n",
    "name = '홍길동'\n",
    "age = 20\n",
    "f'나의 이름은 {name}입니다. 나이는 {age}입니다.'"
   ]
  },
  {
   "cell_type": "code",
   "execution_count": 174,
   "id": "20b36f36",
   "metadata": {},
   "outputs": [
    {
     "data": {
      "text/plain": [
       "'나의 이름은 홍길동입니다. 나이는 20입니다.'"
      ]
     },
     "execution_count": 174,
     "metadata": {},
     "output_type": "execute_result"
    }
   ],
   "source": [
    "d = {'name':'홍길동', 'age':'20'}\n",
    "f'나의 이름은 {d[\"name\"]}입니다. 나이는 {d[\"age\"]}입니다.'"
   ]
  },
  {
   "cell_type": "code",
   "execution_count": 175,
   "id": "89bf335e",
   "metadata": {},
   "outputs": [
    {
     "data": {
      "text/plain": [
       "'나의 이름은 홍길동입니다. 흥미있는 것은 운동,게임입니다.'"
      ]
     },
     "execution_count": 175,
     "metadata": {},
     "output_type": "execute_result"
    }
   ],
   "source": [
    "name = '홍길동'\n",
    "취미 = '운동'\n",
    "d = {'취미2':'게임'}\n",
    "f'나의 이름은 {name}입니다. 흥미있는 것은 {취미},{d[\"취미2\"]}입니다.'"
   ]
  },
  {
   "cell_type": "code",
   "execution_count": 176,
   "id": "1889163d",
   "metadata": {},
   "outputs": [
    {
     "data": {
      "text/plain": [
       "'나의 이름은 홍길동입니다. 흥미있는 것은 노래,게임입니다.'"
      ]
     },
     "execution_count": 176,
     "metadata": {},
     "output_type": "execute_result"
    }
   ],
   "source": [
    "d = {'취미2':'게임','name':'홍길동','취미':'노래'}\n",
    "f'나의 이름은 {d[\"name\"]}입니다. 흥미있는 것은 {d[\"취미\"]},{d[\"취미2\"]}입니다.'"
   ]
  },
  {
   "cell_type": "code",
   "execution_count": 177,
   "id": "04b3ab44",
   "metadata": {},
   "outputs": [
    {
     "data": {
      "text/plain": [
       "'3.142'"
      ]
     },
     "execution_count": 177,
     "metadata": {},
     "output_type": "execute_result"
    }
   ],
   "source": [
    "y = 3.141592\n",
    "f'{y:0.4}' # 소수점 4자리까지만 표현"
   ]
  },
  {
   "cell_type": "code",
   "execution_count": 178,
   "id": "526f320d",
   "metadata": {},
   "outputs": [
    {
     "data": {
      "text/plain": [
       "'    3.1416'"
      ]
     },
     "execution_count": 178,
     "metadata": {},
     "output_type": "execute_result"
    }
   ],
   "source": [
    "y = 3.141592\n",
    "f'{y:10.4f}' # 소수점 4자리까지 표현하고 총 자리수를 10으로 맞춤"
   ]
  },
  {
   "cell_type": "code",
   "execution_count": 179,
   "id": "87a79379",
   "metadata": {},
   "outputs": [
    {
     "name": "stdout",
     "output_type": "stream",
     "text": [
      "홍길동 선수가 1등입니다.\n",
      "홍길순 선수가 2등입니다.\n"
     ]
    }
   ],
   "source": [
    "# 포멧합수\n",
    "f1 = \"{} 선수가 {}등입니다.\".format('홍길동',1)\n",
    "# f1 = '{1} 선수가 {0}등입니다.'.format(1,'홍길동')\n",
    "print(f1)\n",
    "print(\"%s 선수가 %d등입니다.\" %('홍길순',2))"
   ]
  },
  {
   "cell_type": "code",
   "execution_count": 181,
   "id": "29690325",
   "metadata": {},
   "outputs": [
    {
     "name": "stdout",
     "output_type": "stream",
     "text": [
      "파이썬은 자바보다 2배 쉽습니다\n",
      "파이썬은 자바보다 2배 쉅습니다.\n"
     ]
    }
   ],
   "source": [
    "f1=\"{}은 {}보다 {}배 쉽습니다\".format(\"파이썬\",\"자바\",2)\n",
    "print(f1)\n",
    "print(\"%s은 %s보다 %d배 쉅습니다.\"%(\"파이썬\",\"자바\",2))"
   ]
  },
  {
   "cell_type": "code",
   "execution_count": 182,
   "id": "144c9809",
   "metadata": {},
   "outputs": [
    {
     "name": "stdout",
     "output_type": "stream",
     "text": [
      "12345\n",
      "     12345\n",
      "12.3456789\n",
      "          12.346\n"
     ]
    }
   ],
   "source": [
    "num1 = 12345\n",
    "print(num1)\n",
    "print(f'{num1:10.0f}')\n",
    "num2 = 12.3456789\n",
    "print(num2)\n",
    "print(f'{num2:16.3f}')"
   ]
  },
  {
   "cell_type": "code",
   "execution_count": 183,
   "id": "c8f06316",
   "metadata": {},
   "outputs": [
    {
     "name": "stdout",
     "output_type": "stream",
     "text": [
      "   123.457\n"
     ]
    }
   ],
   "source": [
    "num = 123.456789\n",
    "print(f'{num:10.3f}')"
   ]
  },
  {
   "cell_type": "markdown",
   "id": "ec33491d",
   "metadata": {},
   "source": [
    "#### 제어문\n",
    "- 조건문(if문) : \\~하면 \\~해라\n",
    "- 반복문(for, while) : 많은 일들을 반복해야 할 때\n",
    "\n",
    "제어문, 조건문, 반복문 : https://velog.io/@osdsoonhyun/%ED%8C%8C%EC%9D%B4%EC%8D%AC-%EC%A0%9C%EC%96%B4%EB%AC%B8"
   ]
  },
  {
   "cell_type": "code",
   "execution_count": 186,
   "id": "55f27535",
   "metadata": {},
   "outputs": [
    {
     "name": "stdout",
     "output_type": "stream",
     "text": [
      "현상 유지\n"
     ]
    }
   ],
   "source": [
    "# 제어문 - if~elif~else\n",
    "# \"수입과 지출금액을 비교해서 수입이 많은면 저축 증가, 반대이면 빚이 증가, \n",
    "# 같으면 현상 유지\"\n",
    "i = 5,000,000\n",
    "e = 5,000,000\n",
    "\n",
    "if i > e:\n",
    "    print('저축 증가')\n",
    "elif i < e:\n",
    "    print('빛이 증가')\n",
    "else:\n",
    "    print('현상 유지')"
   ]
  },
  {
   "cell_type": "code",
   "execution_count": 187,
   "id": "929f6946",
   "metadata": {},
   "outputs": [
    {
     "name": "stdout",
     "output_type": "stream",
     "text": [
      "택시를 타고 간다.\n"
     ]
    }
   ],
   "source": [
    "#Q 돈이 있으면 택시를 타고, 돈이 없으면 걸어 간다.\n",
    "pk = ('card', 'money')\n",
    "if 'money' in pk:\n",
    "    print('택시를 타고 간다.')\n",
    "else:\n",
    "    print('걸어간다.')"
   ]
  },
  {
   "cell_type": "code",
   "execution_count": 188,
   "id": "fb488508",
   "metadata": {},
   "outputs": [
    {
     "name": "stdout",
     "output_type": "stream",
     "text": [
      "success\n"
     ]
    }
   ],
   "source": [
    "# 조건부 표현식\n",
    "score = 70\n",
    "if score >= 60:\n",
    "    message = 'success'\n",
    "else:\n",
    "    message = 'failure'\n",
    "\n",
    "print(message)"
   ]
  },
  {
   "cell_type": "code",
   "execution_count": 189,
   "id": "6061f3ae",
   "metadata": {},
   "outputs": [
    {
     "data": {
      "text/plain": [
       "['failure']"
      ]
     },
     "execution_count": 189,
     "metadata": {},
     "output_type": "execute_result"
    }
   ],
   "source": [
    "score = 50\n",
    "['success' if score >= 60 else \"failure\"]"
   ]
  },
  {
   "cell_type": "code",
   "execution_count": 190,
   "id": "4b418dc2",
   "metadata": {},
   "outputs": [
    {
     "name": "stdout",
     "output_type": "stream",
     "text": [
      "success\n"
     ]
    }
   ],
   "source": [
    "# 다른 언어의 3항 연산자 : (조건문이 참인 경우) if (조건문) else (조건문이 거짓인 경우)\n",
    "Message = \"success\" if score >= 60 else \"failure\"\n",
    "print(message)"
   ]
  },
  {
   "cell_type": "markdown",
   "id": "36c09482",
   "metadata": {},
   "source": [
    "for문의 범위로 사용되는 것은 시퀀스 자료형 또는 반복 가능한 자료이어야 한다.\n",
    "- 문자열, 리스트나 튜플, 사전, range(), 그 외 반복 가능한 객체"
   ]
  },
  {
   "cell_type": "code",
   "execution_count": 192,
   "id": "c7768688",
   "metadata": {},
   "outputs": [
    {
     "name": "stdout",
     "output_type": "stream",
     "text": [
      "5\n",
      "15\n",
      "6\n",
      "20\n",
      "7\n",
      "25\n"
     ]
    }
   ],
   "source": [
    "numbers = [5,15,6,20,7,25]\n",
    "print(numbers[0])\n",
    "print(numbers[1])\n",
    "print(numbers[2])\n",
    "print(numbers[3])\n",
    "print(numbers[4])\n",
    "print(numbers[5])"
   ]
  },
  {
   "cell_type": "code",
   "execution_count": 193,
   "id": "711f3dbd",
   "metadata": {},
   "outputs": [
    {
     "name": "stdout",
     "output_type": "stream",
     "text": [
      "5\n",
      "15\n",
      "6\n",
      "20\n",
      "7\n",
      "25\n"
     ]
    }
   ],
   "source": [
    "# for 반복문\n",
    "numbers = [5,15,6,20,7,25]\n",
    "for number in numbers:\n",
    "    print(number)"
   ]
  },
  {
   "cell_type": "code",
   "execution_count": 194,
   "id": "21b53839",
   "metadata": {},
   "outputs": [
    {
     "name": "stdout",
     "output_type": "stream",
     "text": [
      "a b c d e "
     ]
    }
   ],
   "source": [
    "str = 'abcde'\n",
    "for c in str:\n",
    "    print(c, end=' ')"
   ]
  },
  {
   "cell_type": "code",
   "execution_count": 195,
   "id": "c29069f6",
   "metadata": {},
   "outputs": [
    {
     "name": "stdout",
     "output_type": "stream",
     "text": [
      "1 2 3 4 5 "
     ]
    }
   ],
   "source": [
    "scope = [1,2,3,4,5]\n",
    "for x in scope:\n",
    "    print(x,end=' ')"
   ]
  },
  {
   "cell_type": "code",
   "execution_count": 196,
   "id": "9ff88204",
   "metadata": {},
   "outputs": [
    {
     "name": "stdout",
     "output_type": "stream",
     "text": [
      "97 98 99 "
     ]
    }
   ],
   "source": [
    "d = {'a':97, 'b':98, 'c':99}\n",
    "for key in d:\n",
    "    print(d[key], end=' ')"
   ]
  },
  {
   "cell_type": "code",
   "execution_count": 197,
   "id": "b40aba1c",
   "metadata": {},
   "outputs": [
    {
     "name": "stdout",
     "output_type": "stream",
     "text": [
      "0 1 2 3 4 5 6 7 8 9 "
     ]
    }
   ],
   "source": [
    "for c in range(10):\n",
    "    print(c, end=' ')"
   ]
  },
  {
   "cell_type": "markdown",
   "id": "fef05ca3",
   "metadata": {},
   "source": [
    "- for 반복문에서 continue를 만나면 그 다음 반복 실행으로 넘어가며\n",
    "- break를 만나면 for 반복문을 완전히 벗어난다"
   ]
  },
  {
   "cell_type": "code",
   "execution_count": 198,
   "id": "ed6122f0",
   "metadata": {},
   "outputs": [
    {
     "name": "stdout",
     "output_type": "stream",
     "text": [
      "[1, 2, 3, 4, 5] "
     ]
    }
   ],
   "source": [
    "num = [1,2,3,4,5]\n",
    "print(num,end=' ')"
   ]
  },
  {
   "cell_type": "code",
   "execution_count": 199,
   "id": "2f238dc5",
   "metadata": {},
   "outputs": [
    {
     "name": "stdout",
     "output_type": "stream",
     "text": [
      "1 2 3 4 5 "
     ]
    }
   ],
   "source": [
    "# for ~ continue ~ break\n",
    "# 1~10 범위의 정수에서 1부터 5까지만 출력하세요\n",
    "for i in range(1,11):\n",
    "    print(i,end=' ')\n",
    "    if i < 5:\n",
    "        continue\n",
    "    else:\n",
    "        break"
   ]
  },
  {
   "cell_type": "markdown",
   "id": "d7028767",
   "metadata": {},
   "source": [
    "numbers 리스트에서 15, 20, 25를 출력하세요.(for문과 if 조건 사용 필수)"
   ]
  },
  {
   "cell_type": "code",
   "execution_count": 200,
   "id": "a5d22096",
   "metadata": {},
   "outputs": [
    {
     "name": "stdout",
     "output_type": "stream",
     "text": [
      "15 20 25 "
     ]
    }
   ],
   "source": [
    "nambers = [5,15,6,20,7,25]\n",
    "for i in nambers:\n",
    "    if i<10:\n",
    "        pass\n",
    "    else:\n",
    "        print(i, end = \" \")"
   ]
  },
  {
   "cell_type": "code",
   "execution_count": 201,
   "id": "2f14afdf",
   "metadata": {},
   "outputs": [
    {
     "name": "stdout",
     "output_type": "stream",
     "text": [
      "15 20 25 "
     ]
    }
   ],
   "source": [
    "numbers = [5,15,6,20,7,25]\n",
    "i = 0\n",
    "for number in numbers:\n",
    "    i += 1\n",
    "    if i%2 == 1:\n",
    "        continue\n",
    "    else:\n",
    "        print(number, end=\" \")"
   ]
  },
  {
   "cell_type": "code",
   "execution_count": 202,
   "id": "a7412507",
   "metadata": {},
   "outputs": [
    {
     "name": "stdout",
     "output_type": "stream",
     "text": [
      "15 20 25 "
     ]
    }
   ],
   "source": [
    "numbers = [5,15,6,20,7,25]\n",
    "for i in numbers:\n",
    "    if i != 5:\n",
    "        if i%5 == 0:\n",
    "            print(i,end=\" \")\n",
    "            continue\n",
    "    else:\n",
    "        continue"
   ]
  },
  {
   "cell_type": "code",
   "execution_count": 203,
   "id": "a647d271",
   "metadata": {},
   "outputs": [
    {
     "name": "stdout",
     "output_type": "stream",
     "text": [
      "1\n"
     ]
    }
   ],
   "source": [
    "# for ~ else : for 구문이 모두 실행되었을 때 else 뒤의 실행 코드는 실행됨\n",
    "scope = [1,2,3]\n",
    "for x in scope:\n",
    "    print(x)\n",
    "    break\n",
    "else:\n",
    "    print('Perfect')"
   ]
  },
  {
   "cell_type": "code",
   "execution_count": 204,
   "id": "8e976fa6",
   "metadata": {},
   "outputs": [
    {
     "name": "stdout",
     "output_type": "stream",
     "text": [
      "1 2 3 4 "
     ]
    }
   ],
   "source": [
    "for i in range(1,11):\n",
    "    if i<5:\n",
    "        print(i, end = \" \")\n",
    "    else:\n",
    "        break"
   ]
  },
  {
   "cell_type": "code",
   "execution_count": 205,
   "id": "e0554184",
   "metadata": {},
   "outputs": [
    {
     "name": "stdout",
     "output_type": "stream",
     "text": [
      "5 6 7 8 9 10 "
     ]
    }
   ],
   "source": [
    "for i in range(1,11):\n",
    "    if i<5:\n",
    "        pass\n",
    "    else:\n",
    "        print(i, end = \" \")"
   ]
  },
  {
   "cell_type": "markdown",
   "id": "ca34fdea",
   "metadata": {},
   "source": [
    "while : 조건을 만족하면 무한 반복"
   ]
  },
  {
   "cell_type": "code",
   "execution_count": 206,
   "id": "1db83995",
   "metadata": {},
   "outputs": [
    {
     "name": "stdout",
     "output_type": "stream",
     "text": [
      "1 3 5 7 9 "
     ]
    }
   ],
   "source": [
    "# while ~ continue ~ break : for는 특정 범위에서 while은 특정 조건에서 코드를 반복 수행\n",
    "# 1 ~ 20 사이의 정수에서 10보다 작은 홀수만 출력\n",
    "a = 0\n",
    "while a < 20:\n",
    "    a += 1\n",
    "    if a %2 == 0:\n",
    "        continue # while로 올라간다\n",
    "    if a >= 10:\n",
    "        break # while을 벗어난다.\n",
    "    print(a, end=' ')"
   ]
  },
  {
   "cell_type": "code",
   "execution_count": 207,
   "id": "f9e78c13",
   "metadata": {},
   "outputs": [
    {
     "name": "stdout",
     "output_type": "stream",
     "text": [
      "45\n",
      "1035\n"
     ]
    }
   ],
   "source": [
    "# while\n",
    "# 정수 1부터 n까지 더할 때 그 합이 1000보다 커지게 되는 n과 합을 구하세요\n",
    "\n",
    "x = 1\n",
    "sum = 0\n",
    "while 1:\n",
    "    sum = sum + x\n",
    "    if sum > 1000:\n",
    "        print(x)\n",
    "        print(sum)\n",
    "        break\n",
    "    x = x +1"
   ]
  },
  {
   "cell_type": "code",
   "execution_count": 208,
   "id": "b8580b14",
   "metadata": {},
   "outputs": [
    {
     "name": "stdout",
     "output_type": "stream",
     "text": [
      "14\n",
      "105\n"
     ]
    }
   ],
   "source": [
    "x = 1\n",
    "sum = 0\n",
    "while 1:\n",
    "    sum = sum + x\n",
    "    if sum > 100:\n",
    "        print(x)\n",
    "        print(sum)\n",
    "        break\n",
    "    x = x + 1"
   ]
  },
  {
   "cell_type": "markdown",
   "id": "13af0935",
   "metadata": {},
   "source": [
    "while 문을 사용해 1부터 1000까지의 정수 중 3의 배수의 합을 구해 보세요."
   ]
  },
  {
   "cell_type": "code",
   "execution_count": 209,
   "id": "7ffe347b",
   "metadata": {},
   "outputs": [
    {
     "name": "stdout",
     "output_type": "stream",
     "text": [
      "166833\n"
     ]
    }
   ],
   "source": [
    "i = 1\n",
    "sum = 0\n",
    "while i < 1000:\n",
    "    if i%3 ==0:\n",
    "        sum = sum+i\n",
    "    i += 1\n",
    "print(sum)"
   ]
  },
  {
   "cell_type": "code",
   "execution_count": 210,
   "id": "ac7bacfc",
   "metadata": {},
   "outputs": [
    {
     "name": "stdout",
     "output_type": "stream",
     "text": [
      "333667\n"
     ]
    }
   ],
   "source": [
    "x = 0\n",
    "sum = 0\n",
    "while x < 1000:\n",
    "    x += 1\n",
    "    if x % 3 == 0:\n",
    "        continue\n",
    "    sum = sum + x\n",
    "print(sum)"
   ]
  },
  {
   "cell_type": "code",
   "execution_count": 211,
   "id": "38744e7d",
   "metadata": {},
   "outputs": [
    {
     "name": "stdout",
     "output_type": "stream",
     "text": [
      "166833\n"
     ]
    }
   ],
   "source": [
    "sum,i=0,0\n",
    "while i<1000:\n",
    "    sum+=i\n",
    "    i+=3\n",
    "    \n",
    "print(sum)"
   ]
  },
  {
   "cell_type": "markdown",
   "id": "15373b63",
   "metadata": {},
   "source": [
    "1부터 100까지의 정수중 5에서 95까지의 합을 구하세요."
   ]
  },
  {
   "cell_type": "code",
   "execution_count": 214,
   "id": "c18b18e2",
   "metadata": {},
   "outputs": [
    {
     "name": "stdout",
     "output_type": "stream",
     "text": [
      "4550\n"
     ]
    }
   ],
   "source": [
    "num=1\n",
    "sum=0\n",
    "while num<101:\n",
    "    if 5<=num<=95:\n",
    "        sum+=num\n",
    "    num+=1\n",
    "print(sum)"
   ]
  },
  {
   "cell_type": "code",
   "execution_count": 215,
   "id": "b0d8c560",
   "metadata": {},
   "outputs": [
    {
     "name": "stdout",
     "output_type": "stream",
     "text": [
      "4550\n"
     ]
    }
   ],
   "source": [
    "sum,i=0,1\n",
    "\n",
    "while i<101:\n",
    "    if 5<=i<=95:\n",
    "        sum+=i\n",
    "    i+=1\n",
    "print(sum)"
   ]
  },
  {
   "cell_type": "code",
   "execution_count": 216,
   "id": "26eeff67",
   "metadata": {},
   "outputs": [
    {
     "name": "stdout",
     "output_type": "stream",
     "text": [
      "4550\n"
     ]
    }
   ],
   "source": [
    "i = 0\n",
    "sum = 0\n",
    "while i < 101:\n",
    "    i += 1\n",
    "    if i > 4:\n",
    "        if i < 96:\n",
    "            sum = sum + i\n",
    "print(sum)"
   ]
  },
  {
   "cell_type": "code",
   "execution_count": 217,
   "id": "4b4e1985",
   "metadata": {},
   "outputs": [
    {
     "name": "stdout",
     "output_type": "stream",
     "text": [
      "4550\n",
      "95\n"
     ]
    }
   ],
   "source": [
    "i = 0\n",
    "sum = 0\n",
    "while 1:\n",
    "    if i>=5: \n",
    "        sum += i \n",
    "        if i > 94:\n",
    "            print(sum)\n",
    "            print(i)\n",
    "            break\n",
    "    i += 1"
   ]
  },
  {
   "cell_type": "markdown",
   "id": "b63d50d0",
   "metadata": {},
   "source": [
    "5를 2로 나누었을때의 몫과 나머지를 구하세요."
   ]
  },
  {
   "cell_type": "code",
   "execution_count": 218,
   "id": "c8c66dbb",
   "metadata": {},
   "outputs": [
    {
     "name": "stdout",
     "output_type": "stream",
     "text": [
      "5를 2로 나누었을 때의 몫은 2, 나머지는 1입니다.\n",
      "5를 2로 나누었을 때의 몫은 2, 나머지는 1입니다\n"
     ]
    }
   ],
   "source": [
    "a = 5//2\n",
    "b = 5%2\n",
    "\n",
    "print(\"5를 2로 나누었을 때의 몫은 %s, 나머지는 %s입니다.\"%(a,b))\n",
    "print(f'5를 2로 나누었을 때의 몫은 {a}, 나머지는 {b}입니다')"
   ]
  },
  {
   "cell_type": "markdown",
   "id": "a9c6ac14",
   "metadata": {},
   "source": [
    "몫 과 나머지 모두 구하는 함수divmod"
   ]
  },
  {
   "cell_type": "code",
   "execution_count": 219,
   "id": "a38f4977",
   "metadata": {},
   "outputs": [
    {
     "data": {
      "text/plain": [
       "(2, 1)"
      ]
     },
     "execution_count": 219,
     "metadata": {},
     "output_type": "execute_result"
    }
   ],
   "source": [
    "divmod(5,2)"
   ]
  },
  {
   "cell_type": "code",
   "execution_count": 220,
   "id": "4e884eeb",
   "metadata": {},
   "outputs": [
    {
     "name": "stdout",
     "output_type": "stream",
     "text": [
      "['10,20,30,40,50']\n",
      "['10', '20', '30', '40', '50']\n"
     ]
    }
   ],
   "source": [
    "a = \"10,20,30,40,50\"\n",
    "b = \"10/20/30/40/50\"\n",
    "print(a.split(\"/\"))\n",
    "print(b.split(\"/\"))"
   ]
  },
  {
   "cell_type": "code",
   "execution_count": 221,
   "id": "55fda9d9",
   "metadata": {},
   "outputs": [
    {
     "name": "stdout",
     "output_type": "stream",
     "text": [
      "['10', '20', '30', '40', '50']\n",
      "['10/20/30/40/50']\n"
     ]
    }
   ],
   "source": [
    "a = \"10,20,30,40,50\"\n",
    "b = \"10/20/30/40/50\"\n",
    "print(a.split(\",\"))\n",
    "print(b.split(\",\"))"
   ]
  },
  {
   "cell_type": "code",
   "execution_count": 222,
   "id": "3fde8c67",
   "metadata": {},
   "outputs": [
    {
     "name": "stdout",
     "output_type": "stream",
     "text": [
      "4\n",
      "3\n",
      "다시 입력해 주세요\n"
     ]
    }
   ],
   "source": [
    "## 짝수와 짝수를 입력하면 곱한 값을 출력하고 홀수와 홀수를 입력하면 덧셈 값을 출력하고 그외는\n",
    "# 다시 입력하라는 메시지를 출력하세요.\n",
    "\n",
    "a = int(input())\n",
    "b = int(input())\n",
    "\n",
    "if (a % 2 == 0) & (b % 2 == 0):\n",
    "    print(a * b)\n",
    "elif (a % 2 == 1) & (b % 2 == 1):\n",
    "    print (a + b)\n",
    "else:\n",
    "    print('다시 입력해 주세요')"
   ]
  },
  {
   "cell_type": "code",
   "execution_count": 224,
   "id": "8e278cde",
   "metadata": {},
   "outputs": [
    {
     "name": "stdout",
     "output_type": "stream",
     "text": [
      "2500\n"
     ]
    }
   ],
   "source": [
    "i = 1\n",
    "cal = i*(100-i)\n",
    "result = cal\n",
    "while i <= 98:\n",
    "    i += 1\n",
    "    cal = i*(100-i)\n",
    "    if cal > result:\n",
    "        result = cal\n",
    "\n",
    "print(result)"
   ]
  },
  {
   "cell_type": "code",
   "execution_count": 225,
   "id": "a0be1573",
   "metadata": {},
   "outputs": [
    {
     "name": "stdout",
     "output_type": "stream",
     "text": [
      "2500\n"
     ]
    }
   ],
   "source": [
    "first = 1\n",
    "last = 99\n",
    "max = 0\n",
    "while first < 100:\n",
    "    tmp = first * last\n",
    "    if tmp > max:\n",
    "        max = tmp\n",
    "    first += 1\n",
    "    last -= 1\n",
    "\n",
    "print(max)"
   ]
  },
  {
   "cell_type": "code",
   "execution_count": 226,
   "id": "9f518aec",
   "metadata": {},
   "outputs": [
    {
     "name": "stdout",
     "output_type": "stream",
     "text": [
      "2304\n"
     ]
    }
   ],
   "source": [
    "n=1\n",
    "m=99\n",
    "list1=[]\n",
    "i=0\n",
    "while 1:\n",
    "    if n<100 & m>=1:\n",
    "        list1.append(1)\n",
    "        list1[i]=n*m\n",
    "        n+=1\n",
    "        m-=1\n",
    "    else:\n",
    "        list1.sort()\n",
    "        break\n",
    "print(list1[-1])"
   ]
  },
  {
   "cell_type": "code",
   "execution_count": null,
   "id": "44a7436b",
   "metadata": {},
   "outputs": [],
   "source": []
  },
  {
   "cell_type": "code",
   "execution_count": null,
   "id": "7cb5a1d5",
   "metadata": {},
   "outputs": [],
   "source": [
    "import numpy as np\n",
    "np.random.seed(0) # sample 고정\n",
    "num = np.random.randint(20,size=20)\n",
    "num"
   ]
  },
  {
   "cell_type": "code",
   "execution_count": null,
   "id": "8ad4afc3",
   "metadata": {},
   "outputs": [],
   "source": []
  },
  {
   "cell_type": "code",
   "execution_count": null,
   "id": "67e6d49c",
   "metadata": {},
   "outputs": [],
   "source": [
    "x = lambda a,b:a**b\n",
    "print(x(2,5))\n",
    "print(x(5,2))"
   ]
  },
  {
   "cell_type": "code",
   "execution_count": null,
   "id": "4bb78151",
   "metadata": {},
   "outputs": [],
   "source": [
    "import datetime\n",
    "dt = datetime.datetime.now()\n",
    "dt"
   ]
  },
  {
   "cell_type": "code",
   "execution_count": null,
   "id": "b850e939",
   "metadata": {},
   "outputs": [],
   "source": [
    "in_a = '''\n",
    "                it is true\n",
    "\"i am z\"\n",
    "'''\n",
    "print(in_a)\n",
    "print(in_a.strip())"
   ]
  },
  {
   "cell_type": "code",
   "execution_count": null,
   "id": "acc0405f",
   "metadata": {},
   "outputs": [],
   "source": []
  },
  {
   "cell_type": "code",
   "execution_count": 228,
   "id": "55d33837",
   "metadata": {},
   "outputs": [
    {
     "name": "stdout",
     "output_type": "stream",
     "text": [
      "1030301\n"
     ]
    }
   ],
   "source": [
    "# 101의 3승을 구하세요\n",
    "print(101**3)"
   ]
  },
  {
   "cell_type": "code",
   "execution_count": 231,
   "id": "e15fa0e5",
   "metadata": {},
   "outputs": [
    {
     "name": "stdout",
     "output_type": "stream",
     "text": [
      "Python 3.8.3\n"
     ]
    }
   ],
   "source": [
    "# Python과 3,8,3을 합쳐서 Python 3.8.3으로 출력하세요\n",
    "a = 'Python'\n",
    "b = ' 3.8.3'\n",
    "print(a+b)"
   ]
  },
  {
   "cell_type": "code",
   "execution_count": 232,
   "id": "d6a6c289",
   "metadata": {},
   "outputs": [
    {
     "data": {
      "text/plain": [
       "int"
      ]
     },
     "execution_count": 232,
     "metadata": {},
     "output_type": "execute_result"
    }
   ],
   "source": [
    "# a=5 a='10' a=15일때 a의 자료형은 무엇인가?\n",
    "a=5;a='10';a=15\n",
    "type(a)"
   ]
  },
  {
   "cell_type": "code",
   "execution_count": 234,
   "id": "578343c6",
   "metadata": {},
   "outputs": [
    {
     "name": "stdout",
     "output_type": "stream",
     "text": [
      "2\n",
      "2\n"
     ]
    }
   ],
   "source": [
    "# 5의 3승을 3으로 나누었을때의 나머지를 복합 대입 연산자를 이용해서 구하세요.\n",
    "print((5**3)%3)\n",
    "\n",
    "tmp=5**3\n",
    "tmp%=3\n",
    "print(tmp)"
   ]
  },
  {
   "cell_type": "code",
   "execution_count": 236,
   "id": "fcd8d3b9",
   "metadata": {},
   "outputs": [
    {
     "name": "stdout",
     "output_type": "stream",
     "text": [
      "성함을 입력해주세요: 홍길동\n"
     ]
    },
    {
     "data": {
      "text/plain": [
       "'홍길동입니다.'"
      ]
     },
     "execution_count": 236,
     "metadata": {},
     "output_type": "execute_result"
    }
   ],
   "source": [
    "# 이름을 물어보고 답하는 내용을 출력하세요\n",
    "name = input(\"성함을 입력해주세요: \")\n",
    "f'{name}입니다.'"
   ]
  },
  {
   "cell_type": "code",
   "execution_count": 237,
   "id": "44dfdb96",
   "metadata": {},
   "outputs": [
    {
     "name": "stdout",
     "output_type": "stream",
     "text": [
      "이름이 무엇인가요? 홍길동\n",
      "제 이름은 홍길동입니다.\n"
     ]
    }
   ],
   "source": [
    "name = input('이름이 무엇인가요? ')\n",
    "print('제 이름은 '+name+'입니다.')"
   ]
  },
  {
   "cell_type": "code",
   "execution_count": 238,
   "id": "2746dd21",
   "metadata": {},
   "outputs": [
    {
     "name": "stdout",
     "output_type": "stream",
     "text": [
      "숫자를 3개 입력하세요:5\n",
      "3\n",
      "2\n",
      "62\n"
     ]
    }
   ],
   "source": [
    "# 숫자 3개를 입력해서 첫번째 숫자를 두번째 숫자 뒤에 세번째 숫자로 나누었을 때 몫을 구하세요.\n",
    "x=int(input(\"숫자를 3개 입력하세요:\"))\n",
    "y=int(input())\n",
    "z=int(input())\n",
    "print(x**y//z)"
   ]
  },
  {
   "cell_type": "code",
   "execution_count": 239,
   "id": "738ad599",
   "metadata": {},
   "outputs": [
    {
     "name": "stdout",
     "output_type": "stream",
     "text": [
      "33165\n"
     ]
    }
   ],
   "source": [
    "# while문을 사용해 1부터 1000까지의 정수 중 3과 5의 공배수의 합을 구해보세요\n",
    "\n",
    "i=0\n",
    "sum=0\n",
    "while i<1000:\n",
    "    i=i+1\n",
    "    if i%3==0 and i%5==0:\n",
    "        sum=sum+i\n",
    "        \n",
    "print(sum)"
   ]
  },
  {
   "cell_type": "code",
   "execution_count": 240,
   "id": "a0e00ec5",
   "metadata": {},
   "outputs": [
    {
     "name": "stdout",
     "output_type": "stream",
     "text": [
      "33165\n"
     ]
    }
   ],
   "source": [
    "i=0\n",
    "sum=0\n",
    "while i<1001:\n",
    "    if i%15==0:\n",
    "        sum=sum+i\n",
    "    i=i+1 \n",
    "print(sum)"
   ]
  },
  {
   "cell_type": "code",
   "execution_count": 241,
   "id": "016546b4",
   "metadata": {},
   "outputs": [
    {
     "name": "stdout",
     "output_type": "stream",
     "text": [
      "33165\n"
     ]
    }
   ],
   "source": [
    "i = 0\n",
    "sum = 0\n",
    "while i <=1000:\n",
    "    if i%3 ==0:\n",
    "        if i%5 ==0:\n",
    "            sum = sum+i\n",
    "    i += 1\n",
    "print(sum)"
   ]
  },
  {
   "cell_type": "code",
   "execution_count": 242,
   "id": "2ba4bc06",
   "metadata": {},
   "outputs": [
    {
     "name": "stdout",
     "output_type": "stream",
     "text": [
      "33165\n"
     ]
    }
   ],
   "source": [
    "a=1\n",
    "count=0\n",
    "while a<1000:\n",
    "    if a%3==0:\n",
    "        if a%5==0:\n",
    "            count+=a\n",
    "    a+=1\n",
    "print(count)"
   ]
  },
  {
   "cell_type": "code",
   "execution_count": 244,
   "id": "1b76c14a",
   "metadata": {},
   "outputs": [
    {
     "name": "stdout",
     "output_type": "stream",
     "text": [
      "1부터 5까지 입력해 주세요.\n",
      "1\n",
      "2\n",
      "3\n",
      "4\n",
      "5\n",
      "12345\n"
     ]
    }
   ],
   "source": [
    "# 1부터 5까지 입력해서 12345를 출력하세요\n",
    "print(\"1부터 5까지 입력해 주세요.\")\n",
    "a = input()\n",
    "b = input()\n",
    "c = input()\n",
    "d = input()\n",
    "e = input()\n",
    "print(a+b+c+d+e)"
   ]
  },
  {
   "cell_type": "code",
   "execution_count": 245,
   "id": "881021b7",
   "metadata": {},
   "outputs": [
    {
     "name": "stdout",
     "output_type": "stream",
     "text": [
      "[0, 1, 2, 3, 4, 5, 6, 7, 8, 'b', 'c']\n"
     ]
    }
   ],
   "source": [
    "# [0,1,2,3,4,5,6,7,8,9,'a','b','c']에서 9와 'a'를 삭제 후 리스트로 출력하세요\n",
    "x = [0,1,2,3,4,5,6,7,8,9,'a','b','c']\n",
    "del x[9]\n",
    "del x[9]\n",
    "print(x)"
   ]
  },
  {
   "cell_type": "code",
   "execution_count": 246,
   "id": "6929dcf7",
   "metadata": {},
   "outputs": [
    {
     "name": "stdout",
     "output_type": "stream",
     "text": [
      "[0, 1, 2, 3, 4, 5, 6, 7, 8, 'a', 'c']\n"
     ]
    }
   ],
   "source": [
    "list1 = [0,1,2,3,4,5,6,7,8,9,\"a\",\"b\",\"c\"]\n",
    "one = list1.index(9)\n",
    "two = list1.index(\"a\")\n",
    "del list1[one]\n",
    "del list1[two]\n",
    "\n",
    "print(list1)"
   ]
  },
  {
   "cell_type": "code",
   "execution_count": 247,
   "id": "02571a56",
   "metadata": {},
   "outputs": [
    {
     "name": "stdout",
     "output_type": "stream",
     "text": [
      "[0, 1, 2, 3, 4, 5, 6, 7, 8, 'a', 'b', 'c']\n"
     ]
    }
   ],
   "source": [
    "list1=[0,1,2,3,4,5,6,7,8,9,'a','b','c']\n",
    "\n",
    "del list1[9:10]\n",
    "print(list1)"
   ]
  },
  {
   "cell_type": "code",
   "execution_count": 248,
   "id": "862ba813",
   "metadata": {},
   "outputs": [
    {
     "name": "stdout",
     "output_type": "stream",
     "text": [
      "[0, 1, 2, 3, 4, 5, 6, 7, 8, 'b', 'c']\n"
     ]
    }
   ],
   "source": [
    "lista=[0,1,2,3,4,5,6,7,8,9,'a','b','c']\n",
    "lista.remove(9)\n",
    "lista.remove('a')\n",
    "print(lista)"
   ]
  },
  {
   "cell_type": "code",
   "execution_count": 249,
   "id": "29a3c514",
   "metadata": {},
   "outputs": [
    {
     "name": "stdout",
     "output_type": "stream",
     "text": [
      "[0, 1, 2, 3, 4, 5, 6, 7, 8, 'a', 'b']\n"
     ]
    }
   ],
   "source": [
    "#[0,1,2,3,4,5,6,7,8,'a','b','c']에서 'c'를 삭제 후 출력하세요.\n",
    "x = [0,1,2,3,4,5,6,7,8,'a','b','c']\n",
    "del x[-1]\n",
    "print(x)"
   ]
  },
  {
   "cell_type": "markdown",
   "id": "60d9abef",
   "metadata": {},
   "source": [
    "리스트의 메소드인 sort()를 사용하여도 정렬이 된다. 이 경우에는 리스트 자체를 변경해 버린다. 일반적으로 이것보다는 내장함수인 sorted()가 더 편리하다."
   ]
  },
  {
   "cell_type": "code",
   "execution_count": 250,
   "id": "99a50f7f",
   "metadata": {},
   "outputs": [
    {
     "name": "stdout",
     "output_type": "stream",
     "text": [
      "[9, 9, 8, 8, 5, 4, 4, 4, 3, 1]\n"
     ]
    }
   ],
   "source": [
    "#[4,8,5,4,8,4,3,9,1,9]를 내림차순으로 정렬하세요\n",
    "a = [4,8,5,4,8,4,3,9,1,9]\n",
    "a.sort()\n",
    "a.reverse()\n",
    "print(a)"
   ]
  },
  {
   "cell_type": "code",
   "execution_count": 251,
   "id": "1e768873",
   "metadata": {},
   "outputs": [
    {
     "name": "stdout",
     "output_type": "stream",
     "text": [
      "[9, 9, 8, 8, 5, 4, 4, 4, 3, 1]\n"
     ]
    }
   ],
   "source": [
    "h=[4,8,5,4,8,4,3,9,1,9]\n",
    "i=sorted(h, reverse=True)\n",
    "print(i)"
   ]
  },
  {
   "cell_type": "code",
   "execution_count": 252,
   "id": "340027ac",
   "metadata": {},
   "outputs": [
    {
     "data": {
      "text/plain": [
       "'현재 시간은 2021년 12월 29일 15시 47분 30초 입니다'"
      ]
     },
     "execution_count": 252,
     "metadata": {},
     "output_type": "execute_result"
    }
   ],
   "source": [
    "# format 함수를 이용해서 다음과 같은 형식으로 현재 날짜/시간을 출력하세요\n",
    "# 2021년 12월 29일 15시 47분 30초\n",
    "\n",
    "year = 2021\n",
    "month = 12\n",
    "day = 29\n",
    "d = {\"가\":15, \"나\":47, \"다\":30}\n",
    "f'현재 시간은 {year}년 {month}월 {day}일 {d[\"가\"]}시 {d[\"나\"]}분 {d[\"다\"]}초 입니다'"
   ]
  },
  {
   "cell_type": "code",
   "execution_count": 253,
   "id": "3869e128",
   "metadata": {},
   "outputs": [
    {
     "name": "stdout",
     "output_type": "stream",
     "text": [
      "2021년 12월 29일 15시 47분 30초\n"
     ]
    }
   ],
   "source": [
    "print(\"{}년 {}월 {}일 {}시 {}분 {}초\".format(2021, 12, 29, 15, 47, 30))"
   ]
  },
  {
   "cell_type": "code",
   "execution_count": 254,
   "id": "259e7314",
   "metadata": {},
   "outputs": [
    {
     "name": "stdout",
     "output_type": "stream",
     "text": [
      "2023년 9월 4일 18시 28분 57초\n"
     ]
    }
   ],
   "source": [
    "import datetime as dt\n",
    "\n",
    "ct = dt.datetime.now()\n",
    "print(f'{ct.year}년 {ct.month}월 {ct.day}일 {ct.hour}시 {ct.minute}분 {ct.second}초'.format())"
   ]
  },
  {
   "cell_type": "code",
   "execution_count": 255,
   "id": "36320f1f",
   "metadata": {},
   "outputs": [
    {
     "name": "stdout",
     "output_type": "stream",
     "text": [
      "2023년 9월 4일 18시 29분 7초\n"
     ]
    }
   ],
   "source": [
    "import datetime as dt\n",
    "\n",
    "ct = dt.datetime.now()\n",
    "print(f'{ct.year}년 {ct.month}월 {ct.day}일 {ct.hour}시 {ct.minute}분 {ct.second}초')"
   ]
  },
  {
   "cell_type": "code",
   "execution_count": 256,
   "id": "24025250",
   "metadata": {},
   "outputs": [
    {
     "name": "stdout",
     "output_type": "stream",
     "text": [
      "2023년 09월 04일 18시 29분 07초\n"
     ]
    }
   ],
   "source": [
    "import datetime as dt\n",
    "x = dt.datetime.now()\n",
    "print(x.strftime(\"%Y년 %m월 %d일 %H시 %M분 %S초\"))"
   ]
  },
  {
   "cell_type": "code",
   "execution_count": 257,
   "id": "d7cea970",
   "metadata": {},
   "outputs": [
    {
     "name": "stdout",
     "output_type": "stream",
     "text": [
      "오늘 날짜는 2023년 9월 4일입니다. 현재 시각은 18시 29분 37초입니다.\n"
     ]
    }
   ],
   "source": [
    "import datetime\n",
    "now=datetime.datetime.now()\n",
    "y,mo,d,h,m,s=now.year,now.month,now.day,now.hour,now.minute,now.second\n",
    "\n",
    "print(f\"오늘 날짜는 {y}년 {mo}월 {d}일입니다. 현재 시각은 {h}시 {m}분 {s}초입니다.\")"
   ]
  },
  {
   "cell_type": "code",
   "execution_count": 259,
   "id": "dd79df32",
   "metadata": {},
   "outputs": [
    {
     "name": "stdout",
     "output_type": "stream",
     "text": [
      "오후\n"
     ]
    }
   ],
   "source": [
    "import datetime\n",
    "h=datetime.datetime.now()\n",
    "\n",
    "if h.hour<12:\n",
    "    print('오전')\n",
    "else:\n",
    "    print('오후')"
   ]
  },
  {
   "cell_type": "markdown",
   "id": "0401b371",
   "metadata": {},
   "source": [
    "현재 시각을 오전과 오후로 구분하는 프로그램을 작성하세요"
   ]
  },
  {
   "cell_type": "code",
   "execution_count": 260,
   "id": "9ea41e5d",
   "metadata": {},
   "outputs": [
    {
     "name": "stdout",
     "output_type": "stream",
     "text": [
      "number1\n",
      "오전\n"
     ]
    }
   ],
   "source": [
    "num=int(input('number'))\n",
    "if 0<int(num)<12:\n",
    "    print('오전')\n",
    "else:\n",
    "    print('오후')"
   ]
  },
  {
   "cell_type": "code",
   "execution_count": 261,
   "id": "e45aae20",
   "metadata": {},
   "outputs": [
    {
     "name": "stdout",
     "output_type": "stream",
     "text": [
      "현재 시각은 오후 6시 30분 입니다.\n"
     ]
    }
   ],
   "source": [
    "import datetime\n",
    "now=datetime.datetime.now()\n",
    "y,mo,d,h,m,s=now.year,now.month,now.day,now.hour,now.minute,now.second\n",
    "\n",
    "if h >= 12:\n",
    "    print(\"현재 시각은 오후 %d시 %d분 입니다.\" %(h-12,m))\n",
    "else:\n",
    "    print(\"현재 시각은 오후 %d시 %d분 입니다.\" %(h,m))"
   ]
  },
  {
   "cell_type": "code",
   "execution_count": 262,
   "id": "340c7e88",
   "metadata": {},
   "outputs": [
    {
     "name": "stdout",
     "output_type": "stream",
     "text": [
      "현재는 오후 6시입니다.\n"
     ]
    }
   ],
   "source": [
    "import datetime as dt\n",
    "x = dt.datetime.now()\n",
    "\n",
    "if x.hour>12:\n",
    "    time = x.hour - 12\n",
    "    print(f\"현재는 오후 {time}시입니다.\")\n",
    "else:\n",
    "    print(f\"현재는 오전 {x.hour}시입니다.\")"
   ]
  },
  {
   "cell_type": "code",
   "execution_count": 263,
   "id": "bf1cfdb8",
   "metadata": {},
   "outputs": [
    {
     "name": "stdout",
     "output_type": "stream",
     "text": [
      "오후입니다.\n"
     ]
    }
   ],
   "source": [
    "import datetime as dt\n",
    "\n",
    "ct = dt.datetime.now()\n",
    "if ct.hour >= 12:\n",
    "    print(\"오후입니다.\")\n",
    "else:\n",
    "    print(\"오전입니다.\")"
   ]
  },
  {
   "cell_type": "code",
   "execution_count": 264,
   "id": "ac0d1ae0",
   "metadata": {},
   "outputs": [
    {
     "name": "stdout",
     "output_type": "stream",
     "text": [
      "현재 오후입니다.\n"
     ]
    }
   ],
   "source": [
    "from datetime import datetime\n",
    "\n",
    "now = datetime.now()\n",
    "if now.hour < 12:\n",
    "    print(\"현재 오전입니다\")\n",
    "else:\n",
    "    print(\"현재 오후입니다.\")"
   ]
  },
  {
   "cell_type": "code",
   "execution_count": 265,
   "id": "211b8e52",
   "metadata": {},
   "outputs": [
    {
     "name": "stdout",
     "output_type": "stream",
     "text": [
      "현재시각: 1100\n",
      "오전\n"
     ]
    }
   ],
   "source": [
    "time = int(input(\"현재시각: \"))\n",
    "if time < 1200:\n",
    "    print(\"오전\")\n",
    "elif time > 1159:\n",
    "    print(\"오후\")"
   ]
  },
  {
   "cell_type": "code",
   "execution_count": 266,
   "id": "6fc34487",
   "metadata": {},
   "outputs": [
    {
     "name": "stdout",
     "output_type": "stream",
     "text": [
      "현재 시간은 18시로 오후입니다\n"
     ]
    }
   ],
   "source": [
    "import datetime\n",
    "\n",
    "now=datetime.datetime.now()\n",
    "\n",
    "\n",
    "# t = input('현재 시간을 입력하세요')\n",
    "\n",
    "if now.hour < 12:\n",
    "    print(f'현재시간은 {now.hour}시로 오전입니다')\n",
    "else:\n",
    "    print(f'현재 시간은 {now.hour}시로 오후입니다')"
   ]
  },
  {
   "cell_type": "code",
   "execution_count": 267,
   "id": "91adfce3",
   "metadata": {},
   "outputs": [
    {
     "name": "stdout",
     "output_type": "stream",
     "text": [
      "number5\n",
      "입력한 숫자 5은 홀수입니다\n"
     ]
    }
   ],
   "source": [
    "# 정수를 입력하면 홀수 짝수를 판별하는 프로그램 작성\n",
    "num=input('number')\n",
    "if int(num)%2==0:\n",
    "    print(f'입력한 숫자 {num}은 짝수입니다')\n",
    "else:\n",
    "    print(f'입력한 숫자 {num}은 홀수입니다')"
   ]
  },
  {
   "cell_type": "code",
   "execution_count": 268,
   "id": "25ae94f9",
   "metadata": {
    "scrolled": true
   },
   "outputs": [
    {
     "name": "stdout",
     "output_type": "stream",
     "text": [
      "5\n",
      "홀수\n"
     ]
    }
   ],
   "source": [
    "a=int(input())\n",
    "if a%2==0:\n",
    "    print('짝수')\n",
    "else :\n",
    "    print('홀수')"
   ]
  },
  {
   "cell_type": "code",
   "execution_count": 269,
   "id": "28cbb647",
   "metadata": {},
   "outputs": [
    {
     "name": "stdout",
     "output_type": "stream",
     "text": [
      "태어난 연도1994\n",
      "범띠입니다.\n"
     ]
    }
   ],
   "source": [
    "#[과제] 태어난 연도를 입력받아 띠를 출력하는 프로그램을 작성하세요.\n",
    "x = int(input(\"태어난 연도\"))\n",
    "y = ['쥐','소','범','토끼','용','뱀','말','양','원숭이','닭','개','돼지']\n",
    "print(y[x%12] + '띠입니다.')"
   ]
  },
  {
   "cell_type": "code",
   "execution_count": 270,
   "id": "e03fa614",
   "metadata": {},
   "outputs": [
    {
     "name": "stdout",
     "output_type": "stream",
     "text": [
      "당신이 태어난 연도 : 1994\n",
      "개띠입니다.\n"
     ]
    }
   ],
   "source": [
    "x = int(input(\"당신이 태어난 연도 : \"))\n",
    "y = ['원숭이', '닭', '개', '돼지', '쥐', '소', '범', '토끼', '용', '뱀', '말', '양띠']\n",
    "print(y[x%12] + '띠입니다.')"
   ]
  },
  {
   "cell_type": "markdown",
   "id": "a7c24d8c",
   "metadata": {},
   "source": [
    "[과제]계절 구분 프로그램\n",
    "- 각 계절별 출력 멘트는 계절에 맞게 창작\n",
    "- if 조건문으로 datetime 모듈을 import해서 datetime.now 함수를 사용해서 작성"
   ]
  },
  {
   "cell_type": "code",
   "execution_count": 272,
   "id": "f9da2a72",
   "metadata": {},
   "outputs": [
    {
     "name": "stdout",
     "output_type": "stream",
     "text": [
      "이번달은 9이므로 가을입니다\n"
     ]
    }
   ],
   "source": [
    "from datetime import datetime\n",
    "s=datetime.now()\n",
    "\n",
    "if 1<=s.month <=3: \n",
    "    print('이번달은 {}이므로 봄입니다'.format(s.month))\n",
    "elif 4<= s.month <=6: \n",
    "    print('이번달은 {}이므로 여름입니다'.format(s.month))\n",
    "elif 8<= s.month <=10: \n",
    "    print('이번달은 {}이므로 가을입니다'.format(s.month))\n",
    "else: \n",
    "    print('이번달은 {}월이므로 겨울입니다'.format(s.month))"
   ]
  },
  {
   "cell_type": "code",
   "execution_count": 273,
   "id": "7d882fef",
   "metadata": {},
   "outputs": [
    {
     "name": "stdout",
     "output_type": "stream",
     "text": [
      "지금 우리가 지내는 계절은 어디쯤에 있나요?\n",
      "단풍이 지천을 물들이는 계절, 가을입니다.\n"
     ]
    }
   ],
   "source": [
    "import datetime\n",
    "t = datetime.datetime.now()\n",
    "\n",
    "print('지금 우리가 지내는 계절은 어디쯤에 있나요?')\n",
    "if t.month<12 and t.month>=9:\n",
    "    print('단풍이 지천을 물들이는 계절, 가을입니다.')\n",
    "elif t.month<9 and t.month>=6:\n",
    "    print('작열하는 태양과 신록이 공존하는 계절, 여름입니다.')\n",
    "elif t.month<6 and t.month>=3:\n",
    "    print('벚꽃의 꽃말은 기말고사, 봄입니다.')\n",
    "else: print('살고 싶으면 장롱에 있던 히트텍 꺼내라 ㅋㅋ')"
   ]
  },
  {
   "cell_type": "markdown",
   "id": "cadce09f",
   "metadata": {},
   "source": [
    "[과제]커피 자판기 프로그램\n",
    "- 시나리오 : 자판기 커피 재고 5잔, 커피 1잔 가격 300원, 재고 범위내에서 300원 이상 돈을 넣으면 거스름돈과 커피를 주고 그렇지 않으면 반환하며 재고가 소진되면 안내멘트 출력\n",
    "- 각 Case별 멘트 출력은 상황에 맞게 창작\n",
    "- while, if ~ elif ~ else 제어문을 사용하여 작성"
   ]
  },
  {
   "cell_type": "code",
   "execution_count": 274,
   "id": "aefd2dd4",
   "metadata": {},
   "outputs": [
    {
     "name": "stdout",
     "output_type": "stream",
     "text": [
      "맛있는 커피를 300원에 드립니다. 현금을 넣어주세요!!300\n",
      "커피를 맛있게 드세요\n",
      "맛있는 커피를 300원에 드립니다. 현금을 넣어주세요!!1000\n",
      "따뜻한 커피 드시고 잔돈 700원을 챙기세요\n",
      "맛있는 커피를 300원에 드립니다. 현금을 넣어주세요!!200\n",
      "커피는 300원입니다. 현금을 다시 넣어 주세요.\n",
      "맛있는 커피를 300원에 드립니다. 현금을 넣어주세요!!300\n",
      "커피를 맛있게 드세요\n",
      "맛있는 커피를 300원에 드립니다. 현금을 넣어주세요!!300\n",
      "커피를 맛있게 드세요\n",
      "맛있는 커피를 300원에 드립니다. 현금을 넣어주세요!!300\n",
      "커피를 맛있게 드세요\n",
      "커피가 다 떨어졌어요~ 잠시 판매 중단합니다.\n"
     ]
    }
   ],
   "source": [
    "coffee = 5\n",
    "price = 300\n",
    "\n",
    "while 1:\n",
    "    money = int(input(\"맛있는 커피를 300원에 드립니다. 현금을 넣어주세요!!\"))\n",
    "    if money == 300:\n",
    "        print('커피를 맛있게 드세요')\n",
    "        coffee -= 1\n",
    "    elif money > 300:\n",
    "        c = money - 300\n",
    "        print(f'따뜻한 커피 드시고 잔돈 {c}원을 챙기세요' )\n",
    "        coffee -= 1\n",
    "    else:\n",
    "        print(f'커피는 {price}원입니다. 현금을 다시 넣어 주세요.')\n",
    "    if coffee == 0:\n",
    "        print('커피가 다 떨어졌어요~ 잠시 판매 중단합니다.')\n",
    "        break"
   ]
  },
  {
   "cell_type": "code",
   "execution_count": 275,
   "id": "aaebecec",
   "metadata": {},
   "outputs": [
    {
     "name": "stdout",
     "output_type": "stream",
     "text": [
      "자판기를 이용하시려면 돈을 넣어주세요: 1500\n",
      "몇 잔의 커피를 뽑으시겠습니까?3\n",
      "커피 3잔 나왔습니다.\n",
      "자판기를 이용하시려면 돈을 넣어주세요: 300\n",
      "따뜻한 커피 나왔습니다\n",
      "자판기를 이용하시려면 돈을 넣어주세요: 300\n",
      "따뜻한 커피 나왔습니다\n",
      "금일 준비한 커피가 모두 소진되어 판매를 일시 중단합니다.\n"
     ]
    }
   ],
   "source": [
    "coffee = 5\n",
    "while 1:\n",
    "    money = int(input('자판기를 이용하시려면 돈을 넣어주세요: '))\n",
    "    change = money - 300\n",
    "    if money == 300:\n",
    "        print('따뜻한 커피 나왔습니다')\n",
    "        coffee = coffee - 1\n",
    "    elif money > 300 and money <= 600:\n",
    "        print('따뜻한 커피 나왔습니다. 거스름돈은 %d원입니다.' % change)\n",
    "        coffee = coffee - 1\n",
    "    elif money > 600:\n",
    "        coffee_num = int(input('몇 잔의 커피를 뽑으시겠습니까?'))\n",
    "        change_2 = money - (coffee_num * 300)\n",
    "        if coffee < coffee_num:\n",
    "            print(f'죄송합니다. 재고가 모자랍니다. 현재 재고는 {coffee}개 입니다. 잔돈을 반환합니다.')\n",
    "        elif money % 300 == 0:\n",
    "            print(f'커피 {coffee_num}잔 나왔습니다.')\n",
    "            coffee = coffee - coffee_num\n",
    "        elif money < coffee_num * 300:\n",
    "            print('금액이 모자랍니다.')\n",
    "        else:\n",
    "            print(f'커피 {coffee_num}잔 나왔습니다. 거스름돈은 {change_2}원 입니다.')\n",
    "            coffee = coffee - coffee_num\n",
    "    else:\n",
    "        print('금액이 모자랍니다. 300원 이상 넣어주세요!')\n",
    "        \n",
    "    if coffee == 0:\n",
    "        print('금일 준비한 커피가 모두 소진되어 판매를 일시 중단합니다.')\n",
    "        break"
   ]
  },
  {
   "cell_type": "code",
   "execution_count": 276,
   "id": "2d85195d",
   "metadata": {},
   "outputs": [
    {
     "name": "stdout",
     "output_type": "stream",
     "text": [
      "금액을 투입해주세요: 300\n",
      "커피 1잔 구매\n",
      "\n",
      "금액을 투입해주세요: 1000\n",
      "몇 잔 구매하시나요? > 2\n",
      "커피 2잔 구매\n",
      "거스름돈 400원 반환\n",
      "\n",
      "금액을 투입해주세요: 300\n",
      "커피 1잔 구매\n",
      "\n",
      "금액을 투입해주세요: 600\n",
      "몇 잔 구매하시나요? > 2\n",
      "재고가 부족합니다. 부족한 만큼의 금액을 반환합니다.\n",
      "커피 1잔 구매\n",
      "거스름돈 300원 반환\n",
      "\n",
      "재고가 다 소진되었습니다.\n"
     ]
    }
   ],
   "source": [
    "stock = 5\n",
    "fee = 300\n",
    "\n",
    "while 1:\n",
    "    if(stock==0):\n",
    "        print(\"재고가 다 소진되었습니다.\")\n",
    "        break\n",
    "    \n",
    "    money = int(input(\"금액을 투입해주세요: \"))\n",
    "    \n",
    "    if(money>=300):\n",
    "        if(money>=600):\n",
    "            sold = int(input(\"몇 잔 구매하시나요? > \"))\n",
    "            charge = money-(sold*fee)\n",
    "        else:\n",
    "            sold = money//fee\n",
    "            charge = money%fee\n",
    "        \n",
    "        if(stock<sold):\n",
    "            print(\"재고가 부족합니다. 부족한 만큼의 금액을 반환합니다.\")\n",
    "            sold=stock\n",
    "            charge=money-(sold*fee)\n",
    "            \n",
    "        print(\"커피 %d잔 구매\" %sold)\n",
    "    \n",
    "        if(charge!=0):\n",
    "            print(\"거스름돈 %d원 반환\" %charge)\n",
    "        stock-=sold\n",
    "        \n",
    "    else:\n",
    "        print(\"잔액이 부족합니다.\")\n",
    "        charge=money\n",
    "        print(\"거스름돈 %d원 반납\" %charge)\n",
    "    \n",
    "    print()"
   ]
  },
  {
   "cell_type": "markdown",
   "id": "0bd6b4a8",
   "metadata": {},
   "source": [
    "[과제] 사용자가 입력한 게임 회수만큼 로또 번호를 출력하는 프로그램을 작성하세요.(중복불허)"
   ]
  },
  {
   "cell_type": "code",
   "execution_count": 277,
   "id": "0595eccf",
   "metadata": {},
   "outputs": [
    {
     "name": "stdout",
     "output_type": "stream",
     "text": [
      "게임 수 : 5\n",
      "[5, 7, 10, 19, 29, 42]\n",
      "[2, 12, 13, 17, 25, 39]\n",
      "[1, 11, 14, 23, 35, 42]\n",
      "[1, 6, 33, 34, 39, 44]\n",
      "[1, 8, 20, 29, 32, 35]\n"
     ]
    }
   ],
   "source": [
    "import random\n",
    "\n",
    "num = input(\"게임 수 : \")\n",
    "\n",
    "for i in range(0, int(num)):\n",
    "    lotto = random.sample(range(1, 46), 6)\n",
    "    lotto.sort()\n",
    "    print(lotto)"
   ]
  },
  {
   "cell_type": "code",
   "execution_count": 278,
   "id": "634e293b",
   "metadata": {},
   "outputs": [
    {
     "name": "stdout",
     "output_type": "stream",
     "text": [
      "☆★로또번호 생성기★☆\n",
      "게임 횟수를 입력하세요(숫자만 입력): 5\n",
      "[3, 34, 36, 10, 19, 13]\n",
      "[35, 40, 4, 6, 25, 26]\n",
      "[12, 14, 5, 16, 31, 30]\n",
      "[30, 19, 17, 45, 18, 38]\n",
      "[14, 19, 1, 23, 12, 42]\n"
     ]
    }
   ],
   "source": [
    "import random, string\n",
    "cn = 'y'\n",
    "print('☆★로또번호 생성기★☆')\n",
    "while(cn == 'y'):\n",
    "    game = input('게임 횟수를 입력하세요(숫자만 입력): ')\n",
    "    if(game.isdigit() == True):\n",
    "        for i in range(0, int(game)):\n",
    "            lotto = random.sample(range(1,46),6)\n",
    "            #lotto.sort() #예쁘게 보고 싶으면 하면 됩니다\n",
    "            print(lotto)\n",
    "            cn = 'n'\n",
    "    else:\n",
    "        print(\"숫자를 입력하세요\")\n",
    "        continue"
   ]
  },
  {
   "cell_type": "code",
   "execution_count": 279,
   "id": "e34dab80",
   "metadata": {},
   "outputs": [
    {
     "name": "stdout",
     "output_type": "stream",
     "text": [
      "로또 회수를 입력하세요> 5\n",
      "[5, 6, 39, 15, 43, 41]\n",
      "[16, 5, 35, 2, 36, 46]\n",
      "[30, 21, 23, 34, 8, 46]\n",
      "[20, 4, 9, 2, 36, 38]\n",
      "[26, 17, 30, 41, 36, 20]\n"
     ]
    }
   ],
   "source": [
    "gnum = int(input('로또 회수를 입력하세요> '))\n",
    "for i in range(gnum):\n",
    "  li = []\n",
    "  for j in range(6):\n",
    "    lt = random.randint(1,46)\n",
    "    while lt in li:  # 중복 회피\n",
    "      lt = random.randint(1,46)\n",
    "    li.append(lt)\n",
    "  print(li)"
   ]
  },
  {
   "cell_type": "markdown",
   "id": "b34cdaf6",
   "metadata": {},
   "source": [
    "[과제] 우리반의 발표자를 무작위로 선정하는 프로그램을 작성하세요\n",
    "\n",
    "hmkd1 = ['김나영','김동완','김예슬','김용훈','김태현','남동연','박서진','박주경', '손아','옥유리', '옥주리','윤예은','윤정현','이승주','임수현','장인혁', '정슬기','한나영','조차선','이지연','김성호','오윤택','최정인']"
   ]
  },
  {
   "cell_type": "code",
   "execution_count": 280,
   "id": "e015e7fd",
   "metadata": {
    "scrolled": true
   },
   "outputs": [
    {
     "name": "stdout",
     "output_type": "stream",
     "text": [
      "입력> 3\n",
      "['이승주', '박서진', '최정인']\n"
     ]
    }
   ],
   "source": [
    "import random\n",
    "\n",
    "name = ['김나영','김동완','김예슬','김용훈','김태현','남동연','박서진','박주경', '손아','옥유리', '옥주리',\n",
    "         '윤예은','윤정현','이승주','임수현','장인혁', '정슬기','한나영','조차선','이지연','김성호','오윤택','최정인']\n",
    "li = []\n",
    "num = int(input('입력> '))\n",
    "p = random.sample(range(len(name)),num)\n",
    "\n",
    "for i in p:\n",
    "    li.append(name[i])\n",
    "\n",
    "print(li)"
   ]
  },
  {
   "cell_type": "markdown",
   "id": "896fa4ae",
   "metadata": {},
   "source": [
    "남녀 파트너 정해주기 프로그램을 작성하세요(5개 커플)"
   ]
  },
  {
   "cell_type": "code",
   "execution_count": 281,
   "id": "1a7b8949",
   "metadata": {},
   "outputs": [
    {
     "name": "stdout",
     "output_type": "stream",
     "text": [
      "[['남자3호', '여자1호'], ['남자5호', '여자2호'], ['남자2호', '여자5호'], ['남자1호', '여자4호'], ['남자4호', '여자3호']]\n"
     ]
    }
   ],
   "source": [
    "import random\n",
    "male=['남자1호','남자2호','남자3호','남자4호','남자5호']\n",
    "female=['여자1호','여자2호','여자3호','여자4호','여자5호']\n",
    "couple=[]\n",
    "for i in range(5):\n",
    "    random.shuffle(male)\n",
    "    random.shuffle(female)\n",
    "    c=[male[0],female[0]]\n",
    "    couple.append(c)\n",
    "    del male[0]\n",
    "    del female[0]\n",
    "print((couple))"
   ]
  },
  {
   "cell_type": "markdown",
   "id": "411a1db5",
   "metadata": {},
   "source": [
    "### 날짜처리\n",
    "\n",
    "포맷 코드 표\n",
    "포맷코드\t설명\t예\n",
    "%a\t요일 줄임말\tSun, Mon, ... Sat\n",
    "%A\t요일\tSunday, Monday, ..., Saturday\n",
    "%w\t요일을 숫자로 표시, 월요일일요일, 06\t0, 1, ..., 6\n",
    "%d\t일\t01, 02, ..., 31\n",
    "%b\t월 줄임말\tJan, Feb, ..., Dec\n",
    "%B\t월\tJanuary, February, …, December\n",
    "%m\t숫자 월\t01, 02, ..., 12\n",
    "%y\t두 자릿수 연도\t01, 02, ..., 99\n",
    "%Y\t네 자릿수 연도\t0001, 0002, ..., 2017, 2018, 9999\n",
    "%H\t시간(24시간)\t00, 01, ..., 23\n",
    "%I\t시간(12시간)\t01, 02, ..., 12\n",
    "%p\tAM, PM\tAM, PM\n",
    "%M\t분\t00, 01, ..., 59\n",
    "%S\t초\t00, 01, ..., 59\n",
    "%Z\t시간대\t대한민국 표준시\n",
    "%j\t1월 1일부터 경과한 일수\t001, 002, ..., 366\n",
    "%U\t1년중 주차, 월요일이 한 주의 시작으로\t00, 01, ..., 53\n",
    "%W\t1년중 주차, 월요일이 한 주의 시작으로\t00, 01, ..., 53\n",
    "%c\t날짜, 요일, 시간을 출력, 현재 시간대 기준\tSat May 19 11:14:27 2018\n",
    "%x\t날짜를 출력, 현재 시간대 기준\t05/19/18\n",
    "%X\t시간을 출력, 현재 시간대 기준\t'11:44:22'"
   ]
  },
  {
   "cell_type": "code",
   "execution_count": 282,
   "id": "5a446869",
   "metadata": {},
   "outputs": [
    {
     "data": {
      "text/plain": [
       "'Mon Dec 28 22:02:17 2020'"
      ]
     },
     "execution_count": 282,
     "metadata": {},
     "output_type": "execute_result"
    }
   ],
   "source": [
    "import time\n",
    "t = time.localtime(1609160537.371015)\n",
    "time.asctime(t)"
   ]
  },
  {
   "cell_type": "code",
   "execution_count": 283,
   "id": "b5907300",
   "metadata": {},
   "outputs": [
    {
     "name": "stdout",
     "output_type": "stream",
     "text": [
      "time.struct_time(tm_year=2023, tm_mon=9, tm_mday=4, tm_hour=18, tm_min=42, tm_sec=30, tm_wday=0, tm_yday=247, tm_isdst=0)\n"
     ]
    }
   ],
   "source": [
    "import time\n",
    "t = time.localtime()\n",
    "print(t)"
   ]
  },
  {
   "cell_type": "code",
   "execution_count": 284,
   "id": "56f3b32a",
   "metadata": {},
   "outputs": [
    {
     "data": {
      "text/plain": [
       "'Mon Sep  4 18:42:30 2023'"
      ]
     },
     "execution_count": 284,
     "metadata": {},
     "output_type": "execute_result"
    }
   ],
   "source": [
    "time.asctime(t)"
   ]
  },
  {
   "cell_type": "code",
   "execution_count": 285,
   "id": "15afb895",
   "metadata": {},
   "outputs": [
    {
     "data": {
      "text/plain": [
       "'2023-09-23 18:42:33'"
      ]
     },
     "execution_count": 285,
     "metadata": {},
     "output_type": "execute_result"
    }
   ],
   "source": [
    "import time\n",
    "from datetime import datetime\n",
    "t = time.time()\n",
    "d = datetime.fromtimestamp(t)\n",
    "s = d.strftime('%Y-%m-%y %X')\n",
    "s"
   ]
  },
  {
   "cell_type": "code",
   "execution_count": 286,
   "id": "ca93a034",
   "metadata": {},
   "outputs": [
    {
     "data": {
      "text/plain": [
       "'2023-09-23 18:42:33'"
      ]
     },
     "execution_count": 286,
     "metadata": {},
     "output_type": "execute_result"
    }
   ],
   "source": [
    "s = d.strftime('%Y-%m-%y %H:%M:%S')\n",
    "s"
   ]
  },
  {
   "cell_type": "code",
   "execution_count": 287,
   "id": "5964c881",
   "metadata": {},
   "outputs": [
    {
     "data": {
      "text/plain": [
       "'09/04/23 18:42:33'"
      ]
     },
     "execution_count": 287,
     "metadata": {},
     "output_type": "execute_result"
    }
   ],
   "source": [
    "s = d.strftime('%x %X')\n",
    "s"
   ]
  },
  {
   "cell_type": "code",
   "execution_count": 288,
   "id": "e7c88e82",
   "metadata": {},
   "outputs": [
    {
     "name": "stdout",
     "output_type": "stream",
     "text": [
      "오늘은 2023-01-01 이후 247일째 되는 날 입니다.\n"
     ]
    }
   ],
   "source": [
    "import time\n",
    "t = time.localtime()\n",
    "start_day = '%d-01-01' %t.tm_year\n",
    "start_day\n",
    "elabsed_day = t.tm_yday\n",
    "elabsed_day\n",
    "print(f'오늘은 {start_day} 이후 {elabsed_day}일째 되는 날 입니다.')"
   ]
  },
  {
   "cell_type": "markdown",
   "id": "355aacc8",
   "metadata": {},
   "source": [
    "import time\n",
    "\n",
    "weekdays = ['월', '화', '수', '목', '금', '토', '일']\n",
    "t = time.localtime()\n",
    "today = '%d-%d-%d' %(t.tm_year,t.tm_mon,t.tm_mday)\n",
    "week = weekdays[t.tm_wday]\n",
    "print(f'{today} 오늘은 {week}요일 입니다.')"
   ]
  },
  {
   "cell_type": "markdown",
   "id": "a47b6aca",
   "metadata": {},
   "source": [
    "현재 요일을 \"2021-6-26 오늘은 토요일입니다. 와 같은 형식으로 출력하세요"
   ]
  },
  {
   "cell_type": "code",
   "execution_count": 289,
   "id": "dfc808f8",
   "metadata": {},
   "outputs": [
    {
     "name": "stdout",
     "output_type": "stream",
     "text": [
      " 2023-09-23 오늘은 Monday 입니다.\n"
     ]
    }
   ],
   "source": [
    "import time\n",
    "t = time.time()\n",
    "d = datetime.fromtimestamp(t)\n",
    "td = d.strftime('%Y-%m-%y')\n",
    "tt = d.strftime('%A')\n",
    "\n",
    "print(f' {td} 오늘은 {tt} 입니다.')"
   ]
  },
  {
   "cell_type": "markdown",
   "id": "9a84e392",
   "metadata": {},
   "source": [
    "[과제] 음식점의 음식 주문가격 산출 프로그램을 자유롭게 작성하세요"
   ]
  },
  {
   "cell_type": "code",
   "execution_count": 292,
   "id": "fc181ec5",
   "metadata": {},
   "outputs": [
    {
     "name": "stdout",
     "output_type": "stream",
     "text": [
      "\n",
      "오늘도 큰솥 도시락을 찾아주셔서 감사합니다.\n",
      "\n",
      "    치킨마요 \\ 3500\n",
      "    참치마요 \\ 3000\n",
      "포테이토마요 \\ 3300\n",
      "\n",
      "※ 토핑 추가 \\ 500\n",
      "\n",
      "어떤 메뉴를 고르시겠어요? 치킨마요\n",
      "치킨마요의 가격은 3500원입니다.\n",
      "토핑을 추가하시겠어요? [네/아니오] 아니오\n",
      "주문하신 메뉴의 총 가격은 3500원입니다.\n",
      "맛있게 드세요.\n"
     ]
    }
   ],
   "source": [
    "menu = {'치킨마요':3500, '참치마요':3000, '포테이토마요':3300, '토핑':500}\n",
    "\n",
    "print(f'''\n",
    "오늘도 큰솥 도시락을 찾아주셔서 감사합니다.\n",
    "\n",
    "    치킨마요 \\ {menu['치킨마요']}\n",
    "    참치마요 \\ {menu['참치마요']}\n",
    "포테이토마요 \\ {menu['포테이토마요']}\n",
    "\n",
    "※ 토핑 추가 \\ {menu['토핑']}\n",
    "''')\n",
    "while 1:\n",
    "    food = input('어떤 메뉴를 고르시겠어요? ')\n",
    "\n",
    "    if food in menu:\n",
    "        print(f'{food}의 가격은 {menu[food]}원입니다.')\n",
    "        top = input('토핑을 추가하시겠어요? [네/아니오] ')\n",
    "        if top=='네':\n",
    "            print('주문하신 메뉴의 총 가격은 %d원입니다.\\n맛있게 드세요.' %(int(menu[food])+int(menu['토핑'])))\n",
    "            break\n",
    "        elif top=='아니오':\n",
    "            print(f'주문하신 메뉴의 총 가격은 {menu[food]}원입니다.\\n맛있게 드세요.')\n",
    "            break\n",
    "        else: print('주문 오류입니다. 다시 주문해 주세요.')\n",
    "    \n",
    "    else: print('주문하신 메뉴는 없는 메뉴입니다.')"
   ]
  },
  {
   "cell_type": "markdown",
   "id": "0b5dda3c",
   "metadata": {},
   "source": [
    "[도전과제] Player가 3승할 때까지 계속 진행되는 가위바위보 게임 프로그램을 작성하세요.\n",
    "게임은 Player와 컴퓨터가 진행"
   ]
  },
  {
   "cell_type": "code",
   "execution_count": 293,
   "id": "938e8122",
   "metadata": {},
   "outputs": [
    {
     "name": "stdout",
     "output_type": "stream",
     "text": [
      "가위 바위 보 게임입니다. 3승할 때까지 계속 진행됩니다!\n",
      "그 전에 게임을 종료하고 싶다면 E를 입력해주세요.\n",
      "\n",
      "무엇을 낼까요? (가위/바위/보) > 보\n",
      "컴퓨터 > 바위\n",
      "게임에서 이겼습니다. 축하합니다!\n",
      "\n",
      "무엇을 낼까요? (가위/바위/보) > 보\n",
      "컴퓨터 > 보\n",
      "비겼습니다. 다시 한 번 게임을 시작합니다!\n",
      "\n",
      "무엇을 낼까요? (가위/바위/보) > 보\n",
      "컴퓨터 > 바위\n",
      "게임에서 이겼습니다. 축하합니다!\n",
      "\n",
      "무엇을 낼까요? (가위/바위/보) > 보\n",
      "컴퓨터 > 바위\n",
      "게임에서 이겼습니다. 축하합니다!\n",
      "게임을 종료합니다. 수고하셨습니다.\n"
     ]
    }
   ],
   "source": [
    "import numpy as np\n",
    "\n",
    "cnt = 0\n",
    "rsp = ['가위', '바위', '보']\n",
    "\n",
    "print(\"가위 바위 보 게임입니다. 3승할 때까지 계속 진행됩니다!\")\n",
    "print(\"그 전에 게임을 종료하고 싶다면 E를 입력해주세요.\")\n",
    "\n",
    "while cnt < 3:\n",
    "    print()\n",
    "    pl = input(\"무엇을 낼까요? (가위/바위/보) > \")\n",
    "    if(pl=='E'): break\n",
    "    elif(pl not in rsp):\n",
    "        print(\"[가위] [바위] [보] 중 하나를 내주세요!\")\n",
    "        continue\n",
    "    pc = rsp[np.random.randint(3)]\n",
    "    print(f'컴퓨터 > {pc}')\n",
    "    \n",
    "    if(pl=='가위'):\n",
    "        if(pc=='바위'):\n",
    "            print(\"졌습니다. 다시 한 번 게임을 시작합니다!\")\n",
    "            continue\n",
    "        elif(pc=='보'):\n",
    "            print(\"게임에서 이겼습니다. 축하합니다!\")\n",
    "            cnt+=1\n",
    "            continue\n",
    "            \n",
    "    elif(pl=='바위'):\n",
    "        if(pc=='보'):\n",
    "            print(\"졌습니다. 다시 한 번 게임을 시작합니다!\")\n",
    "            continue\n",
    "        elif(pc=='가위'):\n",
    "            print(\"게임에서 이겼습니다. 축하합니다!\")\n",
    "            cnt+=1\n",
    "            continue\n",
    "            \n",
    "    elif(pl=='보'):\n",
    "        if(pc=='가위'):\n",
    "            print(\"졌습니다. 다시 한 번 게임을 시작합니다!\")\n",
    "            continue\n",
    "        elif(pc=='바위'):\n",
    "            print(\"게임에서 이겼습니다. 축하합니다!\")\n",
    "            cnt+=1\n",
    "            continue\n",
    "            \n",
    "    print(\"비겼습니다. 다시 한 번 게임을 시작합니다!\")\n",
    "    \n",
    "print(\"게임을 종료합니다. 수고하셨습니다.\")"
   ]
  },
  {
   "cell_type": "markdown",
   "id": "dc0ccda7",
   "metadata": {},
   "source": [
    "[도전과제] 컴퓨터가 랜덤하게 생성하는 숫자 맞추기 게임 프로그램을 작성하세요"
   ]
  },
  {
   "cell_type": "code",
   "execution_count": 298,
   "id": "d4094cda",
   "metadata": {},
   "outputs": [
    {
     "name": "stdout",
     "output_type": "stream",
     "text": [
      "게임을 하시겠습니까?[y/n]: y\n",
      "숫자를 입력하세요(0~10): 5\n",
      "up\n",
      "숫자를 입력하세요(0~10): 7\n",
      "up\n",
      "숫자를 입력하세요(0~10): 8\n",
      "up\n",
      "숫자를 입력하세요(0~10): 9\n",
      "범위 안의 숫자를 입력해주세요.\n",
      "정답입니다.\n",
      "게임을 하시겠습니까?[y/n]: n\n",
      "게임을 종료합니다.\n"
     ]
    }
   ],
   "source": [
    "import numpy as np\n",
    "while(1):\n",
    "    s_e=input(\"게임을 하시겠습니까?[y/n]: \")\n",
    "\n",
    "    if(s_e==\"y\"):\n",
    "        anser= np.random.randint(0,10)\n",
    "        while(a != anser):\n",
    "            a=int(input(\"숫자를 입력하세요(0~10): \"))\n",
    "            if(a>anser):\n",
    "                print(\"down\")\n",
    "            elif(a<anser):\n",
    "                print(\"up\")\n",
    "            else:\n",
    "                print(\"범위 안의 숫자를 입력해주세요.\")\n",
    "        print(\"정답입니다.\")\n",
    "    else:\n",
    "        print(\"게임을 종료합니다.\")\n",
    "        break"
   ]
  },
  {
   "cell_type": "markdown",
   "id": "d9f18c32",
   "metadata": {},
   "source": [
    "# 함수"
   ]
  },
  {
   "cell_type": "markdown",
   "id": "878b50b8",
   "metadata": {},
   "source": [
    "#### 함수\n",
    "- 특정 목적을 가진 독립된 코드 집합\n",
    "  - 두 수를 입력받아 더한 값을 계산하는 코드\n",
    "  - 더한 값을 계산하는 코드가 프로그램 여러 곳에서 사용된다고 할 때 이 부분만을 따로 구성하여 재사용하면 효율화할 수 있음\n",
    "- 사용자 함수는 def로 시작하여 정의"
   ]
  },
  {
   "cell_type": "markdown",
   "id": "e4d70efa",
   "metadata": {},
   "source": [
    "내장함수, 외장함수\n",
    "\n",
    "https://codedrive.tistory.com/91"
   ]
  },
  {
   "cell_type": "code",
   "execution_count": null,
   "id": "0171d9c1",
   "metadata": {},
   "outputs": [],
   "source": [
    "#입력값이 없고 결과값만 있는 함수\n",
    "def say():\n",
    "    return 'HI!'\n",
    "\n",
    "a = say()\n",
    "print(a)"
   ]
  },
  {
   "cell_type": "code",
   "execution_count": null,
   "id": "eaf19b0b",
   "metadata": {},
   "outputs": [],
   "source": [
    "#입력값은 있고 결과값이 없는 함수\n",
    "def add(a,b):\n",
    "    print(f'{a}, {b}의 합은 {a+b}입니다.')\n",
    "\n",
    "add(3,4)\n",
    "#a = add(3,4)\n",
    "#print(a)"
   ]
  },
  {
   "cell_type": "code",
   "execution_count": null,
   "id": "75e3dd20",
   "metadata": {},
   "outputs": [],
   "source": [
    "# 입력값도 결과값도 없는 함수\n",
    "def say():\n",
    "    print('Hi')\n",
    "say()"
   ]
  },
  {
   "cell_type": "code",
   "execution_count": null,
   "id": "3a621741",
   "metadata": {},
   "outputs": [],
   "source": [
    "# 입력값, 결과값이 모두 있는 함수\n",
    "def max(a,b,c):\n",
    "    if a>b:\n",
    "        if a>c:\n",
    "            return a\n",
    "        elif a<c:\n",
    "            return c\n",
    "    if a<b:\n",
    "        if b>c:\n",
    "            return b\n",
    "        else:\n",
    "            return c\n",
    "        \n",
    "max(10,20,30)"
   ]
  },
  {
   "cell_type": "code",
   "execution_count": null,
   "id": "6a65791e",
   "metadata": {},
   "outputs": [],
   "source": [
    "# 여러 개의 입력값을 받는 함수 만들기\n",
    "# *args 처럼 입력 변수명 앞에 *를 붙이면 입력값들을 전부 모아서 튜플로 만들어 줌\n",
    "\n",
    "def add_many(*args):\n",
    "    add=0\n",
    "    for i in args:\n",
    "        add += i\n",
    "    return add\n",
    "add_many(1,2,3,4,5,6,7,8,9,10)"
   ]
  },
  {
   "cell_type": "code",
   "execution_count": null,
   "id": "9caa28a2",
   "metadata": {},
   "outputs": [],
   "source": [
    "# 함수의 반환 값은 언제나 하나 - 결과 값으로 튜플 값 하나를 갖게 됨\n",
    "def add_and_mul(a,b):\n",
    "    return a+b, a*b\n",
    "\n",
    "result = add_and_mul(3,4)\n",
    "print(result)"
   ]
  },
  {
   "cell_type": "code",
   "execution_count": null,
   "id": "9b25fd86",
   "metadata": {},
   "outputs": [],
   "source": [
    "# 함수 안에서 선언된 변수의 효력 범위\n",
    "a = 1\n",
    "def vartest(a):\n",
    "    a = a + 1\n",
    "    \n",
    "print(vartest(a))\n",
    "print(a)"
   ]
  },
  {
   "cell_type": "code",
   "execution_count": null,
   "id": "ba1db8ea",
   "metadata": {},
   "outputs": [],
   "source": [
    "# 함수 안에서 함수 밖의 변수를 변경하는 방법 - return 이용\n",
    "a = 1\n",
    "def vartest(a):\n",
    "    a = a + 1\n",
    "    return a\n",
    "a = vartest(a)\n",
    "print(a)"
   ]
  },
  {
   "cell_type": "code",
   "execution_count": null,
   "id": "6cb66a5f",
   "metadata": {},
   "outputs": [],
   "source": [
    "# global 명령을 이용하는 방법\n",
    "a = 1\n",
    "def vartest():\n",
    "    global a\n",
    "    a = a + 1\n",
    "    \n",
    "vartest()\n",
    "print(a)"
   ]
  },
  {
   "cell_type": "code",
   "execution_count": null,
   "id": "027caed7",
   "metadata": {},
   "outputs": [],
   "source": [
    "# 주피더 매직명령어\n",
    "# %pwd 현재 작업 폴더"
   ]
  },
  {
   "cell_type": "code",
   "execution_count": null,
   "id": "8adc33ee",
   "metadata": {},
   "outputs": [],
   "source": []
  },
  {
   "cell_type": "code",
   "execution_count": null,
   "id": "4ff1a13a",
   "metadata": {},
   "outputs": [],
   "source": [
    "# add_mul() 함수를 정의하여 1,2,3,4,5를 입력 값으로 적용하여 덧셈, 곱셈 연산을 수행하세요."
   ]
  },
  {
   "cell_type": "code",
   "execution_count": null,
   "id": "c38b94ba",
   "metadata": {},
   "outputs": [],
   "source": [
    "def add_mul(choice, *args):\n",
    "    if choice == '+':\n",
    "        result = 0\n",
    "        for i in args:\n",
    "            result += i\n",
    "        return result        \n",
    "    elif choice == '*':\n",
    "        result = 1\n",
    "        for i in args:\n",
    "            result *= i\n",
    "        return result\n",
    "    else:\n",
    "        print('수행할 수 없는 연산입니다.')\n",
    "\n",
    "add_mul('+', 1,2,3,4,5)\n",
    "add_mul('*', 1,2,3,4,5)"
   ]
  },
  {
   "cell_type": "code",
   "execution_count": null,
   "id": "4cff52d6",
   "metadata": {},
   "outputs": [],
   "source": [
    "def add_and_mul(a,b,c,d,e):\n",
    "    return a+b+c+d+e, a*b*c*d*e\n",
    "\n",
    "result = add_and_mul(1,2,3,4,5)\n",
    "print(result)"
   ]
  },
  {
   "cell_type": "code",
   "execution_count": null,
   "id": "33874cda",
   "metadata": {},
   "outputs": [],
   "source": [
    "def add_mul(a,b,c,d,e):\n",
    "    return a+b+c+d+e, a*b*c*d*e\n",
    "\n",
    "result = add_mul(1,2,3,4,5)\n",
    "print(result)"
   ]
  },
  {
   "cell_type": "code",
   "execution_count": null,
   "id": "d4014b2b",
   "metadata": {},
   "outputs": [],
   "source": []
  },
  {
   "cell_type": "code",
   "execution_count": null,
   "id": "f2581f1c",
   "metadata": {},
   "outputs": [],
   "source": []
  },
  {
   "cell_type": "code",
   "execution_count": null,
   "id": "5e6010d8",
   "metadata": {},
   "outputs": [],
   "source": [
    "# 파일 읽고 쓰기\n",
    "f = open('test1.txt', 'w')\n",
    "f.close()"
   ]
  },
  {
   "cell_type": "code",
   "execution_count": null,
   "id": "b682590d",
   "metadata": {},
   "outputs": [],
   "source": [
    "f = open('test1.txt', 'w')\n",
    "for i in range(1,11):\n",
    "    data = '%d번째 줄입니다. \\n' %i\n",
    "    f.write(data)\n",
    "f.close()"
   ]
  },
  {
   "cell_type": "code",
   "execution_count": null,
   "id": "41f98acd",
   "metadata": {},
   "outputs": [],
   "source": [
    "f = open('test1.txt', 'r')\n",
    "line = f.readline()\n",
    "print(line)\n",
    "f.close()"
   ]
  },
  {
   "cell_type": "code",
   "execution_count": null,
   "id": "acbeb3eb",
   "metadata": {},
   "outputs": [],
   "source": [
    "f = open('test1.txt', 'r')\n",
    "for i in range(10):\n",
    "    line = f.readline()\n",
    "    print(line)\n",
    "f.close()"
   ]
  },
  {
   "cell_type": "code",
   "execution_count": null,
   "id": "9314f0b1",
   "metadata": {},
   "outputs": [],
   "source": [
    "f = open('test1.txt', 'r')\n",
    "while True:\n",
    "    line = f.readline()\n",
    "    if not line: break\n",
    "    print(line)\n",
    "f.close()"
   ]
  },
  {
   "cell_type": "code",
   "execution_count": null,
   "id": "f6432530",
   "metadata": {},
   "outputs": [],
   "source": [
    "# f.read()는 파일 내용 전체를 문자열로 반환\n",
    "f = open('test1.txt', 'r')\n",
    "data = f.read()\n",
    "print(data)\n",
    "f.close()"
   ]
  },
  {
   "cell_type": "code",
   "execution_count": null,
   "id": "b9647e1f",
   "metadata": {},
   "outputs": [],
   "source": [
    "f = open('test1.txt', 'a')\n",
    "for i in range(11,16):\n",
    "    data = '%d번째 줄입니다. \\n' %i\n",
    "    f.write(data)\n",
    "f.close()"
   ]
  },
  {
   "cell_type": "code",
   "execution_count": null,
   "id": "82c9b221",
   "metadata": {},
   "outputs": [],
   "source": [
    "f = open('test1.txt', 'r')\n",
    "data = f.read()\n",
    "print(data)\n",
    "f.close()"
   ]
  },
  {
   "cell_type": "code",
   "execution_count": null,
   "id": "5b2d07cb",
   "metadata": {},
   "outputs": [],
   "source": [
    "# with문과 같이 사용\n",
    "with open('foo.txt', 'w') as f:\n",
    "    f.write('파이썬을 배웁시다.')"
   ]
  },
  {
   "cell_type": "code",
   "execution_count": null,
   "id": "511e72d9",
   "metadata": {},
   "outputs": [],
   "source": [
    "with open('foo.txt', 'r') as f:\n",
    "    data = f.read()\n",
    "    print(data)"
   ]
  },
  {
   "cell_type": "code",
   "execution_count": null,
   "id": "ec8455db",
   "metadata": {},
   "outputs": [],
   "source": [
    "with open('test2.txt', 'w') as f:\n",
    "    for i in range(1,11):\n",
    "        data = f'{i}번째 줄입니다.\\n'\n",
    "        f.write(data)"
   ]
  },
  {
   "cell_type": "code",
   "execution_count": null,
   "id": "15ff0bba",
   "metadata": {},
   "outputs": [],
   "source": [
    "with open('test2.txt', 'a') as f:\n",
    "    for i in range(11,16):\n",
    "        data = f'{i}번째 줄입니다.\\n'\n",
    "        f.write(data)"
   ]
  },
  {
   "cell_type": "code",
   "execution_count": null,
   "id": "d83bbffa",
   "metadata": {},
   "outputs": [],
   "source": [
    "with open('test2.txt', 'r') as f:\n",
    "    data = f.read()\n",
    "    print(data)"
   ]
  },
  {
   "cell_type": "markdown",
   "id": "5a934b6c",
   "metadata": {},
   "source": [
    "## 내장함수"
   ]
  },
  {
   "cell_type": "code",
   "execution_count": null,
   "id": "c02cd1bc",
   "metadata": {},
   "outputs": [],
   "source": [
    "myList = [lambda a,b:a+b, lambda a,b:a*b]\n",
    "print(myList[0](3,4))\n",
    "print(myList[1](3,4))"
   ]
  },
  {
   "cell_type": "code",
   "execution_count": null,
   "id": "8ae5dea7",
   "metadata": {},
   "outputs": [],
   "source": [
    "print(divmod(7,3))"
   ]
  },
  {
   "cell_type": "code",
   "execution_count": null,
   "id": "47629720",
   "metadata": {},
   "outputs": [],
   "source": [
    "# 순서가 있는 자료형을 입력으로 받아 인덱스 값을 포함한, enumerate 객체를 리턴\n",
    "for i, name in enumerate(['james','tom','susan']):\n",
    "    print(i, name)"
   ]
  },
  {
   "cell_type": "code",
   "execution_count": null,
   "id": "59ed412c",
   "metadata": {},
   "outputs": [],
   "source": [
    "# 실행 가능한 문자열 입력으로 받아 문자열을 실행한 결과값을 리턴\n",
    "print(eval('1+2'))"
   ]
  },
  {
   "cell_type": "code",
   "execution_count": null,
   "id": "5bfc781f",
   "metadata": {},
   "outputs": [],
   "source": [
    "# 외장함수 : 전 세계 파이썬 사용자들이 만든 유용한 프로그램을 모아 놓은 파이썬 라이브러리, 파이썬을 설치할 때 자동으로 설치\n",
    "# pickle은 객체의 형태를 유지하면서 파일에 저장하고 불러올 수 있게 하는 모듈\n",
    "\n",
    "import pickle\n",
    "f = open('test.txt', 'wb')\n",
    "data = {1:'python',2:'you need'}\n",
    "pickle.dump(data,f)\n",
    "f.close()"
   ]
  },
  {
   "cell_type": "code",
   "execution_count": null,
   "id": "05dde72c",
   "metadata": {},
   "outputs": [],
   "source": [
    "import pickle\n",
    "f = open('test.txt', 'rb')\n",
    "data = pickle.load(f)\n",
    "print(data)\n",
    "f.close()"
   ]
  },
  {
   "cell_type": "code",
   "execution_count": null,
   "id": "86e7a8fb",
   "metadata": {},
   "outputs": [],
   "source": [
    "import os\n",
    "os.environ['PATH']"
   ]
  },
  {
   "cell_type": "code",
   "execution_count": null,
   "id": "15fe31a4",
   "metadata": {},
   "outputs": [],
   "source": [
    "# 현재폴더주소\n",
    "%pwd"
   ]
  },
  {
   "cell_type": "code",
   "execution_count": null,
   "id": "2caaaa26",
   "metadata": {},
   "outputs": [],
   "source": [
    "# 폴더변경\n",
    "os.chdir('주소')"
   ]
  },
  {
   "cell_type": "code",
   "execution_count": null,
   "id": "b51a70a7",
   "metadata": {},
   "outputs": [],
   "source": [
    "os.getwd('주소')"
   ]
  },
  {
   "cell_type": "code",
   "execution_count": null,
   "id": "7bd54d58",
   "metadata": {},
   "outputs": [],
   "source": [
    "!dir"
   ]
  },
  {
   "cell_type": "code",
   "execution_count": null,
   "id": "b2fccc6c",
   "metadata": {},
   "outputs": [],
   "source": [
    "#폴더이름바꾸기\n",
    "import os\n",
    "os.rename('이름','이름2')"
   ]
  },
  {
   "cell_type": "code",
   "execution_count": null,
   "id": "eabdc4dc",
   "metadata": {},
   "outputs": [],
   "source": [
    "# glob() 함수는 인자로 받은 패턴과 이름이 일치하는 묻 파일과 디렉토리의 리스트를 반환\n",
    "import glob\n",
    "glob.glob(\"주소\")"
   ]
  },
  {
   "cell_type": "code",
   "execution_count": null,
   "id": "ce013d15",
   "metadata": {},
   "outputs": [],
   "source": [
    "#[과제] 내장함수를 이용해서 list = [0,1,2,3,4,5,6]에서 2를 삭제 후 출력하세요.(3가지 방법)\n",
    "# remove. pop, del\n",
    "list1 = [0,1,2,3,4,5,6]\n",
    "#del list1[2]\n",
    "\n",
    "\n",
    "list=[0,1,2,3,4,5,6]\n",
    "1#del list[2]\n",
    "2#list.remove(2)\n",
    "3#list.pop(2)\n",
    "print(list)\n"
   ]
  },
  {
   "cell_type": "code",
   "execution_count": null,
   "id": "0fc89ff1",
   "metadata": {},
   "outputs": [],
   "source": [
    "#[과제] 내장함수를 이용해서 list = [0,1,2,3,4,5,6]에서 모든 원소를 삭제 후 출력하세요.\n",
    "list = [0,1,2,3,4,5,6]\n",
    "del list[:]\n",
    "print(list)"
   ]
  },
  {
   "cell_type": "code",
   "execution_count": null,
   "id": "85705260",
   "metadata": {},
   "outputs": [],
   "source": [
    "#[과제] 람다함수와 적한한 내장함수를 사용하여 아래와 같이 출력하세요.\n",
    "[1,2,3,4,5] -> [1,4,9,16,25]\n",
    "[1,2,3,4,5] -> [1,2]"
   ]
  },
  {
   "cell_type": "code",
   "execution_count": null,
   "id": "17b1902d",
   "metadata": {},
   "outputs": [],
   "source": [
    "#x=lambda a:a**2\n",
    "#lst = [x(i) for i in range(1,6)]\n",
    "#print(lst)\n",
    "\n",
    "#lst2 = [1,2,3,4,5]\n",
    "#filtered_list = fiilter(lambda a: (a<3), lst2)\n",
    "#print(list(filtered_list))"
   ]
  },
  {
   "cell_type": "code",
   "execution_count": null,
   "id": "a3abcf65",
   "metadata": {},
   "outputs": [],
   "source": [
    "list=[1,2,3,4,5]\n",
    "list_e=[]\n",
    "x=lambda a:a**2\n",
    "for i in range(0,5):\n",
    "    list_e.append(n)\n",
    "    list_e[i]=x(list[i])\n",
    "print(list_e)\n",
    "\n",
    "del list[2:5]\n",
    "print(list)"
   ]
  },
  {
   "cell_type": "code",
   "execution_count": null,
   "id": "e425f994",
   "metadata": {},
   "outputs": [],
   "source": [
    "x = lambda a:a*a \n",
    "inp = [1, 2, 3, 4, 5]\n",
    "\n",
    "for i, li in enumerate(inp):\n",
    "    inp[i] = x(li)\n",
    "print(inp)\n",
    "\n",
    "inp = [1, 2, 3, 4, 5]\n",
    "for i in range(3):\n",
    "    inp.pop()\n",
    "print(inp)"
   ]
  },
  {
   "cell_type": "code",
   "execution_count": null,
   "id": "3be69798",
   "metadata": {},
   "outputs": [],
   "source": [
    "list=[1,2,3,4,5]\n",
    "list_n=[]\n",
    "x=lambda a:a**2  \n",
    "\n",
    "for i in list:          # [1,2,3,4,5] -> [1,4,9,16,25]\n",
    "    list_n.append(x(i))\n",
    "    \n",
    "del(list[2:])           # [1,2,3,4,5] -> [1,2]\n",
    "\n",
    "print(list_n,list)         #함수호출"
   ]
  },
  {
   "cell_type": "code",
   "execution_count": null,
   "id": "4623047d",
   "metadata": {},
   "outputs": [],
   "source": [
    "nums1 = [1, 2, 3, 4, 5]\n",
    "result1 = list(map(lambda n: n**2, nums1))   print(result1)\n",
    "\n",
    "\n",
    "nums2 = [1, 2, 3, 4, 5]\n",
    "result2 = list(filter(lambda n: n < 3, nums2)) print(result2)"
   ]
  },
  {
   "cell_type": "code",
   "execution_count": null,
   "id": "600de69d",
   "metadata": {},
   "outputs": [],
   "source": [
    "numlist=[1,2,3,4,5]\n",
    "result=map(lambda x: x*x,numlist)\n",
    "print(list(result))\n",
    "\n",
    "#2문:\n",
    "def even(arr):\n",
    "    result=[]\n",
    "    for i in arr:\n",
    "        if i<3:\n",
    "            result.append(i)\n",
    "    return result\n",
    "print(even([1,2,3,4,5]))"
   ]
  },
  {
   "cell_type": "code",
   "execution_count": null,
   "id": "a28187c4",
   "metadata": {},
   "outputs": [],
   "source": [
    "list1=[1,2,3,4,5]   \n",
    "list2=lambda a:a**2\n",
    "\n",
    "for b in range(1,6):\n",
    "    print(list2(b))"
   ]
  },
  {
   "cell_type": "markdown",
   "id": "c2a80848",
   "metadata": {},
   "source": [
    "#"
   ]
  },
  {
   "cell_type": "code",
   "execution_count": null,
   "id": "c5769fa4",
   "metadata": {},
   "outputs": [],
   "source": [
    "#[과제] [1,-3,2,0,-5,6]에서 양수만 필터링해서 출력하세요(내장함수, 사용자함수 각각 이용)\n",
    "list1 = [1,-3,2,0,-5,6]\n",
    "def positive(a):\n",
    "    result = []\n",
    "    for i in a:\n",
    "        if i > 0:\n",
    "            result.append(i)\n",
    "    return result\n",
    "\n",
    "print(positive(list1))"
   ]
  },
  {
   "cell_type": "code",
   "execution_count": null,
   "id": "e1ec706c",
   "metadata": {},
   "outputs": [],
   "source": [
    "list=[1,-3,2,0,-5,6]\n",
    "list_n=[]\n",
    "\n",
    "for i in list:\n",
    "    if abs(i)==i and i!=0:    #절대값과 본래값이 같은 것만(단, 0 제외)\n",
    "        list_n.append(i)\n",
    "print(list_n)"
   ]
  },
  {
   "cell_type": "code",
   "execution_count": null,
   "id": "eecf70ad",
   "metadata": {},
   "outputs": [],
   "source": [
    "list1 = [1,-3,2,0,-5,6]\n",
    "        \n",
    "print(list(filter(lambda x: x > 0, list1)))"
   ]
  },
  {
   "cell_type": "code",
   "execution_count": null,
   "id": "160da203",
   "metadata": {},
   "outputs": [],
   "source": [
    "def even(arr):\n",
    "    result=[]\n",
    "    for i in arr:\n",
    "        if i>0:\n",
    "            result.append(i)\n",
    "    return result\n",
    "print(even([1,-3,2,0,-5,6]))"
   ]
  },
  {
   "cell_type": "code",
   "execution_count": null,
   "id": "be8647e1",
   "metadata": {},
   "outputs": [],
   "source": [
    "list=[1,-3,2,0,-5,6]\n",
    "list2=[]   \n",
    "for a in range(0,6):\n",
    "    if list[a]>0:\n",
    "        list2.append(list[a]) \n",
    "print(list2)"
   ]
  },
  {
   "cell_type": "markdown",
   "id": "9552b796",
   "metadata": {},
   "source": [
    "#"
   ]
  },
  {
   "cell_type": "code",
   "execution_count": null,
   "id": "e1358b53",
   "metadata": {},
   "outputs": [],
   "source": [
    "#[과제] 내장함수를 이용하여 동일한 개수로 이루어진 자료형을 화살표 좌측에서 우측으로 변환하세요\n",
    "[1,2,3],[4,5,6] -> [(1,4),(2,5),(3,4)]\n",
    "[1,2,3],[4,5,6],[7,8,9] -> [(1,4,7),(2,5,8),(3,6,9)]\n",
    "('abc','def') -> [('a','d'),('b','e'),('c','f')]"
   ]
  },
  {
   "cell_type": "code",
   "execution_count": null,
   "id": "488ee969",
   "metadata": {},
   "outputs": [],
   "source": [
    "a=[1,2,3]\n",
    "b=[4,5,6]\n",
    "c=[7,8,9]\n",
    "\n",
    "ab=list(zip([1,2,3],[4,5,6]))\n",
    "print(ab)\n",
    "\n",
    "abc = list(zip[1,2,3],[4,5,6],[7,8,9])\n",
    "print(abc)\n",
    "\n",
    "alp_1 = list(zip('abc','def'))\n",
    "print(alp_1)"
   ]
  },
  {
   "cell_type": "code",
   "execution_count": null,
   "id": "49051770",
   "metadata": {},
   "outputs": [],
   "source": [
    "\n",
    "list1 = [1,2,3]+[4,5,6]\n",
    "form1 = [[],[],[]]\n",
    "\n",
    "i = 0\n",
    "while i < len(list1):\n",
    "    a = list1[i] % 3\n",
    "    if a == 1:\n",
    "        form1[0].append(list1[i])\n",
    "        i += 1\n",
    "    elif a == 2:\n",
    "        form1[1].append(list1[i])\n",
    "        i += 1\n",
    "    else:\n",
    "        form1[2].append(list1[i])\n",
    "        i += 1\n",
    "        \n",
    "form1[0] = tuple(form1[0])\n",
    "form1[1] = tuple(form1[1])\n",
    "form1[2] = tuple(form1[2])\n",
    "\n",
    "print(form1)\n",
    "\n",
    "\n",
    "list2 = [1,2,3]+[4,5,6]+[7,8,9]\n",
    "form2 = [[],[],[]]\n",
    "\n",
    "i = 0\n",
    "while i < len(list2):\n",
    "    a = list2[i] % 3\n",
    "    if a == 1:\n",
    "        form2[0].append(list2[i])\n",
    "        i += 1\n",
    "    elif a == 2:\n",
    "        form2[1].append(list2[i])\n",
    "        i += 1\n",
    "    else:\n",
    "        form2[2].append(list2[i])\n",
    "        i += 1\n",
    "        \n",
    "form2[0] = tuple(form2[0])\n",
    "form2[1] = tuple(form2[1])\n",
    "form2[2] = tuple(form2[2])\n",
    "\n",
    "print(form2)"
   ]
  },
  {
   "cell_type": "code",
   "execution_count": null,
   "id": "07a6bd20",
   "metadata": {},
   "outputs": [],
   "source": [
    "#1문[1,2,3],[4,5,6]->[(1,4,),(2,5),(3,6)]\n",
    "a=[1,2,3]\n",
    "b=[4,5,6]\n",
    "print(list(zip(a,b)))\n",
    "\n",
    "#2문: [1,2,3],[4,5,6][7,8,9]->[(1,4,7),(2,5,8),(3,6,9)]\n",
    "a=[1,2,3]\n",
    "b=[4,5,6]\n",
    "c=[7,8,9]\n",
    "print(list(zip(a,b,c)))\n",
    "\n",
    "#3문: ('abc','def') -> [('a','d'),('b','e'),('c','f')]\n",
    "a=['a','b','c']\n",
    "b=['d','e','f']\n",
    "\n",
    "print(list(zip(a,b)))"
   ]
  },
  {
   "cell_type": "code",
   "execution_count": null,
   "id": "f04cad8e",
   "metadata": {},
   "outputs": [],
   "source": [
    "while 1:\n",
    "    try:\n",
    "        num = int(input(\"리스트에 몇개의 값을 넣을 것인가요?: \"))\n",
    "    except ValueError:\n",
    "        print(\"숫자가 아닙니다.\")\n",
    "    else:\n",
    "        break\n",
    "\n",
    "i = 0\n",
    "list1 = []\n",
    "list2 = []\n",
    "while i < num:\n",
    "    plus1 = input(f\"{i+1} 번째로 넣고 싶은 문자를 입력해주세요(1번째 집합): \")\n",
    "    plus2 = input(f\"{i+1} 번째로 넣고 싶은 문자를 입력해주세요(2번째 집합): \")\n",
    "    list1.append(plus1)\n",
    "    list2.append(plus2)\n",
    "    i += 1\n",
    "i = 0\n",
    "lastlist = []\n",
    "while i < num:\n",
    "    lastlist.append((list1[i],list2[i]))\n",
    "    i += 1\n",
    "\n",
    "print(lastlist)"
   ]
  },
  {
   "cell_type": "code",
   "execution_count": null,
   "id": "8bb17f9e",
   "metadata": {},
   "outputs": [],
   "source": [
    "lista=[[1,2,3],[4,5,6],[7,8,9]]\n",
    "listb=sum(lista,[])\n",
    "lista_n=[]\n",
    "\n",
    "for k in range(len(lista[0])):\n",
    "    tup1=tuple(listb[k::3])\n",
    "    lista_n.append(tup1)\n",
    "\n",
    "print(lista_n)"
   ]
  },
  {
   "cell_type": "markdown",
   "id": "eef52121",
   "metadata": {},
   "source": [
    "#"
   ]
  },
  {
   "cell_type": "code",
   "execution_count": null,
   "id": "15cba70c",
   "metadata": {},
   "outputs": [],
   "source": [
    "#[과제] 입력으로 들어오는 모든 수의 평균 값을 계산해 주는 함수를 작성한 후 1,2,3을 입력한 결과를 출력하세요."
   ]
  },
  {
   "cell_type": "code",
   "execution_count": null,
   "id": "837e5de5",
   "metadata": {},
   "outputs": [],
   "source": [
    "def avg(*args):\n",
    "    cnt = 0\n",
    "    sum = 0\n",
    "    for i in args:\n",
    "        cnt += 1\n",
    "        sum += i\n",
    "    return (sum / cnt)\n",
    "\n",
    "print(avg(1, 2, 3))"
   ]
  },
  {
   "cell_type": "code",
   "execution_count": null,
   "id": "33f91155",
   "metadata": {},
   "outputs": [],
   "source": [
    "print(\"수를 입력해 주세요. done을 입력하면 평균값을 계산합니다.\")\n",
    "user = input()\n",
    "num = 0\n",
    "sum = 0\n",
    "while user != \"done\":\n",
    "    sum = sum +int(user)\n",
    "    num += 1\n",
    "    user = input()\n",
    "    \n",
    "print(sum/num)"
   ]
  },
  {
   "cell_type": "code",
   "execution_count": null,
   "id": "137841e7",
   "metadata": {},
   "outputs": [],
   "source": [
    "def sum(mun):\n",
    "    print(f\"합: {eval(mun)}\")    #입력된 문자열이 연산이 가능한 형태면 연산해 줌\n",
    "    print(f\"평균: {(eval(mun)/len(mun.split('+'))):0.2f}\")\n",
    "\n",
    "###################################################\n",
    "\n",
    "mun=input(\"평균값을 구할 숫자를 모두 입력해주세요(콤마로 구분): \")\n",
    "mun_n=mun.replace(',','+')    #1,2,3 -> 1+2+3\n",
    "\n",
    "sum(mun_n)"
   ]
  },
  {
   "cell_type": "code",
   "execution_count": null,
   "id": "ee4b692d",
   "metadata": {},
   "outputs": [],
   "source": [
    "box = []\n",
    "\n",
    "while 1:\n",
    "    A = input(\"원하는 숫자를 입력해주세요. 멈추고 싶으면 N을 입력해주세요.: \")\n",
    "    if A != \"N\":\n",
    "        try:\n",
    "            float(A)\n",
    "        except ValueError:\n",
    "            print(\"숫자만 입력해주세요.\")\n",
    "            continue\n",
    "        A = float(A)\n",
    "        box.append(A)\n",
    "        continue\n",
    "    elif A == \"N\":\n",
    "        break\n",
    "Sum = 0\n",
    "for i in box:\n",
    "    Sum += i\n",
    "\n",
    "print(Sum/len(box))"
   ]
  },
  {
   "cell_type": "code",
   "execution_count": null,
   "id": "8263f687",
   "metadata": {},
   "outputs": [],
   "source": [
    "def average(*args):\n",
    "    x=0\n",
    "    for i in args:\n",
    "        x=(x+i)\n",
    "    result=x/len(args) \n",
    "    return result\n",
    "\n",
    "result=average(1,2,3)    \n",
    "print(result)"
   ]
  },
  {
   "cell_type": "code",
   "execution_count": null,
   "id": "aafd08ae",
   "metadata": {},
   "outputs": [],
   "source": [
    "x=int(input(\"1,2,3을 순차적으로 입력하세요: \"))\n",
    "y=int(input())\n",
    "z=int(input())\n",
    "h=(x+y+z)//3\n",
    "print(f'입력하신 수의 평균은 {h}입니다.')"
   ]
  },
  {
   "cell_type": "markdown",
   "id": "71627a52",
   "metadata": {},
   "source": [
    "#"
   ]
  },
  {
   "cell_type": "markdown",
   "id": "5a992183",
   "metadata": {},
   "source": [
    "# sort,sorted 모두 ,key, reverse 매개변수를 갖고 있다.\n",
    "\n",
    "- reverse : 기본값은 reverse=False(오름차순),reverse=True를 매개변수로 입력하면 내림차순으로 정렬\n",
    "- key : 정렬을 목적으로 하는 함수를 값으로 넣는다. lambda를 이용할 수 있고 key 값을 기준으로 정렬되고 기본값은 오름차순"
   ]
  },
  {
   "cell_type": "code",
   "execution_count": null,
   "id": "f0587b72",
   "metadata": {},
   "outputs": [],
   "source": [
    "#[과제] strings를 다양한 문자가 포함된 순서로 정렬하세요. (힌트 set)\n",
    "strings = ['a', 'ca', 'bar', 'aaaa', 'ababa']"
   ]
  },
  {
   "cell_type": "code",
   "execution_count": null,
   "id": "fc0399d1",
   "metadata": {},
   "outputs": [],
   "source": [
    "strings = ['a', 'ca', 'bar', 'aaaa', 'ababa']\n",
    "strings.sort(key = lambda x:len(set(x)))\n",
    "strings[::-1]"
   ]
  },
  {
   "cell_type": "code",
   "execution_count": null,
   "id": "9e94c723",
   "metadata": {},
   "outputs": [],
   "source": [
    "strings = ['a', 'ca', 'bar', 'aaaa', 'ababa']\n",
    "lc=[]\n",
    "mydic={}\n",
    "\n",
    "for i in strings:\n",
    "    ct=0\n",
    "    for k in range(97,123):     #아스키코드(알파벳 a~z = 97~122)\n",
    "        if chr(k) in i:      #chr: 숫자->알파벳 변환\n",
    "            ct+=1\n",
    "    lc.append(ct)    #lc=[1,2,3,1,2] 쓰인 알파벳 개수 저장\n",
    "    \n",
    "for i in range(len(strings)):\n",
    "    mydic[strings[i]]=lc[i]    #딕셔너리에 {문자:알파벳 개수} 저장\n",
    "\n",
    "for i in range(26,-1,-1):     #알파벳=26개=최대 쓰일 수 있는 문자 수\n",
    "    if i in lc:     #lc 안에 해당 개수가 있을 때만(그냥 26번 전부 돌지 말라고 추가)\n",
    "        for key, value in mydic.items():   #.items() -> 딕셔너리 키, 값 사용\n",
    "            if value==i:    #개수에 해당하는 key값(strings리스트 저장해 둔) 출력\n",
    "                print(key, end=' ')"
   ]
  },
  {
   "cell_type": "code",
   "execution_count": null,
   "id": "135285be",
   "metadata": {},
   "outputs": [],
   "source": [
    "strings.insert(0,'bar')\n",
    "strings.insert(1,'ababa')\n",
    "strings.insert(2,'ca')\n",
    "strings.insert(3,'aaaa')\n",
    "strings.insert(4,'a')\n",
    "\n",
    "print(strings)\n",
    "del strings[-1]\n",
    "del strings[-2]\n",
    "del strings[-3]\n",
    "del strings[-4]\n",
    "del strings[-5]\n",
    "print(strings)"
   ]
  },
  {
   "cell_type": "code",
   "execution_count": null,
   "id": "c231b5dd",
   "metadata": {},
   "outputs": [],
   "source": [
    "#[과제] 튜플 형태인 strings를 다양한 문자가 포함된 순서로 정렬하세요.\n",
    "strings = ('a', 'ca', 'bar', 'aaaa', 'ababa')"
   ]
  },
  {
   "cell_type": "code",
   "execution_count": null,
   "id": "b90fc225",
   "metadata": {},
   "outputs": [],
   "source": [
    "strings = (\"a\",\"ca\",\"bar\",\"aaaa\",\"ababa\")\n",
    "list1 = []\n",
    "i = 0\n",
    "\n",
    "while i < len(strings):\n",
    "    a = strings[i]\n",
    "    aset = set(a)\n",
    "    along = len(aset)\n",
    "    list1.append(along)\n",
    "    i += 1\n",
    "    \n",
    "long = len(list1)\n",
    "list2 = []\n",
    "while len(list2) != long:\n",
    "    m = max(list1)\n",
    "    n = list1.index(m)\n",
    "    list2.append(strings[n])\n",
    "    list1[n] = 0\n",
    "    \n",
    "print(tuple(list2))"
   ]
  },
  {
   "cell_type": "code",
   "execution_count": null,
   "id": "8d621f51",
   "metadata": {},
   "outputs": [],
   "source": [
    "strings = ('a', 'ca', 'bar', 'aaaa', 'ababa')\n",
    "s_list=list(strings)\n",
    "s_list.sort(key=lambda x:len(set(x)))     #기본 정렬(오름차순)\n",
    "\n",
    "print(s_list[::-1])     #거꾸로 출력(내림차순으로 나오게)"
   ]
  },
  {
   "cell_type": "code",
   "execution_count": null,
   "id": "ff4f7ad5",
   "metadata": {},
   "outputs": [],
   "source": [
    "strings = ('a', 'ca', 'bar', 'aaaa', 'ababa')\n",
    "stringl=list(strings)\n",
    "stringl.sort(key=lambda x:len(set(x))) #정렬\n",
    "print(stringl[::-1]) #내림차순\n",
    "strings=tuple(stringl)\n",
    "print(strings[::-1])"
   ]
  },
  {
   "cell_type": "code",
   "execution_count": null,
   "id": "f90c4197",
   "metadata": {},
   "outputs": [],
   "source": [
    "#[과제] url에서 호스트 도메인을 추출하여 출력하세요.\n",
    "url= 'http://news.naver.com/main/read.nhn?mode=LSD&mid=shm&sid1=105&oid=028&aid=0002334601'\n",
    "\n",
    "x = url.split('/')\n",
    "print()\n",
    "domain = x[2]\n",
    "print(domain)"
   ]
  },
  {
   "cell_type": "code",
   "execution_count": null,
   "id": "d0693ea7",
   "metadata": {},
   "outputs": [],
   "source": [
    "url = 'http://news.naver.com/main/read.nhn?mode=LSD&mid=shm&sid1=105&oid=028&aid=0002334601'\n",
    "\n",
    "do=url.find('.com')\n",
    "print(url[7:do+4])   #프로토콜 제외"
   ]
  },
  {
   "cell_type": "code",
   "execution_count": null,
   "id": "8b87399f",
   "metadata": {},
   "outputs": [],
   "source": [
    "url = 'http://news.naver.com/main/read.nhn?mode=LSD&mid=shm&sid1=105&oid=028&aid=0002334601'\n",
    "\n",
    "x = url.split('/')\n",
    "print(x)\n",
    "print()\n",
    "domain = x[2]\n",
    "print(domain)"
   ]
  },
  {
   "cell_type": "code",
   "execution_count": null,
   "id": "5a4035c2",
   "metadata": {},
   "outputs": [],
   "source": [
    "url = 'http://news.naver.com/main/read.nhn?mode=LSD&mid=shm&sid1=105&oid=028&aid=0002334601'\n",
    "\n",
    "a = url.split('/')\n",
    "print(a[2])"
   ]
  },
  {
   "cell_type": "code",
   "execution_count": null,
   "id": "9d05e4de",
   "metadata": {},
   "outputs": [],
   "source": [
    "#[과제] url에서 쿼리문을 추출하여 출력하세요.\n",
    "# url에서 '?'뒤에 표시되는 문자열을 쿼리 문자열이라고 하며 변수=값 사이 &로 구분되어 나열된다.\n",
    "url = 'http://news.naver.com/main/read.nhn?mode=LSD&mid=shm&sid1=105&oid=028&aid=0002334601'"
   ]
  },
  {
   "cell_type": "code",
   "execution_count": null,
   "id": "1c8d85a4",
   "metadata": {},
   "outputs": [],
   "source": [
    "url = 'http://news.naver.com/main/read.nhn?mode=LSD&mid=shm&sid1=105&oid=028&aid=0002334601'\n",
    "\n",
    "do=url.find('?')\n",
    "print(url[do+1:])   #쿼리문 전체\n",
    "\n",
    "qr=[]\n",
    "qr=url[do+1:].split('&')   #각 '변수=값' 분리\n",
    "print(qr)"
   ]
  },
  {
   "cell_type": "code",
   "execution_count": null,
   "id": "c8ad1e07",
   "metadata": {},
   "outputs": [],
   "source": [
    "x = url.split('?')\n",
    "print(x[-1])"
   ]
  },
  {
   "cell_type": "code",
   "execution_count": null,
   "id": "983901b9",
   "metadata": {},
   "outputs": [],
   "source": [
    "x=url.split('?')\n",
    "query=x[1]\n",
    "a=query.split('&')\n",
    "print(a)"
   ]
  },
  {
   "cell_type": "code",
   "execution_count": null,
   "id": "2cc6bbe4",
   "metadata": {},
   "outputs": [],
   "source": [
    "url = 'http://news.naver.com/main/read.nhn?mode=LSD&mid=shm&sid1=105&oid=028&aid=0002334601'\n",
    "x = url.split('?')\n",
    "print(x)\n",
    "y = x[1]\n",
    "z = y.split('&')\n",
    "print(z)"
   ]
  },
  {
   "cell_type": "markdown",
   "id": "f7c2f12d",
   "metadata": {},
   "source": []
  },
  {
   "cell_type": "code",
   "execution_count": null,
   "id": "fa017b11",
   "metadata": {},
   "outputs": [],
   "source": []
  }
 ],
 "metadata": {
  "kernelspec": {
   "display_name": "Python 3 (ipykernel)",
   "language": "python",
   "name": "python3"
  },
  "language_info": {
   "codemirror_mode": {
    "name": "ipython",
    "version": 3
   },
   "file_extension": ".py",
   "mimetype": "text/x-python",
   "name": "python",
   "nbconvert_exporter": "python",
   "pygments_lexer": "ipython3",
   "version": "3.9.13"
  }
 },
 "nbformat": 4,
 "nbformat_minor": 5
}
