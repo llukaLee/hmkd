{
 "cells": [
  {
   "cell_type": "markdown",
   "id": "8ffcca70",
   "metadata": {},
   "source": [
    "#### 날짜 처리\n",
    "- time — 시간 액세스와 변환\n",
    "\n",
    "- 현재 timestamp 얻기 : time 모듈의 time() 함수는 현재 Unix timestamp을 소수로 리턴하는데요. 정수부는 초단위이고, 소수부는 마이크로(micro) 초단위 입니다.\n",
    "\n",
    "https://www.daleseo.com/python-time/\n",
    "\n",
    "https://docs.python.org/ko/3/library/time.html\n",
    "\n",
    "#### 포맷 코드 표<BR>\n",
    "포맷코드\t설명\t예<BR>\n",
    "%a\t요일 줄임말\tSun, Mon, ... Sat<BR>\n",
    "%A\t요일\tSunday, Monday, ..., Saturday<BR>\n",
    "%w\t요일을 숫자로 표시, 월요일일요일, 06\t0, 1, ..., 6<BR>\n",
    "%d\t일\t01, 02, ..., 31<BR>\n",
    "%b\t월 줄임말\tJan, Feb, ..., Dec<BR>\n",
    "%B\t월\tJanuary, February, …, December<BR>\n",
    "%m\t숫자 월\t01, 02, ..., 12<BR>\n",
    "%y\t두 자릿수 연도\t01, 02, ..., 99<BR>\n",
    "%Y\t네 자릿수 연도\t0001, 0002, ..., 2017, 2018, 9999<BR>\n",
    "%H\t시간(24시간)\t00, 01, ..., 23<BR>\n",
    "%I\t시간(12시간)\t01, 02, ..., 12<BR>\n",
    "%p\tAM, PM\tAM, PM<BR>\n",
    "%M\t분\t00, 01, ..., 59<BR>\n",
    "%S\t초\t00, 01, ..., 59<BR>\n",
    "%Z\t시간대\t대한민국 표준시<BR>\n",
    "%j\t1월 1일부터 경과한 일수\t001, 002, ..., 366<BR>\n",
    "%U\t1년중 주차, 월요일이 한 주의 시작으로\t00, 01, ..., 53<BR>\n",
    "%W\t1년중 주차, 월요일이 한 주의 시작으로\t00, 01, ..., 53<BR>\n",
    "%c\t날짜, 요일, 시간을 출력, 현재 시간대 기준\tSat May 19 11:14:27 2018<BR>\n",
    "%x\t날짜를 출력, 현재 시간대 기준\t05/19/18<BR>\n",
    "%X\t시간을 출력, 현재 시간대 기준\t'11:44:22'"
   ]
  },
  {
   "cell_type": "code",
   "execution_count": 5,
   "id": "3d585b84",
   "metadata": {},
   "outputs": [
    {
     "data": {
      "text/plain": [
       "1678846407.0902226"
      ]
     },
     "execution_count": 5,
     "metadata": {},
     "output_type": "execute_result"
    }
   ],
   "source": [
    "from time import time\n",
    "time()"
   ]
  },
  {
   "cell_type": "code",
   "execution_count": 13,
   "id": "5064135c",
   "metadata": {},
   "outputs": [
    {
     "data": {
      "text/plain": [
       "'Wed Mar 15 12:39:27 2023'"
      ]
     },
     "execution_count": 13,
     "metadata": {},
     "output_type": "execute_result"
    }
   ],
   "source": [
    "from time import ctime\n",
    "ctime()"
   ]
  },
  {
   "cell_type": "code",
   "execution_count": 14,
   "id": "c947ebc9",
   "metadata": {},
   "outputs": [
    {
     "name": "stdout",
     "output_type": "stream",
     "text": [
      "time.struct_time(tm_year=2023, tm_mon=3, tm_mday=15, tm_hour=12, tm_min=39, tm_sec=28, tm_wday=2, tm_yday=74, tm_isdst=0)\n",
      "time.asctime(t): Wed Mar 15 12:39:28 2023\n"
     ]
    }
   ],
   "source": [
    "# Q. 현재 날짜와 시간을 'Sat Jn 26 08:35:03 2021\" 포멧으로 출력하세요.\n",
    "import time\n",
    "t=time.localtime()\n",
    "print(t)\n",
    "print('time.asctime(t): %s' % time.asctime(t))"
   ]
  },
  {
   "cell_type": "code",
   "execution_count": 19,
   "id": "7dd3b6f9",
   "metadata": {},
   "outputs": [
    {
     "name": "stdout",
     "output_type": "stream",
     "text": [
      "1678851635.2142627 <class 'float'>\n",
      "1678851635.2142627 <class 'str'>\n"
     ]
    }
   ],
   "source": [
    "# timestamp -> str\n",
    "import time\n",
    "\n",
    "t=time.time()\n",
    "\n",
    "print(t,type(t))\n",
    "s=str(t)\n",
    "print(s,type(s))"
   ]
  },
  {
   "cell_type": "markdown",
   "id": "514dbbcd",
   "metadata": {},
   "source": [
    "gmtime(), localtime() 함수: timestamp를 struct_time 객체로 변환"
   ]
  },
  {
   "cell_type": "code",
   "execution_count": 16,
   "id": "9ecf96aa",
   "metadata": {},
   "outputs": [
    {
     "name": "stdout",
     "output_type": "stream",
     "text": [
      "time.struct_time(tm_year=2023, tm_mon=3, tm_mday=15, tm_hour=3, tm_min=39, tm_sec=31, tm_wday=2, tm_yday=74, tm_isdst=0)\n",
      "time.struct_time(tm_year=2023, tm_mon=3, tm_mday=15, tm_hour=12, tm_min=39, tm_sec=31, tm_wday=2, tm_yday=74, tm_isdst=0)\n"
     ]
    }
   ],
   "source": [
    "from time import gmtime , localtime\n",
    "\n",
    "print(gmtime())\n",
    "print(localtime())"
   ]
  },
  {
   "cell_type": "code",
   "execution_count": 17,
   "id": "2e9eb002",
   "metadata": {},
   "outputs": [
    {
     "name": "stdout",
     "output_type": "stream",
     "text": [
      "time.struct_time(tm_year=2020, tm_mon=12, tm_mday=28, tm_hour=22, tm_min=2, tm_sec=17, tm_wday=0, tm_yday=363, tm_isdst=0)\n"
     ]
    },
    {
     "data": {
      "text/plain": [
       "'Mon Dec 28 22:02:17 2020'"
      ]
     },
     "execution_count": 17,
     "metadata": {},
     "output_type": "execute_result"
    }
   ],
   "source": [
    "#[문제]1609160537.371015을 \"Sat Jun 26 08:35:03 2021\" 포멧으로 출력하세요\n",
    "import time\n",
    "t = time.localtime(1609160537.371015)\n",
    "print(t)\n",
    "time.asctime(t) # 날짜와 시간을 알아보기 쉬운 형태로 출력"
   ]
  },
  {
   "cell_type": "code",
   "execution_count": 9,
   "id": "ed3dfeab",
   "metadata": {},
   "outputs": [
    {
     "name": "stdout",
     "output_type": "stream",
     "text": [
      "Wed Mar 15 12:34:07 2023\n"
     ]
    }
   ],
   "source": [
    "# Q. 현재 날짜와 시간을 \"Sat Jun 26 08:35:03 2021\" 포멧으로 출력하세요\n",
    "import time\n",
    "t = time.localtime()\n",
    "print(time.asctime(t))"
   ]
  },
  {
   "cell_type": "code",
   "execution_count": 12,
   "id": "76bcab34",
   "metadata": {},
   "outputs": [
    {
     "name": "stdout",
     "output_type": "stream",
     "text": [
      "1678851285.1586568 <class 'float'>\n",
      "2023-03-15 12:34:45.158657 <class 'datetime.datetime'>\n"
     ]
    }
   ],
   "source": [
    "# timestamp -> datetime\n",
    "from datetime import datetime\n",
    "t=time.time()\n",
    "print(t,type(t))\n",
    "d = datetime.fromtimestamp(t)\n",
    "print(d,type(d))"
   ]
  },
  {
   "cell_type": "code",
   "execution_count": 20,
   "id": "d81426da",
   "metadata": {},
   "outputs": [
    {
     "data": {
      "text/plain": [
       "'2023~03~15 %'"
      ]
     },
     "execution_count": 20,
     "metadata": {},
     "output_type": "execute_result"
    }
   ],
   "source": [
    "# timestamp -> datetime -> str\n",
    "# Q. 현재 시간을 년~월~일 시:분:초로 출력하세요\n",
    "import time\n",
    "from datetime import datetime\n",
    "t=time.time()\n",
    "d=datetime.fromtimestamp(t) # timestamp -> datetime\n",
    "s=d.strftime('%Y~%m~%d %%') # datetime ->str\n",
    "s"
   ]
  },
  {
   "cell_type": "code",
   "execution_count": 23,
   "id": "a2039852",
   "metadata": {},
   "outputs": [
    {
     "name": "stdout",
     "output_type": "stream",
     "text": [
      "2023-03-15 12:43:09.494168 <class 'datetime.datetime'>\n",
      "2023~03~15 12:43:09 <class 'str'>\n"
     ]
    }
   ],
   "source": [
    "# datetime -> str\n",
    "from datetime import datetime\n",
    "\n",
    "s=datetime.now()\n",
    "print(s,type(s))\n",
    "\n",
    "sl=s.strftime('%Y~%m~%d %H:%M:%S')\n",
    "print(sl,type(sl))"
   ]
  },
  {
   "cell_type": "code",
   "execution_count": 30,
   "id": "201a2c7d",
   "metadata": {},
   "outputs": [
    {
     "name": "stdout",
     "output_type": "stream",
     "text": [
      "2021-07-20 11:13:58 <class 'str'>\n",
      "2021-07-20 11:13:58 <class 'datetime.datetime'>\n"
     ]
    }
   ],
   "source": [
    "# str -> datetime\n",
    "from datetime import datetime\n",
    "s = '2021-07-20 11:13:58'\n",
    "print(s,type(s))\n",
    "d = datetime.strptime(s,'%Y-%m-%d %H:%M:%S')\n",
    "print(d,type(d))"
   ]
  },
  {
   "cell_type": "code",
   "execution_count": 25,
   "id": "fc70d50a",
   "metadata": {},
   "outputs": [
    {
     "ename": "SyntaxError",
     "evalue": "invalid syntax (1884274516.py, line 3)",
     "output_type": "error",
     "traceback": [
      "\u001b[1;36m  File \u001b[1;32m\"C:\\Users\\h\\AppData\\Local\\Temp\\ipykernel_6836\\1884274516.py\"\u001b[1;36m, line \u001b[1;32m3\u001b[0m\n\u001b[1;33m    timestamp = time.mktime(datetime.strptime(s. '%Y~%m~%d %H:%M:%S').timetuple())\u001b[0m\n\u001b[1;37m                                                 ^\u001b[0m\n\u001b[1;31mSyntaxError\u001b[0m\u001b[1;31m:\u001b[0m invalid syntax\n"
     ]
    }
   ],
   "source": [
    "# str -> datetime -> timestamp\n",
    "s= '2021-07-20 11:13:58'\n",
    "timestamp = time.mktime(datetime.strptime(s. '%Y~%m~%d %H:%M:%S').timetuple())\n",
    "print(timestamp,type(timestamp))"
   ]
  },
  {
   "cell_type": "code",
   "execution_count": null,
   "id": "45eb19b4",
   "metadata": {},
   "outputs": [],
   "source": [
    "# datetime -> timestamp\n",
    "d=datetime.today()\n",
    "print(d.type(d))\n",
    "timestamp = time.mktime(d.timetuple())\n",
    "print(timestamp, type(timestamp))"
   ]
  },
  {
   "cell_type": "code",
   "execution_count": 3,
   "id": "6f29127e",
   "metadata": {},
   "outputs": [
    {
     "name": "stdout",
     "output_type": "stream",
     "text": [
      "time.struct_time(tm_year=2023, tm_mon=3, tm_mday=24, tm_hour=16, tm_min=3, tm_sec=1, tm_wday=4, tm_yday=83, tm_isdst=0)\n",
      "오늘은 2023-01-01 이후 83일째 되는 날입니다.\n"
     ]
    }
   ],
   "source": [
    "# Q. 올해 경과된 날짜수 계산하세요\n",
    "import time\n",
    "t=time.localtime()\n",
    "print(t)\n",
    "start_day = '%d-01-01' %t.tm_year\n",
    "elapsed_day = t.tm_yday\n",
    "# print('오늘은 %s 이후 %d일째 되는 날입니다.' %(start_day,elapsed_day)\n",
    "print(f'오늘은 {start_day} 이후 {elapsed_day}일째 되는 날입니다.')"
   ]
  },
  {
   "cell_type": "code",
   "execution_count": null,
   "id": "9d71bdb0",
   "metadata": {},
   "outputs": [],
   "source": [
    "#[문제] 현재 요일을 \"2021-6-26 오늘은 토요일입니다. 와 같은 형식으로 출력하세요\n",
    "\n",
    "import time\n",
    "\n",
    "weekdays = ['월요일','화요일','수요일','목요일','금요일','토요일','일요일']\n",
    "t = time.localtime()\n",
    "today = '%d-%d-%d' %(t.tm_year,t.tm_mon,t.tm_mday)\n",
    "week = weekdays[t.tm_wday]\n",
    "# print('%s 오늘은 %s입니다' %(today, week))\n",
    "print(f'{today} 오늘은 {week}입니다.')"
   ]
  },
  {
   "cell_type": "code",
   "execution_count": null,
   "id": "5a9b4edb",
   "metadata": {},
   "outputs": [],
   "source": [
    "#[문제]1에서 백만까지 더하는데 걸리는 프로그램 실행 시간을 밀리초(ms) 단위로 구하세요.\n",
    "#1000밀리초(ms) = 1초\n",
    "\n",
    "from datetime import datetime\n",
    "\n",
    "start = datetime.now()\n",
    "print(start)\n",
    "print('1에서 백만까지 더합니다.')\n",
    "ret = 0\n",
    "for i in range(1000000):\n",
    "   ret += i\n",
    "print('1에서 백만까지 더한 결과: %d' %ret)\n",
    "end = datetime.now()\n",
    "elapsed = end - start\n",
    "print('총 계산 시간: ', end='');print(elapsed)\n",
    "elapsed_ms = int(elapsed.total_seconds()*1000)\n",
    "print('총 계산 시간: %dms' %elapsed_ms)"
   ]
  },
  {
   "cell_type": "code",
   "execution_count": null,
   "id": "3392aacf",
   "metadata": {},
   "outputs": [],
   "source": []
  }
 ],
 "metadata": {
  "kernelspec": {
   "display_name": "Python 3 (ipykernel)",
   "language": "python",
   "name": "python3"
  },
  "language_info": {
   "codemirror_mode": {
    "name": "ipython",
    "version": 3
   },
   "file_extension": ".py",
   "mimetype": "text/x-python",
   "name": "python",
   "nbconvert_exporter": "python",
   "pygments_lexer": "ipython3",
   "version": "3.9.13"
  }
 },
 "nbformat": 4,
 "nbformat_minor": 5
}
