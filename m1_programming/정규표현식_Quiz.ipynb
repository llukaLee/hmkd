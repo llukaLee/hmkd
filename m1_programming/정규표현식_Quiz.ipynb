{
 "cells": [
  {
   "cell_type": "code",
   "execution_count": 4,
   "id": "3cad4522",
   "metadata": {},
   "outputs": [
    {
     "data": {
      "text/plain": [
       "'032-232-3245'"
      ]
     },
     "execution_count": 4,
     "metadata": {},
     "output_type": "execute_result"
    }
   ],
   "source": [
    "# Q. 정규표현식을 사용하여 test에서 전화번호만  출력하세요\n",
    "# text = \"문의사항이 있으면 032-232-3245 으로 연락주시기 바랍니다.\"\n",
    "import re\n",
    " \n",
    "text = \"문의사항이 있으면 032-232-3245 으로 연락주시기 바랍니다.\"\n",
    "pat = r'\\d{3}-\\d{3}-\\d{4}'\n",
    "re.search(pat,text).group()"
   ]
  },
  {
   "cell_type": "code",
   "execution_count": 5,
   "id": "2059ca78",
   "metadata": {},
   "outputs": [
    {
     "data": {
      "text/plain": [
       "['에러 1122', '에러 1033', '에러 xxx']"
      ]
     },
     "execution_count": 5,
     "metadata": {},
     "output_type": "execute_result"
    }
   ],
   "source": [
    "# Q. 정규표현식을 사용하여 text에서 에러가 들어간 부분만 포함하는 리스트를 출력하세요. \n",
    "text = \"에러 1122, 레퍼런스 오류, 에러 1033, 아규먼트 오류, 에러 xxx\"\n",
    "pat = r'에러\\s\\w+'\n",
    "re.findall(pat,text)"
   ]
  },
  {
   "cell_type": "code",
   "execution_count": 6,
   "id": "5ca79512",
   "metadata": {},
   "outputs": [
    {
     "data": {
      "text/plain": [
       "'032'"
      ]
     },
     "execution_count": 6,
     "metadata": {},
     "output_type": "execute_result"
    }
   ],
   "source": [
    "# Q. 정규표현식을 사용하여 text에서 지역코드만 출력하세요.\n",
    "import re\n",
    "text = \"문의사항이 있으면 032-232-3245 으로 연락주시기 바랍니다.\" \n",
    "pat = r'\\d+'\n",
    "re.search(pat,text).group()"
   ]
  },
  {
   "cell_type": "code",
   "execution_count": 7,
   "id": "141d4ef6",
   "metadata": {},
   "outputs": [
    {
     "data": {
      "text/plain": [
       "'232-3245'"
      ]
     },
     "execution_count": 7,
     "metadata": {},
     "output_type": "execute_result"
    }
   ],
   "source": [
    "# Q. 정규표현식을 사용하여 text에서 지역코드 제외한 번호만 출력하세요.\n",
    "\n",
    "import re\n",
    " \n",
    "text = \"문의사항이 있으면 032-232-3245 으로 연락주시기 바랍니다.\" \n",
    "pat = r'\\d{3}-\\d{4}'\n",
    "re.search(pat,text).group()"
   ]
  },
  {
   "cell_type": "code",
   "execution_count": 17,
   "id": "0b9caf86",
   "metadata": {},
   "outputs": [
    {
     "name": "stdout",
     "output_type": "stream",
     "text": [
      "abcdefghi\n",
      "e\n"
     ]
    }
   ],
   "source": [
    "# Q.'abcdefghij' 에 대하여 중첩을 적용한 서브그룹 5개로 컴파일하여 group()함수를 이용하여 \n",
    "# 'abcdefghi'와 e'를 출력하세요\n",
    "text = 'abcdefghij'\n",
    "pat = r'(a(b(c(d(e)f)g)h)i)j'\n",
    "print(re.search(pat,text)[1])\n",
    "print(re.search(pat,text)[5])"
   ]
  },
  {
   "cell_type": "code",
   "execution_count": null,
   "id": "9be60d14",
   "metadata": {},
   "outputs": [],
   "source": []
  },
  {
   "cell_type": "code",
   "execution_count": 91,
   "id": "7db39b25",
   "metadata": {},
   "outputs": [
    {
     "ename": "AttributeError",
     "evalue": "'str' object has no attribute 'groups'",
     "output_type": "error",
     "traceback": [
      "\u001b[1;31m---------------------------------------------------------------------------\u001b[0m",
      "\u001b[1;31mAttributeError\u001b[0m                            Traceback (most recent call last)",
      "\u001b[1;32m~\\AppData\\Local\\Temp\\ipykernel_13216\\1097528941.py\u001b[0m in \u001b[0;36m<module>\u001b[1;34m\u001b[0m\n\u001b[0;32m      1\u001b[0m \u001b[1;31m# Q. 위 문제에서 모든 서브 그룹에 대한 문자열을 포함하는 튜플을 출력하세요.\u001b[0m\u001b[1;33m\u001b[0m\u001b[1;33m\u001b[0m\u001b[0m\n\u001b[1;32m----> 2\u001b[1;33m \u001b[0mpat\u001b[0m\u001b[1;33m.\u001b[0m\u001b[0mgroups\u001b[0m\u001b[1;33m(\u001b[0m\u001b[1;33m)\u001b[0m\u001b[1;33m\u001b[0m\u001b[1;33m\u001b[0m\u001b[0m\n\u001b[0m",
      "\u001b[1;31mAttributeError\u001b[0m: 'str' object has no attribute 'groups'"
     ]
    }
   ],
   "source": [
    "# Q. 위 문제에서 모든 서브 그룹에 대한 문자열을 포함하는 튜플을 출력하세요.\n",
    "pat.groups()"
   ]
  },
  {
   "cell_type": "code",
   "execution_count": null,
   "id": "d4928e14",
   "metadata": {},
   "outputs": [],
   "source": []
  },
  {
   "cell_type": "code",
   "execution_count": 19,
   "id": "42e0fd14",
   "metadata": {},
   "outputs": [
    {
     "data": {
      "text/plain": [
       "'Lots'"
      ]
     },
     "execution_count": 19,
     "metadata": {},
     "output_type": "execute_result"
    }
   ],
   "source": [
    "# Q. 이름으로 그룹을 참조하여 'Lots of punctuation 에서 Lots를 출력하세요.\n",
    "text = 'Lots of punctuation'\n",
    "pat = r'\\D{4}'\n",
    "re.search(pat,text).group()"
   ]
  },
  {
   "cell_type": "code",
   "execution_count": 25,
   "id": "64dfe1d6",
   "metadata": {},
   "outputs": [
    {
     "data": {
      "text/plain": [
       "'very very'"
      ]
     },
     "execution_count": 25,
     "metadata": {},
     "output_type": "execute_result"
    }
   ],
   "source": [
    "# Q. 'Paris is very very beautiful.'에서 'very very'를 출력하세요.\n",
    "text = 'Paris is very very beautiful.'\n",
    "re.search(r'\\b(\\w+)\\s\\1\\b',text).group()"
   ]
  },
  {
   "cell_type": "code",
   "execution_count": 13,
   "id": "62a93770",
   "metadata": {},
   "outputs": [
    {
     "name": "stdout",
     "output_type": "stream",
     "text": [
      "['1 apple', '5 oranges', '3 boys', '4 girls', '10 army', '11 mr']\n"
     ]
    }
   ],
   "source": [
    "# Q. 정규표현식을 작성하여 아래와 같이 출력하세요.\n",
    "\n",
    "import re\n",
    "li = '1 apple, 5 oranges, 3 boys, 4 girls; 10 army| 11 mr'\n",
    "regex = re.compile(r'\\d+\\s\\w+')\n",
    "list1 = regex.findall(li)\n",
    "print(list1)"
   ]
  },
  {
   "cell_type": "code",
   "execution_count": 93,
   "id": "54b02fb6",
   "metadata": {},
   "outputs": [
    {
     "data": {
      "text/plain": [
       "['H', 'h', 'h']"
      ]
     },
     "execution_count": 93,
     "metadata": {},
     "output_type": "execute_result"
    }
   ],
   "source": [
    "# Q. text에서 'H,h'만 출력하세요.\n",
    "text = 'Hello my friend! Life is short you need Python!'\n",
    "re.findall(r'[Hh]+',text)"
   ]
  },
  {
   "cell_type": "code",
   "execution_count": 94,
   "id": "f720476d",
   "metadata": {},
   "outputs": [
    {
     "data": {
      "text/plain": [
       "['ello my friend! Life is s', 'ort you need Pyt', 'on!']"
      ]
     },
     "execution_count": 94,
     "metadata": {},
     "output_type": "execute_result"
    }
   ],
   "source": [
    "re.findall(r'[^Hh]+',text)"
   ]
  },
  {
   "cell_type": "code",
   "execution_count": 15,
   "id": "876c10e6",
   "metadata": {},
   "outputs": [
    {
     "name": "stdout",
     "output_type": "stream",
     "text": [
      "['e', 'l', 'l', 'o', ' ', 'm', 'y', ' ', 'f', 'r', 'i', 'e', 'n', 'd', '!', ' ', 'L', 'i', 'f', 'e', ' ', 'i', 's', ' ', 's', 'o', 'r', 't', ' ', 'y', 'o', 'u', ' ', 'n', 'e', 'e', 'd', ' ', 'P', 'y', 't', 'o', 'n', '!']\n"
     ]
    }
   ],
   "source": [
    "# Q. text에서 'H,h'가 아닌 것 모두를 출력하세요.\n",
    "import re\n",
    "print(list(re.sub(r'[Hh]','',text)))"
   ]
  },
  {
   "cell_type": "code",
   "execution_count": 51,
   "id": "819b21d4",
   "metadata": {},
   "outputs": [
    {
     "data": {
      "text/plain": [
       "'home'"
      ]
     },
     "execution_count": 51,
     "metadata": {},
     "output_type": "execute_result"
    }
   ],
   "source": [
    "# Q. 'we are going home'에서 home만 출력하세요.\n",
    "t = 'we are going home'\n",
    "re.search(r'home\\Z',t).group()"
   ]
  },
  {
   "cell_type": "code",
   "execution_count": 50,
   "id": "936b7b3f",
   "metadata": {},
   "outputs": [
    {
     "data": {
      "text/plain": [
       "['home']"
      ]
     },
     "execution_count": 50,
     "metadata": {},
     "output_type": "execute_result"
    }
   ],
   "source": [
    "# Q. 'home sweet'에서 home만 출력하세요.\n",
    "t = 'home sweet'\n",
    "re.findall(r'\\Ahome',t)"
   ]
  },
  {
   "cell_type": "code",
   "execution_count": 54,
   "id": "b5abaf2b",
   "metadata": {},
   "outputs": [
    {
     "data": {
      "text/plain": [
       "'199305'"
      ]
     },
     "execution_count": 54,
     "metadata": {},
     "output_type": "execute_result"
    }
   ],
   "source": [
    "# Q. '199305, 1923A, a93247'에서 '199305'만 출력하세요.\n",
    "t = '199305, 1923A, a93247'\n",
    "re.search(r'\\d+',t).group()"
   ]
  },
  {
   "cell_type": "code",
   "execution_count": 58,
   "id": "306192f5",
   "metadata": {},
   "outputs": [
    {
     "data": {
      "text/plain": [
       "'99food234'"
      ]
     },
     "execution_count": 58,
     "metadata": {},
     "output_type": "execute_result"
    }
   ],
   "source": [
    "# Q. '99food234, a93456\\n, a9356ba '에서 '99food234'만 출력하세요.\n",
    "t = '99food234, a93456\\n, a9356ba '\n",
    "re.search(r'^99\\w+',t).group()"
   ]
  },
  {
   "cell_type": "code",
   "execution_count": 67,
   "id": "71f574cd",
   "metadata": {},
   "outputs": [
    {
     "data": {
      "text/plain": [
       "['abc']"
      ]
     },
     "execution_count": 67,
     "metadata": {},
     "output_type": "execute_result"
    }
   ],
   "source": [
    "# Q. '12345abc'에서 'abc'만 출력하세요.\n",
    "import re\n",
    "t = '12345abc'\n",
    "re.findall(r'\\D+',t)"
   ]
  },
  {
   "cell_type": "code",
   "execution_count": 68,
   "id": "769a7412",
   "metadata": {},
   "outputs": [
    {
     "data": {
      "text/plain": [
       "['12345']"
      ]
     },
     "execution_count": 68,
     "metadata": {},
     "output_type": "execute_result"
    }
   ],
   "source": [
    "# Q. '12345abc'에서 '12345'만 출력하세요.\n",
    "import re\n",
    "re.findall(r'\\d+',t)"
   ]
  },
  {
   "cell_type": "code",
   "execution_count": 70,
   "id": "4db4df04",
   "metadata": {},
   "outputs": [
    {
     "data": {
      "text/plain": [
       "['a']"
      ]
     },
     "execution_count": 70,
     "metadata": {},
     "output_type": "execute_result"
    }
   ],
   "source": [
    "# Q. '12345abc'에서 'a'만 출력하세요.\n",
    "re.findall(r'a',t)"
   ]
  },
  {
   "cell_type": "code",
   "execution_count": 78,
   "id": "ea713674",
   "metadata": {},
   "outputs": [
    {
     "data": {
      "text/plain": [
       "'122333c'"
      ]
     },
     "execution_count": 78,
     "metadata": {},
     "output_type": "execute_result"
    }
   ],
   "source": [
    "# search는 문자열 전체를 검색하여 정규식과 매칭되는 패턴을 찾는다.\n",
    "# Q. '122333c'를 모두 출력하세요.\n",
    "text = '122333c1233c'\n",
    "re.search(r'\\d+\\D',text).group()"
   ]
  },
  {
   "cell_type": "code",
   "execution_count": 81,
   "id": "f319a628",
   "metadata": {},
   "outputs": [
    {
     "data": {
      "text/plain": [
       "'A'"
      ]
     },
     "execution_count": 81,
     "metadata": {},
     "output_type": "execute_result"
    }
   ],
   "source": [
    "# Q. 'abc12345Abc'에서 'A'만 출력하세요.\n",
    "t = 'abc12345Abc'\n",
    "re.search('A',t).group()"
   ]
  },
  {
   "cell_type": "code",
   "execution_count": 86,
   "id": "a9c4219f",
   "metadata": {},
   "outputs": [
    {
     "data": {
      "text/plain": [
       "' 대'"
      ]
     },
     "execution_count": 86,
     "metadata": {},
     "output_type": "execute_result"
    }
   ],
   "source": [
    "# Q. 'KOREA 대한민국'에서 '대'만 출력하세요.\n",
    "t = 'KOREA 대한민국'\n",
    "re.search(r'\\s\\D',t).group()"
   ]
  },
  {
   "cell_type": "code",
   "execution_count": 96,
   "id": "0bba3a0b",
   "metadata": {},
   "outputs": [
    {
     "data": {
      "text/plain": [
       "'aaaaBBBcccDDDeee'"
      ]
     },
     "execution_count": 96,
     "metadata": {},
     "output_type": "execute_result"
    }
   ],
   "source": [
    "# Q. 'aaaaBBBcccDDDeee'을 모두 출력하세요.\n",
    "text = 'aaaaBBBcccDDDeeeaaaBBBcccDDeee'\n",
    "re.search(r'a{4}B{3}c{3}D{3}e{3}',text).group()"
   ]
  },
  {
   "cell_type": "code",
   "execution_count": 99,
   "id": "b608e3b1",
   "metadata": {},
   "outputs": [
    {
     "data": {
      "text/plain": [
       "['1', '2', '3', '4', '1', '2', '3', '4']"
      ]
     },
     "execution_count": 99,
     "metadata": {},
     "output_type": "execute_result"
    }
   ],
   "source": [
    "# Q. '1234a1234'에서  '1', '2', '3', '4'를 모두 출력하세요.\n",
    "text = '1234a1234'\n",
    "re.findall(r'\\d',text)"
   ]
  },
  {
   "cell_type": "code",
   "execution_count": null,
   "id": "e13cfcb0",
   "metadata": {},
   "outputs": [],
   "source": [
    "# Q. text에서 what are you doing?만 출력하세요 \n",
    "text = 'what are you doing?\\nit is going to be late for school\\nwe need to hurry up'\n"
   ]
  },
  {
   "cell_type": "code",
   "execution_count": null,
   "id": "93c87de7",
   "metadata": {},
   "outputs": [],
   "source": [
    "# Q. text에서 전체문장 모두 출력하세요 \n"
   ]
  },
  {
   "cell_type": "code",
   "execution_count": null,
   "id": "3f2e39d7",
   "metadata": {},
   "outputs": [],
   "source": [
    "# Q. text에서 대소문자 구분없이 전체문장 모두 출력하세요 \n",
    "\n",
    "text = 'Friend fRiend friEnd FRIEND'\n"
   ]
  }
 ],
 "metadata": {
  "kernelspec": {
   "display_name": "Python 3 (ipykernel)",
   "language": "python",
   "name": "python3"
  },
  "language_info": {
   "codemirror_mode": {
    "name": "ipython",
    "version": 3
   },
   "file_extension": ".py",
   "mimetype": "text/x-python",
   "name": "python",
   "nbconvert_exporter": "python",
   "pygments_lexer": "ipython3",
   "version": "3.9.13"
  }
 },
 "nbformat": 4,
 "nbformat_minor": 5
}
