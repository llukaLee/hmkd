{
 "cells": [
  {
   "cell_type": "markdown",
   "id": "562089dc",
   "metadata": {},
   "source": [
    "# 정규표현식 기본 개념\n",
    "\n",
    "한 영화관에서는 예매 시 사용자의 휴대폰 번호를 입력받아야 합니다. 예매 정보는 해당 번호와 함께 저장됩니다. 그러나 종종 잘못된 번호가 입력되어 예매 정보가 유실되는 문제가 발생했습니다.\n",
    "\n",
    "이런 문제를 해결하기 위해, 영화관은 **정규표현식**을 사용해 휴대폰 번호를 검증하기로 결정했습니다. 이제 사용자가 휴대폰 번호를 입력할 때, 정확한 형식으로 입력되었는지 확인하고, 유효한 번호만 저장할 수 있습니다."
   ]
  },
  {
   "cell_type": "markdown",
   "id": "2a9eea1e",
   "metadata": {},
   "source": [
    "## 정규표현식이란?\n",
    "\n",
    "정규표현식(Regular Expression)은 문자열에서 특정한 패턴을 찾거나, 대체하거나, 추출하는데 사용되는 문자열입니다. 즉, 문자열에서 원하는 문자를 찾거나 바꾸기 위한 일종의 패턴이라고 생각할 수 있습니다.\n",
    "\n",
    "\n",
    "예를 들어, 정규표현식에서 '.'은 어떤 문자 하나를 의미하고, '*'는 바로 앞의 문자가 0번 이상 반복됨을 의미합니다. 또한, '|'는 OR 조건을 의미하고, '^'는 문자열의 시작을 의미합니다.\n",
    "\n",
    "파이썬에서는 정규표현식을 처리하기 위해 're' 모듈을 제공합니다. 're' 모듈을 사용하면 문자열에서 패턴을 찾거나, 추출하거나, 대체할 수 있습니다."
   ]
  },
  {
   "cell_type": "code",
   "execution_count": 1,
   "id": "f93d7ef8",
   "metadata": {},
   "outputs": [
    {
     "data": {
      "text/plain": [
       "['12345']"
      ]
     },
     "execution_count": 1,
     "metadata": {},
     "output_type": "execute_result"
    }
   ],
   "source": [
    "# 문자열에서 숫자만\n",
    "import re\n",
    "text = 'Hello, my number is 12345.'\n",
    "\n",
    "numbers = re.findall( '\\d+', text)\n",
    "numbers"
   ]
  },
  {
   "cell_type": "markdown",
   "id": "c488c62b",
   "metadata": {},
   "source": [
    "## 정규표현식의 장단점\n",
    "\n",
    "[장점]\n",
    "1.\t유연성: 정규표현식을 사용하면 다양한 패턴을 표현할 수 있습니다. 예를 들어, 특정 문자열이 특정 패턴을 따르는지 여부를 확인하거나, 특정 패턴을 가진 문자열을 찾아내는 등 다양한 용도로 사용할 수 있습니다.\n",
    "2.\t간결성: 문자열에서 원하는 정보를 추출하는 데에는 정규표현식이 다른 방법에 비해 더 간단하고 직관적입니다.\n",
    "3.\t속도: 정규표현식은 문자열을 일일이 검색하는 것보다 더 빠른 속도로 패턴을 찾아낼 수 있습니다.\n",
    "\n",
    "[단점]\n",
    "1.\t복잡성: 정규표현식은 다양한 패턴을 표현할 수 있지만, 그만큼 문법이 복잡합니다. 특히 초보자에게는 익숙해지기까지 시간이 걸릴 수 있습니다.\n",
    "2.\t이식성: 언어나 툴마다 문법이 조금씩 다르기 때문에, 한 번 익힌 정규표현식이 다른 환경에서는 작동하지 않을 수도 있습니다.\n",
    "3.\t가독성: 정규표현식을 사용하면 코드의 가독성이 떨어질 수 있습니다. 특히, 매우 복잡한 정규표현식을 작성하면 코드가 길어지고 가독성이 나빠질 수 있습니다.\n",
    "위와 같이, 정규표현식은 다양한 장단점을 가지고 있습니다. 그러나 정규표현식은 파이썬을 비롯한 다양한 프로그래밍 언어에서 사용되는 유용한 도구입니다. 아래는 파이썬 코드로 정규표현식을 사용한 문자열 패턴 매칭 예시입니다."
   ]
  },
  {
   "cell_type": "code",
   "execution_count": 2,
   "id": "946ad7da",
   "metadata": {},
   "outputs": [
    {
     "name": "stdout",
     "output_type": "stream",
     "text": [
      "['010-1234-5678']\n"
     ]
    }
   ],
   "source": [
    "# 정규표현식을 이용하여 전화번호를 추출하는 예시\n",
    "\n",
    "# 패턴 설정\n",
    "pattern = r\"\\d{3}-\\d{4}-\\d{4}\"\n",
    "# 패턴 매칭\n",
    "phone_numbers = ['010-1234-5678', '02-555-1234', '031-222-3333']\n",
    "matched_numbers = []\n",
    "for number in phone_numbers:\n",
    "    if re.match(pattern,number):\n",
    "        matched_numbers.append(number)\n",
    "        print(matched_numbers)"
   ]
  },
  {
   "cell_type": "markdown",
   "id": "8e37626a",
   "metadata": {},
   "source": [
    "## 정규표현식의 구성 요소\n",
    "\n",
    "정규표현식은 다음과 같은 구성 요소를 가집니다.\n",
    "\n",
    "- 문자: 특정 문자를 표현합니다. 예를 들어, 'a'는 문자 'a'를 의미합니다.\n",
    "- 메타 문자: 특별한 의미를 가지는 문자입니다. 예를 들어, '.'은 어떤 문자에도 매치되는 문자입니다.\n",
    "- 문자 클래스: 여러 개의 문자 중 하나를 선택합니다. 대괄호([])로 표현합니다. 예를 들어, '[abc]'는 'a', 'b', 'c' 중 하나에 매치됩니다.\n",
    "- 반복: 문자 또는 메타 문자가 반복되는 횟수를 지정합니다. '','*', '+', '?', '{m}', '{m,n}' 등으로 표현합니다. 예를 들어, '$a*$'는 'a'가 0번 이상 반복되는 문자열에 매치됩니다.\n",
    "- 그룹: 하나의 문자 또는 메타 문자의 집합을 그룹화합니다. 괄호()로 표현합니다. 예를 들어, '(abc)+'는 'abc'가 1번 이상 반복되는 문자열에 매치됩니다."
   ]
  },
  {
   "cell_type": "markdown",
   "id": "81c62707",
   "metadata": {},
   "source": [
    "## Raw String\n",
    "- 로우스트링(Raw string)은 문자열 안에 있는 이스케이프 문자를 무시하고 문자 그대로 해석하도록 하는 문자열입니다.\n",
    "- 로우스트링을 사용하면 이스케이프 문자를 사용하지 않고도 백슬래시()를 문자 그대로 사용할 수 있습니다. 이를 통해 정규 표현식, 파일경로, URL 등과 같은 문자열을 다룰 때 유용하게 사용할 수 있습니다.\n",
    "- 로우스트링을 사용하면 백슬래시와 같은 이스케이프 문자를 사용하지 않아도 되므로 가독성이 좋아진다."
   ]
  },
  {
   "cell_type": "code",
   "execution_count": 6,
   "id": "f1595fbe",
   "metadata": {},
   "outputs": [
    {
     "name": "stdout",
     "output_type": "stream",
     "text": [
      "C:\\Users\\Desktop\\file.txt \n",
      "\n",
      "C:\\Users\\Desktop\\file.txt\n"
     ]
    }
   ],
   "source": [
    "str1 = \"C:\\\\Users\\\\Desktop\\\\file.txt\"\n",
    "str2 = r\"C:\\Users\\Desktop\\file.txt\"\n",
    "print(str1, '\\n')\n",
    "print(str2)"
   ]
  },
  {
   "cell_type": "code",
   "execution_count": null,
   "id": "c352f5cd",
   "metadata": {},
   "outputs": [],
   "source": [
    "# 이스케이프 문자(escape character)는 특별한 의미를 가지고 있는 문자열을 문자 그대로 해석하도록 하는 문자\n",
    "# r\"\\n\"은 \\n 이스케이프"
   ]
  },
  {
   "cell_type": "code",
   "execution_count": 8,
   "id": "4b1f420d",
   "metadata": {},
   "outputs": [
    {
     "name": "stdout",
     "output_type": "stream",
     "text": [
      "['a']\n",
      "['a', 'p', 'p', 'l', 'e']\n",
      "['a', 'e']\n",
      "['bana']\n",
      "['ba', '']\n"
     ]
    }
   ],
   "source": [
    "# re.findall()은 두 개의 인자를 가집니다. 첫 번째 인자는 찾으려는 패턴을 지정하는 정규 포현식이며,\n",
    "# 두 번째 인자는 검색 대상이 되는 문자열입니다.\n",
    "import re\n",
    "pattern1 = 'a'\n",
    "text1 = 'apple'\n",
    "print(re.findall(pattern1, text1))\n",
    "\n",
    "pattern2 = '.'\n",
    "text2 = 'apple'\n",
    "print(re.findall(pattern2, text2))\n",
    "\n",
    "pattern3 = '[aeiou]'\n",
    "text3 = 'apple'\n",
    "print(re.findall(pattern3, text3))\n",
    "\n",
    "pattern4 = 'ba*na'\n",
    "text4 = 'banaana'\n",
    "print(re.findall(pattern4, text4))\n",
    "\n",
    "pattern5 = '(ba)*na'\n",
    "text5 = 'banaana'\n",
    "print(re.findall(pattern5, text5))"
   ]
  },
  {
   "cell_type": "markdown",
   "id": "d84afb77",
   "metadata": {},
   "source": [
    "# 정규표현식의 문법\n",
    "\n",
    "\n",
    "정규표현식의 문법에는 다양한 메타문자(meta-character)가 사용됩니다. 메타문자란 일반적으로 사용되는 문자가 아니라, 특별한 의미를 가지는 문자를 말합니다. 메타문자는 다양한 용도로 사용되며, 각각의 기능은 다음과 같습니다."
   ]
  },
  {
   "cell_type": "markdown",
   "id": "1105a478",
   "metadata": {},
   "source": [
    "## 메타문자의 종류와 사용 방법\n",
    "\n",
    "\n",
    "\n",
    "[메타문자/문자 클래스]\n",
    " - \\d 숫자와 매치, [0-9]와 동일한 표현식\n",
    " - \\D 숫자가 아닌 것과 매치, [^0-9]와 동일한 표현식\n",
    " - \\s whitespace 문자와 매치, [ \\t\\n\\r\\f\\v]와 동일한 표현식\n",
    " - \\S whitespace 문자가 아닌 것과 매치, [^ \\t\\n\\r\\f\\v]와 동일한 표현식\n",
    " - \\w 문자 + 숫자와 매치, [a-zA-Z0-9]와 동일한 표현식\n",
    " - \\W 문자 + 숫자가 아닌 문자와 매치, [^a-zA-Z0-9]와 동일한 표현식\n",
    "\n",
    "[whitespace]\n",
    " -  스페이스 바 (아스키코드 32)\n",
    " -  ＼b  뒤로 한 칸 이동 (Backspace) (아스키코드 8)\n",
    " -  ＼t  수평탭 간격 띄우기 (아스키코드 9)\n",
    " -  ＼n  줄바꿈 (Linefeed) (아스키코드 10)\n",
    " -  ＼v  수직탭 간격 띄우기 (아스키코드 11)\n",
    " -  ＼f  프린트 출력 용지를 한 페이지 넘김 (Form feed) (아스키코드 12)\n",
    " -  ＼r  동일한 줄의 맨 앞으로 커서 이동 (Carriage Return) (아스키코드 13)\n",
    " - Dot(.) 메타 문자는 줄바꿈 문자인 \\n를 제외한 모든 문자와 매치됨을 의미\n",
    "\n",
    "참고 : whitespace 문자는 공백과 같은 문자. 주로 특정 문자열에서 단어를 구분하기 위하여 사용\n",
    "\n",
    "[문자열의 반복과 선택을 나타내는 메타문자]\n",
    "- ^ : 문자열의 시작을 나타냄. 예를 들어, '^a'는 문자열의 시작이 'a'인 경우와 매치됨.\n",
    "- \\\\$ : 문자열의 끝을 나타냄. 예를 들어, a\\$는 문자열의 끝이 'a'인 경우와 매치됨.\n",
    "\n",
    "\n",
    "\n",
    "[문자열의 반복과 선택을 나타내는 메타문자]\n",
    "- 반복(\\*) ca*t 0부터 무한대로 반복\n",
    "- 반복(\\+) ca+t 최소 1번 이상 반복\n",
    "- ca{m,n} a 반복 횟수가 m부터 n까지인 것을 매치\n",
    "- ca{2}t는 c+a(2번 반복)+t의 의미\n",
    "- 반복횟수가 {1,}은 1 이상, {0,}은 0 이상인 경우로 각각 +, *와 동일하며 {,1}은 반복횟수가 1 이하를 의미.\n",
    "- ab?c b가 0~1번 사용되면 매치되는 것으로 ?은 앞의 b가 있어도 되고 없어도 된다"
   ]
  },
  {
   "cell_type": "markdown",
   "id": "1abb0f07",
   "metadata": {},
   "source": [
    "## re 모듈\n",
    "\n",
    "정규표현식을 파이썬에서 사용하기 위해서는 re 모듈을 import하여 사용합니다. 이를 이용하여 정규식을 컴파일하고 정규식을 이용한 문자열 검색 등 다양한 작업을 수행할 수 있습니다.\n",
    "\n",
    "re 모듈을 이용하여 문자열 검색을 수행하는 함수는 다음과 같습니다.\n",
    "\n",
    "- compile(): 정규식을 컴파일합니다.\n",
    "- match(): 문자열의 처음부터 정규식과 매치되는지 조사합니다.\n",
    "- search(): 문자열의 전체를 검색하여 정규식과 매치되는지 조사합니다.\n",
    "- findall(): 정규식과 매치되는 모든 문자열을 리스트로 리턴합니다.\n",
    "- finditer(): 정규식과 매치되는 모든 문자열을 반복 가능한 객체로 리턴합니다."
   ]
  },
  {
   "cell_type": "code",
   "execution_count": 15,
   "id": "8529c0d2",
   "metadata": {},
   "outputs": [
    {
     "name": "stdout",
     "output_type": "stream",
     "text": [
      "match found!\n"
     ]
    }
   ],
   "source": [
    "pattern = re.compile('ab+c')\n",
    "match = pattern.search('abbbc')\n",
    "if match:\n",
    "    print(\"match found!\")\n",
    "else:\n",
    "    print(\"not matched|\")"
   ]
  },
  {
   "cell_type": "code",
   "execution_count": 11,
   "id": "249de79e",
   "metadata": {},
   "outputs": [
    {
     "data": {
      "text/plain": [
       "<re.Match object; span=(0, 5), match='abbbc'>"
      ]
     },
     "execution_count": 11,
     "metadata": {},
     "output_type": "execute_result"
    }
   ],
   "source": [
    "re.search(pattern,'abbbc')"
   ]
  },
  {
   "cell_type": "code",
   "execution_count": 12,
   "id": "f90a5eb8",
   "metadata": {},
   "outputs": [
    {
     "data": {
      "text/plain": [
       "<re.Match object; span=(3, 8), match='abbbc'>"
      ]
     },
     "execution_count": 12,
     "metadata": {},
     "output_type": "execute_result"
    }
   ],
   "source": [
    "re.search(pattern,'eeeabbbc')"
   ]
  },
  {
   "cell_type": "code",
   "execution_count": 13,
   "id": "aee7df2c",
   "metadata": {},
   "outputs": [
    {
     "data": {
      "text/plain": [
       "<re.Match object; span=(0, 5), match='abbbc'>"
      ]
     },
     "execution_count": 13,
     "metadata": {},
     "output_type": "execute_result"
    }
   ],
   "source": [
    "re.search(pattern,'abbbceee')"
   ]
  },
  {
   "cell_type": "code",
   "execution_count": 14,
   "id": "b16e6c1d",
   "metadata": {},
   "outputs": [
    {
     "data": {
      "text/plain": [
       "<re.Match object; span=(0, 5), match='abbbc'>"
      ]
     },
     "execution_count": 14,
     "metadata": {},
     "output_type": "execute_result"
    }
   ],
   "source": [
    "re.search(pattern,'abbbceeabce')"
   ]
  },
  {
   "cell_type": "markdown",
   "id": "236f184c",
   "metadata": {},
   "source": [
    "#### 과제1_0424\n",
    "정규표현식을 사용하여 text에서 이메일을 추출하세요.\n",
    "text = \"이메일 주소는 abc123@gmail.com 입니다.\""
   ]
  },
  {
   "cell_type": "code",
   "execution_count": 17,
   "id": "154b221f",
   "metadata": {},
   "outputs": [
    {
     "name": "stdout",
     "output_type": "stream",
     "text": [
      "['abc-123@gmail.com']\n"
     ]
    }
   ],
   "source": [
    "import re\n",
    "pattern = r'[\\w-]+@\\w+.\\w+'\n",
    "text = \"이메일 주소는 abc-123@gmail.com 입니다.\"\n",
    "email = re.findall(pattern,text)\n",
    "print(email)"
   ]
  },
  {
   "cell_type": "markdown",
   "id": "c09fda3d",
   "metadata": {},
   "source": [
    "#### 과제2_0424\n",
    "정규표현식을 사용하여 text에서 전화번호를 추출하세요.\n",
    "text = \"저의 전화번호는 010-1234-5678 입니다.\""
   ]
  },
  {
   "cell_type": "code",
   "execution_count": 34,
   "id": "8dbdb249",
   "metadata": {},
   "outputs": [
    {
     "name": "stdout",
     "output_type": "stream",
     "text": [
      "['010-1234-5678']\n"
     ]
    }
   ],
   "source": [
    "pattern = r\"\\d{3}-\\d{4}-\\d{4}\"\n",
    "text = \"저의 전화번호는 010-1234-5678 입니다.\"\n",
    "number = re.findall(pattern, text)\n",
    "print(number)"
   ]
  },
  {
   "cell_type": "markdown",
   "id": "b559a75e",
   "metadata": {},
   "source": [
    "#### 과제3_0424\n",
    "정규표현식을 사용하여 text에서 URL을 추출하세요.\n",
    "text = \"저의 블로그 주소는 http://www.example.com 입니다.\""
   ]
  },
  {
   "cell_type": "code",
   "execution_count": 24,
   "id": "f7ba0e68",
   "metadata": {},
   "outputs": [
    {
     "data": {
      "text/plain": [
       "['http://www.example.com']"
      ]
     },
     "execution_count": 24,
     "metadata": {},
     "output_type": "execute_result"
    }
   ],
   "source": [
    "text = \"저의 블로그 주소는 http://www.example.com 입니다.\"\n",
    "re.findall(r'http://[^\\s]+', text)"
   ]
  },
  {
   "cell_type": "markdown",
   "id": "759eb00b",
   "metadata": {},
   "source": [
    "text = \"저의 블로그 주소는 http://www.example.com 입니다.\"\n",
    "\n",
    "pattern = \"http[s]?://[\\w.]+\\/?\"\n",
    "\n",
    "re.search(pattern, text)"
   ]
  },
  {
   "cell_type": "markdown",
   "id": "ff63d6bf",
   "metadata": {},
   "source": [
    "#### 과제4_0424\n",
    "정규표현식을 사용하여 html태그를 제거한 후 \"안녕하세요, 파이썬입니다.\"를 출력하세요.\n",
    "\n",
    "html_string = \"$<p>$안녕하세요,$<b>$파이썬 $</b>$입니다.$</p>$\""
   ]
  },
  {
   "cell_type": "code",
   "execution_count": null,
   "id": "acea9dd4",
   "metadata": {},
   "outputs": [],
   "source": [
    "html_string = \"<p>안녕하세요,<b>파이썬 </b>입니다.</p>\""
   ]
  },
  {
   "cell_type": "markdown",
   "id": "937a7cab",
   "metadata": {},
   "source": [
    "#### 과제5_0424\n",
    "text = ' Python3 is very good programming language!' 에서 다음을 수행하세요.\n",
    "\n",
    "- ['Python', 'is', 'very', 'good', 'programming', 'language']\n",
    "- Python3 출력\n",
    "- Python 출력\n",
    "- 숫자만 출력\n",
    "- Python3를 python으로 대체"
   ]
  },
  {
   "cell_type": "code",
   "execution_count": 42,
   "id": "d48232db",
   "metadata": {},
   "outputs": [
    {
     "name": "stdout",
     "output_type": "stream",
     "text": [
      "['Python3', 'is', 'very', 'good', 'programming', 'language!']\n",
      "\n",
      "\n",
      "Python3\n",
      "\n",
      "\n",
      "Python\n",
      "\n",
      "\n",
      "3\n",
      "\n",
      "\n",
      " Python is very good programming language!\n"
     ]
    }
   ],
   "source": [
    "text = ' Python3 is very good programming language!'\n",
    "words = text.split()\n",
    "\n",
    "print(words)\n",
    "print('\\n')\n",
    "print(words[0])\n",
    "print('\\n')\n",
    "print(words[0].replace('3',''))\n",
    "print('\\n')\n",
    "numbers = ''.join(filter(str.isdigit,text))\n",
    "print(numbers)\n",
    "print('\\n')\n",
    "r_text = text.replace(\"Python3\", \"Python\")\n",
    "print(r_text)"
   ]
  },
  {
   "cell_type": "code",
   "execution_count": 43,
   "id": "42a32cc9",
   "metadata": {},
   "outputs": [],
   "source": [
    "# 연습\n",
    "text1 = 'python python'\n",
    "text2 = 'python python '\n",
    "text3 = '3python'"
   ]
  },
  {
   "cell_type": "code",
   "execution_count": 44,
   "id": "4aa37ef3",
   "metadata": {},
   "outputs": [
    {
     "data": {
      "text/plain": [
       "'python '"
      ]
     },
     "execution_count": 44,
     "metadata": {},
     "output_type": "execute_result"
    }
   ],
   "source": [
    "p = re.compile('[a-z]+\\s')\n",
    "p.match(text1).group()"
   ]
  },
  {
   "cell_type": "code",
   "execution_count": 45,
   "id": "a97fe0d6",
   "metadata": {},
   "outputs": [
    {
     "data": {
      "text/plain": [
       "'python '"
      ]
     },
     "execution_count": 45,
     "metadata": {},
     "output_type": "execute_result"
    }
   ],
   "source": [
    "re.match('[a-z]+\\s',text1).group()"
   ]
  },
  {
   "cell_type": "code",
   "execution_count": 46,
   "id": "f906444d",
   "metadata": {},
   "outputs": [
    {
     "data": {
      "text/plain": [
       "['python', 'python']"
      ]
     },
     "execution_count": 46,
     "metadata": {},
     "output_type": "execute_result"
    }
   ],
   "source": [
    "re.findall('[a-z]+',text1)"
   ]
  },
  {
   "cell_type": "code",
   "execution_count": 47,
   "id": "1aa7733b",
   "metadata": {},
   "outputs": [
    {
     "data": {
      "text/plain": [
       "['python ', 'python ']"
      ]
     },
     "execution_count": 47,
     "metadata": {},
     "output_type": "execute_result"
    }
   ],
   "source": [
    "re.findall('[a-z]+\\s',text2)"
   ]
  },
  {
   "cell_type": "code",
   "execution_count": 48,
   "id": "fe5f5cb6",
   "metadata": {},
   "outputs": [
    {
     "data": {
      "text/plain": [
       "['python ', 'python ']"
      ]
     },
     "execution_count": 48,
     "metadata": {},
     "output_type": "execute_result"
    }
   ],
   "source": [
    "p.findall(text2)"
   ]
  },
  {
   "cell_type": "code",
   "execution_count": 96,
   "id": "7d1c9124",
   "metadata": {},
   "outputs": [
    {
     "data": {
      "text/plain": [
       "'python'"
      ]
     },
     "execution_count": 96,
     "metadata": {},
     "output_type": "execute_result"
    }
   ],
   "source": [
    "# p.match(text3)\n",
    "p.search(text3).group()"
   ]
  },
  {
   "cell_type": "code",
   "execution_count": 51,
   "id": "d1089714",
   "metadata": {},
   "outputs": [
    {
     "data": {
      "text/plain": [
       "[]"
      ]
     },
     "execution_count": 51,
     "metadata": {},
     "output_type": "execute_result"
    }
   ],
   "source": [
    "p.findall(text3)"
   ]
  },
  {
   "cell_type": "code",
   "execution_count": 53,
   "id": "5979c497",
   "metadata": {},
   "outputs": [
    {
     "name": "stdout",
     "output_type": "stream",
     "text": [
      "<re.Match object; span=(1, 6), match='anker'>\n",
      "<re.Match object; span=(0, 6), match='banker'>\n"
     ]
    }
   ],
   "source": [
    "# 문자 클래스 : []\n",
    "p = re.compile('[a-z]+')\n",
    "p1 = p.search('Banker')\n",
    "p2 = p.search('banker')\n",
    "print(p1)\n",
    "print(p2)"
   ]
  },
  {
   "cell_type": "code",
   "execution_count": 73,
   "id": "1e36ee88",
   "metadata": {},
   "outputs": [
    {
     "data": {
      "text/plain": [
       "'a'"
      ]
     },
     "execution_count": 73,
     "metadata": {},
     "output_type": "execute_result"
    }
   ],
   "source": [
    "# Q. '12345abc'에서 'a'만 출력하세요.\n",
    "text = '12345abc'\n",
    "re.search('\\D{1}',text).group()"
   ]
  },
  {
   "cell_type": "code",
   "execution_count": 76,
   "id": "49d41dbb",
   "metadata": {},
   "outputs": [
    {
     "data": {
      "text/plain": [
       "'A'"
      ]
     },
     "execution_count": 76,
     "metadata": {},
     "output_type": "execute_result"
    }
   ],
   "source": [
    "# Q. 'abc12345Abc'에서 'A'만 출력하세요.\n",
    "text = 'abc12345Abc'\n",
    "re.search('[A]',text).group()"
   ]
  },
  {
   "cell_type": "code",
   "execution_count": 80,
   "id": "29933387",
   "metadata": {},
   "outputs": [
    {
     "data": {
      "text/plain": [
       "'대'"
      ]
     },
     "execution_count": 80,
     "metadata": {},
     "output_type": "execute_result"
    }
   ],
   "source": [
    "# Q. 'KEORA 대한민국'에서 '대'만 출력하세요.\n",
    "text = 'KEORA 대한민국'\n",
    "re.search('[가-힣]',text)[0]"
   ]
  },
  {
   "cell_type": "code",
   "execution_count": 86,
   "id": "6a0e8ffa",
   "metadata": {},
   "outputs": [
    {
     "data": {
      "text/plain": [
       "['122333c']"
      ]
     },
     "execution_count": 86,
     "metadata": {},
     "output_type": "execute_result"
    }
   ],
   "source": [
    "# Q. '122333c'를 모두 출력하세요.\n",
    "text = '122333c'\n",
    "re.findall('\\w{7}',text)"
   ]
  },
  {
   "cell_type": "code",
   "execution_count": 88,
   "id": "78ff086b",
   "metadata": {},
   "outputs": [
    {
     "data": {
      "text/plain": [
       "['aaaaBBBcccDDDeee']"
      ]
     },
     "execution_count": 88,
     "metadata": {},
     "output_type": "execute_result"
    }
   ],
   "source": [
    "# Q. 'aaaaBBBcccDDDeee'을 모두 출력하세요.\n",
    "text = 'aaaaBBBcccDDDeee'\n",
    "re.findall('a{4}B{3}c{3}D{3}e{3}',text)"
   ]
  },
  {
   "cell_type": "markdown",
   "id": "d9433ea7",
   "metadata": {},
   "source": [
    "#### 과제1_0425\n",
    "BC, CC, ABC 모두 C가 출력되는 정규 표현식을 ()에 작성하세요."
   ]
  },
  {
   "cell_type": "code",
   "execution_count": 3,
   "id": "e556ead4",
   "metadata": {},
   "outputs": [
    {
     "name": "stdout",
     "output_type": "stream",
     "text": [
      "C\n",
      "C\n",
      "C\n"
     ]
    }
   ],
   "source": [
    "import re\n",
    "pattern = re.compile('C')\n",
    "text1 = 'BC'\n",
    "text2 = 'CC'\n",
    "text3 = 'ABC'\n",
    "p1 = pattern.search(text1)\n",
    "p2 = pattern.search(text2)\n",
    "p3 = pattern.search(text3)\n",
    "print(p1.group())\n",
    "print(p2.group())\n",
    "print(p3.group())"
   ]
  },
  {
   "cell_type": "code",
   "execution_count": 201,
   "id": "d7c9a552",
   "metadata": {},
   "outputs": [
    {
     "name": "stdout",
     "output_type": "stream",
     "text": [
      "<re.Match object; span=(1, 6), match='anker'>\n",
      "<re.Match object; span=(0, 6), match='banker'>\n"
     ]
    }
   ],
   "source": [
    "# 문자 클래스 : []\n",
    "p = re.compile('[a-z]+')\n",
    "p1 = p.search('Banker')\n",
    "p2 = p.search('banker')\n",
    "print(p1)\n",
    "print(p2)"
   ]
  },
  {
   "cell_type": "markdown",
   "id": "cf48ced4",
   "metadata": {},
   "source": [
    "#### 과제2_0425\n",
    "'1234a1234'에서 '1','2','3','4'를 모두 출력하세요."
   ]
  },
  {
   "cell_type": "code",
   "execution_count": 208,
   "id": "4810eaeb",
   "metadata": {},
   "outputs": [
    {
     "name": "stdout",
     "output_type": "stream",
     "text": [
      "['1', '2', '3', '4', '1', '2', '3', '4']\n"
     ]
    }
   ],
   "source": [
    "text = '1234a1234'\n",
    "r = re.findall('\\d',text)\n",
    "print(r)"
   ]
  },
  {
   "cell_type": "markdown",
   "id": "c76b157e",
   "metadata": {},
   "source": [
    "#### 과제3_0425\n",
    "'99food234,a93456\\n,a9356ba'에서 '99food234'만 출력하세요."
   ]
  },
  {
   "cell_type": "code",
   "execution_count": 6,
   "id": "ef1155b6",
   "metadata": {},
   "outputs": [
    {
     "name": "stdout",
     "output_type": "stream",
     "text": [
      "99food234\n"
     ]
    }
   ],
   "source": [
    "t = '99food234,a93456\\n,a9356ba'\n",
    "r = re.search('^99\\w*',t)\n",
    "print(r.group())"
   ]
  },
  {
   "cell_type": "code",
   "execution_count": 90,
   "id": "41a1b92b",
   "metadata": {},
   "outputs": [
    {
     "name": "stdout",
     "output_type": "stream",
     "text": [
      "<re.Match object; span=(0, 4), match='life'>\n"
     ]
    }
   ],
   "source": [
    "text = 'life is too short'\n",
    "p = re.compile('[a-z]+')\n",
    "result = p.search(text)\n",
    "print(result)"
   ]
  },
  {
   "cell_type": "code",
   "execution_count": 91,
   "id": "d48c8d40",
   "metadata": {},
   "outputs": [
    {
     "name": "stdout",
     "output_type": "stream",
     "text": [
      "['life', 'is', 'too', 'short']\n"
     ]
    }
   ],
   "source": [
    "result2 = p.findall(text)\n",
    "print(result2)"
   ]
  },
  {
   "cell_type": "code",
   "execution_count": 94,
   "id": "acbd3026",
   "metadata": {},
   "outputs": [
    {
     "name": "stdout",
     "output_type": "stream",
     "text": [
      "life\n",
      "is\n",
      "too\n",
      "short\n"
     ]
    }
   ],
   "source": [
    "result3 = p.finditer(text)\n",
    "for i in result3:\n",
    "    print(i.group())"
   ]
  },
  {
   "cell_type": "code",
   "execution_count": 97,
   "id": "205da765",
   "metadata": {},
   "outputs": [
    {
     "data": {
      "text/plain": [
       "['Python', 'is', 'very', 'good', 'programming', 'language']"
      ]
     },
     "execution_count": 97,
     "metadata": {},
     "output_type": "execute_result"
    }
   ],
   "source": [
    "# 모든 문자 출력 : findall, finditer\n",
    "text = ' Python3 is very good programming language!'\n",
    "re.findall('[a-zA-Z]+',text)"
   ]
  },
  {
   "cell_type": "code",
   "execution_count": 99,
   "id": "789979a2",
   "metadata": {},
   "outputs": [
    {
     "name": "stdout",
     "output_type": "stream",
     "text": [
      "Python\n",
      "is\n",
      "very\n",
      "good\n",
      "programming\n",
      "language\n"
     ]
    }
   ],
   "source": [
    "result = re.finditer('[a-zA-Z]+',text)\n",
    "for r in result:\n",
    "    print(r.group())"
   ]
  },
  {
   "cell_type": "code",
   "execution_count": 103,
   "id": "5313887a",
   "metadata": {},
   "outputs": [
    {
     "name": "stdout",
     "output_type": "stream",
     "text": [
      "life\n",
      "None\n",
      "None\n"
     ]
    }
   ],
   "source": [
    "# match\n",
    "text1 = 'life'\n",
    "text2 = '!!!oh my life'\n",
    "text3 = '7 is lucky number'\n",
    "print(re.match('[a-z]+',text1).group())\n",
    "print(re.match('[a-z]+',text2))\n",
    "print(re.match('[a-z]+',text3))"
   ]
  },
  {
   "cell_type": "code",
   "execution_count": 112,
   "id": "c33d28fe",
   "metadata": {},
   "outputs": [
    {
     "name": "stdout",
     "output_type": "stream",
     "text": [
      "<re.Match object; span=(0, 6), match='python'>\n",
      "python\n",
      "0\n",
      "6\n",
      "(0, 6)\n"
     ]
    }
   ],
   "source": [
    "# match 객체의 메서드\n",
    "m = re.match('[a-z]+','python')\n",
    "print(m)\n",
    "print(m.group())\n",
    "print(m.start())\n",
    "print(m.end())\n",
    "print(m.span())"
   ]
  },
  {
   "cell_type": "code",
   "execution_count": 114,
   "id": "234f3301",
   "metadata": {},
   "outputs": [
    {
     "name": "stdout",
     "output_type": "stream",
     "text": [
      "<re.Match object; span=(2, 8), match='python'>\n",
      "python\n",
      "2\n",
      "8\n",
      "(2, 8)\n"
     ]
    }
   ],
   "source": [
    "# search 객체의 메서드\n",
    "m = re.search('[a-z]+','3 python')\n",
    "print(m)\n",
    "print(m.group())\n",
    "print(m.start())\n",
    "print(m.end())\n",
    "print(m.span())"
   ]
  },
  {
   "cell_type": "code",
   "execution_count": 118,
   "id": "cb77793f",
   "metadata": {},
   "outputs": [
    {
     "name": "stdout",
     "output_type": "stream",
     "text": [
      "None\n",
      "<re.Match object; span=(0, 3), match='acb'>\n",
      "<re.Match object; span=(0, 6), match='a12?Ab'>\n"
     ]
    }
   ],
   "source": [
    "# Dot(.) 메타 문자는 줄바꿈 문자(\\n)을 제외한 모든 문자와 매치\n",
    "text = ['a\\nd', 'acb', 'a12?Ab']\n",
    "for t in text:\n",
    "    r = re.match('a.+b',t)\n",
    "    print(r)"
   ]
  },
  {
   "cell_type": "code",
   "execution_count": 119,
   "id": "c54b45be",
   "metadata": {},
   "outputs": [
    {
     "name": "stdout",
     "output_type": "stream",
     "text": [
      "<re.Match object; span=(0, 3), match='a\\nb'>\n"
     ]
    }
   ],
   "source": [
    "# re.DOTALL 옵션은 여러 줄로 이루어진 문자열에서 \\n에 상관없이 검색시 사용\n",
    "p = re.compile('a.b',re.DOTALL)\n",
    "m = p.match('a\\nb')\n",
    "print(m)"
   ]
  },
  {
   "cell_type": "code",
   "execution_count": 120,
   "id": "989d2d56",
   "metadata": {},
   "outputs": [
    {
     "name": "stdout",
     "output_type": "stream",
     "text": [
      "what are you doing?\n"
     ]
    }
   ],
   "source": [
    "text = 'what are you doing?\\n it is going to be late for school'\n",
    "p = re.compile('.*')\n",
    "m = p.search(text)\n",
    "print(m.group())"
   ]
  },
  {
   "cell_type": "code",
   "execution_count": 121,
   "id": "1aecf52d",
   "metadata": {},
   "outputs": [
    {
     "name": "stdout",
     "output_type": "stream",
     "text": [
      "what are you doing?\n",
      " it is going to be late for school\n"
     ]
    }
   ],
   "source": [
    "text = 'what are you doing?\\n it is going to be late for school'\n",
    "p = re.compile('.*',re.DOTALL)\n",
    "m = p.search(text)\n",
    "print(m.group())"
   ]
  },
  {
   "cell_type": "markdown",
   "id": "ab24a626",
   "metadata": {},
   "source": [
    "#### 과제4_0425\n",
    "text에서 전체 문장 모두 출력하세요."
   ]
  },
  {
   "cell_type": "code",
   "execution_count": null,
   "id": "f6d14a14",
   "metadata": {},
   "outputs": [],
   "source": [
    "text = 'what are you doing?\\n it is going to be late for school'\n",
    "       '\\nwe need to hurry up'"
   ]
  },
  {
   "cell_type": "code",
   "execution_count": null,
   "id": "74a7072c",
   "metadata": {},
   "outputs": [],
   "source": []
  },
  {
   "cell_type": "code",
   "execution_count": 125,
   "id": "5d3b7d61",
   "metadata": {},
   "outputs": [
    {
     "data": {
      "text/plain": [
       "'pAthon'"
      ]
     },
     "execution_count": 125,
     "metadata": {},
     "output_type": "execute_result"
    }
   ],
   "source": [
    "# re.IGNORECASE 또는 re.I 옵션은 대소문자 구분 없이 매치를 수행시 사용\n",
    "re.match('[a-z]+', 'pAthon', re.I).group()"
   ]
  },
  {
   "cell_type": "markdown",
   "id": "9ca8c4df",
   "metadata": {},
   "source": [
    "#### 과제5_0425\n",
    "아래 text에 내용을 모두 출력하세요.\n",
    "\n",
    "text = ['pAthon', 'PATHON', 'pathon', 'Pathon']"
   ]
  },
  {
   "cell_type": "code",
   "execution_count": null,
   "id": "061e010a",
   "metadata": {},
   "outputs": [],
   "source": [
    "text = [\"pAthon\",\"PATHON\",\"pathon\",\"Pathon\"]\n",
    "text1 = \" \".join(text)\n",
    "\n",
    "pattern = \"[a-z]+\"\n",
    "\n",
    "re.findall(pattern, text1, re.I)"
   ]
  },
  {
   "cell_type": "code",
   "execution_count": null,
   "id": "b2221702",
   "metadata": {},
   "outputs": [],
   "source": [
    "text = ['pYthon', 'PYTHON', 'python', 'Python']\n",
    "for i in text:\n",
    "    print(re.search('[a-z]+', i, re.I)[0])"
   ]
  },
  {
   "cell_type": "code",
   "execution_count": 131,
   "id": "ef62fe6b",
   "metadata": {},
   "outputs": [
    {
     "name": "stdout",
     "output_type": "stream",
     "text": [
      "Friend\n",
      "fRiend\n",
      "friEnd\n",
      "FRIEND\n"
     ]
    }
   ],
   "source": [
    "# Q. text에서 대소문자 구분없이 전체문장 모두 출력하세요.\n",
    "text = 'Friend fRiend friEnd FRIEND'\n",
    "list = re.findall('friend',text,re.I)\n",
    "for i in list:\n",
    "    print(i)"
   ]
  },
  {
   "cell_type": "code",
   "execution_count": 136,
   "id": "2667138d",
   "metadata": {},
   "outputs": [],
   "source": [
    "data = \"\"\"python one\n",
    "life is too short\n",
    "python  two\n",
    "you need python\n",
    "python three\"\"\""
   ]
  },
  {
   "cell_type": "code",
   "execution_count": 137,
   "id": "96d73a8d",
   "metadata": {},
   "outputs": [
    {
     "data": {
      "text/plain": [
       "['python one']"
      ]
     },
     "execution_count": 137,
     "metadata": {},
     "output_type": "execute_result"
    }
   ],
   "source": [
    "# python이라는 문자열로 시작하고 그 뒤에 whitespace, 그뒤에 단어가 오는 경우\n",
    "re.findall('^python\\s\\w+',data)"
   ]
  },
  {
   "cell_type": "code",
   "execution_count": 138,
   "id": "02c8afe4",
   "metadata": {},
   "outputs": [
    {
     "data": {
      "text/plain": [
       "['python one', 'python  two', 'python three']"
      ]
     },
     "execution_count": 138,
     "metadata": {},
     "output_type": "execute_result"
    }
   ],
   "source": [
    "# re.MULTILINE 또는 re.M옵션으로 ^메타 문자를 각 라인의 처음으로 인식시킴\n",
    "re.findall('^python\\s+\\w+',data, re.M)"
   ]
  },
  {
   "cell_type": "code",
   "execution_count": null,
   "id": "1781e379",
   "metadata": {},
   "outputs": [],
   "source": [
    "# re.VERBOSE 또는 re.X : 이해하기 어려운 정규식을 주석 또는 라인 단위로 구분\n",
    "# charref = re.compile(r'&[#](0[0-7]+|[0-9]+|x[0-9a-fA-F]+);')\n",
    "charref = re.compile(r\"\"\"\n",
    "&[#]               # Start of a numeric entity reference\n",
    "(\n",
    "    0[0-7]+        # Octal form\n",
    "  | [0-9]+         # Decimal form \n",
    "  | x[0-9a-fA-F]+  # Hexadecimal form\n",
    ")\n",
    ";                  # Trailing semicolon \n",
    "\"\"\",re.VERBOSE)"
   ]
  },
  {
   "cell_type": "code",
   "execution_count": 139,
   "id": "7d7726ce",
   "metadata": {},
   "outputs": [
    {
     "data": {
      "text/plain": [
       "<re.Match object; span=(0, 8), match='\\\\section'>"
      ]
     },
     "execution_count": 139,
     "metadata": {},
     "output_type": "execute_result"
    }
   ],
   "source": [
    "# 파이썬 문자열 리터럴 규칙에 의하여 \\\\이 \\으로 변경되어 \\section이 전달\n",
    "# 정규식 문자열 앞에 r문자를 삽입하면 Raw String 규칙에 의하여 백슬래시 2개 대신 1개 사용\n",
    "p = re.compile(r'\\\\section')\n",
    "p.match('\\section')\n",
    "# p.findall('\\section\\section')"
   ]
  },
  {
   "cell_type": "code",
   "execution_count": 140,
   "id": "dc1513e7",
   "metadata": {},
   "outputs": [
    {
     "data": {
      "text/plain": [
       "'Crow'"
      ]
     },
     "execution_count": 140,
     "metadata": {},
     "output_type": "execute_result"
    }
   ],
   "source": [
    "# |(or와 동일한 의미)\n",
    "re.match('Crow|Servo', 'CrowHello').group()"
   ]
  },
  {
   "cell_type": "code",
   "execution_count": 141,
   "id": "02cb6b69",
   "metadata": {},
   "outputs": [
    {
     "data": {
      "text/plain": [
       "'Life'"
      ]
     },
     "execution_count": 141,
     "metadata": {},
     "output_type": "execute_result"
    }
   ],
   "source": [
    "# ^(문자열의 맨처음)\n",
    "re.search('^Life', 'Life is too short').group()"
   ]
  },
  {
   "cell_type": "code",
   "execution_count": 142,
   "id": "a2bdcd14",
   "metadata": {},
   "outputs": [
    {
     "data": {
      "text/plain": [
       "'Life'"
      ]
     },
     "execution_count": 142,
     "metadata": {},
     "output_type": "execute_result"
    }
   ],
   "source": [
    "# $(문자열의 끝과 매치)\n",
    "re.search('Life$', 'My Life').group()"
   ]
  },
  {
   "cell_type": "code",
   "execution_count": 143,
   "id": "ba949fd2",
   "metadata": {},
   "outputs": [
    {
     "data": {
      "text/plain": [
       "['Life', 'Life']"
      ]
     },
     "execution_count": 143,
     "metadata": {},
     "output_type": "execute_result"
    }
   ],
   "source": [
    "re.findall('^Life|Life$', 'Life My Life')"
   ]
  },
  {
   "cell_type": "code",
   "execution_count": 145,
   "id": "0c68ed01",
   "metadata": {},
   "outputs": [
    {
     "data": {
      "text/plain": [
       "['Life']"
      ]
     },
     "execution_count": 145,
     "metadata": {},
     "output_type": "execute_result"
    }
   ],
   "source": [
    "# \\A : 문자열의 처음과 매치. 단, re.MULTILINE 옵션 사용시 ^와은 달리 전체 문자열의 처음하고만 매치\n",
    "data = \"\"\"Life is too short\n",
    "Life is good\n",
    "Life is valuable\"\"\"\n",
    "re.findall('\\ALife', data, re.M)"
   ]
  },
  {
   "cell_type": "code",
   "execution_count": 151,
   "id": "9760bbec",
   "metadata": {},
   "outputs": [
    {
     "data": {
      "text/plain": [
       "['good']"
      ]
     },
     "execution_count": 151,
     "metadata": {},
     "output_type": "execute_result"
    }
   ],
   "source": [
    "# \\Z : 문자열의 처음과 매치. 단, re.MULTILINE 옵션 사용시 $와은 달리 전체 문자열의 끝하고만 매치\n",
    "data = data1 = \"\"\"Life is too short\n",
    "Life is good\n",
    "Life is very good\"\"\"\n",
    "\n",
    "re.findall('good\\Z', data, re.M)"
   ]
  },
  {
   "cell_type": "code",
   "execution_count": 152,
   "id": "d7b348ce",
   "metadata": {},
   "outputs": [
    {
     "data": {
      "text/plain": [
       "['home']"
      ]
     },
     "execution_count": 152,
     "metadata": {},
     "output_type": "execute_result"
    }
   ],
   "source": [
    "# Q. 'we are going home'에서 home만 출력하세요.\n",
    "text = 'we are going home'\n",
    "re.findall('home\\Z',text)"
   ]
  },
  {
   "cell_type": "code",
   "execution_count": 154,
   "id": "4d94e7e8",
   "metadata": {},
   "outputs": [
    {
     "data": {
      "text/plain": [
       "['home']"
      ]
     },
     "execution_count": 154,
     "metadata": {},
     "output_type": "execute_result"
    }
   ],
   "source": [
    "# Q. 'home sweet' 에서 home만 출력하세요.\n",
    "text = 'home sweet'\n",
    "re.findall('\\Ahome',text)"
   ]
  },
  {
   "cell_type": "code",
   "execution_count": 155,
   "id": "801f3031",
   "metadata": {},
   "outputs": [
    {
     "data": {
      "text/plain": [
       "['199305']"
      ]
     },
     "execution_count": 155,
     "metadata": {},
     "output_type": "execute_result"
    }
   ],
   "source": [
    "# Q. '199305, 1923A, a93247'에서 '199305'만 출력하세요.\n",
    "text = '199305, 1923A, a93247'\n",
    "re.findall('\\A199305', text)"
   ]
  },
  {
   "cell_type": "code",
   "execution_count": 158,
   "id": "ef107a77",
   "metadata": {},
   "outputs": [
    {
     "data": {
      "text/plain": [
       "'199305'"
      ]
     },
     "execution_count": 158,
     "metadata": {},
     "output_type": "execute_result"
    }
   ],
   "source": [
    "re.findall('\\d+',text)[1]"
   ]
  },
  {
   "cell_type": "code",
   "execution_count": 159,
   "id": "d17ca631",
   "metadata": {},
   "outputs": [
    {
     "data": {
      "text/plain": [
       "['199305']"
      ]
     },
     "execution_count": 159,
     "metadata": {},
     "output_type": "execute_result"
    }
   ],
   "source": [
    "re.findall('\\d{6}',text)"
   ]
  },
  {
   "cell_type": "code",
   "execution_count": 161,
   "id": "1fa2720a",
   "metadata": {},
   "outputs": [
    {
     "data": {
      "text/plain": [
       "['199305']"
      ]
     },
     "execution_count": 161,
     "metadata": {},
     "output_type": "execute_result"
    }
   ],
   "source": [
    "re.findall('(\\d+),',text)"
   ]
  },
  {
   "cell_type": "code",
   "execution_count": 164,
   "id": "baabf986",
   "metadata": {},
   "outputs": [
    {
     "data": {
      "text/plain": [
       "'class'"
      ]
     },
     "execution_count": 164,
     "metadata": {},
     "output_type": "execute_result"
    }
   ],
   "source": [
    "# \\b : whitespace에 의해 구분\n",
    "text1 = 'no class at all'\n",
    "re.search(r'\\bclass\\b',text1).group()"
   ]
  },
  {
   "cell_type": "code",
   "execution_count": 165,
   "id": "6dbfc1ac",
   "metadata": {},
   "outputs": [
    {
     "data": {
      "text/plain": [
       "'class'"
      ]
     },
     "execution_count": 165,
     "metadata": {},
     "output_type": "execute_result"
    }
   ],
   "source": [
    "# \\B : whitespace로 구분된 단어가 아닌 경우에만 매치\n",
    "text2 = 'the dsclassified algorithim'\n",
    "re.search(r'\\Bclass\\B', text2).group()"
   ]
  },
  {
   "cell_type": "code",
   "execution_count": 169,
   "id": "bd5a53b8",
   "metadata": {},
   "outputs": [
    {
     "data": {
      "text/plain": [
       "['에러 1122', '에러 1033', '에러 xxx']"
      ]
     },
     "execution_count": 169,
     "metadata": {},
     "output_type": "execute_result"
    }
   ],
   "source": [
    "# Q. 정규표현식을 사용하여 text에서 에러가 들어간 부분만 포함하는 리스트를 출력하세요.\n",
    "text = '에러 1122, 레퍼런스 오류, 에러 1033, 아규먼트 오류, 에러 xxx'\n",
    "re.findall(r'에러\\s[^,]+',text)\n",
    "re.findall(r'에러\\s\\w+',text)"
   ]
  },
  {
   "cell_type": "markdown",
   "id": "4e128fd2",
   "metadata": {},
   "source": [
    "#### 과제6_0425\n",
    "(     )에 정규표현식을 작성하여 아래와 같이 출력하세요.\n",
    "\n",
    "\n",
    "['1 apple', '5 oranges', '3 boys', '4 girls', '10 army', '11 mr']"
   ]
  },
  {
   "cell_type": "code",
   "execution_count": 2,
   "id": "dc627b08",
   "metadata": {},
   "outputs": [
    {
     "name": "stdout",
     "output_type": "stream",
     "text": [
      "['1 apple', '5 oranges', '3 boys', '4 girls', '10 army', '11 mr']\n"
     ]
    }
   ],
   "source": [
    "import re\n",
    "li = '1 apple, 5 oranges, 3 boys, 4 girls; 10 army| 11 mr'\n",
    "regex = re.compile(r'\\d+\\s\\w+')\n",
    "list = regex.findall(li)\n",
    "print(list)"
   ]
  },
  {
   "cell_type": "markdown",
   "id": "b09f4f7e",
   "metadata": {},
   "source": [
    "#### 과제7_0625\n",
    "text에서 다음을 수행하세요.\n",
    "\n",
    "- 'H,h'만 출력하세요.\n",
    "- 'H,h'가 아닌 것 모두를 출력하세요."
   ]
  },
  {
   "cell_type": "code",
   "execution_count": 8,
   "id": "4eb775ef",
   "metadata": {},
   "outputs": [
    {
     "name": "stdout",
     "output_type": "stream",
     "text": [
      "['H', 'h', 'h']\n"
     ]
    },
    {
     "ename": "TypeError",
     "evalue": "'list' object is not callable",
     "output_type": "error",
     "traceback": [
      "\u001b[1;31m---------------------------------------------------------------------------\u001b[0m",
      "\u001b[1;31mTypeError\u001b[0m                                 Traceback (most recent call last)",
      "\u001b[1;32m~\\AppData\\Local\\Temp\\ipykernel_10584\\2751432048.py\u001b[0m in \u001b[0;36m<module>\u001b[1;34m\u001b[0m\n\u001b[0;32m      2\u001b[0m \u001b[0mr\u001b[0m \u001b[1;33m=\u001b[0m \u001b[0mre\u001b[0m\u001b[1;33m.\u001b[0m\u001b[0mfindall\u001b[0m\u001b[1;33m(\u001b[0m\u001b[1;34mr'[Hh]'\u001b[0m\u001b[1;33m,\u001b[0m\u001b[0mtext\u001b[0m\u001b[1;33m)\u001b[0m\u001b[1;33m\u001b[0m\u001b[1;33m\u001b[0m\u001b[0m\n\u001b[0;32m      3\u001b[0m \u001b[0mprint\u001b[0m\u001b[1;33m(\u001b[0m\u001b[0mr\u001b[0m\u001b[1;33m)\u001b[0m\u001b[1;33m\u001b[0m\u001b[1;33m\u001b[0m\u001b[0m\n\u001b[1;32m----> 4\u001b[1;33m \u001b[0mlist\u001b[0m\u001b[1;33m(\u001b[0m\u001b[0mre\u001b[0m\u001b[1;33m.\u001b[0m\u001b[0msub\u001b[0m\u001b[1;33m(\u001b[0m\u001b[1;34m'[Hh]'\u001b[0m\u001b[1;33m,\u001b[0m\u001b[1;34m''\u001b[0m\u001b[1;33m,\u001b[0m\u001b[0mtext\u001b[0m\u001b[1;33m)\u001b[0m\u001b[1;33m)\u001b[0m\u001b[1;33m\u001b[0m\u001b[1;33m\u001b[0m\u001b[0m\n\u001b[0m",
      "\u001b[1;31mTypeError\u001b[0m: 'list' object is not callable"
     ]
    }
   ],
   "source": [
    "text = 'Hello my friend! Life is short you need Python!'\n",
    "r = re.findall(r'[Hh]',text)\n",
    "print(r)\n",
    "list(re.sub('[Hh]','',text))"
   ]
  },
  {
   "cell_type": "code",
   "execution_count": 175,
   "id": "82af1aaf",
   "metadata": {},
   "outputs": [
    {
     "name": "stdout",
     "output_type": "stream",
     "text": [
      "<re.Match object; span=(0, 9), match='ABCABCABC'>\n",
      "ABCABCABC\n",
      "ABC\n"
     ]
    }
   ],
   "source": [
    "# 그룹핑\n",
    "# group(0) 매치된 전체 문자열, 1 첫번쨰 그룹, 2 두번쨰 그룹, n n번쨰 그룹\n",
    "text = 'ABCABCABC OK?'\n",
    "m = re.search('(ABC)+',text)\n",
    "print(m)\n",
    "print(m.group(0))\n",
    "print(m.group(1))"
   ]
  },
  {
   "cell_type": "code",
   "execution_count": null,
   "id": "4c192ebb",
   "metadata": {},
   "outputs": [],
   "source": [
    "# Q. text에서 그룹핑을 사용하여 아래와 같이 출력하세요.\n",
    "ABCDEF\n",
    "ABCDEF\n",
    "AB\n",
    "CD\n",
    "EF"
   ]
  },
  {
   "cell_type": "code",
   "execution_count": 180,
   "id": "b5b80d47",
   "metadata": {},
   "outputs": [
    {
     "name": "stdout",
     "output_type": "stream",
     "text": [
      "ABCDEF\n",
      "ABCDEF\n",
      "AB\n",
      "CD\n",
      "EF\n"
     ]
    }
   ],
   "source": [
    "text = 'EDFABCDEFDEF OK?'\n",
    "m = re.search('((AB)(CD)(EF))+',text)\n",
    "print(m.group(0))\n",
    "print(m.group(1))\n",
    "print(m.group(2))\n",
    "print(m.group(3))\n",
    "print(m.group(4))"
   ]
  },
  {
   "cell_type": "markdown",
   "id": "509a8270",
   "metadata": {},
   "source": [
    "#### 과제8_0425\n",
    "정규표현식을 사용하여 text에서 지역코드만 출력하세요.\n",
    "- 지역코드만 출력하세요.\n",
    "- 지역코드 제외한 번호만 출력하세요.\n",
    "\n",
    "text = '문의사항이 있으면 032-232-3245 로 연락주시기 바랍니다.'"
   ]
  },
  {
   "cell_type": "code",
   "execution_count": null,
   "id": "ca8f453a",
   "metadata": {},
   "outputs": [],
   "source": []
  },
  {
   "cell_type": "code",
   "execution_count": 184,
   "id": "4b5bcb1c",
   "metadata": {},
   "outputs": [
    {
     "name": "stdout",
     "output_type": "stream",
     "text": [
      "<re.Match object; span=(0, 18), match='park 010-1234-1234'>\n",
      "park 010-1234-1234\n",
      "park\n",
      "010-1234-1234\n",
      "010\n"
     ]
    }
   ],
   "source": [
    "text = 'park 010-1234-1234'\n",
    "m = re.search(r'(\\w+)\\s+((\\d+)[-]\\d+[-]\\d+)',text)\n",
    "print(m)\n",
    "print(m.group(0))\n",
    "print(m.group(1))\n",
    "print(m.group(2))\n",
    "print(m.group(3))"
   ]
  },
  {
   "cell_type": "code",
   "execution_count": 186,
   "id": "fb4da8d3",
   "metadata": {},
   "outputs": [
    {
     "data": {
      "text/plain": [
       "'very very'"
      ]
     },
     "execution_count": 186,
     "metadata": {},
     "output_type": "execute_result"
    }
   ],
   "source": [
    "# 그룹핑된 문자열 재참조\n",
    "# \\1은 재참조 메타 문자로서 정규식의 첫번째 그룹을 지칭 - 2개의 동일한 단어가 연속적으로 사용되어야 매치\n",
    "# Q. 'Paris is very very beautiful'에서 'very very'를 출력하세요.\n",
    "text = 'Paris is very very beautiful'\n",
    "re.search(r'\\b(\\w+)\\s+\\1',text).group()"
   ]
  },
  {
   "cell_type": "markdown",
   "id": "c609c0d8",
   "metadata": {},
   "source": [
    "#### 과제9_0425\n",
    "아래 text에서 정규표현식을 사용하여 'the the the'를 출력하세요."
   ]
  },
  {
   "cell_type": "code",
   "execution_count": 255,
   "id": "fbf413f4",
   "metadata": {},
   "outputs": [
    {
     "data": {
      "text/plain": [
       "'the the the'"
      ]
     },
     "execution_count": 255,
     "metadata": {},
     "output_type": "execute_result"
    }
   ],
   "source": [
    "text = 'Paris in the the the spring'\n",
    "re.search(r'\\b(\\w+)\\s+\\1\\s+\\1',text).group()"
   ]
  },
  {
   "cell_type": "code",
   "execution_count": 189,
   "id": "382fdb0f",
   "metadata": {},
   "outputs": [
    {
     "name": "stdout",
     "output_type": "stream",
     "text": [
      "abcdefghij\n",
      "abcdefghi\n",
      "bcdefgh\n",
      "cdefg\n",
      "def\n",
      "e\n"
     ]
    }
   ],
   "source": [
    "# Q. 'abcdefghij'에 대하여 중첩을 적용한 서브그룹 5개로 컴파일하여 group()함수를 이용하여\n",
    "# 'abcdefghi'와 'e'를 출력하세요.\n",
    "\n",
    "t = 'abcdefghij'\n",
    "m = re.search(r'(a(b(c(d(e)f)g)h)i)j',t)\n",
    "print(m.group(0))\n",
    "print(m.group(1))\n",
    "print(m.group(2))\n",
    "print(m.group(3))\n",
    "print(m.group(4))\n",
    "print(m.group(5))"
   ]
  },
  {
   "cell_type": "code",
   "execution_count": 188,
   "id": "29f27333",
   "metadata": {},
   "outputs": [
    {
     "name": "stdout",
     "output_type": "stream",
     "text": [
      "('abcdefghi', 'bcdefgh', 'cdefg', 'def', 'e')\n"
     ]
    }
   ],
   "source": [
    "# Q. 위 문제에서 모든 서브 그룹에 대한 문자열을 포함하는 튜플을 출력하세요.\n",
    "print(m.groups())"
   ]
  },
  {
   "cell_type": "markdown",
   "id": "7032cc5c",
   "metadata": {},
   "source": [
    "#### 그룹핑된 문자열에 이름 붙이기\n",
    "- 정규표현식에서 그룹핑된 문자열에 이름을 붙이는 방법은 (?P$<name>$pattern)형식을 사용하는 것입니다. 이 때 name은 그룹에 붙일 이름이며 pattern은 그룹화할 정규식 패턴입니다."
   ]
  },
  {
   "cell_type": "code",
   "execution_count": 193,
   "id": "18e6e05b",
   "metadata": {},
   "outputs": [
    {
     "data": {
      "text/plain": [
       "'123-456-7890'"
      ]
     },
     "execution_count": 193,
     "metadata": {},
     "output_type": "execute_result"
    }
   ],
   "source": [
    "text = \"John's phone number is 123-456-7890.\"\n",
    "p = r'(?P<phone>\\d{3}-\\d{3}-\\d{4})'\n",
    "m = re.search(p, text)\n",
    "m.group('phone')"
   ]
  },
  {
   "cell_type": "markdown",
   "id": "6cdac6dc",
   "metadata": {},
   "source": [
    "#### 과제10_0425\n",
    "이름으로 그룹을 참조하여 text에서 Lots를 출력하세에요.\n",
    "\n",
    "text = 'Lots of punctuation Lots of punctuation'"
   ]
  },
  {
   "cell_type": "code",
   "execution_count": 22,
   "id": "42f9f8ed",
   "metadata": {},
   "outputs": [
    {
     "data": {
      "text/plain": [
       "'park'"
      ]
     },
     "execution_count": 22,
     "metadata": {},
     "output_type": "execute_result"
    }
   ],
   "source": [
    "# 그룹핑된 문자열에 이름 붙이기 : 확장 구문 (?P<name>\\w+)\n",
    "text = 'park 010-1234-1234'\n",
    "p = re.compile(r'(?P<name>\\w+)\\s+((\\d+)[-]\\d+[-]\\d+)')\n",
    "m = p.search(text)\n",
    "m.group('name')"
   ]
  },
  {
   "cell_type": "code",
   "execution_count": 23,
   "id": "c89c81ec",
   "metadata": {},
   "outputs": [
    {
     "data": {
      "text/plain": [
       "'the the'"
      ]
     },
     "execution_count": 23,
     "metadata": {},
     "output_type": "execute_result"
    }
   ],
   "source": [
    "# Q. 아래 text에서 그룹명 word를 이용하여 'the the'를 출력하세요.\n",
    "text = 'Paris in the the spring'\n",
    "\n",
    "p = re.compile('(?P<word>\\w+)\\s+(?P=word)')\n",
    "re.search(p,text).group()"
   ]
  },
  {
   "cell_type": "markdown",
   "id": "3c87eba6",
   "metadata": {},
   "source": [
    "#### 전방탐색\n",
    "- 전방탐색(Positive Lookahead)은 정규식에서 매치할 문자열의 앞쪽을 일치시키는 것입니다. 하지만 일치시킨 문자열은 검색 대상에서 제외됩니다. 이를 사용하면 특정 문자열 패턴 뒤에 오는 문자열을 매치할 때 유용합니다."
   ]
  },
  {
   "cell_type": "markdown",
   "id": "75e78fd4",
   "metadata": {},
   "source": [
    "#### 긍정탐색\n",
    "\n",
    "긍정 탐색은 조건을 충족하는 부분을 찾을 때 사용됩니다. 이것은 일치하는 부분을 포함하고 일치하지 않는 부분을 탐색 결과에서 제외합니다. 긍정 탐색은 (?=...) 구문을 사용하여 정규식 안에서 표현됩니다. \n",
    "\n",
    "#### 부정탐색\n",
    "\n",
    "부정 탐색은 일치하지 않는 부분을 찾을 때 사용됩니다. 이것은 일치하지 않는 부분을 포함하지만, 탐색 결과에서 일치하는 부분을 제외합니다. 부정 탐색은 (?!...) 구문을 사용하여 정규식 안에서 표현됩니다."
   ]
  },
  {
   "cell_type": "code",
   "execution_count": 11,
   "id": "d861574c",
   "metadata": {},
   "outputs": [
    {
     "name": "stdout",
     "output_type": "stream",
     "text": [
      "http:\n",
      "\n",
      "http\n"
     ]
    }
   ],
   "source": [
    "import re\n",
    "text = 'http://google.com'\n",
    "p = re.compile(r'.+:')\n",
    "m = p.search(text)\n",
    "print(m.group())\n",
    "print()\n",
    "p = re.compile(r'.+(?=:)')   # :에 해당되는 문자열이 정규식 엔진에 의해 소모되지 않음(검색에는 포함되지만 결과에는 포함되지않음?)\n",
    "m1 = p.search(text)\n",
    "print(m1.group())"
   ]
  },
  {
   "cell_type": "code",
   "execution_count": 12,
   "id": "2474c9db",
   "metadata": {},
   "outputs": [
    {
     "data": {
      "text/plain": [
       "[', ', ', ']"
      ]
     },
     "execution_count": 12,
     "metadata": {},
     "output_type": "execute_result"
    }
   ],
   "source": [
    "# Q. text에서 ','만 출력하세요.\n",
    "text = 'I love Python, Java, and JavaScript.'\n",
    "p = re.compile(r'(?=.+),\\s')\n",
    "\n",
    "re.findall(p,text)"
   ]
  },
  {
   "cell_type": "code",
   "execution_count": 14,
   "id": "964b5bd7",
   "metadata": {},
   "outputs": [
    {
     "name": "stdout",
     "output_type": "stream",
     "text": [
      "foo.exe\n",
      "autoexec.bat\n",
      "sendmail.cf\n"
     ]
    }
   ],
   "source": [
    "list = ['foo.exe', 'autoexec.bat', 'sendmail.cf']\n",
    "p = re.compile('.*[.].*$')\n",
    "for i in list:\n",
    "    if p.match(i):\n",
    "        print(i)"
   ]
  },
  {
   "cell_type": "code",
   "execution_count": 15,
   "id": "728f5dfd",
   "metadata": {},
   "outputs": [
    {
     "name": "stdout",
     "output_type": "stream",
     "text": [
      "sendmail.cf\n"
     ]
    }
   ],
   "source": [
    "# Q. 상기 매칭에서 부정탐색을 사용하여 sendmail.cf만 출력하세요.\n",
    "p = re.compile('.*[.](?!bat$|exe$)')\n",
    "for i in list:\n",
    "    if p.match(i):\n",
    "        print(i)"
   ]
  },
  {
   "cell_type": "markdown",
   "id": "a8f8b235",
   "metadata": {},
   "source": [
    "#### 과제1_0426\n",
    "아래 text에서 [\"file1.txt\" \"file2.pdf\" \"file3.docx\" \"file4.xlsx\"]만 출력하세요."
   ]
  },
  {
   "cell_type": "code",
   "execution_count": 36,
   "id": "c482fcb5",
   "metadata": {},
   "outputs": [
    {
     "name": "stdout",
     "output_type": "stream",
     "text": [
      "['file1.txt', 'file2.pdf', 'file3.docx', 'file4.xlsx']\n"
     ]
    }
   ],
   "source": [
    "text = \"file1.txt file2.pdf file3.docx file4.xlsx\"\n",
    "p = re.findall(r'\\w+.\\w+',text)\n",
    "print(p)"
   ]
  },
  {
   "cell_type": "code",
   "execution_count": 62,
   "id": "d66e98ee",
   "metadata": {},
   "outputs": [
    {
     "data": {
      "text/plain": [
       "'gmail.com'"
      ]
     },
     "execution_count": 62,
     "metadata": {},
     "output_type": "execute_result"
    }
   ],
   "source": [
    "# (?<=@)는 전방탐색으로, @ 기호 이후에 오는 문자열을 찾음\n",
    "# [\\w.]+는 도메인 이름을 나타내는 패턴으로, 알파벳 대소문자, 숫자, 밑줄, 마침표를 포함\n",
    "# (?!\\d+)는 부정 탐색으로, 도메인 이름 이후에 오는 .com, .org 등의 문자열을 제외\n",
    "email = \"example@gmail.com\"\n",
    "p = r'(?<=@)[\\w.]+(?!\\d+)'\n",
    "re.search(p,email).group()"
   ]
  },
  {
   "cell_type": "markdown",
   "id": "b3234a6a",
   "metadata": {},
   "source": [
    "#### 과제2_0426\n",
    "아래 email에서 정규표현식 (?<=@)을 이용하여 example만 출력하세요.\n",
    "\n",
    "email = 'john.doe@example.com'"
   ]
  },
  {
   "cell_type": "code",
   "execution_count": 63,
   "id": "c7cbb3f0",
   "metadata": {},
   "outputs": [
    {
     "name": "stdout",
     "output_type": "stream",
     "text": [
      "example\n"
     ]
    }
   ],
   "source": [
    "email = 'john.doe@example.com'\n",
    "p = re.search(r'(?<=@)[\\w]+',email).group()\n",
    "print(p)"
   ]
  },
  {
   "cell_type": "code",
   "execution_count": 24,
   "id": "e0d6ebe9",
   "metadata": {},
   "outputs": [
    {
     "name": "stdout",
     "output_type": "stream",
     "text": [
      "colour socks and colour shoes\n",
      "colour socks and red shoes\n",
      "('colour socks and colour shoes', 2)\n"
     ]
    }
   ],
   "source": [
    "# sub 메서드를 사용하면 정규식과 매치되는 부분을 다른 문자로 쉽게 바꿀 수 있음\n",
    "text = 'blue socks and red shoes'\n",
    "p = re.compile('(blue|white|red)')\n",
    "print(p.sub('colour',text))\n",
    "print(p.sub('colour', text, count=1))   # 횟수를 제어\n",
    "print(p.subn('colour',text))   # 반환 결과를 튜플로 돌려줌. 바꾸기 횟수도 표현"
   ]
  },
  {
   "cell_type": "code",
   "execution_count": 25,
   "id": "e2e1d14c",
   "metadata": {},
   "outputs": [
    {
     "name": "stdout",
     "output_type": "stream",
     "text": [
      "abc\n"
     ]
    }
   ],
   "source": [
    "# Q. '12345abc'에서 sub() 메서드를 이용하여 'abc'만 출력하세요.\n",
    "str = '12345abc'\n",
    "\n",
    "p = re.compile('\\d+')\n",
    "print(p.sub('', str))"
   ]
  },
  {
   "cell_type": "code",
   "execution_count": 31,
   "id": "99aa14c6",
   "metadata": {},
   "outputs": [
    {
     "name": "stdout",
     "output_type": "stream",
     "text": [
      "12345\n"
     ]
    }
   ],
   "source": [
    "# Q. '12345abc'에서 '12345'만 출력하세요.\n",
    "str = '12345abc'\n",
    "\n",
    "p = re.compile('\\D+')\n",
    "print(p.sub('', str))"
   ]
  },
  {
   "cell_type": "code",
   "execution_count": 32,
   "id": "2d8ad90e",
   "metadata": {},
   "outputs": [
    {
     "name": "stdout",
     "output_type": "stream",
     "text": [
      "010-1234-1234 park\n"
     ]
    }
   ],
   "source": [
    "# 이름 + 전화번호의 문자열을 전화번호 + 이름으로 바꾸는 예\n",
    "text = \"park 010-1234-1234\"\n",
    "p = re.compile(r'(?P<name>\\w+)\\s+(?P<phone>(\\d+)[-]\\d+[-]\\d+)')\n",
    "print(p.sub(\"\\g<phone> \\g<name>\", text))"
   ]
  },
  {
   "cell_type": "code",
   "execution_count": 33,
   "id": "ce3546c9",
   "metadata": {},
   "outputs": [
    {
     "name": "stdout",
     "output_type": "stream",
     "text": [
      "010-1234-1234 park\n"
     ]
    }
   ],
   "source": [
    "# 그룹 이름 대신 참조 번호를 사용할 수 있음\n",
    "print(p.sub(\"\\g<2> \\g<1>\", text))"
   ]
  },
  {
   "cell_type": "code",
   "execution_count": 34,
   "id": "ed3cba55",
   "metadata": {},
   "outputs": [
    {
     "data": {
      "text/plain": [
       "'Call 0xffd2 for printing, 0xc000 for user code.'"
      ]
     },
     "execution_count": 34,
     "metadata": {},
     "output_type": "execute_result"
    }
   ],
   "source": [
    "# sub 메서드의 매개변수로 함수 넣기\n",
    "def hexrepl(match):\n",
    "    value = int(match.group())\n",
    "    return hex(value)\n",
    "\n",
    "text = 'Call 65490 for printing, 49152 for user code.'\n",
    "p = re.compile(r'\\d+')\n",
    "p.sub(hexrepl,text)"
   ]
  },
  {
   "cell_type": "markdown",
   "id": "3a4cf9bf",
   "metadata": {},
   "source": [
    "#### 과제3_0426\n",
    "창의적인 사용자 함수를 생성하여 sub 메서드의 매개변수로 적용하는 사례를 작성하세요."
   ]
  },
  {
   "cell_type": "markdown",
   "id": "cfedd0e4",
   "metadata": {},
   "source": [
    "### 정규표현식에서 greedy와 nongreedy는 매칭(matching) 과정에서 사용되는 용어입니다.\n",
    "\n",
    "- Greedy: 가능한 가장 긴 문자열을 매칭하는 방식입니다. 즉, 매칭할 수 있는 최대한의 문자열을 선택합니다. 예를 들어, .*는 0개 이상의 어떤 문자든지 가능한 최대한의 문자열을 매칭합니다.\n",
    "\n",
    "- Nongreedy (또는 Lazy): 가능한 가장 짧은 문자열을 매칭하는 방식입니다. 즉, 매칭할 수 있는 최소한의 문자열만 선택합니다. 예를 들어, .*?는 0개 이상의 어떤 문자든지 가능한 최소한의 문자열을 매칭합니다."
   ]
  },
  {
   "cell_type": "code",
   "execution_count": 35,
   "id": "93290bae",
   "metadata": {},
   "outputs": [
    {
     "name": "stdout",
     "output_type": "stream",
     "text": [
      "123\n",
      "1\n"
     ]
    }
   ],
   "source": [
    "text = \"There are 123 apples and 456 bananas\"\n",
    "p_greedy = re.compile(r'\\d+')\n",
    "p_nongreedy = re.compile(r'\\d+?')\n",
    "mg = p_greedy.search(text)\n",
    "mng = p_nongreedy.search(text)\n",
    "print(mg.group())\n",
    "print(mng.group())"
   ]
  },
  {
   "cell_type": "code",
   "execution_count": null,
   "id": "56343d18",
   "metadata": {},
   "outputs": [],
   "source": [
    "# Q. 주어진 s에서 최대한의 문자열인 <html><head><title>Title</title> 과 최소한의 <html>를 각각 출력하세요.\n",
    "s = '<html><head><title>Title</title>'\n"
   ]
  },
  {
   "cell_type": "code",
   "execution_count": null,
   "id": "b5b37a4c",
   "metadata": {},
   "outputs": [],
   "source": [
    "s = '<html><head><title><Title</title>'\n",
    "\n",
    "print(re.search('<.+>',s).group())\n",
    "re.search('<.+?>',s).group()"
   ]
  },
  {
   "cell_type": "code",
   "execution_count": null,
   "id": "1d6f826f",
   "metadata": {},
   "outputs": [],
   "source": [
    "s='<html><head><title><Title></title>'\n",
    "p=re.compile('<.+>')\n",
    "print(re.search(p,s).group())\n",
    "p1=re.compile('<\\w+?>')\n",
    "re.search(p1,s).group()"
   ]
  },
  {
   "cell_type": "code",
   "execution_count": null,
   "id": "9eaf81c6",
   "metadata": {},
   "outputs": [],
   "source": []
  }
 ],
 "metadata": {
  "kernelspec": {
   "display_name": "Python 3 (ipykernel)",
   "language": "python",
   "name": "python3"
  },
  "language_info": {
   "codemirror_mode": {
    "name": "ipython",
    "version": 3
   },
   "file_extension": ".py",
   "mimetype": "text/x-python",
   "name": "python",
   "nbconvert_exporter": "python",
   "pygments_lexer": "ipython3",
   "version": "3.9.13"
  }
 },
 "nbformat": 4,
 "nbformat_minor": 5
}
